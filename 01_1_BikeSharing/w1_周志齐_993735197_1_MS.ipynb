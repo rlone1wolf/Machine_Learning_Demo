{
 "cells": [
  {
   "cell_type": "markdown",
   "metadata": {},
   "source": [
    "# 导入工具包"
   ]
  },
  {
   "cell_type": "code",
   "execution_count": 1,
   "metadata": {
    "ExecuteTime": {
     "end_time": "2018-01-29T05:47:59.297090Z",
     "start_time": "2018-01-29T05:47:59.278578Z"
    }
   },
   "outputs": [],
   "source": [
    "# 数据读取及基本处理\n",
    "import pandas as pd\n",
    "import numpy as np\n",
    "\n",
    "#查看数据分布是否对称/计算斜度/是否需要log或\n",
    "from scipy.stats import skew\n",
    "\n",
    "#可视化\n",
    "import matplotlib.pyplot as plt\n",
    "import seaborn as sns\n",
    "# 显示文件图片\n",
    "from IPython.display import display\n",
    "# float显示三位小数 \n",
    "pd.set_option('display.float_format', lambda x: '%.3f' % x) \n",
    "from zhou_utils.utils_zhou import *\n",
    "%matplotlib inline"
   ]
  },
  {
   "cell_type": "code",
   "execution_count": 2,
   "metadata": {
    "ExecuteTime": {
     "end_time": "2018-01-29T05:47:59.319644Z",
     "start_time": "2018-01-29T05:47:59.300132Z"
    }
   },
   "outputs": [],
   "source": [
    "# 设置一些全局的资源参数，可以进行个性化修改\n",
    "import matplotlib\n",
    "\n",
    "matplotlib.rc('figure', figsize = (6, 6))\n",
    "matplotlib.rc('font', size = 14)\n",
    "matplotlib.rc('axes', grid = False)\n",
    "matplotlib.rc('axes', facecolor = 'white')"
   ]
  },
  {
   "cell_type": "markdown",
   "metadata": {},
   "source": [
    "# 数据预处理"
   ]
  },
  {
   "cell_type": "markdown",
   "metadata": {},
   "source": [
    "## 工具包及数据"
   ]
  },
  {
   "cell_type": "code",
   "execution_count": 3,
   "metadata": {
    "ExecuteTime": {
     "end_time": "2018-01-29T05:48:15.227973Z",
     "start_time": "2018-01-29T05:48:15.222470Z"
    }
   },
   "outputs": [],
   "source": [
    "# 导入必要工具包\n",
    "from sklearn.linear_model import LinearRegression, RidgeCV, LassoCV, ElasticNetCV\n",
    "# 导入评分工具\n",
    "from sklearn.metrics import mean_squared_error"
   ]
  },
  {
   "cell_type": "code",
   "execution_count": 4,
   "metadata": {
    "ExecuteTime": {
     "end_time": "2018-01-29T05:48:15.275505Z",
     "start_time": "2018-01-29T05:48:15.230475Z"
    },
    "scrolled": true
   },
   "outputs": [],
   "source": [
    "# 导入特征工程后的数据\n",
    "data_FE = pd.read_csv(\"./data/train_FE.csv\")\n",
    "test = pd.read_csv(\"./data/test_FE.csv\")"
   ]
  },
  {
   "cell_type": "code",
   "execution_count": 5,
   "metadata": {
    "ExecuteTime": {
     "end_time": "2018-01-29T05:48:15.294519Z",
     "start_time": "2018-01-29T05:48:15.278007Z"
    },
    "scrolled": true
   },
   "outputs": [
    {
     "name": "stdout",
     "output_type": "stream",
     "text": [
      "共有：[359]条样本，特征数为：[45]，其中有[45]个特征是number\n",
      "使用内存大小为: [126.29] KB\n"
     ]
    },
    {
     "data": {
      "text/html": [
       "<div>\n",
       "<style scoped>\n",
       "    .dataframe tbody tr th:only-of-type {\n",
       "        vertical-align: middle;\n",
       "    }\n",
       "\n",
       "    .dataframe tbody tr th {\n",
       "        vertical-align: top;\n",
       "    }\n",
       "\n",
       "    .dataframe thead th {\n",
       "        text-align: right;\n",
       "    }\n",
       "</style>\n",
       "<table border=\"1\" class=\"dataframe\">\n",
       "  <thead>\n",
       "    <tr style=\"text-align: right;\">\n",
       "      <th></th>\n",
       "      <th>count</th>\n",
       "      <th>mean</th>\n",
       "      <th>std</th>\n",
       "      <th>min</th>\n",
       "      <th>25%</th>\n",
       "      <th>50%</th>\n",
       "      <th>75%</th>\n",
       "      <th>max</th>\n",
       "      <th>dif_vals</th>\n",
       "      <th>dtype</th>\n",
       "      <th>num_null</th>\n",
       "    </tr>\n",
       "  </thead>\n",
       "  <tbody>\n",
       "    <tr>\n",
       "      <th>instant</th>\n",
       "      <td>359</td>\n",
       "      <td>181.513</td>\n",
       "      <td>105.647</td>\n",
       "      <td>1.000</td>\n",
       "      <td>90.500</td>\n",
       "      <td>180.000</td>\n",
       "      <td>273.500</td>\n",
       "      <td>365.000</td>\n",
       "      <td>359</td>\n",
       "      <td>int64</td>\n",
       "      <td>0</td>\n",
       "    </tr>\n",
       "    <tr>\n",
       "      <th>temp</th>\n",
       "      <td>359</td>\n",
       "      <td>0.486</td>\n",
       "      <td>0.190</td>\n",
       "      <td>0.059</td>\n",
       "      <td>0.325</td>\n",
       "      <td>0.476</td>\n",
       "      <td>0.658</td>\n",
       "      <td>0.849</td>\n",
       "      <td>291</td>\n",
       "      <td>float64</td>\n",
       "      <td>0</td>\n",
       "    </tr>\n",
       "    <tr>\n",
       "      <th>atemp</th>\n",
       "      <td>359</td>\n",
       "      <td>0.467</td>\n",
       "      <td>0.169</td>\n",
       "      <td>0.079</td>\n",
       "      <td>0.322</td>\n",
       "      <td>0.467</td>\n",
       "      <td>0.614</td>\n",
       "      <td>0.841</td>\n",
       "      <td>347</td>\n",
       "      <td>float64</td>\n",
       "      <td>0</td>\n",
       "    </tr>\n",
       "    <tr>\n",
       "      <th>hum</th>\n",
       "      <td>359</td>\n",
       "      <td>0.639</td>\n",
       "      <td>0.146</td>\n",
       "      <td>0.000</td>\n",
       "      <td>0.538</td>\n",
       "      <td>0.642</td>\n",
       "      <td>0.739</td>\n",
       "      <td>0.973</td>\n",
       "      <td>326</td>\n",
       "      <td>float64</td>\n",
       "      <td>0</td>\n",
       "    </tr>\n",
       "    <tr>\n",
       "      <th>windspeed</th>\n",
       "      <td>359</td>\n",
       "      <td>0.190</td>\n",
       "      <td>0.076</td>\n",
       "      <td>0.022</td>\n",
       "      <td>0.136</td>\n",
       "      <td>0.186</td>\n",
       "      <td>0.234</td>\n",
       "      <td>0.507</td>\n",
       "      <td>343</td>\n",
       "      <td>float64</td>\n",
       "      <td>0</td>\n",
       "    </tr>\n",
       "    <tr>\n",
       "      <th>casual</th>\n",
       "      <td>359</td>\n",
       "      <td>686.474</td>\n",
       "      <td>556.351</td>\n",
       "      <td>9.000</td>\n",
       "      <td>236.500</td>\n",
       "      <td>634.000</td>\n",
       "      <td>876.500</td>\n",
       "      <td>3065.000</td>\n",
       "      <td>322</td>\n",
       "      <td>int64</td>\n",
       "      <td>0</td>\n",
       "    </tr>\n",
       "    <tr>\n",
       "      <th>registered</th>\n",
       "      <td>359</td>\n",
       "      <td>2751.153</td>\n",
       "      <td>1050.001</td>\n",
       "      <td>416.000</td>\n",
       "      <td>1772.000</td>\n",
       "      <td>2921.000</td>\n",
       "      <td>3638.500</td>\n",
       "      <td>4614.000</td>\n",
       "      <td>341</td>\n",
       "      <td>int64</td>\n",
       "      <td>0</td>\n",
       "    </tr>\n",
       "    <tr>\n",
       "      <th>cnt</th>\n",
       "      <td>359</td>\n",
       "      <td>3437.627</td>\n",
       "      <td>1364.356</td>\n",
       "      <td>431.000</td>\n",
       "      <td>2177.000</td>\n",
       "      <td>3750.000</td>\n",
       "      <td>4591.000</td>\n",
       "      <td>6043.000</td>\n",
       "      <td>346</td>\n",
       "      <td>int64</td>\n",
       "      <td>0</td>\n",
       "    </tr>\n",
       "    <tr>\n",
       "      <th>temp_div_atemp</th>\n",
       "      <td>359</td>\n",
       "      <td>1.029</td>\n",
       "      <td>0.055</td>\n",
       "      <td>0.748</td>\n",
       "      <td>1.008</td>\n",
       "      <td>1.033</td>\n",
       "      <td>1.068</td>\n",
       "      <td>1.191</td>\n",
       "      <td>358</td>\n",
       "      <td>float64</td>\n",
       "      <td>0</td>\n",
       "    </tr>\n",
       "    <tr>\n",
       "      <th>hum_mul_windspeed</th>\n",
       "      <td>359</td>\n",
       "      <td>0.119</td>\n",
       "      <td>0.051</td>\n",
       "      <td>0.000</td>\n",
       "      <td>0.083</td>\n",
       "      <td>0.112</td>\n",
       "      <td>0.147</td>\n",
       "      <td>0.326</td>\n",
       "      <td>359</td>\n",
       "      <td>float64</td>\n",
       "      <td>0</td>\n",
       "    </tr>\n",
       "    <tr>\n",
       "      <th>temp_mul_temp</th>\n",
       "      <td>359</td>\n",
       "      <td>0.272</td>\n",
       "      <td>0.186</td>\n",
       "      <td>0.003</td>\n",
       "      <td>0.105</td>\n",
       "      <td>0.226</td>\n",
       "      <td>0.433</td>\n",
       "      <td>0.721</td>\n",
       "      <td>291</td>\n",
       "      <td>float64</td>\n",
       "      <td>0</td>\n",
       "    </tr>\n",
       "    <tr>\n",
       "      <th>temp_squ</th>\n",
       "      <td>359</td>\n",
       "      <td>0.682</td>\n",
       "      <td>0.144</td>\n",
       "      <td>0.243</td>\n",
       "      <td>0.570</td>\n",
       "      <td>0.690</td>\n",
       "      <td>0.811</td>\n",
       "      <td>0.922</td>\n",
       "      <td>291</td>\n",
       "      <td>float64</td>\n",
       "      <td>0</td>\n",
       "    </tr>\n",
       "    <tr>\n",
       "      <th>atemp_mul_atemp</th>\n",
       "      <td>359</td>\n",
       "      <td>0.246</td>\n",
       "      <td>0.158</td>\n",
       "      <td>0.006</td>\n",
       "      <td>0.103</td>\n",
       "      <td>0.218</td>\n",
       "      <td>0.377</td>\n",
       "      <td>0.707</td>\n",
       "      <td>347</td>\n",
       "      <td>float64</td>\n",
       "      <td>0</td>\n",
       "    </tr>\n",
       "    <tr>\n",
       "      <th>atemp_squ</th>\n",
       "      <td>359</td>\n",
       "      <td>0.670</td>\n",
       "      <td>0.131</td>\n",
       "      <td>0.281</td>\n",
       "      <td>0.567</td>\n",
       "      <td>0.683</td>\n",
       "      <td>0.783</td>\n",
       "      <td>0.917</td>\n",
       "      <td>347</td>\n",
       "      <td>float64</td>\n",
       "      <td>0</td>\n",
       "    </tr>\n",
       "    <tr>\n",
       "      <th>weathersit_div_temp</th>\n",
       "      <td>359</td>\n",
       "      <td>3.563</td>\n",
       "      <td>2.433</td>\n",
       "      <td>1.178</td>\n",
       "      <td>1.657</td>\n",
       "      <td>3.023</td>\n",
       "      <td>4.533</td>\n",
       "      <td>16.912</td>\n",
       "      <td>319</td>\n",
       "      <td>float64</td>\n",
       "      <td>0</td>\n",
       "    </tr>\n",
       "    <tr>\n",
       "      <th>season_1</th>\n",
       "      <td>359</td>\n",
       "      <td>0.251</td>\n",
       "      <td>0.434</td>\n",
       "      <td>0.000</td>\n",
       "      <td>0.000</td>\n",
       "      <td>0.000</td>\n",
       "      <td>0.500</td>\n",
       "      <td>1.000</td>\n",
       "      <td>2</td>\n",
       "      <td>int64</td>\n",
       "      <td>0</td>\n",
       "    </tr>\n",
       "    <tr>\n",
       "      <th>season_2</th>\n",
       "      <td>359</td>\n",
       "      <td>0.256</td>\n",
       "      <td>0.437</td>\n",
       "      <td>0.000</td>\n",
       "      <td>0.000</td>\n",
       "      <td>0.000</td>\n",
       "      <td>1.000</td>\n",
       "      <td>1.000</td>\n",
       "      <td>2</td>\n",
       "      <td>int64</td>\n",
       "      <td>0</td>\n",
       "    </tr>\n",
       "    <tr>\n",
       "      <th>season_3</th>\n",
       "      <td>359</td>\n",
       "      <td>0.251</td>\n",
       "      <td>0.434</td>\n",
       "      <td>0.000</td>\n",
       "      <td>0.000</td>\n",
       "      <td>0.000</td>\n",
       "      <td>0.500</td>\n",
       "      <td>1.000</td>\n",
       "      <td>2</td>\n",
       "      <td>int64</td>\n",
       "      <td>0</td>\n",
       "    </tr>\n",
       "    <tr>\n",
       "      <th>season_4</th>\n",
       "      <td>359</td>\n",
       "      <td>0.242</td>\n",
       "      <td>0.429</td>\n",
       "      <td>0.000</td>\n",
       "      <td>0.000</td>\n",
       "      <td>0.000</td>\n",
       "      <td>0.000</td>\n",
       "      <td>1.000</td>\n",
       "      <td>2</td>\n",
       "      <td>int64</td>\n",
       "      <td>0</td>\n",
       "    </tr>\n",
       "    <tr>\n",
       "      <th>mnth_1</th>\n",
       "      <td>359</td>\n",
       "      <td>0.086</td>\n",
       "      <td>0.281</td>\n",
       "      <td>0.000</td>\n",
       "      <td>0.000</td>\n",
       "      <td>0.000</td>\n",
       "      <td>0.000</td>\n",
       "      <td>1.000</td>\n",
       "      <td>2</td>\n",
       "      <td>int64</td>\n",
       "      <td>0</td>\n",
       "    </tr>\n",
       "    <tr>\n",
       "      <th>mnth_2</th>\n",
       "      <td>359</td>\n",
       "      <td>0.078</td>\n",
       "      <td>0.269</td>\n",
       "      <td>0.000</td>\n",
       "      <td>0.000</td>\n",
       "      <td>0.000</td>\n",
       "      <td>0.000</td>\n",
       "      <td>1.000</td>\n",
       "      <td>2</td>\n",
       "      <td>int64</td>\n",
       "      <td>0</td>\n",
       "    </tr>\n",
       "    <tr>\n",
       "      <th>mnth_3</th>\n",
       "      <td>359</td>\n",
       "      <td>0.086</td>\n",
       "      <td>0.281</td>\n",
       "      <td>0.000</td>\n",
       "      <td>0.000</td>\n",
       "      <td>0.000</td>\n",
       "      <td>0.000</td>\n",
       "      <td>1.000</td>\n",
       "      <td>2</td>\n",
       "      <td>int64</td>\n",
       "      <td>0</td>\n",
       "    </tr>\n",
       "    <tr>\n",
       "      <th>mnth_4</th>\n",
       "      <td>359</td>\n",
       "      <td>0.084</td>\n",
       "      <td>0.277</td>\n",
       "      <td>0.000</td>\n",
       "      <td>0.000</td>\n",
       "      <td>0.000</td>\n",
       "      <td>0.000</td>\n",
       "      <td>1.000</td>\n",
       "      <td>2</td>\n",
       "      <td>int64</td>\n",
       "      <td>0</td>\n",
       "    </tr>\n",
       "    <tr>\n",
       "      <th>mnth_5</th>\n",
       "      <td>359</td>\n",
       "      <td>0.086</td>\n",
       "      <td>0.281</td>\n",
       "      <td>0.000</td>\n",
       "      <td>0.000</td>\n",
       "      <td>0.000</td>\n",
       "      <td>0.000</td>\n",
       "      <td>1.000</td>\n",
       "      <td>2</td>\n",
       "      <td>int64</td>\n",
       "      <td>0</td>\n",
       "    </tr>\n",
       "    <tr>\n",
       "      <th>mnth_6</th>\n",
       "      <td>359</td>\n",
       "      <td>0.084</td>\n",
       "      <td>0.277</td>\n",
       "      <td>0.000</td>\n",
       "      <td>0.000</td>\n",
       "      <td>0.000</td>\n",
       "      <td>0.000</td>\n",
       "      <td>1.000</td>\n",
       "      <td>2</td>\n",
       "      <td>int64</td>\n",
       "      <td>0</td>\n",
       "    </tr>\n",
       "    <tr>\n",
       "      <th>mnth_7</th>\n",
       "      <td>359</td>\n",
       "      <td>0.086</td>\n",
       "      <td>0.281</td>\n",
       "      <td>0.000</td>\n",
       "      <td>0.000</td>\n",
       "      <td>0.000</td>\n",
       "      <td>0.000</td>\n",
       "      <td>1.000</td>\n",
       "      <td>2</td>\n",
       "      <td>int64</td>\n",
       "      <td>0</td>\n",
       "    </tr>\n",
       "    <tr>\n",
       "      <th>mnth_8</th>\n",
       "      <td>359</td>\n",
       "      <td>0.084</td>\n",
       "      <td>0.277</td>\n",
       "      <td>0.000</td>\n",
       "      <td>0.000</td>\n",
       "      <td>0.000</td>\n",
       "      <td>0.000</td>\n",
       "      <td>1.000</td>\n",
       "      <td>2</td>\n",
       "      <td>int64</td>\n",
       "      <td>0</td>\n",
       "    </tr>\n",
       "    <tr>\n",
       "      <th>mnth_9</th>\n",
       "      <td>359</td>\n",
       "      <td>0.075</td>\n",
       "      <td>0.264</td>\n",
       "      <td>0.000</td>\n",
       "      <td>0.000</td>\n",
       "      <td>0.000</td>\n",
       "      <td>0.000</td>\n",
       "      <td>1.000</td>\n",
       "      <td>2</td>\n",
       "      <td>int64</td>\n",
       "      <td>0</td>\n",
       "    </tr>\n",
       "    <tr>\n",
       "      <th>mnth_10</th>\n",
       "      <td>359</td>\n",
       "      <td>0.084</td>\n",
       "      <td>0.277</td>\n",
       "      <td>0.000</td>\n",
       "      <td>0.000</td>\n",
       "      <td>0.000</td>\n",
       "      <td>0.000</td>\n",
       "      <td>1.000</td>\n",
       "      <td>2</td>\n",
       "      <td>int64</td>\n",
       "      <td>0</td>\n",
       "    </tr>\n",
       "    <tr>\n",
       "      <th>mnth_11</th>\n",
       "      <td>359</td>\n",
       "      <td>0.084</td>\n",
       "      <td>0.277</td>\n",
       "      <td>0.000</td>\n",
       "      <td>0.000</td>\n",
       "      <td>0.000</td>\n",
       "      <td>0.000</td>\n",
       "      <td>1.000</td>\n",
       "      <td>2</td>\n",
       "      <td>int64</td>\n",
       "      <td>0</td>\n",
       "    </tr>\n",
       "    <tr>\n",
       "      <th>mnth_12</th>\n",
       "      <td>359</td>\n",
       "      <td>0.084</td>\n",
       "      <td>0.277</td>\n",
       "      <td>0.000</td>\n",
       "      <td>0.000</td>\n",
       "      <td>0.000</td>\n",
       "      <td>0.000</td>\n",
       "      <td>1.000</td>\n",
       "      <td>2</td>\n",
       "      <td>int64</td>\n",
       "      <td>0</td>\n",
       "    </tr>\n",
       "    <tr>\n",
       "      <th>holiday_0</th>\n",
       "      <td>359</td>\n",
       "      <td>0.972</td>\n",
       "      <td>0.165</td>\n",
       "      <td>0.000</td>\n",
       "      <td>1.000</td>\n",
       "      <td>1.000</td>\n",
       "      <td>1.000</td>\n",
       "      <td>1.000</td>\n",
       "      <td>2</td>\n",
       "      <td>int64</td>\n",
       "      <td>0</td>\n",
       "    </tr>\n",
       "    <tr>\n",
       "      <th>holiday_1</th>\n",
       "      <td>359</td>\n",
       "      <td>0.028</td>\n",
       "      <td>0.165</td>\n",
       "      <td>0.000</td>\n",
       "      <td>0.000</td>\n",
       "      <td>0.000</td>\n",
       "      <td>0.000</td>\n",
       "      <td>1.000</td>\n",
       "      <td>2</td>\n",
       "      <td>int64</td>\n",
       "      <td>0</td>\n",
       "    </tr>\n",
       "    <tr>\n",
       "      <th>weekday_0</th>\n",
       "      <td>359</td>\n",
       "      <td>0.145</td>\n",
       "      <td>0.352</td>\n",
       "      <td>0.000</td>\n",
       "      <td>0.000</td>\n",
       "      <td>0.000</td>\n",
       "      <td>0.000</td>\n",
       "      <td>1.000</td>\n",
       "      <td>2</td>\n",
       "      <td>int64</td>\n",
       "      <td>0</td>\n",
       "    </tr>\n",
       "    <tr>\n",
       "      <th>weekday_1</th>\n",
       "      <td>359</td>\n",
       "      <td>0.145</td>\n",
       "      <td>0.352</td>\n",
       "      <td>0.000</td>\n",
       "      <td>0.000</td>\n",
       "      <td>0.000</td>\n",
       "      <td>0.000</td>\n",
       "      <td>1.000</td>\n",
       "      <td>2</td>\n",
       "      <td>int64</td>\n",
       "      <td>0</td>\n",
       "    </tr>\n",
       "    <tr>\n",
       "      <th>weekday_2</th>\n",
       "      <td>359</td>\n",
       "      <td>0.142</td>\n",
       "      <td>0.350</td>\n",
       "      <td>0.000</td>\n",
       "      <td>0.000</td>\n",
       "      <td>0.000</td>\n",
       "      <td>0.000</td>\n",
       "      <td>1.000</td>\n",
       "      <td>2</td>\n",
       "      <td>int64</td>\n",
       "      <td>0</td>\n",
       "    </tr>\n",
       "    <tr>\n",
       "      <th>weekday_3</th>\n",
       "      <td>359</td>\n",
       "      <td>0.139</td>\n",
       "      <td>0.347</td>\n",
       "      <td>0.000</td>\n",
       "      <td>0.000</td>\n",
       "      <td>0.000</td>\n",
       "      <td>0.000</td>\n",
       "      <td>1.000</td>\n",
       "      <td>2</td>\n",
       "      <td>int64</td>\n",
       "      <td>0</td>\n",
       "    </tr>\n",
       "    <tr>\n",
       "      <th>weekday_4</th>\n",
       "      <td>359</td>\n",
       "      <td>0.142</td>\n",
       "      <td>0.350</td>\n",
       "      <td>0.000</td>\n",
       "      <td>0.000</td>\n",
       "      <td>0.000</td>\n",
       "      <td>0.000</td>\n",
       "      <td>1.000</td>\n",
       "      <td>2</td>\n",
       "      <td>int64</td>\n",
       "      <td>0</td>\n",
       "    </tr>\n",
       "    <tr>\n",
       "      <th>weekday_5</th>\n",
       "      <td>359</td>\n",
       "      <td>0.145</td>\n",
       "      <td>0.352</td>\n",
       "      <td>0.000</td>\n",
       "      <td>0.000</td>\n",
       "      <td>0.000</td>\n",
       "      <td>0.000</td>\n",
       "      <td>1.000</td>\n",
       "      <td>2</td>\n",
       "      <td>int64</td>\n",
       "      <td>0</td>\n",
       "    </tr>\n",
       "    <tr>\n",
       "      <th>weekday_6</th>\n",
       "      <td>359</td>\n",
       "      <td>0.142</td>\n",
       "      <td>0.350</td>\n",
       "      <td>0.000</td>\n",
       "      <td>0.000</td>\n",
       "      <td>0.000</td>\n",
       "      <td>0.000</td>\n",
       "      <td>1.000</td>\n",
       "      <td>2</td>\n",
       "      <td>int64</td>\n",
       "      <td>0</td>\n",
       "    </tr>\n",
       "    <tr>\n",
       "      <th>workingday_0</th>\n",
       "      <td>359</td>\n",
       "      <td>0.315</td>\n",
       "      <td>0.465</td>\n",
       "      <td>0.000</td>\n",
       "      <td>0.000</td>\n",
       "      <td>0.000</td>\n",
       "      <td>1.000</td>\n",
       "      <td>1.000</td>\n",
       "      <td>2</td>\n",
       "      <td>int64</td>\n",
       "      <td>0</td>\n",
       "    </tr>\n",
       "    <tr>\n",
       "      <th>workingday_1</th>\n",
       "      <td>359</td>\n",
       "      <td>0.685</td>\n",
       "      <td>0.465</td>\n",
       "      <td>0.000</td>\n",
       "      <td>0.000</td>\n",
       "      <td>1.000</td>\n",
       "      <td>1.000</td>\n",
       "      <td>1.000</td>\n",
       "      <td>2</td>\n",
       "      <td>int64</td>\n",
       "      <td>0</td>\n",
       "    </tr>\n",
       "    <tr>\n",
       "      <th>weathersit_1</th>\n",
       "      <td>359</td>\n",
       "      <td>0.630</td>\n",
       "      <td>0.484</td>\n",
       "      <td>0.000</td>\n",
       "      <td>0.000</td>\n",
       "      <td>1.000</td>\n",
       "      <td>1.000</td>\n",
       "      <td>1.000</td>\n",
       "      <td>2</td>\n",
       "      <td>int64</td>\n",
       "      <td>0</td>\n",
       "    </tr>\n",
       "    <tr>\n",
       "      <th>weathersit_2</th>\n",
       "      <td>359</td>\n",
       "      <td>0.343</td>\n",
       "      <td>0.475</td>\n",
       "      <td>0.000</td>\n",
       "      <td>0.000</td>\n",
       "      <td>0.000</td>\n",
       "      <td>1.000</td>\n",
       "      <td>1.000</td>\n",
       "      <td>2</td>\n",
       "      <td>int64</td>\n",
       "      <td>0</td>\n",
       "    </tr>\n",
       "    <tr>\n",
       "      <th>weathersit_3</th>\n",
       "      <td>359</td>\n",
       "      <td>0.028</td>\n",
       "      <td>0.165</td>\n",
       "      <td>0.000</td>\n",
       "      <td>0.000</td>\n",
       "      <td>0.000</td>\n",
       "      <td>0.000</td>\n",
       "      <td>1.000</td>\n",
       "      <td>2</td>\n",
       "      <td>int64</td>\n",
       "      <td>0</td>\n",
       "    </tr>\n",
       "  </tbody>\n",
       "</table>\n",
       "</div>"
      ],
      "text/plain": [
       "                     count     mean      std     min      25%      50%  \\\n",
       "instant                359  181.513  105.647   1.000   90.500  180.000   \n",
       "temp                   359    0.486    0.190   0.059    0.325    0.476   \n",
       "atemp                  359    0.467    0.169   0.079    0.322    0.467   \n",
       "hum                    359    0.639    0.146   0.000    0.538    0.642   \n",
       "windspeed              359    0.190    0.076   0.022    0.136    0.186   \n",
       "casual                 359  686.474  556.351   9.000  236.500  634.000   \n",
       "registered             359 2751.153 1050.001 416.000 1772.000 2921.000   \n",
       "cnt                    359 3437.627 1364.356 431.000 2177.000 3750.000   \n",
       "temp_div_atemp         359    1.029    0.055   0.748    1.008    1.033   \n",
       "hum_mul_windspeed      359    0.119    0.051   0.000    0.083    0.112   \n",
       "temp_mul_temp          359    0.272    0.186   0.003    0.105    0.226   \n",
       "temp_squ               359    0.682    0.144   0.243    0.570    0.690   \n",
       "atemp_mul_atemp        359    0.246    0.158   0.006    0.103    0.218   \n",
       "atemp_squ              359    0.670    0.131   0.281    0.567    0.683   \n",
       "weathersit_div_temp    359    3.563    2.433   1.178    1.657    3.023   \n",
       "season_1               359    0.251    0.434   0.000    0.000    0.000   \n",
       "season_2               359    0.256    0.437   0.000    0.000    0.000   \n",
       "season_3               359    0.251    0.434   0.000    0.000    0.000   \n",
       "season_4               359    0.242    0.429   0.000    0.000    0.000   \n",
       "mnth_1                 359    0.086    0.281   0.000    0.000    0.000   \n",
       "mnth_2                 359    0.078    0.269   0.000    0.000    0.000   \n",
       "mnth_3                 359    0.086    0.281   0.000    0.000    0.000   \n",
       "mnth_4                 359    0.084    0.277   0.000    0.000    0.000   \n",
       "mnth_5                 359    0.086    0.281   0.000    0.000    0.000   \n",
       "mnth_6                 359    0.084    0.277   0.000    0.000    0.000   \n",
       "mnth_7                 359    0.086    0.281   0.000    0.000    0.000   \n",
       "mnth_8                 359    0.084    0.277   0.000    0.000    0.000   \n",
       "mnth_9                 359    0.075    0.264   0.000    0.000    0.000   \n",
       "mnth_10                359    0.084    0.277   0.000    0.000    0.000   \n",
       "mnth_11                359    0.084    0.277   0.000    0.000    0.000   \n",
       "mnth_12                359    0.084    0.277   0.000    0.000    0.000   \n",
       "holiday_0              359    0.972    0.165   0.000    1.000    1.000   \n",
       "holiday_1              359    0.028    0.165   0.000    0.000    0.000   \n",
       "weekday_0              359    0.145    0.352   0.000    0.000    0.000   \n",
       "weekday_1              359    0.145    0.352   0.000    0.000    0.000   \n",
       "weekday_2              359    0.142    0.350   0.000    0.000    0.000   \n",
       "weekday_3              359    0.139    0.347   0.000    0.000    0.000   \n",
       "weekday_4              359    0.142    0.350   0.000    0.000    0.000   \n",
       "weekday_5              359    0.145    0.352   0.000    0.000    0.000   \n",
       "weekday_6              359    0.142    0.350   0.000    0.000    0.000   \n",
       "workingday_0           359    0.315    0.465   0.000    0.000    0.000   \n",
       "workingday_1           359    0.685    0.465   0.000    0.000    1.000   \n",
       "weathersit_1           359    0.630    0.484   0.000    0.000    1.000   \n",
       "weathersit_2           359    0.343    0.475   0.000    0.000    0.000   \n",
       "weathersit_3           359    0.028    0.165   0.000    0.000    0.000   \n",
       "\n",
       "                         75%      max  dif_vals    dtype  num_null  \n",
       "instant              273.500  365.000       359    int64         0  \n",
       "temp                   0.658    0.849       291  float64         0  \n",
       "atemp                  0.614    0.841       347  float64         0  \n",
       "hum                    0.739    0.973       326  float64         0  \n",
       "windspeed              0.234    0.507       343  float64         0  \n",
       "casual               876.500 3065.000       322    int64         0  \n",
       "registered          3638.500 4614.000       341    int64         0  \n",
       "cnt                 4591.000 6043.000       346    int64         0  \n",
       "temp_div_atemp         1.068    1.191       358  float64         0  \n",
       "hum_mul_windspeed      0.147    0.326       359  float64         0  \n",
       "temp_mul_temp          0.433    0.721       291  float64         0  \n",
       "temp_squ               0.811    0.922       291  float64         0  \n",
       "atemp_mul_atemp        0.377    0.707       347  float64         0  \n",
       "atemp_squ              0.783    0.917       347  float64         0  \n",
       "weathersit_div_temp    4.533   16.912       319  float64         0  \n",
       "season_1               0.500    1.000         2    int64         0  \n",
       "season_2               1.000    1.000         2    int64         0  \n",
       "season_3               0.500    1.000         2    int64         0  \n",
       "season_4               0.000    1.000         2    int64         0  \n",
       "mnth_1                 0.000    1.000         2    int64         0  \n",
       "mnth_2                 0.000    1.000         2    int64         0  \n",
       "mnth_3                 0.000    1.000         2    int64         0  \n",
       "mnth_4                 0.000    1.000         2    int64         0  \n",
       "mnth_5                 0.000    1.000         2    int64         0  \n",
       "mnth_6                 0.000    1.000         2    int64         0  \n",
       "mnth_7                 0.000    1.000         2    int64         0  \n",
       "mnth_8                 0.000    1.000         2    int64         0  \n",
       "mnth_9                 0.000    1.000         2    int64         0  \n",
       "mnth_10                0.000    1.000         2    int64         0  \n",
       "mnth_11                0.000    1.000         2    int64         0  \n",
       "mnth_12                0.000    1.000         2    int64         0  \n",
       "holiday_0              1.000    1.000         2    int64         0  \n",
       "holiday_1              0.000    1.000         2    int64         0  \n",
       "weekday_0              0.000    1.000         2    int64         0  \n",
       "weekday_1              0.000    1.000         2    int64         0  \n",
       "weekday_2              0.000    1.000         2    int64         0  \n",
       "weekday_3              0.000    1.000         2    int64         0  \n",
       "weekday_4              0.000    1.000         2    int64         0  \n",
       "weekday_5              0.000    1.000         2    int64         0  \n",
       "weekday_6              0.000    1.000         2    int64         0  \n",
       "workingday_0           1.000    1.000         2    int64         0  \n",
       "workingday_1           1.000    1.000         2    int64         0  \n",
       "weathersit_1           1.000    1.000         2    int64         0  \n",
       "weathersit_2           1.000    1.000         2    int64         0  \n",
       "weathersit_3           0.000    1.000         2    int64         0  "
      ]
     },
     "execution_count": 5,
     "metadata": {},
     "output_type": "execute_result"
    }
   ],
   "source": [
    "show_number_describe(data_FE)"
   ]
  },
  {
   "cell_type": "markdown",
   "metadata": {},
   "source": [
    "## 分离数据"
   ]
  },
  {
   "cell_type": "code",
   "execution_count": 6,
   "metadata": {
    "ExecuteTime": {
     "end_time": "2018-01-29T05:48:15.311030Z",
     "start_time": "2018-01-29T05:48:15.297520Z"
    },
    "scrolled": true
   },
   "outputs": [],
   "source": [
    "# 分出 X, y\n",
    "data_instant = data_FE[\"instant\"]\n",
    "X_data = data_FE.drop([\"instant\", \"cnt\",\"casual\",\"registered\"], axis=1)\n",
    "y_data = data_FE[\"cnt\"]\n",
    "\n",
    "test_instant = test[\"instant\"]\n",
    "test_X = test.drop([\"instant\", \"cnt\",\"casual\",\"registered\"], axis=1)\n",
    "test_y = test[\"cnt\"]"
   ]
  },
  {
   "cell_type": "code",
   "execution_count": 7,
   "metadata": {
    "ExecuteTime": {
     "end_time": "2018-01-29T05:48:15.328540Z",
     "start_time": "2018-01-29T05:48:15.314031Z"
    }
   },
   "outputs": [],
   "source": [
    "#分割训练数据与测试数据\n",
    "from sklearn.model_selection import train_test_split\n",
    "\n",
    "# 随机采样25%的数据构建测试样本，其余作为训练样本\n",
    "X_train, X_test, y_train, y_test = train_test_split(X_data, y_data\n",
    "                                                    , random_state=33\n",
    "                                                    , test_size=0.2)"
   ]
  },
  {
   "cell_type": "markdown",
   "metadata": {},
   "source": [
    "## 标准化数据"
   ]
  },
  {
   "cell_type": "code",
   "execution_count": 8,
   "metadata": {
    "ExecuteTime": {
     "end_time": "2018-01-29T05:48:15.352059Z",
     "start_time": "2018-01-29T05:48:15.331044Z"
    }
   },
   "outputs": [],
   "source": [
    "# 标准化X\n",
    "from sklearn.preprocessing import StandardScaler\n",
    "\n",
    "ss_X = StandardScaler()\n",
    "ss_y = StandardScaler()\n",
    "\n",
    "\n",
    "X_train = ss_X.fit_transform(X_train)\n",
    "X_test = ss_X.fit_transform(X_test)\n",
    "#test_X = ss_X.fit_transform(test_X)\n",
    "\n",
    "y_train = ss_y.fit_transform(y_train.to_frame())\n",
    "y_test  = ss_y.fit_transform(y_test.to_frame())\n",
    "#test_y  = ss_y.fit_transform(test_y.reshape(-1, 1))"
   ]
  },
  {
   "cell_type": "markdown",
   "metadata": {},
   "source": [
    "# 模型选择"
   ]
  },
  {
   "cell_type": "markdown",
   "metadata": {},
   "source": [
    "## LinearRegression"
   ]
  },
  {
   "cell_type": "code",
   "execution_count": 9,
   "metadata": {
    "ExecuteTime": {
     "end_time": "2018-01-29T05:48:15.377573Z",
     "start_time": "2018-01-29T05:48:15.355059Z"
    }
   },
   "outputs": [
    {
     "data": {
      "text/plain": [
       "array([[ 2.11392623e+01, -9.09327517e+00, -2.33828435e-01,\n",
       "        -3.03854302e-01,  1.45956218e+00,  1.77424843e-01,\n",
       "        -4.82241870e+00, -2.80387045e+01, -2.68855345e-01,\n",
       "         2.06052229e+01,  2.53825460e-01, -2.22563664e-01,\n",
       "        -8.68702821e-02,  1.23320978e-01,  1.97216780e-01,\n",
       "        -5.87671690e-02, -5.36921943e-02, -4.95109895e-02,\n",
       "         1.95295623e-03,  1.32997186e-01,  1.28171014e-01,\n",
       "         4.88572939e-02, -5.10628734e-04, -2.12778710e-03,\n",
       "        -5.47570552e-02, -6.29574910e-02, -3.45660166e-02,\n",
       "         3.27202580e-03, -3.27202580e-03, -3.13842266e-02,\n",
       "        -2.42397138e-02,  3.95948458e-03,  6.68824581e-03,\n",
       "         5.00227180e-03,  1.31648320e-02,  3.00204892e-02,\n",
       "        -3.69941439e-03,  3.69941439e-03,  1.62805879e-01,\n",
       "        -8.10274927e-02, -2.42774815e-01]])"
      ]
     },
     "execution_count": 9,
     "metadata": {},
     "output_type": "execute_result"
    }
   ],
   "source": [
    "\n",
    "# 使用默认配置初始化\n",
    "lr = LinearRegression()\n",
    "\n",
    "# 训练模型参数\n",
    "lr.fit(X_train, y_train)\n",
    "\n",
    "# 预测，下面计算score会自动调用predict\n",
    "lr_y_predict_X_test = lr.predict(X_test)\n",
    "lr_y_predict_X_train = lr.predict(X_train)\n",
    "#lr_y_predict_test_X = lr.predict(test_X)\n",
    "#显示特征的回归系数\n",
    "lr.coef_"
   ]
  },
  {
   "cell_type": "code",
   "execution_count": 10,
   "metadata": {
    "ExecuteTime": {
     "end_time": "2018-01-29T05:48:15.795352Z",
     "start_time": "2018-01-29T05:48:15.381576Z"
    }
   },
   "outputs": [
    {
     "data": {
      "image/png": "[encoded data removed]",
      "text/plain": [
       "<Figure size 504x360 with 1 Axes>"
      ]
     },
     "metadata": {},
     "output_type": "display_data"
    }
   ],
   "source": [
    "f, ax = plt.subplots(figsize=(7, 5)) \n",
    "f.tight_layout() \n",
    "ax.hist(y_train - lr_y_predict_X_train,bins=40, label='Residuals Linear', color='b', alpha=.5); \n",
    "ax.set_title(\"Histogram of Residuals\") \n",
    "ax.legend(loc='best');"
   ]
  },
  {
   "cell_type": "code",
   "execution_count": 11,
   "metadata": {
    "ExecuteTime": {
     "end_time": "2018-01-29T05:48:16.051023Z",
     "start_time": "2018-01-29T05:48:15.797854Z"
    }
   },
   "outputs": [
    {
     "data": {
      "image/png": "[encoded data removed]",
      "text/plain": [
       "<Figure size 432x432 with 1 Axes>"
      ]
     },
     "metadata": {},
     "output_type": "display_data"
    }
   ],
   "source": [
    "plt.scatter(y_train, lr_y_predict_X_train)\n",
    "plt.plot([-3, 3], [-3, 3], '--k')   #数据已经标准化，3倍标准差即可\n",
    "plt.axis('tight')\n",
    "plt.xlabel('True price')\n",
    "plt.ylabel('Predicted price')\n",
    "plt.title('X_train')\n",
    "plt.tight_layout()"
   ]
  },
  {
   "cell_type": "code",
   "execution_count": 12,
   "metadata": {
    "ExecuteTime": {
     "end_time": "2018-01-29T05:48:16.292184Z",
     "start_time": "2018-01-29T05:48:16.054026Z"
    }
   },
   "outputs": [
    {
     "data": {
      "image/png": "[encoded data removed]",
      "text/plain": [
       "<Figure size 432x432 with 1 Axes>"
      ]
     },
     "metadata": {},
     "output_type": "display_data"
    }
   ],
   "source": [
    "plt.scatter(y_test, lr_y_predict_X_test)\n",
    "plt.plot([-3, 3], [-3, 3], '--k')   #数据已经标准化，3倍标准差即可\n",
    "plt.axis('tight')\n",
    "plt.xlabel('True price')\n",
    "plt.ylabel('Predicted price')\n",
    "plt.tight_layout()"
   ]
  },
  {
   "cell_type": "code",
   "execution_count": 13,
   "metadata": {
    "ExecuteTime": {
     "end_time": "2018-01-29T05:48:16.485814Z",
     "start_time": "2018-01-29T05:48:16.294685Z"
    },
    "scrolled": false
   },
   "outputs": [
    {
     "data": {
      "text/plain": [
       "<matplotlib.axes._subplots.AxesSubplot at 0x25ab2a689b0>"
      ]
     },
     "execution_count": 13,
     "metadata": {},
     "output_type": "execute_result"
    },
    {
     "data": {
      "image/png": "[encoded data removed]",
      "text/plain": [
       "<Figure size 432x432 with 1 Axes>"
      ]
     },
     "metadata": {},
     "output_type": "display_data"
    }
   ],
   "source": [
    "sns.residplot(y_test, lr_y_predict_X_test)"
   ]
  },
  {
   "cell_type": "code",
   "execution_count": 14,
   "metadata": {
    "ExecuteTime": {
     "end_time": "2018-01-29T05:48:16.499323Z",
     "start_time": "2018-01-29T05:48:16.488816Z"
    }
   },
   "outputs": [
    {
     "name": "stdout",
     "output_type": "stream",
     "text": [
      "The lr on train is 0.898139\n",
      "The lr on test is 0.753497\n"
     ]
    }
   ],
   "source": [
    "print(\"The lr on train is %f\" % lr.score(X_train, y_train))\n",
    "print(\"The lr on test is %f\" % lr.score(X_test, y_test))\n",
    "#print(\"The lr on 2012 is %f\" % lr.score(test_X, test_y))\n",
    "\n",
    "# print(((y_test - lr_y_predict) **2 ).sum())\n",
    "# print(((y_test - y_test.mean()) **2).sum())"
   ]
  },
  {
   "cell_type": "markdown",
   "metadata": {},
   "source": [
    "默认的线性回归特别差,尝试其它线性回归模型 "
   ]
  },
  {
   "cell_type": "markdown",
   "metadata": {},
   "source": [
    "## SGDRegressor"
   ]
  },
  {
   "cell_type": "code",
   "execution_count": 15,
   "metadata": {
    "ExecuteTime": {
     "end_time": "2018-01-29T05:48:16.598390Z",
     "start_time": "2018-01-29T05:48:16.502325Z"
    },
    "scrolled": true
   },
   "outputs": [
    {
     "data": {
      "text/plain": [
       "array([ 3.71303428e-01,  3.68702377e-01, -1.51865240e-01, -2.02992133e-01,\n",
       "        9.28739235e-02,  9.31507446e-02, -5.81536169e-01,  5.03943991e-01,\n",
       "       -6.19081967e-01,  5.06370924e-01,  3.40358174e-01, -2.18144596e-01,\n",
       "       -9.90452118e-02,  1.18361901e-01,  2.10324459e-01, -6.20641347e-02,\n",
       "       -8.61342485e-02, -8.32723874e-02,  2.27236977e-02,  1.73593125e-01,\n",
       "        1.55945154e-01,  3.14981339e-02,  1.37999699e-02,  3.22498165e-02,\n",
       "       -4.95667450e-02, -8.30662800e-02, -7.07698026e-02,  6.08285580e-03,\n",
       "       -6.08285580e-03, -3.20304773e-02, -1.39687726e-02, -1.51174439e-04,\n",
       "        9.25543486e-04,  1.29302311e-02,  8.30824496e-03,  2.66441112e-02,\n",
       "       -7.70341881e-03,  7.70341881e-03,  2.00907801e-01, -1.14047530e-01,\n",
       "       -2.59407813e-01])"
      ]
     },
     "execution_count": 15,
     "metadata": {},
     "output_type": "execute_result"
    }
   ],
   "source": [
    "# 线性模型，随机梯度下降优化模型参数\n",
    "# 随机梯度下降一般在大数据集上应用，其实本项目不适合用\n",
    "from sklearn.linear_model import SGDRegressor\n",
    "\n",
    "# 使用默认配置初始化线\n",
    "sgdr = SGDRegressor(max_iter=1000)\n",
    "\n",
    "# 训练：参数估计\n",
    "sgdr.fit(X_train, y_train.ravel())\n",
    "\n",
    "# 预测\n",
    "sgdr_y_predict = sgdr.predict(X_test)\n",
    "\n",
    "sgdr.coef_"
   ]
  },
  {
   "cell_type": "code",
   "execution_count": 16,
   "metadata": {
    "ExecuteTime": {
     "end_time": "2018-01-29T05:48:16.807032Z",
     "start_time": "2018-01-29T05:48:16.601894Z"
    },
    "scrolled": false
   },
   "outputs": [
    {
     "data": {
      "text/plain": [
       "<matplotlib.axes._subplots.AxesSubplot at 0x25ab2b11f60>"
      ]
     },
     "execution_count": 16,
     "metadata": {},
     "output_type": "execute_result"
    },
    {
     "data": {
      "image/png": "[encoded data removed]",
      "text/plain": [
       "<Figure size 432x432 with 1 Axes>"
      ]
     },
     "metadata": {},
     "output_type": "display_data"
    }
   ],
   "source": [
    "sns.residplot(y_train, sgdr.predict(X_train))"
   ]
  },
  {
   "cell_type": "code",
   "execution_count": 17,
   "metadata": {
    "ExecuteTime": {
     "end_time": "2018-01-29T05:48:17.065201Z",
     "start_time": "2018-01-29T05:48:16.810031Z"
    }
   },
   "outputs": [
    {
     "data": {
      "image/png": "[encoded data removed]",
      "text/plain": [
       "<Figure size 432x432 with 1 Axes>"
      ]
     },
     "metadata": {},
     "output_type": "display_data"
    }
   ],
   "source": [
    "plt.scatter(y_test, sgdr_y_predict)\n",
    "plt.plot([-3, 3], [-3, 3], '--k')   #数据已经标准化，3倍标准差即可\n",
    "plt.axis('tight')\n",
    "plt.xlabel('True price')\n",
    "plt.ylabel('Predicted price')\n",
    "plt.tight_layout()"
   ]
  },
  {
   "cell_type": "code",
   "execution_count": 18,
   "metadata": {
    "ExecuteTime": {
     "end_time": "2018-01-29T05:48:17.075207Z",
     "start_time": "2018-01-29T05:48:17.067702Z"
    }
   },
   "outputs": [
    {
     "name": "stdout",
     "output_type": "stream",
     "text": [
      "The lr on train is 0.884726\n",
      "The lr on test is 0.831284\n"
     ]
    }
   ],
   "source": [
    "print(\"The lr on train is %f\" % sgdr.score(X_train, y_train))\n",
    "print(\"The lr on test is %f\" % sgdr.score(X_test, y_test))\n",
    "#print(\"The lr on 2012 is %f\" % sgdr.score(test_X, test_y))"
   ]
  },
  {
   "cell_type": "markdown",
   "metadata": {},
   "source": [
    "## RidgeCV"
   ]
  },
  {
   "cell_type": "code",
   "execution_count": 19,
   "metadata": {
    "ExecuteTime": {
     "end_time": "2018-01-29T05:48:17.110731Z",
     "start_time": "2018-01-29T05:48:17.077711Z"
    }
   },
   "outputs": [
    {
     "data": {
      "text/plain": [
       "RidgeCV(alphas=array([0.005, 0.015, 0.025, 0.035, 0.045]), cv=None,\n",
       "    fit_intercept=True, gcv_mode=None, normalize=False, scoring=None,\n",
       "    store_cv_values=True)"
      ]
     },
     "execution_count": 19,
     "metadata": {},
     "output_type": "execute_result"
    }
   ],
   "source": [
    "#岭回归／L2正则\n",
    "#class sklearn.linear_model.RidgeCV(alphas=(0.1, 1.0, 10.0), fit_intercept=True, \n",
    "#                                  normalize=False, scoring=None, cv=None, gcv_mode=None, \n",
    "#                                  store_cv_values=False)\n",
    "from sklearn.linear_model import  RidgeCV\n",
    "\n",
    "#alphas = [0.01, 0.07, 0.09, 0.1, 0.2, 0.3, 1, 10, 100, 1000] #alphas=0.01\n",
    "alphas  = np.arange(0.005,0.05, 0.01)\n",
    "\n",
    "reg = RidgeCV(alphas=alphas, store_cv_values=True)   \n",
    "reg.fit(X_train, y_train)    "
   ]
  },
  {
   "cell_type": "code",
   "execution_count": 20,
   "metadata": {
    "ExecuteTime": {
     "end_time": "2018-01-29T05:48:17.354895Z",
     "start_time": "2018-01-29T05:48:17.113733Z"
    }
   },
   "outputs": [
    {
     "data": {
      "image/png": "[encoded data removed]",
      "text/plain": [
       "<Figure size 432x432 with 1 Axes>"
      ]
     },
     "metadata": {},
     "output_type": "display_data"
    },
    {
     "name": "stdout",
     "output_type": "stream",
     "text": [
      "alpha is: 0.015\n"
     ]
    },
    {
     "data": {
      "text/plain": [
       "array([[ 2.64355046e+00,  4.51729369e+00, -1.96592737e-01,\n",
       "        -2.70626580e-01,  2.77780136e-01,  1.40024728e-01,\n",
       "        -1.38289045e+00, -2.71685437e+00, -2.17874860e+00,\n",
       "        -5.55534843e-01,  2.42712377e-01, -2.25290909e-01,\n",
       "        -9.36448889e-02,  1.23398623e-01,  2.07039171e-01,\n",
       "        -4.50572251e-02, -5.60831491e-02, -6.06994860e-02,\n",
       "         7.68716836e-03,  1.43287129e-01,  1.38062188e-01,\n",
       "         4.59861166e-02,  4.64226290e-03,  4.98325489e-03,\n",
       "        -6.26241125e-02, -7.92658550e-02, -4.68371703e-02,\n",
       "         3.94285551e-03, -3.94285551e-03, -3.14523679e-02,\n",
       "        -2.26735193e-02,  3.54804727e-03,  5.96991525e-03,\n",
       "         7.01714472e-03,  1.37703136e-02,  2.68399954e-02,\n",
       "        -6.30905857e-03,  6.30905857e-03,  1.66187030e-01,\n",
       "        -8.53814524e-02, -2.40180712e-01]])"
      ]
     },
     "execution_count": 20,
     "metadata": {},
     "output_type": "execute_result"
    }
   ],
   "source": [
    "mse_mean = np.mean(reg.cv_values_, axis = 0)\n",
    "plt.plot(np.log10(alphas), mse_mean.reshape(len(alphas),1)) \n",
    "plt.xlabel('log(alpha)')\n",
    "plt.ylabel('mse')\n",
    "plt.show()\n",
    "\n",
    "print ('alpha is:', reg.alpha_)\n",
    "reg.coef_"
   ]
  },
  {
   "cell_type": "code",
   "execution_count": 21,
   "metadata": {
    "ExecuteTime": {
     "end_time": "2018-01-29T05:48:17.586048Z",
     "start_time": "2018-01-29T05:48:17.358397Z"
    }
   },
   "outputs": [
    {
     "data": {
      "text/plain": [
       "<matplotlib.axes._subplots.AxesSubplot at 0x25ab26a7a58>"
      ]
     },
     "execution_count": 21,
     "metadata": {},
     "output_type": "execute_result"
    },
    {
     "data": {
      "image/png": "[encoded data removed]",
      "text/plain": [
       "<Figure size 432x432 with 1 Axes>"
      ]
     },
     "metadata": {},
     "output_type": "display_data"
    }
   ],
   "source": [
    "sns.residplot(y_train, reg.predict(X_train))"
   ]
  },
  {
   "cell_type": "code",
   "execution_count": 22,
   "metadata": {
    "ExecuteTime": {
     "end_time": "2018-01-29T05:48:17.597057Z",
     "start_time": "2018-01-29T05:48:17.588551Z"
    }
   },
   "outputs": [
    {
     "name": "stdout",
     "output_type": "stream",
     "text": [
      "The reg on train is 0.895767\n",
      "The reg on test is 0.842882\n"
     ]
    }
   ],
   "source": [
    "print(\"The reg on train is %f\" % reg.score(X_train, y_train))\n",
    "print (\"The reg on test is %f\" % reg.score(X_test, y_test))\n",
    "#print (\"The reg on 2012 is %f\" % reg.score(test_X, test_y))"
   ]
  },
  {
   "cell_type": "markdown",
   "metadata": {},
   "source": [
    "## LassoCV"
   ]
  },
  {
   "cell_type": "code",
   "execution_count": 23,
   "metadata": {
    "ExecuteTime": {
     "end_time": "2018-01-29T05:48:17.710133Z",
     "start_time": "2018-01-29T05:48:17.599559Z"
    }
   },
   "outputs": [
    {
     "data": {
      "text/plain": [
       "LassoCV(alphas=[0.01, 0.1, 1, 10, 100], copy_X=True, cv=None, eps=0.001,\n",
       "    fit_intercept=True, max_iter=1000, n_alphas=100, n_jobs=1,\n",
       "    normalize=False, positive=False, precompute='auto', random_state=None,\n",
       "    selection='cyclic', tol=0.0001, verbose=False)"
      ]
     },
     "execution_count": 23,
     "metadata": {},
     "output_type": "execute_result"
    }
   ],
   "source": [
    "#### Lasso／L1正则\n",
    "# class sklearn.linear_model.LassoCV(eps=0.001, n_alphas=100, alphas=None, fit_intercept=True, \n",
    "#                                    normalize=False, precompute=’auto’, max_iter=1000, \n",
    "#                                    tol=0.0001, copy_X=True, cv=None, verbose=False, n_jobs=1,\n",
    "#                                    positive=False, random_state=None, selection=’cyclic’)\n",
    "from sklearn.linear_model import LassoCV\n",
    "\n",
    "alphas = [0.01, 0.1, 1, 10,100] #alphas = min\n",
    "#alphas = [1.0e-8, 1.0e-6, 0.0001]\n",
    "#alphas = np.arange(0.0005,0.005,0.0001)\n",
    "\n",
    "lasso = LassoCV(alphas=alphas)   \n",
    "lasso.fit(X_train, y_train.ravel())       "
   ]
  },
  {
   "cell_type": "code",
   "execution_count": 24,
   "metadata": {
    "ExecuteTime": {
     "end_time": "2018-01-29T05:48:17.924774Z",
     "start_time": "2018-01-29T05:48:17.713135Z"
    }
   },
   "outputs": [
    {
     "data": {
      "image/png": "[encoded data removed]",
      "text/plain": [
       "<Figure size 432x432 with 1 Axes>"
      ]
     },
     "metadata": {},
     "output_type": "display_data"
    },
    {
     "name": "stdout",
     "output_type": "stream",
     "text": [
      "alpha is: 0.01\n"
     ]
    },
    {
     "data": {
      "text/plain": [
       "array([ 0.        ,  0.        , -0.03259654, -0.04354296,  0.01659746,\n",
       "       -0.04780473, -0.        ,  0.50019822, -0.025453  ,  0.        ,\n",
       "       -0.        , -0.23619054, -0.        ,  0.09936893,  0.15353236,\n",
       "       -0.03025855, -0.03785941, -0.04020884,  0.        ,  0.13695207,\n",
       "        0.09378874, -0.02055789,  0.        ,  0.0554864 ,  0.02548829,\n",
       "        0.        , -0.00631438,  0.01019485, -0.        , -0.03307558,\n",
       "       -0.01044696, -0.        ,  0.        ,  0.        ,  0.00677852,\n",
       "        0.02058673, -0.        ,  0.        ,  0.13650048, -0.        ,\n",
       "       -0.15010948])"
      ]
     },
     "execution_count": 24,
     "metadata": {},
     "output_type": "execute_result"
    }
   ],
   "source": [
    "mses = np.mean(lasso.mse_path_, axis = 1)\n",
    "plt.plot(np.log10(lasso.alphas_), mses) \n",
    "#plt.plot(np.log10(lasso.alphas_)*np.ones(3), [0.3, 0.4, 1.0])\n",
    "plt.xlabel('log(alpha)')\n",
    "plt.ylabel('mse')\n",
    "plt.show()    \n",
    "            \n",
    "print ('alpha is:', lasso.alpha_)\n",
    "lasso.coef_  "
   ]
  },
  {
   "cell_type": "code",
   "execution_count": 25,
   "metadata": {
    "ExecuteTime": {
     "end_time": "2018-01-29T05:48:18.222477Z",
     "start_time": "2018-01-29T05:48:17.927777Z"
    }
   },
   "outputs": [
    {
     "data": {
      "text/plain": [
       "<matplotlib.axes._subplots.AxesSubplot at 0x25ab2a37860>"
      ]
     },
     "execution_count": 25,
     "metadata": {},
     "output_type": "execute_result"
    },
    {
     "data": {
      "image/png": "[encoded data removed]",
      "text/plain": [
       "<Figure size 432x432 with 1 Axes>"
      ]
     },
     "metadata": {},
     "output_type": "display_data"
    }
   ],
   "source": [
    "sns.residplot(y_train, lasso.predict(X_train))"
   ]
  },
  {
   "cell_type": "code",
   "execution_count": 26,
   "metadata": {
    "ExecuteTime": {
     "end_time": "2018-01-29T05:48:18.232982Z",
     "start_time": "2018-01-29T05:48:18.224977Z"
    }
   },
   "outputs": [
    {
     "name": "stdout",
     "output_type": "stream",
     "text": [
      "The reg on train is 0.856094\n",
      "The reg on test is 0.821079\n"
     ]
    }
   ],
   "source": [
    "print(\"The reg on train is %f\" % lasso.score(X_train, y_train))\n",
    "print ('The reg on test is %f'% lasso.score(X_test, y_test))\n",
    "#print ('The reg on 2012 is %f'% lasso.score(test_X, test_y))"
   ]
  },
  {
   "cell_type": "markdown",
   "metadata": {},
   "source": [
    "# 结论"
   ]
  },
  {
   "cell_type": "markdown",
   "metadata": {
    "collapsed": true
   },
   "source": [
    "RidgeCV 在test上的R^2=0.842882\n",
    "比其它模型更好\n",
    "应当选择RidgeCV"
   ]
  },
  {
   "cell_type": "markdown",
   "metadata": {},
   "source": [
    "## 重新在整个data(2011)数据集上做训练 "
   ]
  },
  {
   "cell_type": "code",
   "execution_count": 27,
   "metadata": {
    "ExecuteTime": {
     "end_time": "2018-01-29T05:48:15.275505Z",
     "start_time": "2018-01-29T05:48:15.230475Z"
    },
    "scrolled": true
   },
   "outputs": [],
   "source": [
    "# 导入特征工程后的数据\n",
    "data_FE = pd.read_csv(\"./data/train_FE.csv\")\n",
    "test = pd.read_csv(\"./data/test_FE.csv\")"
   ]
  },
  {
   "cell_type": "code",
   "execution_count": 28,
   "metadata": {
    "ExecuteTime": {
     "end_time": "2018-01-29T05:48:15.311030Z",
     "start_time": "2018-01-29T05:48:15.297520Z"
    },
    "scrolled": true
   },
   "outputs": [],
   "source": [
    "# 分出 X, y\n",
    "data_instant = data_FE[\"instant\"]\n",
    "X_data = data_FE.drop([\"instant\", \"cnt\",\"casual\",\"registered\"], axis=1)\n",
    "y_data = data_FE[\"cnt\"]\n",
    "\n",
    "test_instant = test[\"instant\"]\n",
    "test_X = test.drop([\"instant\", \"cnt\",\"casual\",\"registered\"], axis=1)\n",
    "test_y = test[\"cnt\"]"
   ]
  },
  {
   "cell_type": "code",
   "execution_count": 30,
   "metadata": {
    "ExecuteTime": {
     "end_time": "2018-01-29T05:48:15.352059Z",
     "start_time": "2018-01-29T05:48:15.331044Z"
    }
   },
   "outputs": [],
   "source": [
    "# 标准化X\n",
    "from sklearn.preprocessing import StandardScaler\n",
    "\n",
    "ss_X = StandardScaler()\n",
    "ss_y = StandardScaler()\n",
    "\n",
    "\n",
    "X_train = ss_X.fit_transform(X_data)\n",
    "X_test = ss_X.fit_transform(test_X)\n",
    "#test_X = ss_X.fit_transform(test_X)\n",
    "\n",
    "y_train = ss_y.fit_transform(y_data.to_frame())\n",
    "y_test  = ss_y.fit_transform(test_y.to_frame())\n",
    "#test_y  = ss_y.fit_transform(test_y.reshape(-1, 1))"
   ]
  },
  {
   "cell_type": "code",
   "execution_count": null,
   "metadata": {},
   "outputs": [],
   "source": []
  },
  {
   "cell_type": "code",
   "execution_count": 31,
   "metadata": {
    "ExecuteTime": {
     "end_time": "2018-01-29T05:48:18.288017Z",
     "start_time": "2018-01-29T05:48:18.264502Z"
    }
   },
   "outputs": [
    {
     "data": {
      "text/plain": [
       "RidgeCV(alphas=array([0.01 , 0.011, 0.012, 0.013, 0.014, 0.015, 0.016, 0.017, 0.018,\n",
       "       0.019]),\n",
       "    cv=None, fit_intercept=True, gcv_mode=None, normalize=False,\n",
       "    scoring=None, store_cv_values=True)"
      ]
     },
     "execution_count": 31,
     "metadata": {},
     "output_type": "execute_result"
    }
   ],
   "source": [
    "# 重新在整个数据集上训练\n",
    "from sklearn.linear_model import  RidgeCV\n",
    "\n",
    "#alphas = [0.01, 0.07, 0.09, 0.1, 0.2, 0.3, 1, 10, 100, 1000] #alphas=0.01\n",
    "#alphas  = np.arange(0.005,0.05, 0.01) #alphas=0.015\n",
    "alphas  = np.arange(0.010, 0.020, 0.001)\n",
    "reg = RidgeCV(alphas=alphas, store_cv_values=True)   \n",
    "reg.fit(X_train, y_train)  "
   ]
  },
  {
   "cell_type": "code",
   "execution_count": 38,
   "metadata": {},
   "outputs": [
    {
     "data": {
      "text/plain": [
       "array([0.1498848 , 0.14970874, 0.14954803, 0.14940083, 0.14926559,\n",
       "       0.14914104, 0.14902611, 0.14891988, 0.14882156, 0.14873047])"
      ]
     },
     "execution_count": 38,
     "metadata": {},
     "output_type": "execute_result"
    }
   ],
   "source": [
    "np.mean(reg.cv_values_, axis = 0).ravel()"
   ]
  },
  {
   "cell_type": "code",
   "execution_count": 39,
   "metadata": {
    "ExecuteTime": {
     "end_time": "2018-01-29T05:48:18.515669Z",
     "start_time": "2018-01-29T05:48:18.292521Z"
    }
   },
   "outputs": [
    {
     "data": {
      "image/png": "[encoded data removed]",
      "text/plain": [
       "<Figure size 432x432 with 1 Axes>"
      ]
     },
     "metadata": {},
     "output_type": "display_data"
    },
    {
     "name": "stdout",
     "output_type": "stream",
     "text": [
      "alpha is: 0.018999999999999993\n"
     ]
    },
    {
     "data": {
      "text/plain": [
       "array([[ 3.02880721e+00,  3.78096400e+00, -1.83777293e-01,\n",
       "        -2.19188589e-01,  1.87047406e-01,  9.07792076e-02,\n",
       "        -1.73117951e+00, -1.99936096e+00, -1.68950067e+00,\n",
       "        -1.04303935e+00,  2.37377390e-01, -2.19359256e-01,\n",
       "        -6.54329405e-02,  1.04311395e-01,  1.83033160e-01,\n",
       "        -8.79920578e-02, -6.51825593e-02, -7.64257151e-02,\n",
       "        -2.02997651e-02,  1.37575610e-01,  1.46609427e-01,\n",
       "         7.03356320e-02,  2.66398511e-02,  2.96905807e-02,\n",
       "        -2.73500261e-02, -9.51369730e-02, -3.97393260e-02,\n",
       "         1.81410275e-02, -1.81410275e-02, -2.38368058e-02,\n",
       "        -1.40606798e-02,  6.42607414e-03, -2.65220584e-03,\n",
       "         1.71796053e-04,  8.87846131e-03,  2.52870008e-02,\n",
       "        -5.48316900e-03,  5.48316900e-03,  1.51941959e-01,\n",
       "        -8.13825460e-02, -2.11200197e-01]])"
      ]
     },
     "execution_count": 39,
     "metadata": {},
     "output_type": "execute_result"
    }
   ],
   "source": [
    "mse_mean = np.mean(reg.cv_values_, axis = 0).ravel()\n",
    "plt.plot(np.log10(alphas), mse_mean) \n",
    "plt.xlabel('log(alpha)')\n",
    "plt.ylabel('mse')\n",
    "plt.show()\n",
    "\n",
    "print ('alpha is:', reg.alpha_)\n",
    "reg.coef_"
   ]
  },
  {
   "cell_type": "code",
   "execution_count": 33,
   "metadata": {
    "ExecuteTime": {
     "end_time": "2018-01-29T05:48:18.724309Z",
     "start_time": "2018-01-29T05:48:18.518173Z"
    }
   },
   "outputs": [
    {
     "data": {
      "text/plain": [
       "<matplotlib.axes._subplots.AxesSubplot at 0x25ab4388f98>"
      ]
     },
     "execution_count": 33,
     "metadata": {},
     "output_type": "execute_result"
    },
    {
     "data": {
      "image/png": "[encoded data removed]",
      "text/plain": [
       "<Figure size 432x432 with 1 Axes>"
      ]
     },
     "metadata": {},
     "output_type": "display_data"
    }
   ],
   "source": [
    "sns.residplot(y_data, reg.predict(X_data))"
   ]
  },
  {
   "cell_type": "code",
   "execution_count": 34,
   "metadata": {
    "ExecuteTime": {
     "end_time": "2018-01-29T05:48:18.733315Z",
     "start_time": "2018-01-29T05:48:18.727311Z"
    }
   },
   "outputs": [
    {
     "name": "stdout",
     "output_type": "stream",
     "text": [
      "The R^2 of RidgeCV on 2011 is -6.361513\n"
     ]
    }
   ],
   "source": [
    "print ('The R^2 of RidgeCV on 2011 is %f'% reg.score(X_data, y_data))"
   ]
  },
  {
   "cell_type": "code",
   "execution_count": 35,
   "metadata": {
    "ExecuteTime": {
     "end_time": "2018-01-29T05:48:18.756830Z",
     "start_time": "2018-01-29T05:48:18.735816Z"
    }
   },
   "outputs": [
    {
     "name": "stdout",
     "output_type": "stream",
     "text": [
      "The R^2 of RidgeCV on 2012 is -9.824433\n"
     ]
    }
   ],
   "source": [
    "print ('The R^2 of RidgeCV on 2012 is %f'% reg.score(test_X, test_y))"
   ]
  },
  {
   "cell_type": "code",
   "execution_count": null,
   "metadata": {},
   "outputs": [],
   "source": []
  }
 ],
 "metadata": {
  "kernelspec": {
   "display_name": "Python 3",
   "language": "python",
   "name": "python3"
  },
  "language_info": {
   "codemirror_mode": {
    "name": "ipython",
    "version": 3
   },
   "file_extension": ".py",
   "mimetype": "text/x-python",
   "name": "python",
   "nbconvert_exporter": "python",
   "pygments_lexer": "ipython3",
   "version": "3.6.5"
  },
  "toc": {
   "nav_menu": {},
   "number_sections": true,
   "sideBar": true,
   "skip_h1_title": false,
   "toc_cell": true,
   "toc_position": {
    "height": "854px",
    "left": "0px",
    "right": "790.369px",
    "top": "95px",
    "width": "174px"
   },
   "toc_section_display": "block",
   "toc_window_display": true
  }
 },
 "nbformat": 4,
 "nbformat_minor": 2
}
