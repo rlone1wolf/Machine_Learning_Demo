{
 "cells": [
  {
   "cell_type": "markdown",
   "metadata": {
    "toc": true
   },
   "source": [
    "<h1>Table of Contents<span class=\"tocSkip\"></span></h1>\n",
    "<div class=\"toc\"><ul class=\"toc-item\"><li><span><a href=\"#RentListingInquries\" data-toc-modified-id=\"RentListingInquries-1\"><span class=\"toc-item-num\">1&nbsp;&nbsp;</span>RentListingInquries</a></span><ul class=\"toc-item\"><li><span><a href=\"#基本信息\" data-toc-modified-id=\"基本信息-1.1\"><span class=\"toc-item-num\">1.1&nbsp;&nbsp;</span>基本信息</a></span></li><li><span><a href=\"#导入工具包\" data-toc-modified-id=\"导入工具包-1.2\"><span class=\"toc-item-num\">1.2&nbsp;&nbsp;</span>导入工具包</a></span></li><li><span><a href=\"#导入数据\" data-toc-modified-id=\"导入数据-1.3\"><span class=\"toc-item-num\">1.3&nbsp;&nbsp;</span>导入数据</a></span></li><li><span><a href=\"#分割数据\" data-toc-modified-id=\"分割数据-1.4\"><span class=\"toc-item-num\">1.4&nbsp;&nbsp;</span>分割数据</a></span></li><li><span><a href=\"#数据量太大,分割数据\" data-toc-modified-id=\"数据量太大,分割数据-1.5\"><span class=\"toc-item-num\">1.5&nbsp;&nbsp;</span>数据量太大,分割数据</a></span></li></ul></li><li><span><a href=\"#模型选择\" data-toc-modified-id=\"模型选择-2\"><span class=\"toc-item-num\">2&nbsp;&nbsp;</span>模型选择</a></span><ul class=\"toc-item\"><li><span><a href=\"#DecisionTreeClassifier\" data-toc-modified-id=\"DecisionTreeClassifier-2.1\"><span class=\"toc-item-num\">2.1&nbsp;&nbsp;</span>DecisionTreeClassifier</a></span></li><li><span><a href=\"#RandomForest\" data-toc-modified-id=\"RandomForest-2.2\"><span class=\"toc-item-num\">2.2&nbsp;&nbsp;</span>RandomForest</a></span></li></ul></li><li><span><a href=\"#预测保存\" data-toc-modified-id=\"预测保存-3\"><span class=\"toc-item-num\">3&nbsp;&nbsp;</span>预测保存</a></span></li></ul></div>"
   ]
  },
  {
   "cell_type": "markdown",
   "metadata": {},
   "source": [
    "# RentListingInquries"
   ]
  },
  {
   "cell_type": "markdown",
   "metadata": {},
   "source": [
    "## 基本信息\n",
    "bathrooms: 浴室的数量number of bathrooms\n",
    "bedrooms: 卧室数量number of bedrooms\n",
    "building_id: ID号\n",
    "created: \n",
    "description: 描述\n",
    "display_address: \n",
    "features: 关于这间公寓的功能列表a list of features about this apartment\n",
    "latitude: 纬度\n",
    "listing_id\n",
    "longitude: 经度\n",
    "manager_id\n",
    "photos: 照片链接列表a list of photo links. You are welcome to download the pictures yourselves from renthop's site, but they are the same as imgs.zip. \n",
    "price: 以美元计算in USD\n",
    "street_address: 街道地址\n",
    "interest_level: 这是目标变量。它有3个类别：'高'，'中等'，'低'this is the target variable. It has 3 categories: 'high', 'medium', 'low'"
   ]
  },
  {
   "cell_type": "markdown",
   "metadata": {},
   "source": [
    "## 导入工具包"
   ]
  },
  {
   "cell_type": "code",
   "execution_count": 1,
   "metadata": {
    "ExecuteTime": {
     "end_time": "2018-02-22T06:51:19.225000Z",
     "start_time": "2018-02-22T06:51:18.432000Z"
    }
   },
   "outputs": [],
   "source": [
    "# 数据导入与处理\n",
    "import numpy as np\n",
    "import pandas as pd\n",
    "# 数据可视化\n",
    "import matplotlib.pyplot as plt\n",
    "import seaborn as sns\n"
   ]
  },
  {
   "cell_type": "markdown",
   "metadata": {},
   "source": [
    "## 导入数据"
   ]
  },
  {
   "cell_type": "code",
   "execution_count": 2,
   "metadata": {
    "ExecuteTime": {
     "end_time": "2018-02-22T06:51:20.218000Z",
     "start_time": "2018-02-22T06:51:19.226000Z"
    }
   },
   "outputs": [
    {
     "data": {
      "text/html": [
       "<div>\n",
       "<style scoped>\n",
       "    .dataframe tbody tr th:only-of-type {\n",
       "        vertical-align: middle;\n",
       "    }\n",
       "\n",
       "    .dataframe tbody tr th {\n",
       "        vertical-align: top;\n",
       "    }\n",
       "\n",
       "    .dataframe thead th {\n",
       "        text-align: right;\n",
       "    }\n",
       "</style>\n",
       "<table border=\"1\" class=\"dataframe\">\n",
       "  <thead>\n",
       "    <tr style=\"text-align: right;\">\n",
       "      <th></th>\n",
       "      <th>bathrooms</th>\n",
       "      <th>bedrooms</th>\n",
       "      <th>price</th>\n",
       "      <th>price_bathrooms</th>\n",
       "      <th>price_bedrooms</th>\n",
       "      <th>room_diff</th>\n",
       "      <th>room_num</th>\n",
       "      <th>Year</th>\n",
       "      <th>Month</th>\n",
       "      <th>Day</th>\n",
       "      <th>...</th>\n",
       "      <th>walk</th>\n",
       "      <th>walls</th>\n",
       "      <th>war</th>\n",
       "      <th>washer</th>\n",
       "      <th>water</th>\n",
       "      <th>wheelchair</th>\n",
       "      <th>wifi</th>\n",
       "      <th>windows</th>\n",
       "      <th>work</th>\n",
       "      <th>interest_level</th>\n",
       "    </tr>\n",
       "  </thead>\n",
       "  <tbody>\n",
       "    <tr>\n",
       "      <th>0</th>\n",
       "      <td>1.5</td>\n",
       "      <td>3</td>\n",
       "      <td>3000</td>\n",
       "      <td>1200.0</td>\n",
       "      <td>750.000000</td>\n",
       "      <td>-1.5</td>\n",
       "      <td>4.5</td>\n",
       "      <td>2016</td>\n",
       "      <td>6</td>\n",
       "      <td>24</td>\n",
       "      <td>...</td>\n",
       "      <td>0</td>\n",
       "      <td>0</td>\n",
       "      <td>0</td>\n",
       "      <td>0</td>\n",
       "      <td>0</td>\n",
       "      <td>0</td>\n",
       "      <td>0</td>\n",
       "      <td>0</td>\n",
       "      <td>0</td>\n",
       "      <td>1</td>\n",
       "    </tr>\n",
       "    <tr>\n",
       "      <th>1</th>\n",
       "      <td>1.0</td>\n",
       "      <td>2</td>\n",
       "      <td>5465</td>\n",
       "      <td>2732.5</td>\n",
       "      <td>1821.666667</td>\n",
       "      <td>-1.0</td>\n",
       "      <td>3.0</td>\n",
       "      <td>2016</td>\n",
       "      <td>6</td>\n",
       "      <td>12</td>\n",
       "      <td>...</td>\n",
       "      <td>0</td>\n",
       "      <td>0</td>\n",
       "      <td>0</td>\n",
       "      <td>0</td>\n",
       "      <td>0</td>\n",
       "      <td>0</td>\n",
       "      <td>0</td>\n",
       "      <td>0</td>\n",
       "      <td>0</td>\n",
       "      <td>2</td>\n",
       "    </tr>\n",
       "    <tr>\n",
       "      <th>2</th>\n",
       "      <td>1.0</td>\n",
       "      <td>1</td>\n",
       "      <td>2850</td>\n",
       "      <td>1425.0</td>\n",
       "      <td>1425.000000</td>\n",
       "      <td>0.0</td>\n",
       "      <td>2.0</td>\n",
       "      <td>2016</td>\n",
       "      <td>4</td>\n",
       "      <td>17</td>\n",
       "      <td>...</td>\n",
       "      <td>0</td>\n",
       "      <td>0</td>\n",
       "      <td>0</td>\n",
       "      <td>0</td>\n",
       "      <td>0</td>\n",
       "      <td>0</td>\n",
       "      <td>0</td>\n",
       "      <td>0</td>\n",
       "      <td>0</td>\n",
       "      <td>0</td>\n",
       "    </tr>\n",
       "    <tr>\n",
       "      <th>3</th>\n",
       "      <td>1.0</td>\n",
       "      <td>1</td>\n",
       "      <td>3275</td>\n",
       "      <td>1637.5</td>\n",
       "      <td>1637.500000</td>\n",
       "      <td>0.0</td>\n",
       "      <td>2.0</td>\n",
       "      <td>2016</td>\n",
       "      <td>4</td>\n",
       "      <td>18</td>\n",
       "      <td>...</td>\n",
       "      <td>0</td>\n",
       "      <td>0</td>\n",
       "      <td>0</td>\n",
       "      <td>0</td>\n",
       "      <td>0</td>\n",
       "      <td>0</td>\n",
       "      <td>0</td>\n",
       "      <td>0</td>\n",
       "      <td>0</td>\n",
       "      <td>2</td>\n",
       "    </tr>\n",
       "    <tr>\n",
       "      <th>4</th>\n",
       "      <td>1.0</td>\n",
       "      <td>4</td>\n",
       "      <td>3350</td>\n",
       "      <td>1675.0</td>\n",
       "      <td>670.000000</td>\n",
       "      <td>-3.0</td>\n",
       "      <td>5.0</td>\n",
       "      <td>2016</td>\n",
       "      <td>4</td>\n",
       "      <td>28</td>\n",
       "      <td>...</td>\n",
       "      <td>0</td>\n",
       "      <td>0</td>\n",
       "      <td>1</td>\n",
       "      <td>0</td>\n",
       "      <td>0</td>\n",
       "      <td>0</td>\n",
       "      <td>0</td>\n",
       "      <td>0</td>\n",
       "      <td>0</td>\n",
       "      <td>2</td>\n",
       "    </tr>\n",
       "  </tbody>\n",
       "</table>\n",
       "<p>5 rows × 227 columns</p>\n",
       "</div>"
      ],
      "text/plain": [
       "   bathrooms  bedrooms  price  price_bathrooms  price_bedrooms  room_diff  \\\n",
       "0        1.5         3   3000           1200.0      750.000000       -1.5   \n",
       "1        1.0         2   5465           2732.5     1821.666667       -1.0   \n",
       "2        1.0         1   2850           1425.0     1425.000000        0.0   \n",
       "3        1.0         1   3275           1637.5     1637.500000        0.0   \n",
       "4        1.0         4   3350           1675.0      670.000000       -3.0   \n",
       "\n",
       "   room_num  Year  Month  Day       ...        walk  walls  war  washer  \\\n",
       "0       4.5  2016      6   24       ...           0      0    0       0   \n",
       "1       3.0  2016      6   12       ...           0      0    0       0   \n",
       "2       2.0  2016      4   17       ...           0      0    0       0   \n",
       "3       2.0  2016      4   18       ...           0      0    0       0   \n",
       "4       5.0  2016      4   28       ...           0      0    1       0   \n",
       "\n",
       "   water  wheelchair  wifi  windows  work  interest_level  \n",
       "0      0           0     0        0     0               1  \n",
       "1      0           0     0        0     0               2  \n",
       "2      0           0     0        0     0               0  \n",
       "3      0           0     0        0     0               2  \n",
       "4      0           0     0        0     0               2  \n",
       "\n",
       "[5 rows x 227 columns]"
      ]
     },
     "execution_count": 2,
     "metadata": {},
     "output_type": "execute_result"
    }
   ],
   "source": [
    "# 课程网站提供的特征工程编码后的数据（RentListingInquries_FE_train.csv）\n",
    "# 或稀疏编码的形式（RentListingInquries_FE_train.bin）\n",
    "# 读取数据\n",
    "# path to where the data lies\n",
    "dpath = './data/'\n",
    "train = pd.read_csv(dpath +\"train_FE.csv\")\n",
    "train.head()"
   ]
  },
  {
   "cell_type": "code",
   "execution_count": 3,
   "metadata": {
    "ExecuteTime": {
     "end_time": "2018-02-22T06:51:21.621000Z",
     "start_time": "2018-02-22T06:51:20.220000Z"
    }
   },
   "outputs": [
    {
     "data": {
      "text/html": [
       "<div>\n",
       "<style scoped>\n",
       "    .dataframe tbody tr th:only-of-type {\n",
       "        vertical-align: middle;\n",
       "    }\n",
       "\n",
       "    .dataframe tbody tr th {\n",
       "        vertical-align: top;\n",
       "    }\n",
       "\n",
       "    .dataframe thead th {\n",
       "        text-align: right;\n",
       "    }\n",
       "</style>\n",
       "<table border=\"1\" class=\"dataframe\">\n",
       "  <thead>\n",
       "    <tr style=\"text-align: right;\">\n",
       "      <th></th>\n",
       "      <th>bathrooms</th>\n",
       "      <th>bedrooms</th>\n",
       "      <th>price</th>\n",
       "      <th>price_bathrooms</th>\n",
       "      <th>price_bedrooms</th>\n",
       "      <th>room_diff</th>\n",
       "      <th>room_num</th>\n",
       "      <th>Year</th>\n",
       "      <th>Month</th>\n",
       "      <th>Day</th>\n",
       "      <th>...</th>\n",
       "      <th>virtual</th>\n",
       "      <th>walk</th>\n",
       "      <th>walls</th>\n",
       "      <th>war</th>\n",
       "      <th>washer</th>\n",
       "      <th>water</th>\n",
       "      <th>wheelchair</th>\n",
       "      <th>wifi</th>\n",
       "      <th>windows</th>\n",
       "      <th>work</th>\n",
       "    </tr>\n",
       "  </thead>\n",
       "  <tbody>\n",
       "    <tr>\n",
       "      <th>0</th>\n",
       "      <td>1.0</td>\n",
       "      <td>1</td>\n",
       "      <td>2950</td>\n",
       "      <td>1475.000000</td>\n",
       "      <td>1475.000000</td>\n",
       "      <td>0.0</td>\n",
       "      <td>2.0</td>\n",
       "      <td>2016</td>\n",
       "      <td>6</td>\n",
       "      <td>11</td>\n",
       "      <td>...</td>\n",
       "      <td>0</td>\n",
       "      <td>0</td>\n",
       "      <td>0</td>\n",
       "      <td>0</td>\n",
       "      <td>0</td>\n",
       "      <td>0</td>\n",
       "      <td>0</td>\n",
       "      <td>0</td>\n",
       "      <td>0</td>\n",
       "      <td>0</td>\n",
       "    </tr>\n",
       "    <tr>\n",
       "      <th>1</th>\n",
       "      <td>1.0</td>\n",
       "      <td>2</td>\n",
       "      <td>2850</td>\n",
       "      <td>1425.000000</td>\n",
       "      <td>950.000000</td>\n",
       "      <td>-1.0</td>\n",
       "      <td>3.0</td>\n",
       "      <td>2016</td>\n",
       "      <td>6</td>\n",
       "      <td>24</td>\n",
       "      <td>...</td>\n",
       "      <td>0</td>\n",
       "      <td>0</td>\n",
       "      <td>0</td>\n",
       "      <td>1</td>\n",
       "      <td>0</td>\n",
       "      <td>0</td>\n",
       "      <td>0</td>\n",
       "      <td>0</td>\n",
       "      <td>0</td>\n",
       "      <td>0</td>\n",
       "    </tr>\n",
       "    <tr>\n",
       "      <th>2</th>\n",
       "      <td>1.0</td>\n",
       "      <td>1</td>\n",
       "      <td>3758</td>\n",
       "      <td>1879.000000</td>\n",
       "      <td>1879.000000</td>\n",
       "      <td>0.0</td>\n",
       "      <td>2.0</td>\n",
       "      <td>2016</td>\n",
       "      <td>6</td>\n",
       "      <td>3</td>\n",
       "      <td>...</td>\n",
       "      <td>0</td>\n",
       "      <td>0</td>\n",
       "      <td>0</td>\n",
       "      <td>0</td>\n",
       "      <td>0</td>\n",
       "      <td>0</td>\n",
       "      <td>0</td>\n",
       "      <td>0</td>\n",
       "      <td>0</td>\n",
       "      <td>0</td>\n",
       "    </tr>\n",
       "    <tr>\n",
       "      <th>3</th>\n",
       "      <td>1.0</td>\n",
       "      <td>2</td>\n",
       "      <td>3300</td>\n",
       "      <td>1650.000000</td>\n",
       "      <td>1100.000000</td>\n",
       "      <td>-1.0</td>\n",
       "      <td>3.0</td>\n",
       "      <td>2016</td>\n",
       "      <td>6</td>\n",
       "      <td>11</td>\n",
       "      <td>...</td>\n",
       "      <td>0</td>\n",
       "      <td>0</td>\n",
       "      <td>0</td>\n",
       "      <td>0</td>\n",
       "      <td>0</td>\n",
       "      <td>0</td>\n",
       "      <td>1</td>\n",
       "      <td>0</td>\n",
       "      <td>0</td>\n",
       "      <td>0</td>\n",
       "    </tr>\n",
       "    <tr>\n",
       "      <th>4</th>\n",
       "      <td>2.0</td>\n",
       "      <td>2</td>\n",
       "      <td>4900</td>\n",
       "      <td>1633.333333</td>\n",
       "      <td>1633.333333</td>\n",
       "      <td>0.0</td>\n",
       "      <td>4.0</td>\n",
       "      <td>2016</td>\n",
       "      <td>4</td>\n",
       "      <td>12</td>\n",
       "      <td>...</td>\n",
       "      <td>0</td>\n",
       "      <td>0</td>\n",
       "      <td>0</td>\n",
       "      <td>1</td>\n",
       "      <td>0</td>\n",
       "      <td>0</td>\n",
       "      <td>0</td>\n",
       "      <td>0</td>\n",
       "      <td>0</td>\n",
       "      <td>0</td>\n",
       "    </tr>\n",
       "  </tbody>\n",
       "</table>\n",
       "<p>5 rows × 226 columns</p>\n",
       "</div>"
      ],
      "text/plain": [
       "   bathrooms  bedrooms  price  price_bathrooms  price_bedrooms  room_diff  \\\n",
       "0        1.0         1   2950      1475.000000     1475.000000        0.0   \n",
       "1        1.0         2   2850      1425.000000      950.000000       -1.0   \n",
       "2        1.0         1   3758      1879.000000     1879.000000        0.0   \n",
       "3        1.0         2   3300      1650.000000     1100.000000       -1.0   \n",
       "4        2.0         2   4900      1633.333333     1633.333333        0.0   \n",
       "\n",
       "   room_num  Year  Month  Day  ...   virtual  walk  walls  war  washer  water  \\\n",
       "0       2.0  2016      6   11  ...         0     0      0    0       0      0   \n",
       "1       3.0  2016      6   24  ...         0     0      0    1       0      0   \n",
       "2       2.0  2016      6    3  ...         0     0      0    0       0      0   \n",
       "3       3.0  2016      6   11  ...         0     0      0    0       0      0   \n",
       "4       4.0  2016      4   12  ...         0     0      0    1       0      0   \n",
       "\n",
       "   wheelchair  wifi  windows  work  \n",
       "0           0     0        0     0  \n",
       "1           0     0        0     0  \n",
       "2           0     0        0     0  \n",
       "3           1     0        0     0  \n",
       "4           0     0        0     0  \n",
       "\n",
       "[5 rows x 226 columns]"
      ]
     },
     "execution_count": 3,
     "metadata": {},
     "output_type": "execute_result"
    }
   ],
   "source": [
    "# 测试数据\n",
    "test = pd.read_csv(dpath+'test_FE.csv')\n",
    "test.head()"
   ]
  },
  {
   "cell_type": "code",
   "execution_count": 4,
   "metadata": {
    "ExecuteTime": {
     "end_time": "2018-02-22T06:51:21.772000Z",
     "start_time": "2018-02-22T06:51:21.623000Z"
    }
   },
   "outputs": [
    {
     "data": {
      "text/plain": [
       "0"
      ]
     },
     "execution_count": 4,
     "metadata": {},
     "output_type": "execute_result"
    }
   ],
   "source": [
    "train.isnull().sum().sum()"
   ]
  },
  {
   "cell_type": "code",
   "execution_count": 5,
   "metadata": {
    "ExecuteTime": {
     "end_time": "2018-02-22T06:51:21.995000Z",
     "start_time": "2018-02-22T06:51:21.774000Z"
    }
   },
   "outputs": [
    {
     "data": {
      "text/plain": [
       "0"
      ]
     },
     "execution_count": 5,
     "metadata": {},
     "output_type": "execute_result"
    }
   ],
   "source": [
    "test.isnull().sum().sum()"
   ]
  },
  {
   "cell_type": "markdown",
   "metadata": {},
   "source": [
    "## 分割数据"
   ]
  },
  {
   "cell_type": "markdown",
   "metadata": {
    "ExecuteTime": {
     "end_time": "2018-02-22T06:48:23.620000Z",
     "start_time": "2018-02-22T06:48:23.582000Z"
    }
   },
   "source": [
    "## 数据量太大,分割数据\n",
    "train = train.sample(frac=0.3)\n",
    "train.shape"
   ]
  },
  {
   "cell_type": "code",
   "execution_count": 6,
   "metadata": {
    "ExecuteTime": {
     "end_time": "2018-02-22T06:51:22.305000Z",
     "start_time": "2018-02-22T06:51:22.131000Z"
    }
   },
   "outputs": [],
   "source": [
    "# 区分测试集与训练集\n",
    "X = train.drop('interest_level', axis=1)\n",
    "y = train['interest_level']\n",
    "\n",
    "from sklearn.model_selection import train_test_split\n",
    "X_train, X_test, y_train, y_test = train_test_split(X, y\n",
    "    , test_size=0.2\n",
    "    , random_state=33\n",
    "    , stratify=y)"
   ]
  },
  {
   "cell_type": "code",
   "execution_count": 7,
   "metadata": {
    "ExecuteTime": {
     "end_time": "2018-02-22T06:51:22.319000Z",
     "start_time": "2018-02-22T06:51:22.306000Z"
    }
   },
   "outputs": [
    {
     "name": "stdout",
     "output_type": "stream",
     "text": [
      "<class 'pandas.core.frame.DataFrame'>\n",
      "Int64Index: 39481 entries, 14659 to 25927\n",
      "Columns: 226 entries, bathrooms to work\n",
      "dtypes: float64(8), int64(218)\n",
      "memory usage: 68.4 MB\n"
     ]
    }
   ],
   "source": [
    "X_train.info()"
   ]
  },
  {
   "cell_type": "markdown",
   "metadata": {},
   "source": [
    "# 模型选择"
   ]
  },
  {
   "cell_type": "markdown",
   "metadata": {},
   "source": [
    "## DecisionTreeClassifier"
   ]
  },
  {
   "cell_type": "code",
   "execution_count": 8,
   "metadata": {
    "ExecuteTime": {
     "end_time": "2018-02-22T06:51:22.326000Z",
     "start_time": "2018-02-22T06:51:22.321000Z"
    }
   },
   "outputs": [],
   "source": [
    "# 分类评分标准\n",
    "from sklearn.metrics import roc_auc_score \n",
    "from sklearn.metrics import accuracy_score"
   ]
  },
  {
   "cell_type": "code",
   "execution_count": 9,
   "metadata": {
    "ExecuteTime": {
     "end_time": "2018-02-22T06:51:22.353000Z",
     "start_time": "2018-02-22T06:51:22.328000Z"
    }
   },
   "outputs": [],
   "source": [
    "from sklearn.tree import DecisionTreeClassifier\n",
    "model_tree = DecisionTreeClassifier()"
   ]
  },
  {
   "cell_type": "code",
   "execution_count": 10,
   "metadata": {
    "ExecuteTime": {
     "end_time": "2018-02-22T06:51:23.463000Z",
     "start_time": "2018-02-22T06:51:22.354000Z"
    }
   },
   "outputs": [
    {
     "data": {
      "text/plain": [
       "DecisionTreeClassifier(class_weight=None, criterion='gini', max_depth=None,\n",
       "            max_features=None, max_leaf_nodes=None,\n",
       "            min_impurity_decrease=0.0, min_impurity_split=None,\n",
       "            min_samples_leaf=1, min_samples_split=2,\n",
       "            min_weight_fraction_leaf=0.0, presort=False, random_state=None,\n",
       "            splitter='best')"
      ]
     },
     "execution_count": 10,
     "metadata": {},
     "output_type": "execute_result"
    }
   ],
   "source": [
    "model_tree.fit(X_train, y_train)"
   ]
  },
  {
   "cell_type": "code",
   "execution_count": 11,
   "metadata": {
    "ExecuteTime": {
     "end_time": "2018-02-22T06:51:23.510000Z",
     "start_time": "2018-02-22T06:51:23.465000Z"
    }
   },
   "outputs": [
    {
     "data": {
      "text/plain": [
       "0.6533279303008813"
      ]
     },
     "execution_count": 11,
     "metadata": {},
     "output_type": "execute_result"
    }
   ],
   "source": [
    "y_pd = model_tree.predict(X_test)\n",
    "model_tree.score(X_test, y_test)"
   ]
  },
  {
   "cell_type": "code",
   "execution_count": 12,
   "metadata": {
    "ExecuteTime": {
     "end_time": "2018-02-22T06:51:23.519000Z",
     "start_time": "2018-02-22T06:51:23.512000Z"
    }
   },
   "outputs": [
    {
     "name": "stdout",
     "output_type": "stream",
     "text": [
      "             precision    recall  f1-score   support\n",
      "\n",
      "          0       0.30      0.31      0.31       768\n",
      "          1       0.35      0.35      0.35      2246\n",
      "          2       0.79      0.79      0.79      6857\n",
      "\n",
      "avg / total       0.65      0.65      0.65      9871\n",
      "\n"
     ]
    }
   ],
   "source": [
    "from sklearn import metrics\n",
    "print(metrics.classification_report(y_test, y_pd))"
   ]
  },
  {
   "cell_type": "markdown",
   "metadata": {
    "ExecuteTime": {
     "end_time": "2018-02-16T09:33:22.043224Z",
     "start_time": "2018-02-16T09:33:22.026214Z"
    }
   },
   "source": [
    "print(roc_auc_score(y_test,y_pdpbed))"
   ]
  },
  {
   "cell_type": "markdown",
   "metadata": {},
   "source": [
    "缺省的决策树正确率为0.65"
   ]
  },
  {
   "cell_type": "code",
   "execution_count": 13,
   "metadata": {
    "ExecuteTime": {
     "end_time": "2018-02-22T06:51:23.544000Z",
     "start_time": "2018-02-22T06:51:23.521000Z"
    },
    "scrolled": true
   },
   "outputs": [
    {
     "data": {
      "text/html": [
       "<div>\n",
       "<style scoped>\n",
       "    .dataframe tbody tr th:only-of-type {\n",
       "        vertical-align: middle;\n",
       "    }\n",
       "\n",
       "    .dataframe tbody tr th {\n",
       "        vertical-align: top;\n",
       "    }\n",
       "\n",
       "    .dataframe thead th {\n",
       "        text-align: right;\n",
       "    }\n",
       "</style>\n",
       "<table border=\"1\" class=\"dataframe\">\n",
       "  <thead>\n",
       "    <tr style=\"text-align: right;\">\n",
       "      <th></th>\n",
       "      <th>columns</th>\n",
       "      <th>importance</th>\n",
       "    </tr>\n",
       "  </thead>\n",
       "  <tbody>\n",
       "    <tr>\n",
       "      <th>4</th>\n",
       "      <td>price_bedrooms</td>\n",
       "      <td>0.107298</td>\n",
       "    </tr>\n",
       "    <tr>\n",
       "      <th>25</th>\n",
       "      <td>display_address_pred_1</td>\n",
       "      <td>0.085401</td>\n",
       "    </tr>\n",
       "    <tr>\n",
       "      <th>23</th>\n",
       "      <td>distance</td>\n",
       "      <td>0.079904</td>\n",
       "    </tr>\n",
       "    <tr>\n",
       "      <th>24</th>\n",
       "      <td>display_address_pred_0</td>\n",
       "      <td>0.072541</td>\n",
       "    </tr>\n",
       "    <tr>\n",
       "      <th>3</th>\n",
       "      <td>price_bathrooms</td>\n",
       "      <td>0.070777</td>\n",
       "    </tr>\n",
       "    <tr>\n",
       "      <th>11</th>\n",
       "      <td>Yday</td>\n",
       "      <td>0.065071</td>\n",
       "    </tr>\n",
       "    <tr>\n",
       "      <th>2</th>\n",
       "      <td>price</td>\n",
       "      <td>0.064622</td>\n",
       "    </tr>\n",
       "    <tr>\n",
       "      <th>9</th>\n",
       "      <td>Day</td>\n",
       "      <td>0.064459</td>\n",
       "    </tr>\n",
       "    <tr>\n",
       "      <th>12</th>\n",
       "      <td>hour</td>\n",
       "      <td>0.063819</td>\n",
       "    </tr>\n",
       "    <tr>\n",
       "      <th>10</th>\n",
       "      <td>Wday</td>\n",
       "      <td>0.037424</td>\n",
       "    </tr>\n",
       "    <tr>\n",
       "      <th>22</th>\n",
       "      <td>cenroid</td>\n",
       "      <td>0.028188</td>\n",
       "    </tr>\n",
       "    <tr>\n",
       "      <th>95</th>\n",
       "      <td>fee</td>\n",
       "      <td>0.020009</td>\n",
       "    </tr>\n",
       "    <tr>\n",
       "      <th>127</th>\n",
       "      <td>laundry</td>\n",
       "      <td>0.011765</td>\n",
       "    </tr>\n",
       "    <tr>\n",
       "      <th>100</th>\n",
       "      <td>floors</td>\n",
       "      <td>0.010385</td>\n",
       "    </tr>\n",
       "    <tr>\n",
       "      <th>13</th>\n",
       "      <td>top_10_manager</td>\n",
       "      <td>0.008474</td>\n",
       "    </tr>\n",
       "    <tr>\n",
       "      <th>15</th>\n",
       "      <td>top_5_manager</td>\n",
       "      <td>0.007587</td>\n",
       "    </tr>\n",
       "    <tr>\n",
       "      <th>56</th>\n",
       "      <td>building</td>\n",
       "      <td>0.007531</td>\n",
       "    </tr>\n",
       "    <tr>\n",
       "      <th>82</th>\n",
       "      <td>dishwasher</td>\n",
       "      <td>0.007385</td>\n",
       "    </tr>\n",
       "    <tr>\n",
       "      <th>112</th>\n",
       "      <td>hardwood</td>\n",
       "      <td>0.007157</td>\n",
       "    </tr>\n",
       "    <tr>\n",
       "      <th>18</th>\n",
       "      <td>top_2_manager</td>\n",
       "      <td>0.007074</td>\n",
       "    </tr>\n",
       "    <tr>\n",
       "      <th>34</th>\n",
       "      <td>allowed</td>\n",
       "      <td>0.006793</td>\n",
       "    </tr>\n",
       "    <tr>\n",
       "      <th>90</th>\n",
       "      <td>elevator</td>\n",
       "      <td>0.006489</td>\n",
       "    </tr>\n",
       "    <tr>\n",
       "      <th>17</th>\n",
       "      <td>top_1_manager</td>\n",
       "      <td>0.006156</td>\n",
       "    </tr>\n",
       "    <tr>\n",
       "      <th>84</th>\n",
       "      <td>doorman</td>\n",
       "      <td>0.006142</td>\n",
       "    </tr>\n",
       "    <tr>\n",
       "      <th>8</th>\n",
       "      <td>Month</td>\n",
       "      <td>0.006045</td>\n",
       "    </tr>\n",
       "    <tr>\n",
       "      <th>105</th>\n",
       "      <td>furnished</td>\n",
       "      <td>0.005375</td>\n",
       "    </tr>\n",
       "    <tr>\n",
       "      <th>6</th>\n",
       "      <td>room_num</td>\n",
       "      <td>0.004981</td>\n",
       "    </tr>\n",
       "    <tr>\n",
       "      <th>210</th>\n",
       "      <td>unit</td>\n",
       "      <td>0.004646</td>\n",
       "    </tr>\n",
       "    <tr>\n",
       "      <th>204</th>\n",
       "      <td>terrace</td>\n",
       "      <td>0.004621</td>\n",
       "    </tr>\n",
       "    <tr>\n",
       "      <th>219</th>\n",
       "      <td>war</td>\n",
       "      <td>0.004566</td>\n",
       "    </tr>\n",
       "    <tr>\n",
       "      <th>...</th>\n",
       "      <td>...</td>\n",
       "      <td>...</td>\n",
       "    </tr>\n",
       "    <tr>\n",
       "      <th>123</th>\n",
       "      <td>intercom</td>\n",
       "      <td>0.000000</td>\n",
       "    </tr>\n",
       "    <tr>\n",
       "      <th>131</th>\n",
       "      <td>living</td>\n",
       "      <td>0.000000</td>\n",
       "    </tr>\n",
       "    <tr>\n",
       "      <th>132</th>\n",
       "      <td>lndry</td>\n",
       "      <td>0.000000</td>\n",
       "    </tr>\n",
       "    <tr>\n",
       "      <th>139</th>\n",
       "      <td>marble</td>\n",
       "      <td>0.000000</td>\n",
       "    </tr>\n",
       "    <tr>\n",
       "      <th>138</th>\n",
       "      <td>luxury</td>\n",
       "      <td>0.000000</td>\n",
       "    </tr>\n",
       "    <tr>\n",
       "      <th>133</th>\n",
       "      <td>lobby</td>\n",
       "      <td>0.000000</td>\n",
       "    </tr>\n",
       "    <tr>\n",
       "      <th>103</th>\n",
       "      <td>ft</td>\n",
       "      <td>0.000000</td>\n",
       "    </tr>\n",
       "    <tr>\n",
       "      <th>158</th>\n",
       "      <td>playroom</td>\n",
       "      <td>0.000000</td>\n",
       "    </tr>\n",
       "    <tr>\n",
       "      <th>179</th>\n",
       "      <td>share</td>\n",
       "      <td>0.000000</td>\n",
       "    </tr>\n",
       "    <tr>\n",
       "      <th>99</th>\n",
       "      <td>floor</td>\n",
       "      <td>0.000000</td>\n",
       "    </tr>\n",
       "    <tr>\n",
       "      <th>178</th>\n",
       "      <td>services</td>\n",
       "      <td>0.000000</td>\n",
       "    </tr>\n",
       "    <tr>\n",
       "      <th>177</th>\n",
       "      <td>service</td>\n",
       "      <td>0.000000</td>\n",
       "    </tr>\n",
       "    <tr>\n",
       "      <th>176</th>\n",
       "      <td>sauna</td>\n",
       "      <td>0.000000</td>\n",
       "    </tr>\n",
       "    <tr>\n",
       "      <th>70</th>\n",
       "      <td>closet</td>\n",
       "      <td>0.000000</td>\n",
       "    </tr>\n",
       "    <tr>\n",
       "      <th>174</th>\n",
       "      <td>rooftop</td>\n",
       "      <td>0.000000</td>\n",
       "    </tr>\n",
       "    <tr>\n",
       "      <th>71</th>\n",
       "      <td>closets</td>\n",
       "      <td>0.000000</td>\n",
       "    </tr>\n",
       "    <tr>\n",
       "      <th>72</th>\n",
       "      <td>club</td>\n",
       "      <td>0.000000</td>\n",
       "    </tr>\n",
       "    <tr>\n",
       "      <th>171</th>\n",
       "      <td>rise</td>\n",
       "      <td>0.000000</td>\n",
       "    </tr>\n",
       "    <tr>\n",
       "      <th>75</th>\n",
       "      <td>conditioning</td>\n",
       "      <td>0.000000</td>\n",
       "    </tr>\n",
       "    <tr>\n",
       "      <th>169</th>\n",
       "      <td>rent</td>\n",
       "      <td>0.000000</td>\n",
       "    </tr>\n",
       "    <tr>\n",
       "      <th>77</th>\n",
       "      <td>courtyard</td>\n",
       "      <td>0.000000</td>\n",
       "    </tr>\n",
       "    <tr>\n",
       "      <th>79</th>\n",
       "      <td>decorative</td>\n",
       "      <td>0.000000</td>\n",
       "    </tr>\n",
       "    <tr>\n",
       "      <th>80</th>\n",
       "      <td>details</td>\n",
       "      <td>0.000000</td>\n",
       "    </tr>\n",
       "    <tr>\n",
       "      <th>85</th>\n",
       "      <td>dry</td>\n",
       "      <td>0.000000</td>\n",
       "    </tr>\n",
       "    <tr>\n",
       "      <th>89</th>\n",
       "      <td>elev</td>\n",
       "      <td>0.000000</td>\n",
       "    </tr>\n",
       "    <tr>\n",
       "      <th>91</th>\n",
       "      <td>entertainment</td>\n",
       "      <td>0.000000</td>\n",
       "    </tr>\n",
       "    <tr>\n",
       "      <th>94</th>\n",
       "      <td>facilities</td>\n",
       "      <td>0.000000</td>\n",
       "    </tr>\n",
       "    <tr>\n",
       "      <th>98</th>\n",
       "      <td>flex</td>\n",
       "      <td>0.000000</td>\n",
       "    </tr>\n",
       "    <tr>\n",
       "      <th>160</th>\n",
       "      <td>post</td>\n",
       "      <td>0.000000</td>\n",
       "    </tr>\n",
       "    <tr>\n",
       "      <th>113</th>\n",
       "      <td>health</td>\n",
       "      <td>0.000000</td>\n",
       "    </tr>\n",
       "  </tbody>\n",
       "</table>\n",
       "<p>226 rows × 2 columns</p>\n",
       "</div>"
      ],
      "text/plain": [
       "                    columns  importance\n",
       "4            price_bedrooms    0.107298\n",
       "25   display_address_pred_1    0.085401\n",
       "23                 distance    0.079904\n",
       "24   display_address_pred_0    0.072541\n",
       "3           price_bathrooms    0.070777\n",
       "11                     Yday    0.065071\n",
       "2                     price    0.064622\n",
       "9                       Day    0.064459\n",
       "12                     hour    0.063819\n",
       "10                     Wday    0.037424\n",
       "22                  cenroid    0.028188\n",
       "95                      fee    0.020009\n",
       "127                 laundry    0.011765\n",
       "100                  floors    0.010385\n",
       "13           top_10_manager    0.008474\n",
       "15            top_5_manager    0.007587\n",
       "56                 building    0.007531\n",
       "82               dishwasher    0.007385\n",
       "112                hardwood    0.007157\n",
       "18            top_2_manager    0.007074\n",
       "34                  allowed    0.006793\n",
       "90                 elevator    0.006489\n",
       "17            top_1_manager    0.006156\n",
       "84                  doorman    0.006142\n",
       "8                     Month    0.006045\n",
       "105               furnished    0.005375\n",
       "6                  room_num    0.004981\n",
       "210                    unit    0.004646\n",
       "204                 terrace    0.004621\n",
       "219                     war    0.004566\n",
       "..                      ...         ...\n",
       "123                intercom    0.000000\n",
       "131                  living    0.000000\n",
       "132                   lndry    0.000000\n",
       "139                  marble    0.000000\n",
       "138                  luxury    0.000000\n",
       "133                   lobby    0.000000\n",
       "103                      ft    0.000000\n",
       "158                playroom    0.000000\n",
       "179                   share    0.000000\n",
       "99                    floor    0.000000\n",
       "178                services    0.000000\n",
       "177                 service    0.000000\n",
       "176                   sauna    0.000000\n",
       "70                   closet    0.000000\n",
       "174                 rooftop    0.000000\n",
       "71                  closets    0.000000\n",
       "72                     club    0.000000\n",
       "171                    rise    0.000000\n",
       "75             conditioning    0.000000\n",
       "169                    rent    0.000000\n",
       "77                courtyard    0.000000\n",
       "79               decorative    0.000000\n",
       "80                  details    0.000000\n",
       "85                      dry    0.000000\n",
       "89                     elev    0.000000\n",
       "91            entertainment    0.000000\n",
       "94               facilities    0.000000\n",
       "98                     flex    0.000000\n",
       "160                    post    0.000000\n",
       "113                  health    0.000000\n",
       "\n",
       "[226 rows x 2 columns]"
      ]
     },
     "execution_count": 13,
     "metadata": {},
     "output_type": "execute_result"
    }
   ],
   "source": [
    "#查看特征重要性\n",
    "df = pd.DataFrame({\"columns\":list(X_train.columns), \n",
    "                   \"importance\":list(model_tree.feature_importances_.T)})\n",
    "df.sort_values(by=['importance'],ascending=False)"
   ]
  },
  {
   "cell_type": "markdown",
   "metadata": {},
   "source": [
    "有好多的特征都起到作用了,估计树的深度较深"
   ]
  },
  {
   "cell_type": "markdown",
   "metadata": {},
   "source": [
    "调节参数试试"
   ]
  },
  {
   "cell_type": "code",
   "execution_count": 14,
   "metadata": {
    "ExecuteTime": {
     "end_time": "2018-02-22T06:51:23.553000Z",
     "start_time": "2018-02-22T06:51:23.547000Z"
    }
   },
   "outputs": [
    {
     "data": {
      "text/plain": [
       "{'max_depth': range(1, 10), 'min_samples_leaf': range(1, 10, 2)}"
      ]
     },
     "execution_count": 14,
     "metadata": {},
     "output_type": "execute_result"
    }
   ],
   "source": [
    "from sklearn.tree import DecisionTreeClassifier\n",
    "\n",
    "model_DD = DecisionTreeClassifier()\n",
    "\n",
    "max_depth = range(1,10,1)\n",
    "min_samples_leaf = range(1,10,2)\n",
    "\n",
    "tuned_parameters = dict(max_depth=max_depth, min_samples_leaf=min_samples_leaf)\n",
    "tuned_parameters"
   ]
  },
  {
   "cell_type": "code",
   "execution_count": 17,
   "metadata": {
    "ExecuteTime": {
     "end_time": "2018-02-22T06:54:50.124000Z",
     "start_time": "2018-02-22T06:51:23.555000Z"
    }
   },
   "outputs": [
    {
     "data": {
      "text/plain": [
       "GridSearchCV(cv=5, error_score='raise',\n",
       "       estimator=DecisionTreeClassifier(class_weight=None, criterion='gini', max_depth=None,\n",
       "            max_features=None, max_leaf_nodes=None,\n",
       "            min_impurity_decrease=0.0, min_impurity_split=None,\n",
       "            min_samples_leaf=1, min_samples_split=2,\n",
       "            min_weight_fraction_leaf=0.0, presort=False, random_state=None,\n",
       "            splitter='best'),\n",
       "       fit_params=None, iid=True, n_jobs=-1,\n",
       "       param_grid={'max_depth': range(1, 10), 'min_samples_leaf': range(1, 10, 2)},\n",
       "       pre_dispatch='2*n_jobs', refit=True, return_train_score=True,\n",
       "       scoring=None, verbose=0)"
      ]
     },
     "execution_count": 17,
     "metadata": {},
     "output_type": "execute_result"
    }
   ],
   "source": [
    "from sklearn.model_selection import GridSearchCV\n",
    "DD = GridSearchCV(model_DD, tuned_parameters, \n",
    "                  cv=5, \n",
    "                  n_jobs=-1, \n",
    "                  return_train_score=True)\n",
    "DD.fit(X_train, y_train)"
   ]
  },
  {
   "cell_type": "code",
   "execution_count": 18,
   "metadata": {
    "ExecuteTime": {
     "end_time": "2018-02-22T06:54:50.130000Z",
     "start_time": "2018-02-22T06:54:50.126000Z"
    }
   },
   "outputs": [
    {
     "name": "stdout",
     "output_type": "stream",
     "text": [
      "Best: 0.711076 using {'max_depth': 8, 'min_samples_leaf': 9}\n"
     ]
    }
   ],
   "source": [
    "print(\"Best: %f using %s\" % (DD.best_score_, DD.best_params_))"
   ]
  },
  {
   "cell_type": "code",
   "execution_count": 19,
   "metadata": {
    "ExecuteTime": {
     "end_time": "2018-02-22T06:54:50.179000Z",
     "start_time": "2018-02-22T06:54:50.132000Z"
    }
   },
   "outputs": [
    {
     "data": {
      "text/plain": [
       "0.6533279303008813"
      ]
     },
     "execution_count": 19,
     "metadata": {},
     "output_type": "execute_result"
    }
   ],
   "source": [
    "y_pd = DD.predict(X_test)\n",
    "model_tree.score(X_test, y_test)"
   ]
  },
  {
   "cell_type": "code",
   "execution_count": 20,
   "metadata": {
    "ExecuteTime": {
     "end_time": "2018-02-22T06:54:50.189000Z",
     "start_time": "2018-02-22T06:54:50.180000Z"
    }
   },
   "outputs": [
    {
     "name": "stdout",
     "output_type": "stream",
     "text": [
      "             precision    recall  f1-score   support\n",
      "\n",
      "          0       0.50      0.16      0.24       768\n",
      "          1       0.43      0.24      0.30      2246\n",
      "          2       0.76      0.93      0.84      6857\n",
      "\n",
      "avg / total       0.66      0.71      0.67      9871\n",
      "\n"
     ]
    }
   ],
   "source": [
    "from sklearn import metrics\n",
    "print(metrics.classification_report(y_test, y_pd))"
   ]
  },
  {
   "cell_type": "markdown",
   "metadata": {},
   "source": [
    "## RandomForest"
   ]
  },
  {
   "cell_type": "code",
   "execution_count": 21,
   "metadata": {
    "ExecuteTime": {
     "end_time": "2018-02-22T06:54:50.262000Z",
     "start_time": "2018-02-22T06:54:50.193000Z"
    }
   },
   "outputs": [],
   "source": [
    "from sklearn.ensemble import RandomForestClassifier\n",
    "\n",
    "model_RR=RandomForestClassifier()"
   ]
  },
  {
   "cell_type": "code",
   "execution_count": 22,
   "metadata": {
    "ExecuteTime": {
     "end_time": "2018-02-22T06:54:51.355000Z",
     "start_time": "2018-02-22T06:54:50.264000Z"
    }
   },
   "outputs": [
    {
     "data": {
      "text/plain": [
       "RandomForestClassifier(bootstrap=True, class_weight=None, criterion='gini',\n",
       "            max_depth=None, max_features='auto', max_leaf_nodes=None,\n",
       "            min_impurity_decrease=0.0, min_impurity_split=None,\n",
       "            min_samples_leaf=1, min_samples_split=2,\n",
       "            min_weight_fraction_leaf=0.0, n_estimators=10, n_jobs=1,\n",
       "            oob_score=False, random_state=None, verbose=0,\n",
       "            warm_start=False)"
      ]
     },
     "execution_count": 22,
     "metadata": {},
     "output_type": "execute_result"
    }
   ],
   "source": [
    "model_RR.fit(X_train,y_train)"
   ]
  },
  {
   "cell_type": "code",
   "execution_count": 23,
   "metadata": {
    "ExecuteTime": {
     "end_time": "2018-02-22T06:54:51.479000Z",
     "start_time": "2018-02-22T06:54:51.357000Z"
    }
   },
   "outputs": [
    {
     "data": {
      "text/plain": [
       "0.7096545436126026"
      ]
     },
     "execution_count": 23,
     "metadata": {},
     "output_type": "execute_result"
    }
   ],
   "source": [
    "y_pred = model_RR.predict(X_test)\n",
    "model_RR.score(X_test, y_test)"
   ]
  },
  {
   "cell_type": "code",
   "execution_count": 24,
   "metadata": {
    "ExecuteTime": {
     "end_time": "2018-02-22T06:54:51.493000Z",
     "start_time": "2018-02-22T06:54:51.483000Z"
    }
   },
   "outputs": [
    {
     "name": "stdout",
     "output_type": "stream",
     "text": [
      "             precision    recall  f1-score   support\n",
      "\n",
      "          0       0.49      0.26      0.34       768\n",
      "          1       0.42      0.33      0.37      2246\n",
      "          2       0.79      0.89      0.83      6857\n",
      "\n",
      "avg / total       0.68      0.71      0.69      9871\n",
      "\n"
     ]
    }
   ],
   "source": [
    "from sklearn import metrics\n",
    "print(metrics.classification_report(y_test, y_pred))"
   ]
  },
  {
   "cell_type": "markdown",
   "metadata": {},
   "source": [
    "随机森林的得分也是0.709,高了不少nice"
   ]
  },
  {
   "cell_type": "markdown",
   "metadata": {},
   "source": [
    "试试调参, min_samples_leaf and n_estimators"
   ]
  },
  {
   "cell_type": "code",
   "execution_count": 25,
   "metadata": {
    "ExecuteTime": {
     "end_time": "2018-02-22T06:54:51.502000Z",
     "start_time": "2018-02-22T06:54:51.495000Z"
    }
   },
   "outputs": [],
   "source": [
    "from sklearn.ensemble import RandomForestClassifier\n",
    "\n",
    "model_RR=RandomForestClassifier()\n",
    "\n",
    "tuned_parameters = {'min_samples_leaf': range(1,10,2), 'n_estimators' : range(1,10,2) }\n",
    "#tuned_parameters = {'min_samples_leaf': range(9,19,2), 'n_estimators' : range(6,10,1) }"
   ]
  },
  {
   "cell_type": "code",
   "execution_count": 26,
   "metadata": {
    "ExecuteTime": {
     "end_time": "2018-02-22T06:54:51.508000Z",
     "start_time": "2018-02-22T06:54:51.504000Z"
    }
   },
   "outputs": [],
   "source": [
    "from sklearn.model_selection import GridSearchCV\n",
    "RR = GridSearchCV(model_RR, tuned_parameters,\n",
    "                  cv=5, \n",
    "                  n_jobs=-1, \n",
    "                  return_train_score=True)"
   ]
  },
  {
   "cell_type": "code",
   "execution_count": 27,
   "metadata": {
    "ExecuteTime": {
     "end_time": "2018-02-22T06:57:08.245000Z",
     "start_time": "2018-02-22T06:54:51.510000Z"
    }
   },
   "outputs": [
    {
     "data": {
      "text/plain": [
       "GridSearchCV(cv=5, error_score='raise',\n",
       "       estimator=RandomForestClassifier(bootstrap=True, class_weight=None, criterion='gini',\n",
       "            max_depth=None, max_features='auto', max_leaf_nodes=None,\n",
       "            min_impurity_decrease=0.0, min_impurity_split=None,\n",
       "            min_samples_leaf=1, min_samples_split=2,\n",
       "            min_weight_fraction_leaf=0.0, n_estimators=10, n_jobs=1,\n",
       "            oob_score=False, random_state=None, verbose=0,\n",
       "            warm_start=False),\n",
       "       fit_params=None, iid=True, n_jobs=-1,\n",
       "       param_grid={'min_samples_leaf': range(1, 10, 2), 'n_estimators': range(1, 10, 2)},\n",
       "       pre_dispatch='2*n_jobs', refit=True, return_train_score=True,\n",
       "       scoring=None, verbose=0)"
      ]
     },
     "execution_count": 27,
     "metadata": {},
     "output_type": "execute_result"
    }
   ],
   "source": [
    "RR.fit(X_train,y_train)"
   ]
  },
  {
   "cell_type": "code",
   "execution_count": 29,
   "metadata": {
    "ExecuteTime": {
     "end_time": "2018-02-22T06:57:08.260000Z",
     "start_time": "2018-02-22T06:57:08.249000Z"
    },
    "scrolled": true
   },
   "outputs": [
    {
     "data": {
      "text/plain": [
       "{'mean_fit_time': array([0.17945409, 0.44519176, 0.70838866, 0.91817985, 1.14517803,\n",
       "        0.24151549, 0.36334443, 0.58671727, 0.78149467, 0.96275296,\n",
       "        0.23484254, 0.34213233, 0.51997175, 0.72399688, 0.88655272,\n",
       "        0.22522378, 0.30472035, 0.50820651, 0.68029556, 0.83602123,\n",
       "        0.22364526, 0.30745034, 0.48623242, 0.63654485, 0.76003809]),\n",
       " 'std_fit_time': array([0.01793578, 0.05140506, 0.01792125, 0.02079121, 0.02521184,\n",
       "        0.04406023, 0.02704062, 0.02586538, 0.02139807, 0.02150381,\n",
       "        0.0463596 , 0.04039406, 0.00795782, 0.06065839, 0.06833171,\n",
       "        0.0341025 , 0.03516639, 0.02834085, 0.0153527 , 0.04429091,\n",
       "        0.02931851, 0.02556937, 0.03497612, 0.04183606, 0.08529855]),\n",
       " 'mean_score_time': array([0.01720328, 0.0249269 , 0.03286037, 0.04248724, 0.04785743,\n",
       "        0.01736727, 0.02187343, 0.03178134, 0.03619418, 0.04054017,\n",
       "        0.0153903 , 0.02179384, 0.03655071, 0.04295592, 0.03904266,\n",
       "        0.01561389, 0.02026825, 0.03011942, 0.03515377, 0.03609748,\n",
       "        0.01644454, 0.020681  , 0.02508049, 0.03338809, 0.03198619]),\n",
       " 'std_score_time': array([0.0008454 , 0.00141176, 0.00140276, 0.00878167, 0.00163222,\n",
       "        0.00191036, 0.00048619, 0.00285619, 0.0042497 , 0.00269096,\n",
       "        0.00174661, 0.00320604, 0.01617559, 0.01567943, 0.00540747,\n",
       "        0.00310966, 0.00100197, 0.0091923 , 0.0041487 , 0.00263847,\n",
       "        0.00048668, 0.00068624, 0.00195549, 0.00452669, 0.01085348]),\n",
       " 'param_min_samples_leaf': masked_array(data=[1, 1, 1, 1, 1, 3, 3, 3, 3, 3, 5, 5, 5, 5, 5, 7, 7, 7,\n",
       "                    7, 7, 9, 9, 9, 9, 9],\n",
       "              mask=[False, False, False, False, False, False, False, False,\n",
       "                    False, False, False, False, False, False, False, False,\n",
       "                    False, False, False, False, False, False, False, False,\n",
       "                    False],\n",
       "        fill_value='?',\n",
       "             dtype=object),\n",
       " 'param_n_estimators': masked_array(data=[1, 3, 5, 7, 9, 1, 3, 5, 7, 9, 1, 3, 5, 7, 9, 1, 3, 5,\n",
       "                    7, 9, 1, 3, 5, 7, 9],\n",
       "              mask=[False, False, False, False, False, False, False, False,\n",
       "                    False, False, False, False, False, False, False, False,\n",
       "                    False, False, False, False, False, False, False, False,\n",
       "                    False],\n",
       "        fill_value='?',\n",
       "             dtype=object),\n",
       " 'params': [{'min_samples_leaf': 1, 'n_estimators': 1},\n",
       "  {'min_samples_leaf': 1, 'n_estimators': 3},\n",
       "  {'min_samples_leaf': 1, 'n_estimators': 5},\n",
       "  {'min_samples_leaf': 1, 'n_estimators': 7},\n",
       "  {'min_samples_leaf': 1, 'n_estimators': 9},\n",
       "  {'min_samples_leaf': 3, 'n_estimators': 1},\n",
       "  {'min_samples_leaf': 3, 'n_estimators': 3},\n",
       "  {'min_samples_leaf': 3, 'n_estimators': 5},\n",
       "  {'min_samples_leaf': 3, 'n_estimators': 7},\n",
       "  {'min_samples_leaf': 3, 'n_estimators': 9},\n",
       "  {'min_samples_leaf': 5, 'n_estimators': 1},\n",
       "  {'min_samples_leaf': 5, 'n_estimators': 3},\n",
       "  {'min_samples_leaf': 5, 'n_estimators': 5},\n",
       "  {'min_samples_leaf': 5, 'n_estimators': 7},\n",
       "  {'min_samples_leaf': 5, 'n_estimators': 9},\n",
       "  {'min_samples_leaf': 7, 'n_estimators': 1},\n",
       "  {'min_samples_leaf': 7, 'n_estimators': 3},\n",
       "  {'min_samples_leaf': 7, 'n_estimators': 5},\n",
       "  {'min_samples_leaf': 7, 'n_estimators': 7},\n",
       "  {'min_samples_leaf': 7, 'n_estimators': 9},\n",
       "  {'min_samples_leaf': 9, 'n_estimators': 1},\n",
       "  {'min_samples_leaf': 9, 'n_estimators': 3},\n",
       "  {'min_samples_leaf': 9, 'n_estimators': 5},\n",
       "  {'min_samples_leaf': 9, 'n_estimators': 7},\n",
       "  {'min_samples_leaf': 9, 'n_estimators': 9}],\n",
       " 'split0_test_score': array([0.63522411, 0.66067359, 0.68511015, 0.70093695, 0.70296278,\n",
       "        0.65801469, 0.69840466, 0.71372499, 0.71385161, 0.72030894,\n",
       "        0.65890099, 0.71258546, 0.71347177, 0.71790327, 0.71689035,\n",
       "        0.67548747, 0.70638136, 0.71385161, 0.71144594, 0.71765004,\n",
       "        0.67232211, 0.70663459, 0.71613067, 0.71334515, 0.71131932]),\n",
       " 'split1_test_score': array([0.631379  , 0.6601241 , 0.68962897, 0.69760669, 0.71622135,\n",
       "        0.65569203, 0.70279853, 0.71178929, 0.71710776, 0.72356591,\n",
       "        0.67126757, 0.71368874, 0.71571483, 0.71989363, 0.72495885,\n",
       "        0.67215398, 0.71406863, 0.71609472, 0.71723439, 0.72002026,\n",
       "        0.68291756, 0.70773712, 0.71242244, 0.71964037, 0.72166646]),\n",
       " 'split2_test_score': array([0.63145897, 0.66502026, 0.68452381, 0.69680851, 0.69630193,\n",
       "        0.63386525, 0.69807497, 0.70744681, 0.71149949, 0.71200608,\n",
       "        0.65691489, 0.70643364, 0.70833333, 0.71415907, 0.71238602,\n",
       "        0.67375887, 0.70200101, 0.71251266, 0.71352584, 0.71327254,\n",
       "        0.6776849 , 0.70668693, 0.70554711, 0.71200608, 0.71149949]),\n",
       " 'split3_test_score': array([0.63090564, 0.66041799, 0.68815706, 0.70436985, 0.70436985,\n",
       "        0.64458518, 0.69157695, 0.70854972, 0.71386954, 0.72260925,\n",
       "        0.65560481, 0.70310323, 0.71082964, 0.71412286, 0.71209626,\n",
       "        0.67663078, 0.70930969, 0.71576947, 0.71842939, 0.71462951,\n",
       "        0.68271058, 0.7048765 , 0.7119696 , 0.71462951, 0.71627612]),\n",
       " 'split4_test_score': array([0.63027232, 0.66776441, 0.68321723, 0.69791007, 0.71019633,\n",
       "        0.65661811, 0.69588347, 0.71247625, 0.71880937, 0.71779607,\n",
       "        0.65953135, 0.70246992, 0.70956301, 0.70804307, 0.71614946,\n",
       "        0.67498417, 0.70360988, 0.71386954, 0.71488284, 0.71513616,\n",
       "        0.67701077, 0.7079164 , 0.71424953, 0.72020266, 0.71918936]),\n",
       " 'mean_test_score': array([0.63184823, 0.66279983, 0.6861275 , 0.69952635, 0.70601049,\n",
       "        0.64975558, 0.69734809, 0.7107976 , 0.71502748, 0.71925736,\n",
       "        0.66044426, 0.70765685, 0.71158279, 0.71482485, 0.71649654,\n",
       "        0.67460297, 0.70707429, 0.71441959, 0.71510347, 0.71614194,\n",
       "        0.67852891, 0.70677035, 0.71206403, 0.71596464, 0.71598997]),\n",
       " 'std_test_score': array([0.00174025, 0.00306359, 0.0023856 , 0.0027975 , 0.00675317,\n",
       "        0.00927131, 0.00365516, 0.00239384, 0.00259994, 0.00413811,\n",
       "        0.00559007, 0.00468642, 0.00267766, 0.00405205, 0.00465078,\n",
       "        0.00153296, 0.00429279, 0.0013334 , 0.00251076, 0.00240206,\n",
       "        0.00395717, 0.00108254, 0.00357557, 0.00334023, 0.00411159]),\n",
       " 'rank_test_score': array([25, 22, 19, 17, 16, 24, 18, 12,  7,  1, 23, 13, 11,  8,  2, 21, 14,\n",
       "         9,  6,  3, 20, 15, 10,  5,  4], dtype=int32),\n",
       " 'split0_train_score': array([0.86236266, 0.9340468 , 0.96358801, 0.98030586, 0.98581515,\n",
       "        0.7465092 , 0.79849919, 0.82069468, 0.83497451, 0.83111167,\n",
       "        0.72336383, 0.77684197, 0.77810848, 0.78279454, 0.78583415,\n",
       "        0.7236488 , 0.75170186, 0.761074  , 0.76249881, 0.76569674,\n",
       "        0.71475161, 0.74837729, 0.75265174, 0.75049869, 0.75011873]),\n",
       " 'split1_train_score': array([0.86157548, 0.9339539 , 0.96590046, 0.98084473, 0.9860689 ,\n",
       "        0.74116641, 0.80642097, 0.82158688, 0.82598784, 0.82766591,\n",
       "        0.72862842, 0.77349291, 0.7831497 , 0.78698075, 0.78679078,\n",
       "        0.72207447, 0.75275456, 0.7595618 , 0.76209473, 0.76370947,\n",
       "        0.71447568, 0.74544073, 0.74892351, 0.7516464 , 0.75199468]),\n",
       " 'split2_train_score': array([0.86544246, 0.9354757 , 0.96545829, 0.97945227, 0.98774735,\n",
       "        0.73506411, 0.80756688, 0.82162419, 0.83242045, 0.83219883,\n",
       "        0.72958683, 0.7683394 , 0.78540446, 0.79047016, 0.78844388,\n",
       "        0.72243153, 0.75440874, 0.76235555, 0.7648884 , 0.76602818,\n",
       "        0.71603609, 0.75098939, 0.74883647, 0.75665664, 0.75228748]),\n",
       " 'split3_train_score': array([0.86740961, 0.93531945, 0.96441461, 0.98056101, 0.98692459,\n",
       "        0.73500918, 0.81070728, 0.82422592, 0.82644209, 0.83514848,\n",
       "        0.72012917, 0.76948648, 0.78009245, 0.7817704 , 0.78943203,\n",
       "        0.72275692, 0.75694928, 0.76527576, 0.76527576, 0.76419933,\n",
       "        0.71784968, 0.74270246, 0.75055404, 0.75125055, 0.75571456]),\n",
       " 'split4_train_score': array([0.86680808, 0.93636421, 0.96675742, 0.97910467, 0.98534161,\n",
       "        0.74324068, 0.80250744, 0.82273792, 0.83122269, 0.83806117,\n",
       "        0.72225036, 0.77328563, 0.7824036 , 0.78360666, 0.78911543,\n",
       "        0.72183879, 0.75612613, 0.76106503, 0.76185652, 0.76831508,\n",
       "        0.71781802, 0.74403217, 0.75229532, 0.7568543 , 0.75789907]),\n",
       " 'mean_train_score': array([0.86471966, 0.93503201, 0.96522376, 0.98005371, 0.98637952,\n",
       "        0.74019792, 0.80514035, 0.82217392, 0.83020952, 0.83283721,\n",
       "        0.72479172, 0.77228928, 0.78183174, 0.7851245 , 0.78792325,\n",
       "        0.7225501 , 0.75438812, 0.76186643, 0.76332284, 0.76558976,\n",
       "        0.71618622, 0.74630841, 0.75065222, 0.75338132, 0.7536029 ]),\n",
       " 'std_train_score': array([0.00234781, 0.00091512, 0.00111314, 0.00066469, 0.00085561,\n",
       "        0.00454549, 0.00423216, 0.00121357, 0.00348241, 0.00354285,\n",
       "        0.00368646, 0.00305371, 0.00251858, 0.00319388, 0.00138676,\n",
       "        0.00063185, 0.00197308, 0.00192064, 0.00145617, 0.00161863,\n",
       "        0.00144475, 0.00300429, 0.00161201, 0.00278025, 0.00280615])}"
      ]
     },
     "execution_count": 29,
     "metadata": {},
     "output_type": "execute_result"
    }
   ],
   "source": [
    "RR.cv_results_"
   ]
  },
  {
   "cell_type": "code",
   "execution_count": 30,
   "metadata": {
    "ExecuteTime": {
     "end_time": "2018-02-22T06:57:08.271000Z",
     "start_time": "2018-02-22T06:57:08.265000Z"
    }
   },
   "outputs": [
    {
     "name": "stdout",
     "output_type": "stream",
     "text": [
      "0.7192573643018161\n",
      "{'min_samples_leaf': 3, 'n_estimators': 9}\n"
     ]
    }
   ],
   "source": [
    "print(RR.best_score_)\n",
    "print(RR.best_params_)"
   ]
  },
  {
   "cell_type": "code",
   "execution_count": 31,
   "metadata": {
    "ExecuteTime": {
     "end_time": "2018-02-22T06:57:08.360000Z",
     "start_time": "2018-02-22T06:57:08.274000Z"
    }
   },
   "outputs": [
    {
     "data": {
      "text/plain": [
       "0.7215074460540979"
      ]
     },
     "execution_count": 31,
     "metadata": {},
     "output_type": "execute_result"
    }
   ],
   "source": [
    "y_pred = RR.predict(X_test)\n",
    "RR.score(X_test, y_test)"
   ]
  },
  {
   "cell_type": "code",
   "execution_count": 32,
   "metadata": {
    "ExecuteTime": {
     "end_time": "2018-02-22T06:57:08.370000Z",
     "start_time": "2018-02-22T06:57:08.362000Z"
    }
   },
   "outputs": [
    {
     "name": "stdout",
     "output_type": "stream",
     "text": [
      "             precision    recall  f1-score   support\n",
      "\n",
      "          0       0.59      0.17      0.26       768\n",
      "          1       0.46      0.23      0.31      2246\n",
      "          2       0.76      0.94      0.84      6857\n",
      "\n",
      "avg / total       0.68      0.72      0.67      9871\n",
      "\n"
     ]
    }
   ],
   "source": [
    "from sklearn import metrics\n",
    "print(metrics.classification_report(y_test, y_pred))"
   ]
  },
  {
   "cell_type": "markdown",
   "metadata": {
    "ExecuteTime": {
     "end_time": "2018-02-16T08:34:41.423531Z",
     "start_time": "2018-02-16T08:34:41.404018Z"
    }
   },
   "source": [
    "调参后得分也是0.72, min_samples_leaf=3, n_estimators=9"
   ]
  },
  {
   "cell_type": "markdown",
   "metadata": {},
   "source": [
    "# 预测保存"
   ]
  },
  {
   "cell_type": "code",
   "execution_count": 33,
   "metadata": {
    "ExecuteTime": {
     "end_time": "2018-02-22T06:57:08.683000Z",
     "start_time": "2018-02-22T06:57:08.372000Z"
    }
   },
   "outputs": [],
   "source": [
    "# 选用调参后的随机森林模型生成数据 \n",
    "y_ptrdict = RR.predict(test)"
   ]
  },
  {
   "cell_type": "code",
   "execution_count": 34,
   "metadata": {
    "ExecuteTime": {
     "end_time": "2018-02-22T06:57:08.695000Z",
     "start_time": "2018-02-22T06:57:08.686000Z"
    }
   },
   "outputs": [],
   "source": [
    "submission = test.loc[:,['Year','Month', 'Day', 'Wday', 'Yday', 'hour']]\n",
    "#submission"
   ]
  },
  {
   "cell_type": "code",
   "execution_count": 36,
   "metadata": {
    "ExecuteTime": {
     "end_time": "2018-02-22T06:57:08.717000Z",
     "start_time": "2018-02-22T06:57:08.699000Z"
    }
   },
   "outputs": [
    {
     "name": "stdout",
     "output_type": "stream",
     "text": [
      "<class 'pandas.core.frame.DataFrame'>\n",
      "RangeIndex: 74659 entries, 0 to 74658\n",
      "Data columns (total 7 columns):\n",
      "Year              74659 non-null int64\n",
      "Month             74659 non-null int64\n",
      "Day               74659 non-null int64\n",
      "Wday              74659 non-null int64\n",
      "Yday              74659 non-null int64\n",
      "hour              74659 non-null int64\n",
      "interest_level    74659 non-null int64\n",
      "dtypes: int64(7)\n",
      "memory usage: 4.0 MB\n"
     ]
    }
   ],
   "source": [
    "submission['interest_level']= y_ptrdict\n",
    "submission.info()"
   ]
  },
  {
   "cell_type": "code",
   "execution_count": 38,
   "metadata": {
    "ExecuteTime": {
     "end_time": "2018-02-22T06:57:09.056000Z",
     "start_time": "2018-02-22T06:57:08.718000Z"
    }
   },
   "outputs": [],
   "source": [
    "submission.to_csv(dpath+'submission_crat.csv')"
   ]
  },
  {
   "cell_type": "code",
   "execution_count": null,
   "metadata": {
    "collapsed": true
   },
   "outputs": [],
   "source": []
  }
 ],
 "metadata": {
  "kernelspec": {
   "display_name": "Python 3",
   "language": "python",
   "name": "python3"
  },
  "language_info": {
   "codemirror_mode": {
    "name": "ipython",
    "version": 3
   },
   "file_extension": ".py",
   "mimetype": "text/x-python",
   "name": "python",
   "nbconvert_exporter": "python",
   "pygments_lexer": "ipython3",
   "version": "3.6.5"
  },
  "toc": {
   "nav_menu": {},
   "number_sections": true,
   "sideBar": true,
   "skip_h1_title": false,
   "title_cell": "Table of Contents",
   "title_sidebar": "Contents",
   "toc_cell": true,
   "toc_position": {
    "height": "calc(100% - 180px)",
    "left": "10px",
    "top": "150px",
    "width": "246px"
   },
   "toc_section_display": true,
   "toc_window_display": true
  }
 },
 "nbformat": 4,
 "nbformat_minor": 2
}
