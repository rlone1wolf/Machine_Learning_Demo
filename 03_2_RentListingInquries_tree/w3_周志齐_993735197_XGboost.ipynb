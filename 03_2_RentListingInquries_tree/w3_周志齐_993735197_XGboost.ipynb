{
 "cells": [
  {
   "cell_type": "markdown",
   "metadata": {
    "toc": true
   },
   "source": [
    "<h1>Table of Contents<span class=\"tocSkip\"></span></h1>\n",
    "<div class=\"toc\"><ul class=\"toc-item\"><li><span><a href=\"#XGboost调参\" data-toc-modified-id=\"XGboost调参-1\"><span class=\"toc-item-num\">1&nbsp;&nbsp;</span>XGboost调参</a></span></li><li><span><a href=\"#导入工具包\" data-toc-modified-id=\"导入工具包-2\"><span class=\"toc-item-num\">2&nbsp;&nbsp;</span>导入工具包</a></span></li><li><span><a href=\"#读取数据\" data-toc-modified-id=\"读取数据-3\"><span class=\"toc-item-num\">3&nbsp;&nbsp;</span>读取数据</a></span></li><li><span><a href=\"#分割数据\" data-toc-modified-id=\"分割数据-4\"><span class=\"toc-item-num\">4&nbsp;&nbsp;</span>分割数据</a></span><ul class=\"toc-item\"><li><span><a href=\"#数据量太大,分割数据\" data-toc-modified-id=\"数据量太大,分割数据-4.1\"><span class=\"toc-item-num\">4.1&nbsp;&nbsp;</span>数据量太大,分割数据</a></span></li></ul></li><li><span><a href=\"#XGboost调参\" data-toc-modified-id=\"XGboost调参-5\"><span class=\"toc-item-num\">5&nbsp;&nbsp;</span>XGboost调参</a></span><ul class=\"toc-item\"><li><span><a href=\"#初步确定n_estimators\" data-toc-modified-id=\"初步确定n_estimators-5.1\"><span class=\"toc-item-num\">5.1&nbsp;&nbsp;</span>初步确定n_estimators</a></span></li><li><span><a href=\"#初步确定'max_depth'-and-'min_child_weight'\" data-toc-modified-id=\"初步确定'max_depth'-and-'min_child_weight'-5.2\"><span class=\"toc-item-num\">5.2&nbsp;&nbsp;</span>初步确定'max_depth' and 'min_child_weight'</a></span></li><li><span><a href=\"#再次确定'max_depth'-and-'min_child_weight'\" data-toc-modified-id=\"再次确定'max_depth'-and-'min_child_weight'-5.3\"><span class=\"toc-item-num\">5.3&nbsp;&nbsp;</span>再次确定'max_depth' and 'min_child_weight'</a></span></li><li><span><a href=\"#再次确定n_estimators\" data-toc-modified-id=\"再次确定n_estimators-5.4\"><span class=\"toc-item-num\">5.4&nbsp;&nbsp;</span>再次确定n_estimators</a></span></li><li><span><a href=\"#行列采样\" data-toc-modified-id=\"行列采样-5.5\"><span class=\"toc-item-num\">5.5&nbsp;&nbsp;</span>行列采样</a></span></li><li><span><a href=\"#初步设置正则参数\" data-toc-modified-id=\"初步设置正则参数-5.6\"><span class=\"toc-item-num\">5.6&nbsp;&nbsp;</span>初步设置正则参数</a></span></li><li><span><a href=\"#最终参数\" data-toc-modified-id=\"最终参数-5.7\"><span class=\"toc-item-num\">5.7&nbsp;&nbsp;</span>最终参数</a></span></li></ul></li><li><span><a href=\"#预测保存\" data-toc-modified-id=\"预测保存-6\"><span class=\"toc-item-num\">6&nbsp;&nbsp;</span>预测保存</a></span></li></ul></div>"
   ]
  },
  {
   "cell_type": "markdown",
   "metadata": {},
   "source": [
    "# XGboost调参"
   ]
  },
  {
   "cell_type": "markdown",
   "metadata": {
    "collapsed": true
   },
   "source": [
    "gbtree参数:\n",
    "    \n",
    "    learning_rate=0.1\n",
    "    n_estimators=1000  (xboost.cv更快)  (复杂度)\n",
    "    \n",
    "    max_depth=range(3,10,2)\n",
    "    min_child_weight=range(1,6,2)   (复杂度)\n",
    "    \n",
    "    reg_alpha=[0.1,1]\n",
    "    reg_lambda=[0.5,1,2]  (正则参数)\n",
    "\n",
    "    subsample=1\n",
    "    colsample_bytree=np.range(0.3,0.7,0.1)\n",
    "    colsample_bylevel=np.range(0.3,0.7,0.1) (推广性)\n",
    "    \n",
    "固定参数:\n",
    "    \n",
    "    objective=multi:softprob\n",
    "    eval_metric=mlogloss\n",
    "    seed=33\n",
    "    \n",
    "    booster=gbtree\n",
    "    silent=1\n",
    "    nthread=-1\n",
    "    "
   ]
  },
  {
   "cell_type": "markdown",
   "metadata": {},
   "source": [
    "# 导入工具包"
   ]
  },
  {
   "cell_type": "code",
   "execution_count": 2,
   "metadata": {
    "ExecuteTime": {
     "end_time": "2018-02-22T07:13:21.600000Z",
     "start_time": "2018-02-22T07:13:21.584000Z"
    }
   },
   "outputs": [],
   "source": [
    "from xgboost import XGBClassifier\n",
    "import xgboost as xgb\n",
    "\n",
    "from sklearn.model_selection import GridSearchCV\n",
    "from sklearn.model_selection import StratifiedKFold\n",
    "\n",
    "from sklearn.metrics import log_loss\n",
    "# 数据导入与处理\n",
    "import numpy as np\n",
    "import pandas as pd\n",
    "# 数据可视化\n",
    "import matplotlib.pyplot as plt\n",
    "import seaborn as sns\n"
   ]
  },
  {
   "cell_type": "markdown",
   "metadata": {},
   "source": [
    "# 读取数据"
   ]
  },
  {
   "cell_type": "code",
   "execution_count": 3,
   "metadata": {
    "ExecuteTime": {
     "end_time": "2018-02-22T07:13:22.580000Z",
     "start_time": "2018-02-22T07:13:21.603000Z"
    }
   },
   "outputs": [
    {
     "data": {
      "text/html": [
       "<div>\n",
       "<style scoped>\n",
       "    .dataframe tbody tr th:only-of-type {\n",
       "        vertical-align: middle;\n",
       "    }\n",
       "\n",
       "    .dataframe tbody tr th {\n",
       "        vertical-align: top;\n",
       "    }\n",
       "\n",
       "    .dataframe thead th {\n",
       "        text-align: right;\n",
       "    }\n",
       "</style>\n",
       "<table border=\"1\" class=\"dataframe\">\n",
       "  <thead>\n",
       "    <tr style=\"text-align: right;\">\n",
       "      <th></th>\n",
       "      <th>bathrooms</th>\n",
       "      <th>bedrooms</th>\n",
       "      <th>price</th>\n",
       "      <th>price_bathrooms</th>\n",
       "      <th>price_bedrooms</th>\n",
       "      <th>room_diff</th>\n",
       "      <th>room_num</th>\n",
       "      <th>Year</th>\n",
       "      <th>Month</th>\n",
       "      <th>Day</th>\n",
       "      <th>...</th>\n",
       "      <th>walk</th>\n",
       "      <th>walls</th>\n",
       "      <th>war</th>\n",
       "      <th>washer</th>\n",
       "      <th>water</th>\n",
       "      <th>wheelchair</th>\n",
       "      <th>wifi</th>\n",
       "      <th>windows</th>\n",
       "      <th>work</th>\n",
       "      <th>interest_level</th>\n",
       "    </tr>\n",
       "  </thead>\n",
       "  <tbody>\n",
       "    <tr>\n",
       "      <th>0</th>\n",
       "      <td>1.5</td>\n",
       "      <td>3</td>\n",
       "      <td>3000</td>\n",
       "      <td>1200.0</td>\n",
       "      <td>750.000000</td>\n",
       "      <td>-1.5</td>\n",
       "      <td>4.5</td>\n",
       "      <td>2016</td>\n",
       "      <td>6</td>\n",
       "      <td>24</td>\n",
       "      <td>...</td>\n",
       "      <td>0</td>\n",
       "      <td>0</td>\n",
       "      <td>0</td>\n",
       "      <td>0</td>\n",
       "      <td>0</td>\n",
       "      <td>0</td>\n",
       "      <td>0</td>\n",
       "      <td>0</td>\n",
       "      <td>0</td>\n",
       "      <td>1</td>\n",
       "    </tr>\n",
       "    <tr>\n",
       "      <th>1</th>\n",
       "      <td>1.0</td>\n",
       "      <td>2</td>\n",
       "      <td>5465</td>\n",
       "      <td>2732.5</td>\n",
       "      <td>1821.666667</td>\n",
       "      <td>-1.0</td>\n",
       "      <td>3.0</td>\n",
       "      <td>2016</td>\n",
       "      <td>6</td>\n",
       "      <td>12</td>\n",
       "      <td>...</td>\n",
       "      <td>0</td>\n",
       "      <td>0</td>\n",
       "      <td>0</td>\n",
       "      <td>0</td>\n",
       "      <td>0</td>\n",
       "      <td>0</td>\n",
       "      <td>0</td>\n",
       "      <td>0</td>\n",
       "      <td>0</td>\n",
       "      <td>2</td>\n",
       "    </tr>\n",
       "    <tr>\n",
       "      <th>2</th>\n",
       "      <td>1.0</td>\n",
       "      <td>1</td>\n",
       "      <td>2850</td>\n",
       "      <td>1425.0</td>\n",
       "      <td>1425.000000</td>\n",
       "      <td>0.0</td>\n",
       "      <td>2.0</td>\n",
       "      <td>2016</td>\n",
       "      <td>4</td>\n",
       "      <td>17</td>\n",
       "      <td>...</td>\n",
       "      <td>0</td>\n",
       "      <td>0</td>\n",
       "      <td>0</td>\n",
       "      <td>0</td>\n",
       "      <td>0</td>\n",
       "      <td>0</td>\n",
       "      <td>0</td>\n",
       "      <td>0</td>\n",
       "      <td>0</td>\n",
       "      <td>0</td>\n",
       "    </tr>\n",
       "    <tr>\n",
       "      <th>3</th>\n",
       "      <td>1.0</td>\n",
       "      <td>1</td>\n",
       "      <td>3275</td>\n",
       "      <td>1637.5</td>\n",
       "      <td>1637.500000</td>\n",
       "      <td>0.0</td>\n",
       "      <td>2.0</td>\n",
       "      <td>2016</td>\n",
       "      <td>4</td>\n",
       "      <td>18</td>\n",
       "      <td>...</td>\n",
       "      <td>0</td>\n",
       "      <td>0</td>\n",
       "      <td>0</td>\n",
       "      <td>0</td>\n",
       "      <td>0</td>\n",
       "      <td>0</td>\n",
       "      <td>0</td>\n",
       "      <td>0</td>\n",
       "      <td>0</td>\n",
       "      <td>2</td>\n",
       "    </tr>\n",
       "    <tr>\n",
       "      <th>4</th>\n",
       "      <td>1.0</td>\n",
       "      <td>4</td>\n",
       "      <td>3350</td>\n",
       "      <td>1675.0</td>\n",
       "      <td>670.000000</td>\n",
       "      <td>-3.0</td>\n",
       "      <td>5.0</td>\n",
       "      <td>2016</td>\n",
       "      <td>4</td>\n",
       "      <td>28</td>\n",
       "      <td>...</td>\n",
       "      <td>0</td>\n",
       "      <td>0</td>\n",
       "      <td>1</td>\n",
       "      <td>0</td>\n",
       "      <td>0</td>\n",
       "      <td>0</td>\n",
       "      <td>0</td>\n",
       "      <td>0</td>\n",
       "      <td>0</td>\n",
       "      <td>2</td>\n",
       "    </tr>\n",
       "  </tbody>\n",
       "</table>\n",
       "<p>5 rows × 227 columns</p>\n",
       "</div>"
      ],
      "text/plain": [
       "   bathrooms  bedrooms  price  price_bathrooms  price_bedrooms  room_diff  \\\n",
       "0        1.5         3   3000           1200.0      750.000000       -1.5   \n",
       "1        1.0         2   5465           2732.5     1821.666667       -1.0   \n",
       "2        1.0         1   2850           1425.0     1425.000000        0.0   \n",
       "3        1.0         1   3275           1637.5     1637.500000        0.0   \n",
       "4        1.0         4   3350           1675.0      670.000000       -3.0   \n",
       "\n",
       "   room_num  Year  Month  Day       ...        walk  walls  war  washer  \\\n",
       "0       4.5  2016      6   24       ...           0      0    0       0   \n",
       "1       3.0  2016      6   12       ...           0      0    0       0   \n",
       "2       2.0  2016      4   17       ...           0      0    0       0   \n",
       "3       2.0  2016      4   18       ...           0      0    0       0   \n",
       "4       5.0  2016      4   28       ...           0      0    1       0   \n",
       "\n",
       "   water  wheelchair  wifi  windows  work  interest_level  \n",
       "0      0           0     0        0     0               1  \n",
       "1      0           0     0        0     0               2  \n",
       "2      0           0     0        0     0               0  \n",
       "3      0           0     0        0     0               2  \n",
       "4      0           0     0        0     0               2  \n",
       "\n",
       "[5 rows x 227 columns]"
      ]
     },
     "execution_count": 3,
     "metadata": {},
     "output_type": "execute_result"
    }
   ],
   "source": [
    "# 课程网站提供的特征工程编码后的数据（RentListingInquries_FE_train.csv）\n",
    "# 或稀疏编码的形式（RentListingInquries_FE_train.bin）\n",
    "# 读取数据\n",
    "# path to where the data lies\n",
    "dpath = './data/'\n",
    "train = pd.read_csv(dpath +\"train_FE.csv\")\n",
    "train.head()"
   ]
  },
  {
   "cell_type": "code",
   "execution_count": 4,
   "metadata": {
    "ExecuteTime": {
     "end_time": "2018-02-22T07:13:23.896000Z",
     "start_time": "2018-02-22T07:13:22.582000Z"
    }
   },
   "outputs": [
    {
     "data": {
      "text/html": [
       "<div>\n",
       "<style scoped>\n",
       "    .dataframe tbody tr th:only-of-type {\n",
       "        vertical-align: middle;\n",
       "    }\n",
       "\n",
       "    .dataframe tbody tr th {\n",
       "        vertical-align: top;\n",
       "    }\n",
       "\n",
       "    .dataframe thead th {\n",
       "        text-align: right;\n",
       "    }\n",
       "</style>\n",
       "<table border=\"1\" class=\"dataframe\">\n",
       "  <thead>\n",
       "    <tr style=\"text-align: right;\">\n",
       "      <th></th>\n",
       "      <th>bathrooms</th>\n",
       "      <th>bedrooms</th>\n",
       "      <th>price</th>\n",
       "      <th>price_bathrooms</th>\n",
       "      <th>price_bedrooms</th>\n",
       "      <th>room_diff</th>\n",
       "      <th>room_num</th>\n",
       "      <th>Year</th>\n",
       "      <th>Month</th>\n",
       "      <th>Day</th>\n",
       "      <th>...</th>\n",
       "      <th>virtual</th>\n",
       "      <th>walk</th>\n",
       "      <th>walls</th>\n",
       "      <th>war</th>\n",
       "      <th>washer</th>\n",
       "      <th>water</th>\n",
       "      <th>wheelchair</th>\n",
       "      <th>wifi</th>\n",
       "      <th>windows</th>\n",
       "      <th>work</th>\n",
       "    </tr>\n",
       "  </thead>\n",
       "  <tbody>\n",
       "    <tr>\n",
       "      <th>0</th>\n",
       "      <td>1.0</td>\n",
       "      <td>1</td>\n",
       "      <td>2950</td>\n",
       "      <td>1475.000000</td>\n",
       "      <td>1475.000000</td>\n",
       "      <td>0.0</td>\n",
       "      <td>2.0</td>\n",
       "      <td>2016</td>\n",
       "      <td>6</td>\n",
       "      <td>11</td>\n",
       "      <td>...</td>\n",
       "      <td>0</td>\n",
       "      <td>0</td>\n",
       "      <td>0</td>\n",
       "      <td>0</td>\n",
       "      <td>0</td>\n",
       "      <td>0</td>\n",
       "      <td>0</td>\n",
       "      <td>0</td>\n",
       "      <td>0</td>\n",
       "      <td>0</td>\n",
       "    </tr>\n",
       "    <tr>\n",
       "      <th>1</th>\n",
       "      <td>1.0</td>\n",
       "      <td>2</td>\n",
       "      <td>2850</td>\n",
       "      <td>1425.000000</td>\n",
       "      <td>950.000000</td>\n",
       "      <td>-1.0</td>\n",
       "      <td>3.0</td>\n",
       "      <td>2016</td>\n",
       "      <td>6</td>\n",
       "      <td>24</td>\n",
       "      <td>...</td>\n",
       "      <td>0</td>\n",
       "      <td>0</td>\n",
       "      <td>0</td>\n",
       "      <td>1</td>\n",
       "      <td>0</td>\n",
       "      <td>0</td>\n",
       "      <td>0</td>\n",
       "      <td>0</td>\n",
       "      <td>0</td>\n",
       "      <td>0</td>\n",
       "    </tr>\n",
       "    <tr>\n",
       "      <th>2</th>\n",
       "      <td>1.0</td>\n",
       "      <td>1</td>\n",
       "      <td>3758</td>\n",
       "      <td>1879.000000</td>\n",
       "      <td>1879.000000</td>\n",
       "      <td>0.0</td>\n",
       "      <td>2.0</td>\n",
       "      <td>2016</td>\n",
       "      <td>6</td>\n",
       "      <td>3</td>\n",
       "      <td>...</td>\n",
       "      <td>0</td>\n",
       "      <td>0</td>\n",
       "      <td>0</td>\n",
       "      <td>0</td>\n",
       "      <td>0</td>\n",
       "      <td>0</td>\n",
       "      <td>0</td>\n",
       "      <td>0</td>\n",
       "      <td>0</td>\n",
       "      <td>0</td>\n",
       "    </tr>\n",
       "    <tr>\n",
       "      <th>3</th>\n",
       "      <td>1.0</td>\n",
       "      <td>2</td>\n",
       "      <td>3300</td>\n",
       "      <td>1650.000000</td>\n",
       "      <td>1100.000000</td>\n",
       "      <td>-1.0</td>\n",
       "      <td>3.0</td>\n",
       "      <td>2016</td>\n",
       "      <td>6</td>\n",
       "      <td>11</td>\n",
       "      <td>...</td>\n",
       "      <td>0</td>\n",
       "      <td>0</td>\n",
       "      <td>0</td>\n",
       "      <td>0</td>\n",
       "      <td>0</td>\n",
       "      <td>0</td>\n",
       "      <td>1</td>\n",
       "      <td>0</td>\n",
       "      <td>0</td>\n",
       "      <td>0</td>\n",
       "    </tr>\n",
       "    <tr>\n",
       "      <th>4</th>\n",
       "      <td>2.0</td>\n",
       "      <td>2</td>\n",
       "      <td>4900</td>\n",
       "      <td>1633.333333</td>\n",
       "      <td>1633.333333</td>\n",
       "      <td>0.0</td>\n",
       "      <td>4.0</td>\n",
       "      <td>2016</td>\n",
       "      <td>4</td>\n",
       "      <td>12</td>\n",
       "      <td>...</td>\n",
       "      <td>0</td>\n",
       "      <td>0</td>\n",
       "      <td>0</td>\n",
       "      <td>1</td>\n",
       "      <td>0</td>\n",
       "      <td>0</td>\n",
       "      <td>0</td>\n",
       "      <td>0</td>\n",
       "      <td>0</td>\n",
       "      <td>0</td>\n",
       "    </tr>\n",
       "  </tbody>\n",
       "</table>\n",
       "<p>5 rows × 226 columns</p>\n",
       "</div>"
      ],
      "text/plain": [
       "   bathrooms  bedrooms  price  price_bathrooms  price_bedrooms  room_diff  \\\n",
       "0        1.0         1   2950      1475.000000     1475.000000        0.0   \n",
       "1        1.0         2   2850      1425.000000      950.000000       -1.0   \n",
       "2        1.0         1   3758      1879.000000     1879.000000        0.0   \n",
       "3        1.0         2   3300      1650.000000     1100.000000       -1.0   \n",
       "4        2.0         2   4900      1633.333333     1633.333333        0.0   \n",
       "\n",
       "   room_num  Year  Month  Day  ...   virtual  walk  walls  war  washer  water  \\\n",
       "0       2.0  2016      6   11  ...         0     0      0    0       0      0   \n",
       "1       3.0  2016      6   24  ...         0     0      0    1       0      0   \n",
       "2       2.0  2016      6    3  ...         0     0      0    0       0      0   \n",
       "3       3.0  2016      6   11  ...         0     0      0    0       0      0   \n",
       "4       4.0  2016      4   12  ...         0     0      0    1       0      0   \n",
       "\n",
       "   wheelchair  wifi  windows  work  \n",
       "0           0     0        0     0  \n",
       "1           0     0        0     0  \n",
       "2           0     0        0     0  \n",
       "3           1     0        0     0  \n",
       "4           0     0        0     0  \n",
       "\n",
       "[5 rows x 226 columns]"
      ]
     },
     "execution_count": 4,
     "metadata": {},
     "output_type": "execute_result"
    }
   ],
   "source": [
    "# 测试数据\n",
    "test = pd.read_csv(dpath+'test_FE.csv')\n",
    "test.head()"
   ]
  },
  {
   "cell_type": "code",
   "execution_count": 5,
   "metadata": {
    "ExecuteTime": {
     "end_time": "2018-02-22T07:13:24.120000Z",
     "start_time": "2018-02-22T07:13:23.898000Z"
    },
    "scrolled": true
   },
   "outputs": [
    {
     "data": {
      "text/plain": [
       "0"
      ]
     },
     "execution_count": 5,
     "metadata": {},
     "output_type": "execute_result"
    }
   ],
   "source": [
    "test.isnull().sum().sum()"
   ]
  },
  {
   "cell_type": "markdown",
   "metadata": {},
   "source": [
    "# 分割数据"
   ]
  },
  {
   "cell_type": "code",
   "execution_count": 6,
   "metadata": {
    "ExecuteTime": {
     "end_time": "2018-02-22T07:13:24.318000Z",
     "start_time": "2018-02-22T07:13:24.223000Z"
    },
    "scrolled": true
   },
   "outputs": [
    {
     "data": {
      "image/png": "[encoded data removed]",
      "text/plain": [
       "<Figure size 432x288 with 1 Axes>"
      ]
     },
     "metadata": {},
     "output_type": "display_data"
    }
   ],
   "source": [
    "sns.countplot(train['interest_level'])\n",
    "plt.show()"
   ]
  },
  {
   "cell_type": "markdown",
   "metadata": {},
   "source": [
    "三分类问题, 各分类不均衡"
   ]
  },
  {
   "cell_type": "markdown",
   "metadata": {
    "ExecuteTime": {
     "end_time": "2018-02-22T06:07:53.863000Z",
     "start_time": "2018-02-22T06:07:53.822000Z"
    }
   },
   "source": [
    "## 数据量太大,分割数据\n",
    "train = train.sample(frac=0.3)\n",
    "train.shape"
   ]
  },
  {
   "cell_type": "code",
   "execution_count": 7,
   "metadata": {
    "ExecuteTime": {
     "end_time": "2018-02-22T07:13:24.456000Z",
     "start_time": "2018-02-22T07:13:24.319000Z"
    }
   },
   "outputs": [],
   "source": [
    "# 区分测试集与训练集\n",
    "X = train.drop('interest_level', axis=1)\n",
    "y = train['interest_level']\n",
    "\n",
    "from sklearn.model_selection import train_test_split\n",
    "X_train, X_test, y_train, y_test = train_test_split(X, y\n",
    "    , test_size=0.2\n",
    "    , random_state=33\n",
    "    , stratify=y)"
   ]
  },
  {
   "cell_type": "markdown",
   "metadata": {},
   "source": [
    "# XGboost调参"
   ]
  },
  {
   "cell_type": "markdown",
   "metadata": {},
   "source": [
    "## 初步确定n_estimators"
   ]
  },
  {
   "cell_type": "code",
   "execution_count": 8,
   "metadata": {
    "ExecuteTime": {
     "end_time": "2018-02-22T07:13:24.465000Z",
     "start_time": "2018-02-22T07:13:24.459000Z"
    }
   },
   "outputs": [],
   "source": [
    "xgb1 = XGBClassifier(\n",
    "        learning_rate =0.1,\n",
    "        n_estimators=1000,  #数值大没关系，cv会自动返回合适的n_estimators\n",
    "        max_depth=5,\n",
    "        min_child_weight=1,\n",
    "        gamma=0,\n",
    "        subsample=0.3,\n",
    "        colsample_bytree=0.8,\n",
    "        colsample_bylevel=0.7,\n",
    "        objective= 'multi:softprob',\n",
    "        seed=33)"
   ]
  },
  {
   "cell_type": "code",
   "execution_count": 9,
   "metadata": {
    "ExecuteTime": {
     "end_time": "2018-02-22T07:13:24.725000Z",
     "start_time": "2018-02-22T07:13:24.467000Z"
    },
    "cell_style": "center"
   },
   "outputs": [],
   "source": [
    "xgb_param = xgb1.get_xgb_params()\n",
    "xgb_param['num_class'] = 3\n",
    "xgtrain = xgb.DMatrix(X_train, label = y_train)\n",
    "folds=StratifiedKFold(n_splits=5, shuffle=True, random_state=33)\n"
   ]
  },
  {
   "cell_type": "code",
   "execution_count": 10,
   "metadata": {
    "ExecuteTime": {
     "end_time": "2018-02-22T07:19:01.242000Z",
     "start_time": "2018-02-22T07:13:24.729000Z"
    },
    "scrolled": false
   },
   "outputs": [
    {
     "name": "stdout",
     "output_type": "stream",
     "text": [
      "[0]\ttrain-mlogloss:1.03936\ttest-mlogloss:1.04028\n",
      "[10]\ttrain-mlogloss:0.749494\ttest-mlogloss:0.757624\n",
      "[20]\ttrain-mlogloss:0.661208\ttest-mlogloss:0.675322\n",
      "[30]\ttrain-mlogloss:0.625107\ttest-mlogloss:0.645004\n",
      "[40]\ttrain-mlogloss:0.604088\ttest-mlogloss:0.629631\n",
      "[50]\ttrain-mlogloss:0.590335\ttest-mlogloss:0.621066\n",
      "[60]\ttrain-mlogloss:0.578884\ttest-mlogloss:0.614762\n",
      "[70]\ttrain-mlogloss:0.569619\ttest-mlogloss:0.610515\n",
      "[80]\ttrain-mlogloss:0.561775\ttest-mlogloss:0.607549\n",
      "[90]\ttrain-mlogloss:0.55453\ttest-mlogloss:0.60483\n",
      "[100]\ttrain-mlogloss:0.548143\ttest-mlogloss:0.603209\n",
      "[110]\ttrain-mlogloss:0.541802\ttest-mlogloss:0.601767\n",
      "[120]\ttrain-mlogloss:0.535704\ttest-mlogloss:0.600354\n",
      "[130]\ttrain-mlogloss:0.530387\ttest-mlogloss:0.599434\n",
      "[140]\ttrain-mlogloss:0.524941\ttest-mlogloss:0.598528\n",
      "[150]\ttrain-mlogloss:0.519981\ttest-mlogloss:0.597765\n",
      "[160]\ttrain-mlogloss:0.515338\ttest-mlogloss:0.597261\n",
      "[170]\ttrain-mlogloss:0.510346\ttest-mlogloss:0.596604\n",
      "[180]\ttrain-mlogloss:0.505942\ttest-mlogloss:0.596066\n",
      "[190]\ttrain-mlogloss:0.501465\ttest-mlogloss:0.595733\n",
      "[200]\ttrain-mlogloss:0.497105\ttest-mlogloss:0.595583\n",
      "[210]\ttrain-mlogloss:0.492967\ttest-mlogloss:0.595491\n",
      "[220]\ttrain-mlogloss:0.488837\ttest-mlogloss:0.59533\n",
      "[230]\ttrain-mlogloss:0.484698\ttest-mlogloss:0.59518\n",
      "[240]\ttrain-mlogloss:0.480545\ttest-mlogloss:0.594942\n",
      "[250]\ttrain-mlogloss:0.476669\ttest-mlogloss:0.594694\n",
      "[260]\ttrain-mlogloss:0.472643\ttest-mlogloss:0.594789\n"
     ]
    }
   ],
   "source": [
    "cvresult = xgb.cv(xgb_param\n",
    "                  , xgtrain\n",
    "                  , num_boost_round=1000\n",
    "                  , folds = folds\n",
    "                  , show_stdv=False \n",
    "                  , verbose_eval=10\n",
    "                  , metrics='mlogloss'\n",
    "                  , early_stopping_rounds=10)\n",
    "\n"
   ]
  },
  {
   "cell_type": "code",
   "execution_count": 11,
   "metadata": {
    "ExecuteTime": {
     "end_time": "2018-02-22T07:19:01.279000Z",
     "start_time": "2018-02-22T07:19:01.245000Z"
    },
    "scrolled": true
   },
   "outputs": [
    {
     "data": {
      "text/html": [
       "<div>\n",
       "<style scoped>\n",
       "    .dataframe tbody tr th:only-of-type {\n",
       "        vertical-align: middle;\n",
       "    }\n",
       "\n",
       "    .dataframe tbody tr th {\n",
       "        vertical-align: top;\n",
       "    }\n",
       "\n",
       "    .dataframe thead th {\n",
       "        text-align: right;\n",
       "    }\n",
       "</style>\n",
       "<table border=\"1\" class=\"dataframe\">\n",
       "  <thead>\n",
       "    <tr style=\"text-align: right;\">\n",
       "      <th></th>\n",
       "      <th>test-mlogloss-mean</th>\n",
       "      <th>test-mlogloss-std</th>\n",
       "      <th>train-mlogloss-mean</th>\n",
       "      <th>train-mlogloss-std</th>\n",
       "    </tr>\n",
       "  </thead>\n",
       "  <tbody>\n",
       "    <tr>\n",
       "      <th>0</th>\n",
       "      <td>1.040283</td>\n",
       "      <td>0.000103</td>\n",
       "      <td>1.039361</td>\n",
       "      <td>0.000388</td>\n",
       "    </tr>\n",
       "    <tr>\n",
       "      <th>1</th>\n",
       "      <td>0.990873</td>\n",
       "      <td>0.000602</td>\n",
       "      <td>0.988979</td>\n",
       "      <td>0.000923</td>\n",
       "    </tr>\n",
       "    <tr>\n",
       "      <th>2</th>\n",
       "      <td>0.948088</td>\n",
       "      <td>0.000225</td>\n",
       "      <td>0.945611</td>\n",
       "      <td>0.000752</td>\n",
       "    </tr>\n",
       "    <tr>\n",
       "      <th>3</th>\n",
       "      <td>0.911337</td>\n",
       "      <td>0.000356</td>\n",
       "      <td>0.908071</td>\n",
       "      <td>0.000652</td>\n",
       "    </tr>\n",
       "    <tr>\n",
       "      <th>4</th>\n",
       "      <td>0.879852</td>\n",
       "      <td>0.000607</td>\n",
       "      <td>0.875819</td>\n",
       "      <td>0.000686</td>\n",
       "    </tr>\n",
       "    <tr>\n",
       "      <th>5</th>\n",
       "      <td>0.852490</td>\n",
       "      <td>0.000266</td>\n",
       "      <td>0.847851</td>\n",
       "      <td>0.000966</td>\n",
       "    </tr>\n",
       "    <tr>\n",
       "      <th>6</th>\n",
       "      <td>0.828306</td>\n",
       "      <td>0.000435</td>\n",
       "      <td>0.822997</td>\n",
       "      <td>0.000923</td>\n",
       "    </tr>\n",
       "    <tr>\n",
       "      <th>7</th>\n",
       "      <td>0.806798</td>\n",
       "      <td>0.000792</td>\n",
       "      <td>0.800829</td>\n",
       "      <td>0.000785</td>\n",
       "    </tr>\n",
       "    <tr>\n",
       "      <th>8</th>\n",
       "      <td>0.788736</td>\n",
       "      <td>0.001278</td>\n",
       "      <td>0.782112</td>\n",
       "      <td>0.001327</td>\n",
       "    </tr>\n",
       "    <tr>\n",
       "      <th>9</th>\n",
       "      <td>0.772114</td>\n",
       "      <td>0.001399</td>\n",
       "      <td>0.764728</td>\n",
       "      <td>0.001546</td>\n",
       "    </tr>\n",
       "    <tr>\n",
       "      <th>10</th>\n",
       "      <td>0.757624</td>\n",
       "      <td>0.001440</td>\n",
       "      <td>0.749494</td>\n",
       "      <td>0.001669</td>\n",
       "    </tr>\n",
       "    <tr>\n",
       "      <th>11</th>\n",
       "      <td>0.744478</td>\n",
       "      <td>0.001427</td>\n",
       "      <td>0.735658</td>\n",
       "      <td>0.001691</td>\n",
       "    </tr>\n",
       "    <tr>\n",
       "      <th>12</th>\n",
       "      <td>0.732788</td>\n",
       "      <td>0.001492</td>\n",
       "      <td>0.723350</td>\n",
       "      <td>0.001838</td>\n",
       "    </tr>\n",
       "    <tr>\n",
       "      <th>13</th>\n",
       "      <td>0.722685</td>\n",
       "      <td>0.001593</td>\n",
       "      <td>0.712685</td>\n",
       "      <td>0.001813</td>\n",
       "    </tr>\n",
       "    <tr>\n",
       "      <th>14</th>\n",
       "      <td>0.713583</td>\n",
       "      <td>0.001769</td>\n",
       "      <td>0.702998</td>\n",
       "      <td>0.001942</td>\n",
       "    </tr>\n",
       "    <tr>\n",
       "      <th>15</th>\n",
       "      <td>0.705331</td>\n",
       "      <td>0.001751</td>\n",
       "      <td>0.694114</td>\n",
       "      <td>0.002070</td>\n",
       "    </tr>\n",
       "    <tr>\n",
       "      <th>16</th>\n",
       "      <td>0.698027</td>\n",
       "      <td>0.001792</td>\n",
       "      <td>0.686157</td>\n",
       "      <td>0.002198</td>\n",
       "    </tr>\n",
       "    <tr>\n",
       "      <th>17</th>\n",
       "      <td>0.691787</td>\n",
       "      <td>0.002012</td>\n",
       "      <td>0.679253</td>\n",
       "      <td>0.002108</td>\n",
       "    </tr>\n",
       "    <tr>\n",
       "      <th>18</th>\n",
       "      <td>0.685649</td>\n",
       "      <td>0.001987</td>\n",
       "      <td>0.672622</td>\n",
       "      <td>0.002193</td>\n",
       "    </tr>\n",
       "    <tr>\n",
       "      <th>19</th>\n",
       "      <td>0.680231</td>\n",
       "      <td>0.001687</td>\n",
       "      <td>0.666708</td>\n",
       "      <td>0.002218</td>\n",
       "    </tr>\n",
       "    <tr>\n",
       "      <th>20</th>\n",
       "      <td>0.675322</td>\n",
       "      <td>0.001631</td>\n",
       "      <td>0.661208</td>\n",
       "      <td>0.002368</td>\n",
       "    </tr>\n",
       "    <tr>\n",
       "      <th>21</th>\n",
       "      <td>0.670964</td>\n",
       "      <td>0.001610</td>\n",
       "      <td>0.656292</td>\n",
       "      <td>0.002467</td>\n",
       "    </tr>\n",
       "    <tr>\n",
       "      <th>22</th>\n",
       "      <td>0.666969</td>\n",
       "      <td>0.001673</td>\n",
       "      <td>0.651726</td>\n",
       "      <td>0.002544</td>\n",
       "    </tr>\n",
       "    <tr>\n",
       "      <th>23</th>\n",
       "      <td>0.663441</td>\n",
       "      <td>0.001579</td>\n",
       "      <td>0.647515</td>\n",
       "      <td>0.002302</td>\n",
       "    </tr>\n",
       "    <tr>\n",
       "      <th>24</th>\n",
       "      <td>0.660380</td>\n",
       "      <td>0.001604</td>\n",
       "      <td>0.643777</td>\n",
       "      <td>0.002103</td>\n",
       "    </tr>\n",
       "    <tr>\n",
       "      <th>25</th>\n",
       "      <td>0.657173</td>\n",
       "      <td>0.001399</td>\n",
       "      <td>0.640062</td>\n",
       "      <td>0.001849</td>\n",
       "    </tr>\n",
       "    <tr>\n",
       "      <th>26</th>\n",
       "      <td>0.654278</td>\n",
       "      <td>0.001464</td>\n",
       "      <td>0.636665</td>\n",
       "      <td>0.001638</td>\n",
       "    </tr>\n",
       "    <tr>\n",
       "      <th>27</th>\n",
       "      <td>0.651663</td>\n",
       "      <td>0.001310</td>\n",
       "      <td>0.633416</td>\n",
       "      <td>0.001758</td>\n",
       "    </tr>\n",
       "    <tr>\n",
       "      <th>28</th>\n",
       "      <td>0.649376</td>\n",
       "      <td>0.001438</td>\n",
       "      <td>0.630523</td>\n",
       "      <td>0.001778</td>\n",
       "    </tr>\n",
       "    <tr>\n",
       "      <th>29</th>\n",
       "      <td>0.647039</td>\n",
       "      <td>0.001473</td>\n",
       "      <td>0.627700</td>\n",
       "      <td>0.001742</td>\n",
       "    </tr>\n",
       "    <tr>\n",
       "      <th>...</th>\n",
       "      <td>...</td>\n",
       "      <td>...</td>\n",
       "      <td>...</td>\n",
       "      <td>...</td>\n",
       "    </tr>\n",
       "    <tr>\n",
       "      <th>225</th>\n",
       "      <td>0.595233</td>\n",
       "      <td>0.002074</td>\n",
       "      <td>0.486736</td>\n",
       "      <td>0.000466</td>\n",
       "    </tr>\n",
       "    <tr>\n",
       "      <th>226</th>\n",
       "      <td>0.595222</td>\n",
       "      <td>0.002179</td>\n",
       "      <td>0.486322</td>\n",
       "      <td>0.000475</td>\n",
       "    </tr>\n",
       "    <tr>\n",
       "      <th>227</th>\n",
       "      <td>0.595236</td>\n",
       "      <td>0.002229</td>\n",
       "      <td>0.485973</td>\n",
       "      <td>0.000433</td>\n",
       "    </tr>\n",
       "    <tr>\n",
       "      <th>228</th>\n",
       "      <td>0.595235</td>\n",
       "      <td>0.002208</td>\n",
       "      <td>0.485591</td>\n",
       "      <td>0.000375</td>\n",
       "    </tr>\n",
       "    <tr>\n",
       "      <th>229</th>\n",
       "      <td>0.595239</td>\n",
       "      <td>0.002268</td>\n",
       "      <td>0.485150</td>\n",
       "      <td>0.000408</td>\n",
       "    </tr>\n",
       "    <tr>\n",
       "      <th>230</th>\n",
       "      <td>0.595180</td>\n",
       "      <td>0.002225</td>\n",
       "      <td>0.484698</td>\n",
       "      <td>0.000364</td>\n",
       "    </tr>\n",
       "    <tr>\n",
       "      <th>231</th>\n",
       "      <td>0.595180</td>\n",
       "      <td>0.002226</td>\n",
       "      <td>0.484291</td>\n",
       "      <td>0.000401</td>\n",
       "    </tr>\n",
       "    <tr>\n",
       "      <th>232</th>\n",
       "      <td>0.595148</td>\n",
       "      <td>0.002296</td>\n",
       "      <td>0.483900</td>\n",
       "      <td>0.000371</td>\n",
       "    </tr>\n",
       "    <tr>\n",
       "      <th>233</th>\n",
       "      <td>0.595124</td>\n",
       "      <td>0.002235</td>\n",
       "      <td>0.483483</td>\n",
       "      <td>0.000405</td>\n",
       "    </tr>\n",
       "    <tr>\n",
       "      <th>234</th>\n",
       "      <td>0.595187</td>\n",
       "      <td>0.002155</td>\n",
       "      <td>0.483094</td>\n",
       "      <td>0.000427</td>\n",
       "    </tr>\n",
       "    <tr>\n",
       "      <th>235</th>\n",
       "      <td>0.595153</td>\n",
       "      <td>0.002106</td>\n",
       "      <td>0.482680</td>\n",
       "      <td>0.000499</td>\n",
       "    </tr>\n",
       "    <tr>\n",
       "      <th>236</th>\n",
       "      <td>0.595098</td>\n",
       "      <td>0.002109</td>\n",
       "      <td>0.482264</td>\n",
       "      <td>0.000433</td>\n",
       "    </tr>\n",
       "    <tr>\n",
       "      <th>237</th>\n",
       "      <td>0.595115</td>\n",
       "      <td>0.002160</td>\n",
       "      <td>0.481894</td>\n",
       "      <td>0.000392</td>\n",
       "    </tr>\n",
       "    <tr>\n",
       "      <th>238</th>\n",
       "      <td>0.595013</td>\n",
       "      <td>0.002199</td>\n",
       "      <td>0.481382</td>\n",
       "      <td>0.000446</td>\n",
       "    </tr>\n",
       "    <tr>\n",
       "      <th>239</th>\n",
       "      <td>0.595032</td>\n",
       "      <td>0.002220</td>\n",
       "      <td>0.480991</td>\n",
       "      <td>0.000443</td>\n",
       "    </tr>\n",
       "    <tr>\n",
       "      <th>240</th>\n",
       "      <td>0.594942</td>\n",
       "      <td>0.002189</td>\n",
       "      <td>0.480545</td>\n",
       "      <td>0.000536</td>\n",
       "    </tr>\n",
       "    <tr>\n",
       "      <th>241</th>\n",
       "      <td>0.594852</td>\n",
       "      <td>0.002220</td>\n",
       "      <td>0.480152</td>\n",
       "      <td>0.000526</td>\n",
       "    </tr>\n",
       "    <tr>\n",
       "      <th>242</th>\n",
       "      <td>0.594834</td>\n",
       "      <td>0.002258</td>\n",
       "      <td>0.479714</td>\n",
       "      <td>0.000441</td>\n",
       "    </tr>\n",
       "    <tr>\n",
       "      <th>243</th>\n",
       "      <td>0.594859</td>\n",
       "      <td>0.002303</td>\n",
       "      <td>0.479398</td>\n",
       "      <td>0.000429</td>\n",
       "    </tr>\n",
       "    <tr>\n",
       "      <th>244</th>\n",
       "      <td>0.594832</td>\n",
       "      <td>0.002196</td>\n",
       "      <td>0.478980</td>\n",
       "      <td>0.000449</td>\n",
       "    </tr>\n",
       "    <tr>\n",
       "      <th>245</th>\n",
       "      <td>0.594739</td>\n",
       "      <td>0.002258</td>\n",
       "      <td>0.478559</td>\n",
       "      <td>0.000385</td>\n",
       "    </tr>\n",
       "    <tr>\n",
       "      <th>246</th>\n",
       "      <td>0.594724</td>\n",
       "      <td>0.002325</td>\n",
       "      <td>0.478127</td>\n",
       "      <td>0.000305</td>\n",
       "    </tr>\n",
       "    <tr>\n",
       "      <th>247</th>\n",
       "      <td>0.594780</td>\n",
       "      <td>0.002333</td>\n",
       "      <td>0.477749</td>\n",
       "      <td>0.000313</td>\n",
       "    </tr>\n",
       "    <tr>\n",
       "      <th>248</th>\n",
       "      <td>0.594659</td>\n",
       "      <td>0.002410</td>\n",
       "      <td>0.477362</td>\n",
       "      <td>0.000309</td>\n",
       "    </tr>\n",
       "    <tr>\n",
       "      <th>249</th>\n",
       "      <td>0.594691</td>\n",
       "      <td>0.002334</td>\n",
       "      <td>0.476996</td>\n",
       "      <td>0.000264</td>\n",
       "    </tr>\n",
       "    <tr>\n",
       "      <th>250</th>\n",
       "      <td>0.594694</td>\n",
       "      <td>0.002341</td>\n",
       "      <td>0.476669</td>\n",
       "      <td>0.000264</td>\n",
       "    </tr>\n",
       "    <tr>\n",
       "      <th>251</th>\n",
       "      <td>0.594711</td>\n",
       "      <td>0.002241</td>\n",
       "      <td>0.476229</td>\n",
       "      <td>0.000274</td>\n",
       "    </tr>\n",
       "    <tr>\n",
       "      <th>252</th>\n",
       "      <td>0.594648</td>\n",
       "      <td>0.002256</td>\n",
       "      <td>0.475804</td>\n",
       "      <td>0.000255</td>\n",
       "    </tr>\n",
       "    <tr>\n",
       "      <th>253</th>\n",
       "      <td>0.594678</td>\n",
       "      <td>0.002289</td>\n",
       "      <td>0.475462</td>\n",
       "      <td>0.000251</td>\n",
       "    </tr>\n",
       "    <tr>\n",
       "      <th>254</th>\n",
       "      <td>0.594646</td>\n",
       "      <td>0.002347</td>\n",
       "      <td>0.475044</td>\n",
       "      <td>0.000268</td>\n",
       "    </tr>\n",
       "  </tbody>\n",
       "</table>\n",
       "<p>255 rows × 4 columns</p>\n",
       "</div>"
      ],
      "text/plain": [
       "     test-mlogloss-mean  test-mlogloss-std  train-mlogloss-mean  \\\n",
       "0              1.040283           0.000103             1.039361   \n",
       "1              0.990873           0.000602             0.988979   \n",
       "2              0.948088           0.000225             0.945611   \n",
       "3              0.911337           0.000356             0.908071   \n",
       "4              0.879852           0.000607             0.875819   \n",
       "5              0.852490           0.000266             0.847851   \n",
       "6              0.828306           0.000435             0.822997   \n",
       "7              0.806798           0.000792             0.800829   \n",
       "8              0.788736           0.001278             0.782112   \n",
       "9              0.772114           0.001399             0.764728   \n",
       "10             0.757624           0.001440             0.749494   \n",
       "11             0.744478           0.001427             0.735658   \n",
       "12             0.732788           0.001492             0.723350   \n",
       "13             0.722685           0.001593             0.712685   \n",
       "14             0.713583           0.001769             0.702998   \n",
       "15             0.705331           0.001751             0.694114   \n",
       "16             0.698027           0.001792             0.686157   \n",
       "17             0.691787           0.002012             0.679253   \n",
       "18             0.685649           0.001987             0.672622   \n",
       "19             0.680231           0.001687             0.666708   \n",
       "20             0.675322           0.001631             0.661208   \n",
       "21             0.670964           0.001610             0.656292   \n",
       "22             0.666969           0.001673             0.651726   \n",
       "23             0.663441           0.001579             0.647515   \n",
       "24             0.660380           0.001604             0.643777   \n",
       "25             0.657173           0.001399             0.640062   \n",
       "26             0.654278           0.001464             0.636665   \n",
       "27             0.651663           0.001310             0.633416   \n",
       "28             0.649376           0.001438             0.630523   \n",
       "29             0.647039           0.001473             0.627700   \n",
       "..                  ...                ...                  ...   \n",
       "225            0.595233           0.002074             0.486736   \n",
       "226            0.595222           0.002179             0.486322   \n",
       "227            0.595236           0.002229             0.485973   \n",
       "228            0.595235           0.002208             0.485591   \n",
       "229            0.595239           0.002268             0.485150   \n",
       "230            0.595180           0.002225             0.484698   \n",
       "231            0.595180           0.002226             0.484291   \n",
       "232            0.595148           0.002296             0.483900   \n",
       "233            0.595124           0.002235             0.483483   \n",
       "234            0.595187           0.002155             0.483094   \n",
       "235            0.595153           0.002106             0.482680   \n",
       "236            0.595098           0.002109             0.482264   \n",
       "237            0.595115           0.002160             0.481894   \n",
       "238            0.595013           0.002199             0.481382   \n",
       "239            0.595032           0.002220             0.480991   \n",
       "240            0.594942           0.002189             0.480545   \n",
       "241            0.594852           0.002220             0.480152   \n",
       "242            0.594834           0.002258             0.479714   \n",
       "243            0.594859           0.002303             0.479398   \n",
       "244            0.594832           0.002196             0.478980   \n",
       "245            0.594739           0.002258             0.478559   \n",
       "246            0.594724           0.002325             0.478127   \n",
       "247            0.594780           0.002333             0.477749   \n",
       "248            0.594659           0.002410             0.477362   \n",
       "249            0.594691           0.002334             0.476996   \n",
       "250            0.594694           0.002341             0.476669   \n",
       "251            0.594711           0.002241             0.476229   \n",
       "252            0.594648           0.002256             0.475804   \n",
       "253            0.594678           0.002289             0.475462   \n",
       "254            0.594646           0.002347             0.475044   \n",
       "\n",
       "     train-mlogloss-std  \n",
       "0              0.000388  \n",
       "1              0.000923  \n",
       "2              0.000752  \n",
       "3              0.000652  \n",
       "4              0.000686  \n",
       "5              0.000966  \n",
       "6              0.000923  \n",
       "7              0.000785  \n",
       "8              0.001327  \n",
       "9              0.001546  \n",
       "10             0.001669  \n",
       "11             0.001691  \n",
       "12             0.001838  \n",
       "13             0.001813  \n",
       "14             0.001942  \n",
       "15             0.002070  \n",
       "16             0.002198  \n",
       "17             0.002108  \n",
       "18             0.002193  \n",
       "19             0.002218  \n",
       "20             0.002368  \n",
       "21             0.002467  \n",
       "22             0.002544  \n",
       "23             0.002302  \n",
       "24             0.002103  \n",
       "25             0.001849  \n",
       "26             0.001638  \n",
       "27             0.001758  \n",
       "28             0.001778  \n",
       "29             0.001742  \n",
       "..                  ...  \n",
       "225            0.000466  \n",
       "226            0.000475  \n",
       "227            0.000433  \n",
       "228            0.000375  \n",
       "229            0.000408  \n",
       "230            0.000364  \n",
       "231            0.000401  \n",
       "232            0.000371  \n",
       "233            0.000405  \n",
       "234            0.000427  \n",
       "235            0.000499  \n",
       "236            0.000433  \n",
       "237            0.000392  \n",
       "238            0.000446  \n",
       "239            0.000443  \n",
       "240            0.000536  \n",
       "241            0.000526  \n",
       "242            0.000441  \n",
       "243            0.000429  \n",
       "244            0.000449  \n",
       "245            0.000385  \n",
       "246            0.000305  \n",
       "247            0.000313  \n",
       "248            0.000309  \n",
       "249            0.000264  \n",
       "250            0.000264  \n",
       "251            0.000274  \n",
       "252            0.000255  \n",
       "253            0.000251  \n",
       "254            0.000268  \n",
       "\n",
       "[255 rows x 4 columns]"
      ]
     },
     "execution_count": 11,
     "metadata": {},
     "output_type": "execute_result"
    }
   ],
   "source": [
    "cvresult"
   ]
  },
  {
   "cell_type": "code",
   "execution_count": 12,
   "metadata": {
    "ExecuteTime": {
     "end_time": "2018-02-22T08:03:57.375000Z",
     "start_time": "2018-02-22T08:03:57.245000Z"
    }
   },
   "outputs": [
    {
     "data": {
      "image/png": "[encoded data removed]",
      "text/plain": [
       "<Figure size 432x288 with 1 Axes>"
      ]
     },
     "metadata": {},
     "output_type": "display_data"
    }
   ],
   "source": [
    "test_means = cvresult['test-mlogloss-mean']\n",
    "test_stds = cvresult['test-mlogloss-std'] \n",
    "        \n",
    "train_means = cvresult['train-mlogloss-mean']\n",
    "train_stds = cvresult['train-mlogloss-std'] \n",
    "\n",
    "x_axis = cvresult.index\n",
    "        \n",
    "plt.errorbar(x_axis, test_means, yerr=test_stds ,label='Test')\n",
    "plt.errorbar(x_axis, train_means, yerr=train_stds ,label='Train')\n",
    "plt.title(\"XGBoost n_estimators vs Log Loss\")\n",
    "plt.xlabel( 'n_estimators' )\n",
    "plt.ylabel( 'Log Loss' )\n",
    "\n",
    "plt.show()"
   ]
  },
  {
   "cell_type": "markdown",
   "metadata": {},
   "source": [
    "## 初步确定'max_depth' and 'min_child_weight'"
   ]
  },
  {
   "cell_type": "code",
   "execution_count": 13,
   "metadata": {
    "ExecuteTime": {
     "end_time": "2018-02-22T08:03:59.146000Z",
     "start_time": "2018-02-22T08:03:59.139000Z"
    }
   },
   "outputs": [
    {
     "data": {
      "text/plain": [
       "{'max_depth': range(3, 10, 2), 'min_child_weight': range(1, 6, 2)}"
      ]
     },
     "execution_count": 13,
     "metadata": {},
     "output_type": "execute_result"
    }
   ],
   "source": [
    "kfold = StratifiedKFold(n_splits=5, shuffle=True, random_state=3)\n",
    "max_depth = range(3,10,2)\n",
    "min_child_weight = range(1,6,2)\n",
    "param_test2 = dict(max_depth=max_depth, min_child_weight=min_child_weight)\n",
    "param_test2"
   ]
  },
  {
   "cell_type": "code",
   "execution_count": 14,
   "metadata": {
    "ExecuteTime": {
     "end_time": "2018-02-22T08:04:00.023000Z",
     "start_time": "2018-02-22T08:04:00.018000Z"
    }
   },
   "outputs": [],
   "source": [
    "xgb2 = XGBClassifier(\n",
    "        learning_rate =0.1,\n",
    "        n_estimators=cvresult.shape[0],  #第一轮参数调整得到的n_estimators最优值\n",
    "        max_depth=5,\n",
    "        min_child_weight=1,\n",
    "        gamma=0,\n",
    "        subsample=0.3,\n",
    "        colsample_bytree=0.8,\n",
    "        colsample_bylevel = 0.7,\n",
    "        objective= 'multi:softprob',\n",
    "        seed=3)\n",
    "\n"
   ]
  },
  {
   "cell_type": "code",
   "execution_count": 15,
   "metadata": {
    "ExecuteTime": {
     "end_time": "2018-02-22T08:42:16.329000Z",
     "start_time": "2018-02-22T08:04:00.900000Z"
    },
    "scrolled": true
   },
   "outputs": [
    {
     "name": "stderr",
     "output_type": "stream",
     "text": [
      "/home/zhou/anaconda3/lib/python3.6/site-packages/sklearn/model_selection/_search.py:761: DeprecationWarning: The grid_scores_ attribute was deprecated in version 0.18 in favor of the more elaborate cv_results_ attribute. The grid_scores_ attribute will not be available from 0.20\n",
      "  DeprecationWarning)\n"
     ]
    },
    {
     "data": {
      "text/plain": [
       "[mean: -0.59922, std: 0.00458, params: {'max_depth': 3, 'min_child_weight': 1},\n",
       " mean: -0.59922, std: 0.00436, params: {'max_depth': 3, 'min_child_weight': 3},\n",
       " mean: -0.59914, std: 0.00418, params: {'max_depth': 3, 'min_child_weight': 5},\n",
       " mean: -0.59110, std: 0.00376, params: {'max_depth': 5, 'min_child_weight': 1},\n",
       " mean: -0.59056, std: 0.00335, params: {'max_depth': 5, 'min_child_weight': 3},\n",
       " mean: -0.59032, std: 0.00402, params: {'max_depth': 5, 'min_child_weight': 5},\n",
       " mean: -0.59454, std: 0.00389, params: {'max_depth': 7, 'min_child_weight': 1},\n",
       " mean: -0.59458, std: 0.00357, params: {'max_depth': 7, 'min_child_weight': 3},\n",
       " mean: -0.59269, std: 0.00245, params: {'max_depth': 7, 'min_child_weight': 5},\n",
       " mean: -0.61136, std: 0.00325, params: {'max_depth': 9, 'min_child_weight': 1},\n",
       " mean: -0.60591, std: 0.00431, params: {'max_depth': 9, 'min_child_weight': 3},\n",
       " mean: -0.60338, std: 0.00366, params: {'max_depth': 9, 'min_child_weight': 5}]"
      ]
     },
     "execution_count": 15,
     "metadata": {},
     "output_type": "execute_result"
    }
   ],
   "source": [
    "# 暴力搜索\n",
    "gsearch2 = GridSearchCV(xgb2\n",
    "                        , param_grid = param_test2\n",
    "                        , scoring='neg_log_loss'\n",
    "                        , n_jobs=-1\n",
    "                        , cv=kfold\n",
    "                        , return_train_score=True)\n",
    "\n",
    "gsearch2.fit(X_train , y_train)\n",
    "\n",
    "gsearch2.grid_scores_"
   ]
  },
  {
   "cell_type": "code",
   "execution_count": 16,
   "metadata": {
    "ExecuteTime": {
     "end_time": "2018-02-22T08:44:34.327000Z",
     "start_time": "2018-02-22T08:44:34.322000Z"
    }
   },
   "outputs": [
    {
     "data": {
      "text/plain": [
       "({'max_depth': 5, 'min_child_weight': 5}, -0.5903179219332552)"
      ]
     },
     "execution_count": 16,
     "metadata": {},
     "output_type": "execute_result"
    }
   ],
   "source": [
    "gsearch2.best_params_, gsearch2.best_score_"
   ]
  },
  {
   "cell_type": "code",
   "execution_count": 17,
   "metadata": {
    "ExecuteTime": {
     "end_time": "2018-02-22T08:44:35.065000Z",
     "start_time": "2018-02-22T08:44:35.058000Z"
    }
   },
   "outputs": [
    {
     "data": {
      "text/plain": [
       "(5, 5)"
      ]
     },
     "execution_count": 17,
     "metadata": {},
     "output_type": "execute_result"
    }
   ],
   "source": [
    "max_depth = gsearch2.best_params_[\"max_depth\"]\n",
    "min_child_weight = gsearch2.best_params_[\"min_child_weight\"]\n",
    "max_depth, min_child_weight"
   ]
  },
  {
   "cell_type": "markdown",
   "metadata": {},
   "source": [
    "## 再次确定'max_depth' and 'min_child_weight'"
   ]
  },
  {
   "cell_type": "code",
   "execution_count": 18,
   "metadata": {
    "ExecuteTime": {
     "end_time": "2018-02-22T08:44:36.893000Z",
     "start_time": "2018-02-22T08:44:36.883000Z"
    }
   },
   "outputs": [
    {
     "data": {
      "text/plain": [
       "{'max_depth': [4, 5, 6], 'min_child_weight': [4, 5, 6]}"
      ]
     },
     "execution_count": 18,
     "metadata": {},
     "output_type": "execute_result"
    }
   ],
   "source": [
    "kfold = StratifiedKFold(n_splits=5, shuffle=True, random_state=3)\n",
    "max_depth = [max_depth-1, max_depth, max_depth+1]\n",
    "if min_child_weight==1:\n",
    "    min_child_weight = [1,2]\n",
    "else:\n",
    "    min_child_weight = [min_child_weight-1,min_child_weight,min_child_weight+1]\n",
    "param_test3 = dict(max_depth=max_depth, min_child_weight=min_child_weight)\n",
    "param_test3"
   ]
  },
  {
   "cell_type": "code",
   "execution_count": 19,
   "metadata": {
    "ExecuteTime": {
     "end_time": "2018-02-22T08:44:37.593000Z",
     "start_time": "2018-02-22T08:44:37.587000Z"
    }
   },
   "outputs": [],
   "source": [
    "xgb3 = XGBClassifier(\n",
    "        learning_rate =0.1,\n",
    "        n_estimators=cvresult.shape[0],  #第一轮参数调整得到的n_estimators最优值\n",
    "        max_depth=5,\n",
    "        min_child_weight=1,\n",
    "        gamma=0,\n",
    "        subsample=0.3,\n",
    "        colsample_bytree=0.8,\n",
    "        colsample_bylevel = 0.7,\n",
    "        objective= 'multi:softprob',\n",
    "        seed=3)\n",
    "\n"
   ]
  },
  {
   "cell_type": "code",
   "execution_count": 20,
   "metadata": {
    "ExecuteTime": {
     "end_time": "2018-02-22T09:17:37.989000Z",
     "start_time": "2018-02-22T08:44:38.234000Z"
    }
   },
   "outputs": [
    {
     "name": "stderr",
     "output_type": "stream",
     "text": [
      "/home/zhou/anaconda3/lib/python3.6/site-packages/sklearn/model_selection/_search.py:761: DeprecationWarning: The grid_scores_ attribute was deprecated in version 0.18 in favor of the more elaborate cv_results_ attribute. The grid_scores_ attribute will not be available from 0.20\n",
      "  DeprecationWarning)\n"
     ]
    },
    {
     "data": {
      "text/plain": [
       "([mean: -0.59263, std: 0.00446, params: {'max_depth': 4, 'min_child_weight': 4},\n",
       "  mean: -0.59301, std: 0.00461, params: {'max_depth': 4, 'min_child_weight': 5},\n",
       "  mean: -0.59233, std: 0.00409, params: {'max_depth': 4, 'min_child_weight': 6},\n",
       "  mean: -0.59060, std: 0.00318, params: {'max_depth': 5, 'min_child_weight': 4},\n",
       "  mean: -0.59032, std: 0.00402, params: {'max_depth': 5, 'min_child_weight': 5},\n",
       "  mean: -0.59102, std: 0.00368, params: {'max_depth': 5, 'min_child_weight': 6},\n",
       "  mean: -0.59073, std: 0.00290, params: {'max_depth': 6, 'min_child_weight': 4},\n",
       "  mean: -0.59194, std: 0.00312, params: {'max_depth': 6, 'min_child_weight': 5},\n",
       "  mean: -0.59032, std: 0.00288, params: {'max_depth': 6, 'min_child_weight': 6}],)"
      ]
     },
     "execution_count": 20,
     "metadata": {},
     "output_type": "execute_result"
    }
   ],
   "source": [
    "\n",
    "gsearch3 = GridSearchCV(xgb3, param_grid = param_test3, \n",
    "                        scoring='neg_log_loss',\n",
    "                        n_jobs=-1, \n",
    "                        cv=kfold, \n",
    "                        return_train_score=True, )\n",
    "gsearch3.fit(X_train , y_train)\n",
    "\n",
    "gsearch3.grid_scores_, "
   ]
  },
  {
   "cell_type": "code",
   "execution_count": 21,
   "metadata": {
    "ExecuteTime": {
     "end_time": "2018-02-22T09:17:37.996000Z",
     "start_time": "2018-02-22T09:17:37.991000Z"
    }
   },
   "outputs": [
    {
     "data": {
      "text/plain": [
       "({'max_depth': 5, 'min_child_weight': 5}, -0.5903179219332552)"
      ]
     },
     "execution_count": 21,
     "metadata": {},
     "output_type": "execute_result"
    }
   ],
   "source": [
    "gsearch3.best_params_,     gsearch3.best_score_"
   ]
  },
  {
   "cell_type": "markdown",
   "metadata": {},
   "source": [
    "## 再次确定n_estimators"
   ]
  },
  {
   "cell_type": "code",
   "execution_count": 22,
   "metadata": {
    "ExecuteTime": {
     "end_time": "2018-02-22T09:29:08.455000Z",
     "start_time": "2018-02-22T09:29:08.450000Z"
    }
   },
   "outputs": [],
   "source": [
    "xgb4 = XGBClassifier(\n",
    "        learning_rate =0.1,\n",
    "        n_estimators=cvresult.shape[0],\n",
    "        max_depth=gsearch3.best_params_['max_depth'],\n",
    "        min_child_weight=gsearch3.best_params_['min_child_weight'],\n",
    "        gamma=0,\n",
    "        subsample=0.3,\n",
    "        colsample_bytree=0.8,\n",
    "        colsample_bylevel=0.7,\n",
    "        objective= 'multi:softprob',\n",
    "        seed=33)"
   ]
  },
  {
   "cell_type": "code",
   "execution_count": 23,
   "metadata": {
    "ExecuteTime": {
     "end_time": "2018-02-22T09:29:09.544000Z",
     "start_time": "2018-02-22T09:29:09.266000Z"
    },
    "cell_style": "center"
   },
   "outputs": [],
   "source": [
    "xgb_param = xgb4.get_xgb_params()\n",
    "xgb_param['num_class'] = 3\n",
    "xgtrain = xgb.DMatrix(X_train, label = y_train)\n",
    "folds=StratifiedKFold(n_splits=5, shuffle=True, random_state=33)\n"
   ]
  },
  {
   "cell_type": "code",
   "execution_count": 24,
   "metadata": {
    "ExecuteTime": {
     "end_time": "2018-02-22T09:33:47.067000Z",
     "start_time": "2018-02-22T09:29:10.145000Z"
    }
   },
   "outputs": [
    {
     "name": "stdout",
     "output_type": "stream",
     "text": [
      "[0]\ttrain-mlogloss:1.0395\ttest-mlogloss:1.04032\n",
      "[10]\ttrain-mlogloss:0.750327\ttest-mlogloss:0.757596\n",
      "[20]\ttrain-mlogloss:0.662836\ttest-mlogloss:0.67565\n",
      "[30]\ttrain-mlogloss:0.627354\ttest-mlogloss:0.645376\n",
      "[40]\ttrain-mlogloss:0.607295\ttest-mlogloss:0.630265\n",
      "[50]\ttrain-mlogloss:0.594051\ttest-mlogloss:0.621381\n",
      "[60]\ttrain-mlogloss:0.583005\ttest-mlogloss:0.614876\n",
      "[70]\ttrain-mlogloss:0.574276\ttest-mlogloss:0.610502\n",
      "[80]\ttrain-mlogloss:0.567361\ttest-mlogloss:0.607542\n",
      "[90]\ttrain-mlogloss:0.560855\ttest-mlogloss:0.604699\n",
      "[100]\ttrain-mlogloss:0.555442\ttest-mlogloss:0.603034\n",
      "[110]\ttrain-mlogloss:0.549873\ttest-mlogloss:0.601595\n",
      "[120]\ttrain-mlogloss:0.544263\ttest-mlogloss:0.60016\n",
      "[130]\ttrain-mlogloss:0.539681\ttest-mlogloss:0.599276\n",
      "[140]\ttrain-mlogloss:0.534881\ttest-mlogloss:0.598553\n",
      "[150]\ttrain-mlogloss:0.530509\ttest-mlogloss:0.597732\n",
      "[160]\ttrain-mlogloss:0.526343\ttest-mlogloss:0.597161\n",
      "[170]\ttrain-mlogloss:0.521923\ttest-mlogloss:0.596398\n",
      "[180]\ttrain-mlogloss:0.518201\ttest-mlogloss:0.596203\n",
      "[190]\ttrain-mlogloss:0.514263\ttest-mlogloss:0.595786\n",
      "[200]\ttrain-mlogloss:0.510468\ttest-mlogloss:0.595608\n",
      "[210]\ttrain-mlogloss:0.507072\ttest-mlogloss:0.595449\n",
      "[220]\ttrain-mlogloss:0.503554\ttest-mlogloss:0.595439\n",
      "[230]\ttrain-mlogloss:0.499963\ttest-mlogloss:0.595166\n",
      "[240]\ttrain-mlogloss:0.496537\ttest-mlogloss:0.59493\n",
      "[250]\ttrain-mlogloss:0.493243\ttest-mlogloss:0.594621\n",
      "[260]\ttrain-mlogloss:0.48976\ttest-mlogloss:0.594703\n"
     ]
    }
   ],
   "source": [
    "cvresult2 = xgb.cv(xgb_param\n",
    "                  , xgtrain\n",
    "                  , num_boost_round=1000\n",
    "                  , folds = folds\n",
    "                  , show_stdv=False \n",
    "                  , verbose_eval=10\n",
    "                  , metrics='mlogloss'\n",
    "                  , early_stopping_rounds=10)\n",
    "\n"
   ]
  },
  {
   "cell_type": "code",
   "execution_count": 25,
   "metadata": {
    "ExecuteTime": {
     "end_time": "2018-02-22T09:33:47.100000Z",
     "start_time": "2018-02-22T09:33:47.071000Z"
    },
    "scrolled": true
   },
   "outputs": [
    {
     "data": {
      "text/html": [
       "<div>\n",
       "<style scoped>\n",
       "    .dataframe tbody tr th:only-of-type {\n",
       "        vertical-align: middle;\n",
       "    }\n",
       "\n",
       "    .dataframe tbody tr th {\n",
       "        vertical-align: top;\n",
       "    }\n",
       "\n",
       "    .dataframe thead th {\n",
       "        text-align: right;\n",
       "    }\n",
       "</style>\n",
       "<table border=\"1\" class=\"dataframe\">\n",
       "  <thead>\n",
       "    <tr style=\"text-align: right;\">\n",
       "      <th></th>\n",
       "      <th>test-mlogloss-mean</th>\n",
       "      <th>test-mlogloss-std</th>\n",
       "      <th>train-mlogloss-mean</th>\n",
       "      <th>train-mlogloss-std</th>\n",
       "    </tr>\n",
       "  </thead>\n",
       "  <tbody>\n",
       "    <tr>\n",
       "      <th>0</th>\n",
       "      <td>1.040320</td>\n",
       "      <td>0.000099</td>\n",
       "      <td>1.039495</td>\n",
       "      <td>0.000333</td>\n",
       "    </tr>\n",
       "    <tr>\n",
       "      <th>1</th>\n",
       "      <td>0.990850</td>\n",
       "      <td>0.000566</td>\n",
       "      <td>0.989165</td>\n",
       "      <td>0.000849</td>\n",
       "    </tr>\n",
       "    <tr>\n",
       "      <th>2</th>\n",
       "      <td>0.948111</td>\n",
       "      <td>0.000277</td>\n",
       "      <td>0.945842</td>\n",
       "      <td>0.000740</td>\n",
       "    </tr>\n",
       "    <tr>\n",
       "      <th>3</th>\n",
       "      <td>0.911427</td>\n",
       "      <td>0.000351</td>\n",
       "      <td>0.908361</td>\n",
       "      <td>0.000645</td>\n",
       "    </tr>\n",
       "    <tr>\n",
       "      <th>4</th>\n",
       "      <td>0.879812</td>\n",
       "      <td>0.000659</td>\n",
       "      <td>0.876183</td>\n",
       "      <td>0.000644</td>\n",
       "    </tr>\n",
       "    <tr>\n",
       "      <th>5</th>\n",
       "      <td>0.852432</td>\n",
       "      <td>0.000426</td>\n",
       "      <td>0.848292</td>\n",
       "      <td>0.000876</td>\n",
       "    </tr>\n",
       "    <tr>\n",
       "      <th>6</th>\n",
       "      <td>0.828317</td>\n",
       "      <td>0.000539</td>\n",
       "      <td>0.823585</td>\n",
       "      <td>0.000919</td>\n",
       "    </tr>\n",
       "    <tr>\n",
       "      <th>7</th>\n",
       "      <td>0.806850</td>\n",
       "      <td>0.000866</td>\n",
       "      <td>0.801519</td>\n",
       "      <td>0.000771</td>\n",
       "    </tr>\n",
       "    <tr>\n",
       "      <th>8</th>\n",
       "      <td>0.788773</td>\n",
       "      <td>0.001308</td>\n",
       "      <td>0.782856</td>\n",
       "      <td>0.001326</td>\n",
       "    </tr>\n",
       "    <tr>\n",
       "      <th>9</th>\n",
       "      <td>0.772092</td>\n",
       "      <td>0.001407</td>\n",
       "      <td>0.765540</td>\n",
       "      <td>0.001563</td>\n",
       "    </tr>\n",
       "    <tr>\n",
       "      <th>10</th>\n",
       "      <td>0.757596</td>\n",
       "      <td>0.001517</td>\n",
       "      <td>0.750327</td>\n",
       "      <td>0.001699</td>\n",
       "    </tr>\n",
       "    <tr>\n",
       "      <th>11</th>\n",
       "      <td>0.744326</td>\n",
       "      <td>0.001358</td>\n",
       "      <td>0.736578</td>\n",
       "      <td>0.001743</td>\n",
       "    </tr>\n",
       "    <tr>\n",
       "      <th>12</th>\n",
       "      <td>0.732726</td>\n",
       "      <td>0.001403</td>\n",
       "      <td>0.724327</td>\n",
       "      <td>0.001864</td>\n",
       "    </tr>\n",
       "    <tr>\n",
       "      <th>13</th>\n",
       "      <td>0.722636</td>\n",
       "      <td>0.001538</td>\n",
       "      <td>0.713743</td>\n",
       "      <td>0.001833</td>\n",
       "    </tr>\n",
       "    <tr>\n",
       "      <th>14</th>\n",
       "      <td>0.713592</td>\n",
       "      <td>0.001793</td>\n",
       "      <td>0.704107</td>\n",
       "      <td>0.002001</td>\n",
       "    </tr>\n",
       "    <tr>\n",
       "      <th>15</th>\n",
       "      <td>0.705319</td>\n",
       "      <td>0.001817</td>\n",
       "      <td>0.695283</td>\n",
       "      <td>0.002112</td>\n",
       "    </tr>\n",
       "    <tr>\n",
       "      <th>16</th>\n",
       "      <td>0.698091</td>\n",
       "      <td>0.001866</td>\n",
       "      <td>0.687421</td>\n",
       "      <td>0.002289</td>\n",
       "    </tr>\n",
       "    <tr>\n",
       "      <th>17</th>\n",
       "      <td>0.691957</td>\n",
       "      <td>0.002042</td>\n",
       "      <td>0.680636</td>\n",
       "      <td>0.002256</td>\n",
       "    </tr>\n",
       "    <tr>\n",
       "      <th>18</th>\n",
       "      <td>0.685825</td>\n",
       "      <td>0.001992</td>\n",
       "      <td>0.674027</td>\n",
       "      <td>0.002310</td>\n",
       "    </tr>\n",
       "    <tr>\n",
       "      <th>19</th>\n",
       "      <td>0.680440</td>\n",
       "      <td>0.001752</td>\n",
       "      <td>0.668221</td>\n",
       "      <td>0.002328</td>\n",
       "    </tr>\n",
       "    <tr>\n",
       "      <th>20</th>\n",
       "      <td>0.675650</td>\n",
       "      <td>0.001786</td>\n",
       "      <td>0.662836</td>\n",
       "      <td>0.002385</td>\n",
       "    </tr>\n",
       "    <tr>\n",
       "      <th>21</th>\n",
       "      <td>0.671229</td>\n",
       "      <td>0.001764</td>\n",
       "      <td>0.657945</td>\n",
       "      <td>0.002441</td>\n",
       "    </tr>\n",
       "    <tr>\n",
       "      <th>22</th>\n",
       "      <td>0.667214</td>\n",
       "      <td>0.001885</td>\n",
       "      <td>0.653399</td>\n",
       "      <td>0.002584</td>\n",
       "    </tr>\n",
       "    <tr>\n",
       "      <th>23</th>\n",
       "      <td>0.663674</td>\n",
       "      <td>0.001844</td>\n",
       "      <td>0.649295</td>\n",
       "      <td>0.002342</td>\n",
       "    </tr>\n",
       "    <tr>\n",
       "      <th>24</th>\n",
       "      <td>0.660682</td>\n",
       "      <td>0.001971</td>\n",
       "      <td>0.645593</td>\n",
       "      <td>0.002112</td>\n",
       "    </tr>\n",
       "    <tr>\n",
       "      <th>25</th>\n",
       "      <td>0.657500</td>\n",
       "      <td>0.001827</td>\n",
       "      <td>0.641970</td>\n",
       "      <td>0.001811</td>\n",
       "    </tr>\n",
       "    <tr>\n",
       "      <th>26</th>\n",
       "      <td>0.654679</td>\n",
       "      <td>0.001769</td>\n",
       "      <td>0.638642</td>\n",
       "      <td>0.001554</td>\n",
       "    </tr>\n",
       "    <tr>\n",
       "      <th>27</th>\n",
       "      <td>0.652042</td>\n",
       "      <td>0.001582</td>\n",
       "      <td>0.635473</td>\n",
       "      <td>0.001730</td>\n",
       "    </tr>\n",
       "    <tr>\n",
       "      <th>28</th>\n",
       "      <td>0.649701</td>\n",
       "      <td>0.001492</td>\n",
       "      <td>0.632637</td>\n",
       "      <td>0.001841</td>\n",
       "    </tr>\n",
       "    <tr>\n",
       "      <th>29</th>\n",
       "      <td>0.647384</td>\n",
       "      <td>0.001602</td>\n",
       "      <td>0.629847</td>\n",
       "      <td>0.001800</td>\n",
       "    </tr>\n",
       "    <tr>\n",
       "      <th>...</th>\n",
       "      <td>...</td>\n",
       "      <td>...</td>\n",
       "      <td>...</td>\n",
       "      <td>...</td>\n",
       "    </tr>\n",
       "    <tr>\n",
       "      <th>225</th>\n",
       "      <td>0.595303</td>\n",
       "      <td>0.001731</td>\n",
       "      <td>0.501717</td>\n",
       "      <td>0.001602</td>\n",
       "    </tr>\n",
       "    <tr>\n",
       "      <th>226</th>\n",
       "      <td>0.595203</td>\n",
       "      <td>0.001740</td>\n",
       "      <td>0.501327</td>\n",
       "      <td>0.001581</td>\n",
       "    </tr>\n",
       "    <tr>\n",
       "      <th>227</th>\n",
       "      <td>0.595248</td>\n",
       "      <td>0.001762</td>\n",
       "      <td>0.501028</td>\n",
       "      <td>0.001529</td>\n",
       "    </tr>\n",
       "    <tr>\n",
       "      <th>228</th>\n",
       "      <td>0.595164</td>\n",
       "      <td>0.001722</td>\n",
       "      <td>0.500699</td>\n",
       "      <td>0.001538</td>\n",
       "    </tr>\n",
       "    <tr>\n",
       "      <th>229</th>\n",
       "      <td>0.595138</td>\n",
       "      <td>0.001723</td>\n",
       "      <td>0.500334</td>\n",
       "      <td>0.001578</td>\n",
       "    </tr>\n",
       "    <tr>\n",
       "      <th>230</th>\n",
       "      <td>0.595166</td>\n",
       "      <td>0.001681</td>\n",
       "      <td>0.499963</td>\n",
       "      <td>0.001581</td>\n",
       "    </tr>\n",
       "    <tr>\n",
       "      <th>231</th>\n",
       "      <td>0.595179</td>\n",
       "      <td>0.001690</td>\n",
       "      <td>0.499567</td>\n",
       "      <td>0.001586</td>\n",
       "    </tr>\n",
       "    <tr>\n",
       "      <th>232</th>\n",
       "      <td>0.595223</td>\n",
       "      <td>0.001784</td>\n",
       "      <td>0.499250</td>\n",
       "      <td>0.001618</td>\n",
       "    </tr>\n",
       "    <tr>\n",
       "      <th>233</th>\n",
       "      <td>0.595184</td>\n",
       "      <td>0.001687</td>\n",
       "      <td>0.498923</td>\n",
       "      <td>0.001640</td>\n",
       "    </tr>\n",
       "    <tr>\n",
       "      <th>234</th>\n",
       "      <td>0.595117</td>\n",
       "      <td>0.001719</td>\n",
       "      <td>0.498653</td>\n",
       "      <td>0.001642</td>\n",
       "    </tr>\n",
       "    <tr>\n",
       "      <th>235</th>\n",
       "      <td>0.595023</td>\n",
       "      <td>0.001747</td>\n",
       "      <td>0.498328</td>\n",
       "      <td>0.001622</td>\n",
       "    </tr>\n",
       "    <tr>\n",
       "      <th>236</th>\n",
       "      <td>0.595016</td>\n",
       "      <td>0.001703</td>\n",
       "      <td>0.497950</td>\n",
       "      <td>0.001578</td>\n",
       "    </tr>\n",
       "    <tr>\n",
       "      <th>237</th>\n",
       "      <td>0.594937</td>\n",
       "      <td>0.001750</td>\n",
       "      <td>0.497647</td>\n",
       "      <td>0.001485</td>\n",
       "    </tr>\n",
       "    <tr>\n",
       "      <th>238</th>\n",
       "      <td>0.594928</td>\n",
       "      <td>0.001775</td>\n",
       "      <td>0.497257</td>\n",
       "      <td>0.001523</td>\n",
       "    </tr>\n",
       "    <tr>\n",
       "      <th>239</th>\n",
       "      <td>0.594910</td>\n",
       "      <td>0.001846</td>\n",
       "      <td>0.496889</td>\n",
       "      <td>0.001548</td>\n",
       "    </tr>\n",
       "    <tr>\n",
       "      <th>240</th>\n",
       "      <td>0.594930</td>\n",
       "      <td>0.001779</td>\n",
       "      <td>0.496537</td>\n",
       "      <td>0.001546</td>\n",
       "    </tr>\n",
       "    <tr>\n",
       "      <th>241</th>\n",
       "      <td>0.594832</td>\n",
       "      <td>0.001806</td>\n",
       "      <td>0.496194</td>\n",
       "      <td>0.001544</td>\n",
       "    </tr>\n",
       "    <tr>\n",
       "      <th>242</th>\n",
       "      <td>0.594807</td>\n",
       "      <td>0.001811</td>\n",
       "      <td>0.495882</td>\n",
       "      <td>0.001522</td>\n",
       "    </tr>\n",
       "    <tr>\n",
       "      <th>243</th>\n",
       "      <td>0.594785</td>\n",
       "      <td>0.001849</td>\n",
       "      <td>0.495507</td>\n",
       "      <td>0.001534</td>\n",
       "    </tr>\n",
       "    <tr>\n",
       "      <th>244</th>\n",
       "      <td>0.594764</td>\n",
       "      <td>0.001874</td>\n",
       "      <td>0.495154</td>\n",
       "      <td>0.001532</td>\n",
       "    </tr>\n",
       "    <tr>\n",
       "      <th>245</th>\n",
       "      <td>0.594782</td>\n",
       "      <td>0.001959</td>\n",
       "      <td>0.494815</td>\n",
       "      <td>0.001487</td>\n",
       "    </tr>\n",
       "    <tr>\n",
       "      <th>246</th>\n",
       "      <td>0.594757</td>\n",
       "      <td>0.002097</td>\n",
       "      <td>0.494497</td>\n",
       "      <td>0.001384</td>\n",
       "    </tr>\n",
       "    <tr>\n",
       "      <th>247</th>\n",
       "      <td>0.594729</td>\n",
       "      <td>0.002063</td>\n",
       "      <td>0.494178</td>\n",
       "      <td>0.001427</td>\n",
       "    </tr>\n",
       "    <tr>\n",
       "      <th>248</th>\n",
       "      <td>0.594649</td>\n",
       "      <td>0.002062</td>\n",
       "      <td>0.493855</td>\n",
       "      <td>0.001411</td>\n",
       "    </tr>\n",
       "    <tr>\n",
       "      <th>249</th>\n",
       "      <td>0.594604</td>\n",
       "      <td>0.002127</td>\n",
       "      <td>0.493534</td>\n",
       "      <td>0.001399</td>\n",
       "    </tr>\n",
       "    <tr>\n",
       "      <th>250</th>\n",
       "      <td>0.594621</td>\n",
       "      <td>0.002209</td>\n",
       "      <td>0.493243</td>\n",
       "      <td>0.001343</td>\n",
       "    </tr>\n",
       "    <tr>\n",
       "      <th>251</th>\n",
       "      <td>0.594617</td>\n",
       "      <td>0.002166</td>\n",
       "      <td>0.492874</td>\n",
       "      <td>0.001369</td>\n",
       "    </tr>\n",
       "    <tr>\n",
       "      <th>252</th>\n",
       "      <td>0.594555</td>\n",
       "      <td>0.002225</td>\n",
       "      <td>0.492479</td>\n",
       "      <td>0.001356</td>\n",
       "    </tr>\n",
       "    <tr>\n",
       "      <th>253</th>\n",
       "      <td>0.594555</td>\n",
       "      <td>0.002262</td>\n",
       "      <td>0.492125</td>\n",
       "      <td>0.001316</td>\n",
       "    </tr>\n",
       "    <tr>\n",
       "      <th>254</th>\n",
       "      <td>0.594541</td>\n",
       "      <td>0.002309</td>\n",
       "      <td>0.491855</td>\n",
       "      <td>0.001286</td>\n",
       "    </tr>\n",
       "  </tbody>\n",
       "</table>\n",
       "<p>255 rows × 4 columns</p>\n",
       "</div>"
      ],
      "text/plain": [
       "     test-mlogloss-mean  test-mlogloss-std  train-mlogloss-mean  \\\n",
       "0              1.040320           0.000099             1.039495   \n",
       "1              0.990850           0.000566             0.989165   \n",
       "2              0.948111           0.000277             0.945842   \n",
       "3              0.911427           0.000351             0.908361   \n",
       "4              0.879812           0.000659             0.876183   \n",
       "5              0.852432           0.000426             0.848292   \n",
       "6              0.828317           0.000539             0.823585   \n",
       "7              0.806850           0.000866             0.801519   \n",
       "8              0.788773           0.001308             0.782856   \n",
       "9              0.772092           0.001407             0.765540   \n",
       "10             0.757596           0.001517             0.750327   \n",
       "11             0.744326           0.001358             0.736578   \n",
       "12             0.732726           0.001403             0.724327   \n",
       "13             0.722636           0.001538             0.713743   \n",
       "14             0.713592           0.001793             0.704107   \n",
       "15             0.705319           0.001817             0.695283   \n",
       "16             0.698091           0.001866             0.687421   \n",
       "17             0.691957           0.002042             0.680636   \n",
       "18             0.685825           0.001992             0.674027   \n",
       "19             0.680440           0.001752             0.668221   \n",
       "20             0.675650           0.001786             0.662836   \n",
       "21             0.671229           0.001764             0.657945   \n",
       "22             0.667214           0.001885             0.653399   \n",
       "23             0.663674           0.001844             0.649295   \n",
       "24             0.660682           0.001971             0.645593   \n",
       "25             0.657500           0.001827             0.641970   \n",
       "26             0.654679           0.001769             0.638642   \n",
       "27             0.652042           0.001582             0.635473   \n",
       "28             0.649701           0.001492             0.632637   \n",
       "29             0.647384           0.001602             0.629847   \n",
       "..                  ...                ...                  ...   \n",
       "225            0.595303           0.001731             0.501717   \n",
       "226            0.595203           0.001740             0.501327   \n",
       "227            0.595248           0.001762             0.501028   \n",
       "228            0.595164           0.001722             0.500699   \n",
       "229            0.595138           0.001723             0.500334   \n",
       "230            0.595166           0.001681             0.499963   \n",
       "231            0.595179           0.001690             0.499567   \n",
       "232            0.595223           0.001784             0.499250   \n",
       "233            0.595184           0.001687             0.498923   \n",
       "234            0.595117           0.001719             0.498653   \n",
       "235            0.595023           0.001747             0.498328   \n",
       "236            0.595016           0.001703             0.497950   \n",
       "237            0.594937           0.001750             0.497647   \n",
       "238            0.594928           0.001775             0.497257   \n",
       "239            0.594910           0.001846             0.496889   \n",
       "240            0.594930           0.001779             0.496537   \n",
       "241            0.594832           0.001806             0.496194   \n",
       "242            0.594807           0.001811             0.495882   \n",
       "243            0.594785           0.001849             0.495507   \n",
       "244            0.594764           0.001874             0.495154   \n",
       "245            0.594782           0.001959             0.494815   \n",
       "246            0.594757           0.002097             0.494497   \n",
       "247            0.594729           0.002063             0.494178   \n",
       "248            0.594649           0.002062             0.493855   \n",
       "249            0.594604           0.002127             0.493534   \n",
       "250            0.594621           0.002209             0.493243   \n",
       "251            0.594617           0.002166             0.492874   \n",
       "252            0.594555           0.002225             0.492479   \n",
       "253            0.594555           0.002262             0.492125   \n",
       "254            0.594541           0.002309             0.491855   \n",
       "\n",
       "     train-mlogloss-std  \n",
       "0              0.000333  \n",
       "1              0.000849  \n",
       "2              0.000740  \n",
       "3              0.000645  \n",
       "4              0.000644  \n",
       "5              0.000876  \n",
       "6              0.000919  \n",
       "7              0.000771  \n",
       "8              0.001326  \n",
       "9              0.001563  \n",
       "10             0.001699  \n",
       "11             0.001743  \n",
       "12             0.001864  \n",
       "13             0.001833  \n",
       "14             0.002001  \n",
       "15             0.002112  \n",
       "16             0.002289  \n",
       "17             0.002256  \n",
       "18             0.002310  \n",
       "19             0.002328  \n",
       "20             0.002385  \n",
       "21             0.002441  \n",
       "22             0.002584  \n",
       "23             0.002342  \n",
       "24             0.002112  \n",
       "25             0.001811  \n",
       "26             0.001554  \n",
       "27             0.001730  \n",
       "28             0.001841  \n",
       "29             0.001800  \n",
       "..                  ...  \n",
       "225            0.001602  \n",
       "226            0.001581  \n",
       "227            0.001529  \n",
       "228            0.001538  \n",
       "229            0.001578  \n",
       "230            0.001581  \n",
       "231            0.001586  \n",
       "232            0.001618  \n",
       "233            0.001640  \n",
       "234            0.001642  \n",
       "235            0.001622  \n",
       "236            0.001578  \n",
       "237            0.001485  \n",
       "238            0.001523  \n",
       "239            0.001548  \n",
       "240            0.001546  \n",
       "241            0.001544  \n",
       "242            0.001522  \n",
       "243            0.001534  \n",
       "244            0.001532  \n",
       "245            0.001487  \n",
       "246            0.001384  \n",
       "247            0.001427  \n",
       "248            0.001411  \n",
       "249            0.001399  \n",
       "250            0.001343  \n",
       "251            0.001369  \n",
       "252            0.001356  \n",
       "253            0.001316  \n",
       "254            0.001286  \n",
       "\n",
       "[255 rows x 4 columns]"
      ]
     },
     "execution_count": 25,
     "metadata": {},
     "output_type": "execute_result"
    }
   ],
   "source": [
    "cvresult2"
   ]
  },
  {
   "cell_type": "markdown",
   "metadata": {},
   "source": [
    "## 行列采样"
   ]
  },
  {
   "cell_type": "code",
   "execution_count": 26,
   "metadata": {
    "ExecuteTime": {
     "end_time": "2018-02-22T09:39:18.387000Z",
     "start_time": "2018-02-22T09:39:18.378000Z"
    }
   },
   "outputs": [
    {
     "data": {
      "text/plain": [
       "{'subsample': [0.3, 0.4, 0.5, 0.6, 0.7, 0.8],\n",
       " 'colsample_bytree': [0.6, 0.7, 0.8, 0.9]}"
      ]
     },
     "execution_count": 26,
     "metadata": {},
     "output_type": "execute_result"
    }
   ],
   "source": [
    "subsample = [i/10.0 for i in range(3,9)]\n",
    "colsample_bytree = [i/10.0 for i in range(6,10)]\n",
    "param_test3 = dict(subsample=subsample, colsample_bytree=colsample_bytree)\n",
    "param_test3"
   ]
  },
  {
   "cell_type": "code",
   "execution_count": 27,
   "metadata": {
    "ExecuteTime": {
     "end_time": "2018-02-22T09:39:19.487000Z",
     "start_time": "2018-02-22T09:39:19.482000Z"
    }
   },
   "outputs": [],
   "source": [
    "xgb5 = XGBClassifier(\n",
    "        learning_rate =0.1,\n",
    "        n_estimators=cvresult2.shape[0],  #第一轮参数调整得到的n_estimators最优值\n",
    "        max_depth=gsearch3.best_params_['max_depth'],\n",
    "        min_child_weight=gsearch3.best_params_['min_child_weight'],\n",
    "        gamma=0,\n",
    "        subsample=0.3,\n",
    "        colsample_bytree=0.8,\n",
    "        colsample_bylevel = 0.7,\n",
    "        objective= 'multi:softprob',\n",
    "        seed=3)"
   ]
  },
  {
   "cell_type": "code",
   "execution_count": 28,
   "metadata": {
    "ExecuteTime": {
     "end_time": "2018-02-22T10:35:53.384000Z",
     "start_time": "2018-02-22T09:39:20.371000Z"
    },
    "scrolled": true
   },
   "outputs": [
    {
     "name": "stderr",
     "output_type": "stream",
     "text": [
      "/home/zhou/anaconda3/lib/python3.6/site-packages/sklearn/model_selection/_search.py:761: DeprecationWarning: The grid_scores_ attribute was deprecated in version 0.18 in favor of the more elaborate cv_results_ attribute. The grid_scores_ attribute will not be available from 0.20\n",
      "  DeprecationWarning)\n"
     ]
    },
    {
     "data": {
      "text/plain": [
       "[mean: -0.59072, std: 0.00387, params: {'colsample_bytree': 0.6, 'subsample': 0.3},\n",
       " mean: -0.58811, std: 0.00332, params: {'colsample_bytree': 0.6, 'subsample': 0.4},\n",
       " mean: -0.58681, std: 0.00348, params: {'colsample_bytree': 0.6, 'subsample': 0.5},\n",
       " mean: -0.58633, std: 0.00314, params: {'colsample_bytree': 0.6, 'subsample': 0.6},\n",
       " mean: -0.58624, std: 0.00350, params: {'colsample_bytree': 0.6, 'subsample': 0.7},\n",
       " mean: -0.58522, std: 0.00270, params: {'colsample_bytree': 0.6, 'subsample': 0.8},\n",
       " mean: -0.58992, std: 0.00335, params: {'colsample_bytree': 0.7, 'subsample': 0.3},\n",
       " mean: -0.58849, std: 0.00323, params: {'colsample_bytree': 0.7, 'subsample': 0.4},\n",
       " mean: -0.58721, std: 0.00307, params: {'colsample_bytree': 0.7, 'subsample': 0.5},\n",
       " mean: -0.58619, std: 0.00270, params: {'colsample_bytree': 0.7, 'subsample': 0.6},\n",
       " mean: -0.58621, std: 0.00342, params: {'colsample_bytree': 0.7, 'subsample': 0.7},\n",
       " mean: -0.58642, std: 0.00348, params: {'colsample_bytree': 0.7, 'subsample': 0.8},\n",
       " mean: -0.59032, std: 0.00402, params: {'colsample_bytree': 0.8, 'subsample': 0.3},\n",
       " mean: -0.58754, std: 0.00310, params: {'colsample_bytree': 0.8, 'subsample': 0.4},\n",
       " mean: -0.58695, std: 0.00281, params: {'colsample_bytree': 0.8, 'subsample': 0.5},\n",
       " mean: -0.58682, std: 0.00332, params: {'colsample_bytree': 0.8, 'subsample': 0.6},\n",
       " mean: -0.58550, std: 0.00348, params: {'colsample_bytree': 0.8, 'subsample': 0.7},\n",
       " mean: -0.58589, std: 0.00314, params: {'colsample_bytree': 0.8, 'subsample': 0.8},\n",
       " mean: -0.59062, std: 0.00307, params: {'colsample_bytree': 0.9, 'subsample': 0.3},\n",
       " mean: -0.58794, std: 0.00361, params: {'colsample_bytree': 0.9, 'subsample': 0.4},\n",
       " mean: -0.58674, std: 0.00287, params: {'colsample_bytree': 0.9, 'subsample': 0.5},\n",
       " mean: -0.58536, std: 0.00332, params: {'colsample_bytree': 0.9, 'subsample': 0.6},\n",
       " mean: -0.58538, std: 0.00369, params: {'colsample_bytree': 0.9, 'subsample': 0.7},\n",
       " mean: -0.58485, std: 0.00297, params: {'colsample_bytree': 0.9, 'subsample': 0.8}]"
      ]
     },
     "execution_count": 28,
     "metadata": {},
     "output_type": "execute_result"
    }
   ],
   "source": [
    "\n",
    "gsearch5 = GridSearchCV(xgb5, param_grid = param_test3, \n",
    "                        scoring='neg_log_loss',\n",
    "                        n_jobs=-1, \n",
    "                        cv=kfold, \n",
    "                        return_train_score=True, )\n",
    "gsearch5.fit(X_train , y_train)\n",
    "\n",
    "gsearch5.grid_scores_"
   ]
  },
  {
   "cell_type": "code",
   "execution_count": 29,
   "metadata": {
    "ExecuteTime": {
     "end_time": "2018-02-22T10:35:53.392000Z",
     "start_time": "2018-02-22T10:35:53.386000Z"
    }
   },
   "outputs": [
    {
     "data": {
      "text/plain": [
       "({'colsample_bytree': 0.9, 'subsample': 0.8}, -0.584848091456824)"
      ]
     },
     "execution_count": 29,
     "metadata": {},
     "output_type": "execute_result"
    }
   ],
   "source": [
    "gsearch5.best_params_,     gsearch5.best_score_"
   ]
  },
  {
   "cell_type": "markdown",
   "metadata": {},
   "source": [
    "## 初步设置正则参数 "
   ]
  },
  {
   "cell_type": "code",
   "execution_count": 30,
   "metadata": {
    "ExecuteTime": {
     "end_time": "2018-02-22T10:35:53.407000Z",
     "start_time": "2018-02-22T10:35:53.395000Z"
    }
   },
   "outputs": [
    {
     "data": {
      "text/plain": [
       "{'reg_alpha': [0, 1, 1.5, 2], 'reg_lambda': [0.1, 0.5, 1, 2]}"
      ]
     },
     "execution_count": 30,
     "metadata": {},
     "output_type": "execute_result"
    }
   ],
   "source": [
    "reg_alpha = [0, 1, 1.5, 2]    #default = 0, 测试0.1,1，1.5，2\n",
    "reg_lambda = [0.1, 0.5, 1, 2]      #default = 1，测试0.1， 0.5， 1，2\n",
    "\n",
    "param_test6 = dict(reg_alpha=reg_alpha, reg_lambda=reg_lambda)\n",
    "param_test6"
   ]
  },
  {
   "cell_type": "code",
   "execution_count": 31,
   "metadata": {
    "ExecuteTime": {
     "end_time": "2018-02-22T10:35:53.416000Z",
     "start_time": "2018-02-22T10:35:53.409000Z"
    }
   },
   "outputs": [],
   "source": [
    "xgb6 = XGBClassifier(\n",
    "        learning_rate =0.1,\n",
    "        n_estimators=cvresult2.shape[0],  #第一轮参数调整得到的n_estimators最优值\n",
    "        max_depth=gsearch3.best_params_['max_depth'],\n",
    "        min_child_weight=gsearch3.best_params_['min_child_weight'],\n",
    "        gamma=0,\n",
    "        subsample=gsearch5.best_params_['subsample'],\n",
    "        colsample_bytree=gsearch5.best_params_['colsample_bytree'],\n",
    "        colsample_bylevel = 0.7,\n",
    "        objective= 'multi:softprob',\n",
    "        seed=3)"
   ]
  },
  {
   "cell_type": "code",
   "execution_count": 32,
   "metadata": {
    "ExecuteTime": {
     "end_time": "2018-02-22T11:20:22.706000Z",
     "start_time": "2018-02-22T10:35:53.421000Z"
    }
   },
   "outputs": [
    {
     "name": "stderr",
     "output_type": "stream",
     "text": [
      "/home/zhou/anaconda3/lib/python3.6/site-packages/sklearn/model_selection/_search.py:761: DeprecationWarning: The grid_scores_ attribute was deprecated in version 0.18 in favor of the more elaborate cv_results_ attribute. The grid_scores_ attribute will not be available from 0.20\n",
      "  DeprecationWarning)\n"
     ]
    },
    {
     "data": {
      "text/plain": [
       "([mean: -0.58520, std: 0.00330, params: {'reg_alpha': 0, 'reg_lambda': 0.1},\n",
       "  mean: -0.58532, std: 0.00287, params: {'reg_alpha': 0, 'reg_lambda': 0.5},\n",
       "  mean: -0.58485, std: 0.00297, params: {'reg_alpha': 0, 'reg_lambda': 1},\n",
       "  mean: -0.58500, std: 0.00320, params: {'reg_alpha': 0, 'reg_lambda': 2},\n",
       "  mean: -0.58422, std: 0.00277, params: {'reg_alpha': 1, 'reg_lambda': 0.1},\n",
       "  mean: -0.58452, std: 0.00285, params: {'reg_alpha': 1, 'reg_lambda': 0.5},\n",
       "  mean: -0.58462, std: 0.00310, params: {'reg_alpha': 1, 'reg_lambda': 1},\n",
       "  mean: -0.58496, std: 0.00253, params: {'reg_alpha': 1, 'reg_lambda': 2},\n",
       "  mean: -0.58450, std: 0.00291, params: {'reg_alpha': 1.5, 'reg_lambda': 0.1},\n",
       "  mean: -0.58460, std: 0.00326, params: {'reg_alpha': 1.5, 'reg_lambda': 0.5},\n",
       "  mean: -0.58445, std: 0.00304, params: {'reg_alpha': 1.5, 'reg_lambda': 1},\n",
       "  mean: -0.58514, std: 0.00279, params: {'reg_alpha': 1.5, 'reg_lambda': 2},\n",
       "  mean: -0.58458, std: 0.00312, params: {'reg_alpha': 2, 'reg_lambda': 0.1},\n",
       "  mean: -0.58459, std: 0.00338, params: {'reg_alpha': 2, 'reg_lambda': 0.5},\n",
       "  mean: -0.58502, std: 0.00298, params: {'reg_alpha': 2, 'reg_lambda': 1},\n",
       "  mean: -0.58501, std: 0.00293, params: {'reg_alpha': 2, 'reg_lambda': 2}],)"
      ]
     },
     "execution_count": 32,
     "metadata": {},
     "output_type": "execute_result"
    }
   ],
   "source": [
    "\n",
    "gsearch6 = GridSearchCV(xgb6, param_grid = param_test6, \n",
    "                        scoring='neg_log_loss',\n",
    "                        n_jobs=-1, \n",
    "                        cv=kfold, \n",
    "                        return_train_score=True, )\n",
    "gsearch6.fit(X_train , y_train)\n",
    "\n",
    "gsearch6.grid_scores_, "
   ]
  },
  {
   "cell_type": "code",
   "execution_count": 33,
   "metadata": {
    "ExecuteTime": {
     "end_time": "2018-02-22T11:20:22.713000Z",
     "start_time": "2018-02-22T11:20:22.707000Z"
    }
   },
   "outputs": [
    {
     "data": {
      "text/plain": [
       "({'reg_alpha': 1, 'reg_lambda': 0.1}, -0.5842174672770901)"
      ]
     },
     "execution_count": 33,
     "metadata": {},
     "output_type": "execute_result"
    }
   ],
   "source": [
    "gsearch6.best_params_,     gsearch6.best_score_"
   ]
  },
  {
   "cell_type": "markdown",
   "metadata": {},
   "source": [
    "正则参数调整后neg_log_loss反而变大, 还是选用默认正则参数"
   ]
  },
  {
   "cell_type": "markdown",
   "metadata": {},
   "source": [
    "## 最终参数"
   ]
  },
  {
   "cell_type": "code",
   "execution_count": 34,
   "metadata": {
    "ExecuteTime": {
     "end_time": "2018-02-22T11:20:22.725000Z",
     "start_time": "2018-02-22T11:20:22.716000Z"
    }
   },
   "outputs": [],
   "source": [
    "xgb7 = XGBClassifier(\n",
    "        learning_rate =0.1,\n",
    "        n_estimators=cvresult2.shape[0],  #第一轮参数调整得到的n_estimators最优值\n",
    "        max_depth=gsearch3.best_params_['max_depth'],\n",
    "        min_child_weight=gsearch3.best_params_['min_child_weight'],\n",
    "        gamma=0,\n",
    "        subsample=gsearch5.best_params_['subsample'],\n",
    "        colsample_bytree=gsearch5.best_params_['colsample_bytree'],\n",
    "        colsample_bylevel = 0.7,\n",
    "        objective= 'multi:softprob',\n",
    "        reg_alpha  = gsearch6.best_params_['reg_alpha'],\n",
    "        reg_lambda = gsearch6.best_params_['reg_lambda'],\n",
    "        seed=3)"
   ]
  },
  {
   "cell_type": "code",
   "execution_count": 35,
   "metadata": {
    "ExecuteTime": {
     "end_time": "2018-02-22T11:22:52.325000Z",
     "start_time": "2018-02-22T11:20:22.728000Z"
    }
   },
   "outputs": [
    {
     "data": {
      "text/plain": [
       "XGBClassifier(base_score=0.5, booster='gbtree', colsample_bylevel=0.7,\n",
       "       colsample_bytree=0.9, gamma=0, learning_rate=0.1, max_delta_step=0,\n",
       "       max_depth=5, min_child_weight=5, missing=None, n_estimators=255,\n",
       "       n_jobs=1, nthread=None, objective='multi:softprob', random_state=0,\n",
       "       reg_alpha=1, reg_lambda=0.1, scale_pos_weight=1, seed=3,\n",
       "       silent=True, subsample=0.8)"
      ]
     },
     "execution_count": 35,
     "metadata": {},
     "output_type": "execute_result"
    }
   ],
   "source": [
    "xgb7.fit(X_train , y_train)"
   ]
  },
  {
   "cell_type": "code",
   "execution_count": 36,
   "metadata": {
    "ExecuteTime": {
     "end_time": "2018-02-22T11:22:53.279000Z",
     "start_time": "2018-02-22T11:22:52.327000Z"
    }
   },
   "outputs": [
    {
     "name": "stderr",
     "output_type": "stream",
     "text": [
      "/home/zhou/anaconda3/lib/python3.6/site-packages/sklearn/preprocessing/label.py:151: DeprecationWarning: The truth value of an empty array is ambiguous. Returning False, but in future this will result in an error. Use `array.size > 0` to check that an array is not empty.\n",
      "  if diff:\n",
      "/home/zhou/anaconda3/lib/python3.6/site-packages/sklearn/preprocessing/label.py:151: DeprecationWarning: The truth value of an empty array is ambiguous. Returning False, but in future this will result in an error. Use `array.size > 0` to check that an array is not empty.\n",
      "  if diff:\n"
     ]
    },
    {
     "data": {
      "text/plain": [
       "0.7427818863337048"
      ]
     },
     "execution_count": 36,
     "metadata": {},
     "output_type": "execute_result"
    }
   ],
   "source": [
    "y_pred = xgb7.predict(X_test)\n",
    "xgb7.score(X_test, y_test)"
   ]
  },
  {
   "cell_type": "code",
   "execution_count": 37,
   "metadata": {
    "ExecuteTime": {
     "end_time": "2018-02-22T11:22:53.289000Z",
     "start_time": "2018-02-22T11:22:53.281000Z"
    }
   },
   "outputs": [
    {
     "name": "stdout",
     "output_type": "stream",
     "text": [
      "             precision    recall  f1-score   support\n",
      "\n",
      "          0       0.58      0.28      0.38       768\n",
      "          1       0.49      0.32      0.39      2246\n",
      "          2       0.80      0.93      0.86      6857\n",
      "\n",
      "avg / total       0.71      0.74      0.71      9871\n",
      "\n"
     ]
    }
   ],
   "source": [
    "from sklearn import metrics\n",
    "print(metrics.classification_report(y_test, y_pred))"
   ]
  },
  {
   "cell_type": "markdown",
   "metadata": {},
   "source": [
    "# 预测保存"
   ]
  },
  {
   "cell_type": "code",
   "execution_count": 38,
   "metadata": {
    "ExecuteTime": {
     "end_time": "2018-02-22T11:26:27.825000Z",
     "start_time": "2018-02-22T11:26:27.818000Z"
    }
   },
   "outputs": [],
   "source": [
    "submission_xgb = test.loc[:,['Year','Month', 'Day', 'Wday', 'Yday', 'hour']]\n",
    "#submission"
   ]
  },
  {
   "cell_type": "code",
   "execution_count": 39,
   "metadata": {
    "ExecuteTime": {
     "end_time": "2018-02-22T11:26:31.805000Z",
     "start_time": "2018-02-22T11:26:28.235000Z"
    }
   },
   "outputs": [
    {
     "name": "stderr",
     "output_type": "stream",
     "text": [
      "/home/zhou/anaconda3/lib/python3.6/site-packages/sklearn/preprocessing/label.py:151: DeprecationWarning: The truth value of an empty array is ambiguous. Returning False, but in future this will result in an error. Use `array.size > 0` to check that an array is not empty.\n",
      "  if diff:\n"
     ]
    }
   ],
   "source": [
    "y_ptrdict = xgb7.predict(test)"
   ]
  },
  {
   "cell_type": "code",
   "execution_count": 40,
   "metadata": {
    "ExecuteTime": {
     "end_time": "2018-02-22T11:26:31.825000Z",
     "start_time": "2018-02-22T11:26:31.809000Z"
    }
   },
   "outputs": [
    {
     "name": "stdout",
     "output_type": "stream",
     "text": [
      "<class 'pandas.core.frame.DataFrame'>\n",
      "RangeIndex: 74659 entries, 0 to 74658\n",
      "Data columns (total 7 columns):\n",
      "Year              74659 non-null int64\n",
      "Month             74659 non-null int64\n",
      "Day               74659 non-null int64\n",
      "Wday              74659 non-null int64\n",
      "Yday              74659 non-null int64\n",
      "hour              74659 non-null int64\n",
      "interest_level    74659 non-null int64\n",
      "dtypes: int64(7)\n",
      "memory usage: 4.0 MB\n"
     ]
    }
   ],
   "source": [
    "submission_xgb['interest_level']= y_ptrdict\n",
    "submission_xgb.info()"
   ]
  },
  {
   "cell_type": "code",
   "execution_count": 43,
   "metadata": {
    "ExecuteTime": {
     "end_time": "2018-02-22T11:26:32.173000Z",
     "start_time": "2018-02-22T11:26:31.827000Z"
    }
   },
   "outputs": [],
   "source": [
    "submission_xgb.to_csv(dpath+'submission_xgb.csv')"
   ]
  },
  {
   "cell_type": "code",
   "execution_count": 44,
   "metadata": {
    "ExecuteTime": {
     "end_time": "2018-02-22T11:26:40.241000Z",
     "start_time": "2018-02-22T11:26:40.186000Z"
    }
   },
   "outputs": [],
   "source": [
    "submission_crat=pd.read_csv(dpath+'submission_crat.csv')"
   ]
  },
  {
   "cell_type": "raw",
   "metadata": {},
   "source": [
    "submissions = pd.concat((submission_xgb['interest_level'],submission_crat['interest_level']),axis=1)\n",
    "submissions.columns = ['interest_level_xgb', 'interest_level_crat']"
   ]
  },
  {
   "cell_type": "code",
   "execution_count": 45,
   "metadata": {
    "ExecuteTime": {
     "end_time": "2018-02-22T11:26:41.041000Z",
     "start_time": "2018-02-22T11:26:40.922000Z"
    }
   },
   "outputs": [
    {
     "data": {
      "text/plain": [
       "<matplotlib.axes._subplots.AxesSubplot at 0x7fa8e5b84ef0>"
      ]
     },
     "execution_count": 45,
     "metadata": {},
     "output_type": "execute_result"
    },
    {
     "data": {
      "image/png": "[encoded data removed]",
      "text/plain": [
       "<Figure size 432x288 with 1 Axes>"
      ]
     },
     "metadata": {},
     "output_type": "display_data"
    }
   ],
   "source": [
    "sns.countplot(submission_xgb['interest_level']-submission_crat['interest_level'])"
   ]
  },
  {
   "cell_type": "code",
   "execution_count": null,
   "metadata": {},
   "outputs": [],
   "source": []
  }
 ],
 "metadata": {
  "kernelspec": {
   "display_name": "Python 3",
   "language": "python",
   "name": "python3"
  },
  "language_info": {
   "codemirror_mode": {
    "name": "ipython",
    "version": 3
   },
   "file_extension": ".py",
   "mimetype": "text/x-python",
   "name": "python",
   "nbconvert_exporter": "python",
   "pygments_lexer": "ipython3",
   "version": "3.6.5"
  },
  "toc": {
   "nav_menu": {},
   "number_sections": true,
   "sideBar": true,
   "skip_h1_title": false,
   "title_cell": "Table of Contents",
   "title_sidebar": "Contents",
   "toc_cell": true,
   "toc_position": {},
   "toc_section_display": true,
   "toc_window_display": false
  }
 },
 "nbformat": 4,
 "nbformat_minor": 2
}
