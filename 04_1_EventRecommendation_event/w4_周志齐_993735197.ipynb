{
 "cells": [
  {
   "cell_type": "markdown",
   "metadata": {
    "toc": true
   },
   "source": [
    "<h1>Table of Contents<span class=\"tocSkip\"></span></h1>\n",
    "<div class=\"toc\"><ul class=\"toc-item\"><li><span><a href=\"#Event-Recommendation-Engine-Challenge\" data-toc-modified-id=\"Event-Recommendation-Engine-Challenge-1\"><span class=\"toc-item-num\">1&nbsp;&nbsp;</span>Event Recommendation Engine Challenge</a></span></li><li><span><a href=\"#数据说明\" data-toc-modified-id=\"数据说明-2\"><span class=\"toc-item-num\">2&nbsp;&nbsp;</span>数据说明</a></span></li><li><span><a href=\"#工具包\" data-toc-modified-id=\"工具包-3\"><span class=\"toc-item-num\">3&nbsp;&nbsp;</span>工具包</a></span></li><li><span><a href=\"#数据与信息\" data-toc-modified-id=\"数据与信息-4\"><span class=\"toc-item-num\">4&nbsp;&nbsp;</span>数据与信息</a></span></li><li><span><a href=\"#取出events\" data-toc-modified-id=\"取出events-5\"><span class=\"toc-item-num\">5&nbsp;&nbsp;</span>取出events</a></span></li><li><span><a href=\"#聚类\" data-toc-modified-id=\"聚类-6\"><span class=\"toc-item-num\">6&nbsp;&nbsp;</span>聚类</a></span></li><li><span><a href=\"#总结分析\" data-toc-modified-id=\"总结分析-7\"><span class=\"toc-item-num\">7&nbsp;&nbsp;</span>总结分析</a></span></li></ul></div>"
   ]
  },
  {
   "cell_type": "markdown",
   "metadata": {},
   "source": [
    "# Event Recommendation Engine Challenge"
   ]
  },
  {
   "cell_type": "markdown",
   "metadata": {},
   "source": [
    "# 数据说明\n",
    "共有六个文件：train.csv，test.csv， users.csv，user_friends.csv，events.csv和 event_attendees.csv。\n",
    "\n",
    "**train.csv**  有六列：用户(user)，事件(event)，邀请(invited)，时间戳(timestamp)，感兴趣(interested)和不感兴趣(not_interested)。 \n",
    "**Test.csv**  包含与train.csv相同的列，没有感兴趣和不感兴趣。  \n",
    "在我们的应用程序中, 每一行的事件()与用户()是一一对应的。  \n",
    "**event**  是标识我们系统中的事件的标识。  \n",
    "**user**  是代表我们系统中的用户的ID。  \n",
    "**invited**  是一个二进制变量，表示用户是否被邀请参加该活动。      \n",
    "**timestamp** 是一个ISO-8601 UTC时间字符串，表示当用户在我们的应用程序中看到事件时的大致时间（+/- 2小时）。     \n",
    "**interested**  是一个二进制变量，用于指示用户是否单击此事件的“感兴趣”按钮; 如果用户点击兴趣，则为1，如果用户没有点击该按钮，则为0。    \n",
    "**not_interested**  是也一个二进制变量，指示用户是否单击此事件的“不感兴趣”按钮; 如果用户点击该按钮则为1，否则为0。    \n",
    "有一种可能是用户看到的事件，既不点击 感兴趣，也不点击无兴趣，因此存在 感兴趣，不感兴趣都是0的可能。\n",
    "\n",
    "users.csv包含我们的一些用户（包括出现在训练集和测试集文件中的所有用户）的人口统计数据，它包含以下列：  user_id，  locale，  birthyear，  gender，  joinedAt，  位置(location)和  时区(timezone)。 \n",
    "user_id是我们系统中用户的ID。  \n",
    "locale(环境)是一个表示用户使用环境的字符串，它的格式是 language(语言)_ territory(区域)。\n",
    "birthyear(出生年份)是代表用户出生年份的4位整数。 \n",
    "gender(性别)是男性还是女性，取决于用户的性别。  \n",
    "joinedAt(加入时间)是一个ISO-8601 UTC时间字符串，表示用户第一次使用我们的应用程序的时间。  \n",
    "location(位置)  是表示用户位置的字符串（如果知道）。\n",
    "timezone(时区)是一个有符号整数，表示用户的UTC偏移量（以分钟为单位）。\n",
    "\n",
    "user_friends.csv包含有关此用户的社交数据，并包含两列：user(用户)和friends(朋友)。  \n",
    "用户是我们系统中的用户ID， 朋友是用户朋友ID的空格分隔列表。\n",
    "\n",
    "events.csv  包含有关我们系统中事件的数据，共有110列。前九栏是  event_id，user_id，start_time，city，state，zip，country， lat和lng。 \n",
    "event_id是事件的ID，\n",
    "user_id  是创建这个事件的用户的ID。  \n",
    "city(城市)，state(州)，zip(邮政编码)和country(国家)代表关于场地位置的更多细节（如果知道）。  \n",
    "lat 和lng  是代表场地经纬度坐标的浮点数，四舍五入到小数点后三位。  \n",
    "start_time 是表示事件计划何时开始的ISO-8601 UTC时间字符串。\n",
    "最后101列的解读: 首先，我们确定了100个最常见的词干（通过Porter Stemming获得）出现在我们事件的大型随机子集的名称或描述中。最后101列是count_1， count_2，...， count_100， count_other，其中 count_N是一个整数，表示第N个最常用词干出现在该事件的名称或描述中的次数。  count_other 是其余词干不是100个最常见词干之一的词的数量。\n",
    "\n",
    "event_attendees.csv包含关于哪些用户参加了各种活动的信息，并且具有以下列：  event_id，yes，maybe，invited以及no。\n",
    "event_id 标识事件。是的，也许， 邀请了，并没有 为用户ID代表用户的空间分隔的名单谁表示，他们打算，也许会，邀请，或不打算事件。"
   ]
  },
  {
   "cell_type": "markdown",
   "metadata": {},
   "source": [
    "# 工具包"
   ]
  },
  {
   "cell_type": "code",
   "execution_count": 1,
   "metadata": {
    "ExecuteTime": {
     "end_time": "2018-07-28T10:00:58.639218Z",
     "start_time": "2018-07-28T10:00:50.963128Z"
    }
   },
   "outputs": [],
   "source": [
    "import numpy as np\n",
    "import pandas as pd\n",
    "\n",
    "import matplotlib.pyplot as plt\n",
    "import seaborn as sns\n",
    "\n",
    "%matplotlib inline"
   ]
  },
  {
   "cell_type": "markdown",
   "metadata": {},
   "source": [
    "# 数据与信息"
   ]
  },
  {
   "cell_type": "code",
   "execution_count": 2,
   "metadata": {},
   "outputs": [
    {
     "data": {
      "text/html": [
       "<div>\n",
       "<style scoped>\n",
       "    .dataframe tbody tr th:only-of-type {\n",
       "        vertical-align: middle;\n",
       "    }\n",
       "\n",
       "    .dataframe tbody tr th {\n",
       "        vertical-align: top;\n",
       "    }\n",
       "\n",
       "    .dataframe thead th {\n",
       "        text-align: right;\n",
       "    }\n",
       "</style>\n",
       "<table border=\"1\" class=\"dataframe\">\n",
       "  <thead>\n",
       "    <tr style=\"text-align: right;\">\n",
       "      <th></th>\n",
       "      <th>c_1</th>\n",
       "      <th>c_2</th>\n",
       "      <th>c_3</th>\n",
       "      <th>c_4</th>\n",
       "      <th>c_5</th>\n",
       "      <th>c_6</th>\n",
       "      <th>c_7</th>\n",
       "      <th>c_8</th>\n",
       "      <th>c_9</th>\n",
       "      <th>c_10</th>\n",
       "      <th>...</th>\n",
       "      <th>c_92</th>\n",
       "      <th>c_93</th>\n",
       "      <th>c_94</th>\n",
       "      <th>c_95</th>\n",
       "      <th>c_96</th>\n",
       "      <th>c_97</th>\n",
       "      <th>c_98</th>\n",
       "      <th>c_99</th>\n",
       "      <th>c_100</th>\n",
       "      <th>c_other</th>\n",
       "    </tr>\n",
       "  </thead>\n",
       "  <tbody>\n",
       "    <tr>\n",
       "      <th>0</th>\n",
       "      <td>2</td>\n",
       "      <td>0</td>\n",
       "      <td>2</td>\n",
       "      <td>0</td>\n",
       "      <td>0</td>\n",
       "      <td>0</td>\n",
       "      <td>0</td>\n",
       "      <td>0</td>\n",
       "      <td>0</td>\n",
       "      <td>0</td>\n",
       "      <td>...</td>\n",
       "      <td>0</td>\n",
       "      <td>1</td>\n",
       "      <td>0</td>\n",
       "      <td>0</td>\n",
       "      <td>0</td>\n",
       "      <td>0</td>\n",
       "      <td>0</td>\n",
       "      <td>0</td>\n",
       "      <td>0</td>\n",
       "      <td>9</td>\n",
       "    </tr>\n",
       "    <tr>\n",
       "      <th>2</th>\n",
       "      <td>2</td>\n",
       "      <td>0</td>\n",
       "      <td>0</td>\n",
       "      <td>0</td>\n",
       "      <td>1</td>\n",
       "      <td>0</td>\n",
       "      <td>0</td>\n",
       "      <td>0</td>\n",
       "      <td>0</td>\n",
       "      <td>0</td>\n",
       "      <td>...</td>\n",
       "      <td>0</td>\n",
       "      <td>0</td>\n",
       "      <td>0</td>\n",
       "      <td>0</td>\n",
       "      <td>0</td>\n",
       "      <td>0</td>\n",
       "      <td>0</td>\n",
       "      <td>0</td>\n",
       "      <td>0</td>\n",
       "      <td>5</td>\n",
       "    </tr>\n",
       "    <tr>\n",
       "      <th>4</th>\n",
       "      <td>0</td>\n",
       "      <td>0</td>\n",
       "      <td>0</td>\n",
       "      <td>0</td>\n",
       "      <td>0</td>\n",
       "      <td>1</td>\n",
       "      <td>0</td>\n",
       "      <td>0</td>\n",
       "      <td>0</td>\n",
       "      <td>0</td>\n",
       "      <td>...</td>\n",
       "      <td>0</td>\n",
       "      <td>0</td>\n",
       "      <td>0</td>\n",
       "      <td>0</td>\n",
       "      <td>0</td>\n",
       "      <td>0</td>\n",
       "      <td>0</td>\n",
       "      <td>0</td>\n",
       "      <td>0</td>\n",
       "      <td>44</td>\n",
       "    </tr>\n",
       "    <tr>\n",
       "      <th>6</th>\n",
       "      <td>2</td>\n",
       "      <td>0</td>\n",
       "      <td>2</td>\n",
       "      <td>0</td>\n",
       "      <td>0</td>\n",
       "      <td>0</td>\n",
       "      <td>0</td>\n",
       "      <td>1</td>\n",
       "      <td>0</td>\n",
       "      <td>0</td>\n",
       "      <td>...</td>\n",
       "      <td>0</td>\n",
       "      <td>0</td>\n",
       "      <td>1</td>\n",
       "      <td>0</td>\n",
       "      <td>0</td>\n",
       "      <td>0</td>\n",
       "      <td>0</td>\n",
       "      <td>0</td>\n",
       "      <td>0</td>\n",
       "      <td>8</td>\n",
       "    </tr>\n",
       "    <tr>\n",
       "      <th>8</th>\n",
       "      <td>1</td>\n",
       "      <td>0</td>\n",
       "      <td>0</td>\n",
       "      <td>0</td>\n",
       "      <td>0</td>\n",
       "      <td>1</td>\n",
       "      <td>0</td>\n",
       "      <td>0</td>\n",
       "      <td>0</td>\n",
       "      <td>0</td>\n",
       "      <td>...</td>\n",
       "      <td>0</td>\n",
       "      <td>0</td>\n",
       "      <td>0</td>\n",
       "      <td>0</td>\n",
       "      <td>0</td>\n",
       "      <td>0</td>\n",
       "      <td>0</td>\n",
       "      <td>1</td>\n",
       "      <td>0</td>\n",
       "      <td>29</td>\n",
       "    </tr>\n",
       "  </tbody>\n",
       "</table>\n",
       "<p>5 rows × 101 columns</p>\n",
       "</div>"
      ],
      "text/plain": [
       "   c_1  c_2  c_3  c_4  c_5  c_6  c_7  c_8  c_9  c_10   ...     c_92  c_93  \\\n",
       "0    2    0    2    0    0    0    0    0    0     0   ...        0     1   \n",
       "2    2    0    0    0    1    0    0    0    0     0   ...        0     0   \n",
       "4    0    0    0    0    0    1    0    0    0     0   ...        0     0   \n",
       "6    2    0    2    0    0    0    0    1    0     0   ...        0     0   \n",
       "8    1    0    0    0    0    1    0    0    0     0   ...        0     0   \n",
       "\n",
       "   c_94  c_95  c_96  c_97  c_98  c_99  c_100  c_other  \n",
       "0     0     0     0     0     0     0      0        9  \n",
       "2     0     0     0     0     0     0      0        5  \n",
       "4     0     0     0     0     0     0      0       44  \n",
       "6     1     0     0     0     0     0      0        8  \n",
       "8     0     0     0     0     0     1      0       29  \n",
       "\n",
       "[5 rows x 101 columns]"
      ]
     },
     "execution_count": 2,
     "metadata": {},
     "output_type": "execute_result"
    }
   ],
   "source": [
    "# 导入已经保存好的events\n",
    "# 如果找不到, 再执行如下程序生成\n",
    "dpath = './data/'\n",
    "events = pd.read_csv(dpath+'events_cs.csv', dtype=np.int16,)\n",
    "events = events[::2]\n",
    "events.head()"
   ]
  },
  {
   "cell_type": "markdown",
   "metadata": {},
   "source": [
    "```py\n",
    "dpath = 'D:/AI/00/Event_Recom/data/'\n",
    "events = pd.read_csv(dpath+'events.csv')\n",
    "events.head()\n",
    "print(events.loc[:,'c_1':].max(axis=0).max())\n",
    "events_cs = events.loc[:,'c_1':].astype(np.int16)\n",
    "events_cs = events_cs[::100]\n",
    "events_cs.info()\n",
    "events_cs.to_csv('./data/events_cs.csv', index=False)\n",
    "```"
   ]
  },
  {
   "cell_type": "markdown",
   "metadata": {},
   "source": [
    "# 降维"
   ]
  },
  {
   "cell_type": "code",
   "execution_count": 3,
   "metadata": {},
   "outputs": [
    {
     "name": "stdout",
     "output_type": "stream",
     "text": [
      "(15690, 11)\n"
     ]
    }
   ],
   "source": [
    "from sklearn.decomposition import PCA\n",
    "\n",
    "#对数据进行PCA降维\n",
    "pca = PCA(n_components=0.99)\n",
    "pca.fit(events)\n",
    "\n",
    "events_pca = pca.transform(events)\n",
    "\n",
    "# 降维后的特征维数\n",
    "print(events_pca.shape)"
   ]
  },
  {
   "cell_type": "markdown",
   "metadata": {},
   "source": [
    "# 聚类"
   ]
  },
  {
   "cell_type": "code",
   "execution_count": 4,
   "metadata": {
    "ExecuteTime": {
     "end_time": "2018-03-03T04:20:36.246619Z",
     "start_time": "2018-03-03T04:20:36.242116Z"
    }
   },
   "outputs": [],
   "source": [
    "from sklearn.cluster import MiniBatchKMeans\n",
    "from sklearn import metrics\n",
    "import time"
   ]
  },
  {
   "cell_type": "code",
   "execution_count": 5,
   "metadata": {
    "ExecuteTime": {
     "end_time": "2018-03-03T04:21:24.446244Z",
     "start_time": "2018-03-03T04:21:24.425731Z"
    }
   },
   "outputs": [],
   "source": [
    "# 一个参数点（聚类数据为K）的模型，在校验集上评价聚类算法性能\n",
    "\n",
    "def K_cluster_analysis(K, X_train):\n",
    "    start = time.time()\n",
    "    \n",
    "    print(\"K-means begin with clusters: {}\".format(K));\n",
    "    \n",
    "    #K-means,在训练集上训练\n",
    "    kmeans = MiniBatchKMeans(n_clusters = K, random_state=66)\n",
    "    kmeans.fit(X_train)\n",
    "    \n",
    "    \n",
    "    # K值的评估标准\n",
    "    #常见的方法有轮廓系数Silhouette Coefficient和Calinski-Harabasz Index\n",
    "    CH_score = metrics.silhouette_score(X_train,kmeans.predict(X_train))\n",
    "    \n",
    "    \n",
    "    end = time.time()\n",
    "    print(\"CH_score: {0}, time elaps: {1}\".format(CH_score, int(end-start)))\n",
    "    \n",
    "    return CH_score"
   ]
  },
  {
   "cell_type": "code",
   "execution_count": 6,
   "metadata": {
    "ExecuteTime": {
     "end_time": "2018-03-03T04:32:45.647051Z",
     "start_time": "2018-03-03T04:29:21.565406Z"
    }
   },
   "outputs": [
    {
     "name": "stdout",
     "output_type": "stream",
     "text": [
      "K-means begin with clusters: 10\n",
      "CH_score: 0.40755597735613464, time elaps: 13\n",
      "K-means begin with clusters: 20\n",
      "CH_score: 0.3070092308654318, time elaps: 12\n",
      "K-means begin with clusters: 30\n",
      "CH_score: 0.22049263966555674, time elaps: 11\n",
      "K-means begin with clusters: 40\n",
      "CH_score: 0.19895284920696085, time elaps: 11\n",
      "K-means begin with clusters: 50\n",
      "CH_score: 0.1897470928744306, time elaps: 11\n",
      "K-means begin with clusters: 60\n",
      "CH_score: 0.18029676502260816, time elaps: 11\n",
      "K-means begin with clusters: 70\n",
      "CH_score: 0.16380315630545297, time elaps: 11\n",
      "K-means begin with clusters: 80\n",
      "CH_score: 0.17460590379325264, time elaps: 10\n",
      "K-means begin with clusters: 90\n",
      "CH_score: 0.13910503567998353, time elaps: 11\n",
      "K-means begin with clusters: 100\n",
      "CH_score: 0.151223873121015, time elaps: 11\n"
     ]
    }
   ],
   "source": [
    "# 设置超参数（聚类数目K）搜索范围\n",
    "Ks = range(10,101,10)\n",
    "CH_scores = []\n",
    "\n",
    "for K in Ks:\n",
    "    ch = K_cluster_analysis(K=K, X_train=events_pca)\n",
    "    CH_scores.append(ch)"
   ]
  },
  {
   "cell_type": "code",
   "execution_count": 7,
   "metadata": {
    "ExecuteTime": {
     "end_time": "2018-03-03T04:53:24.247106Z",
     "start_time": "2018-03-03T04:53:24.011974Z"
    }
   },
   "outputs": [
    {
     "data": {
      "text/plain": [
       "[<matplotlib.lines.Line2D at 0x1fa0cc31208>]"
      ]
     },
     "execution_count": 7,
     "metadata": {},
     "output_type": "execute_result"
    },
    {
     "data": {
      "image/png": "[encoded data removed]",
      "text/plain": [
       "<Figure size 432x288 with 1 Axes>"
      ]
     },
     "metadata": {},
     "output_type": "display_data"
    }
   ],
   "source": [
    "plt.plot(Ks,CH_scores)"
   ]
  },
  {
   "cell_type": "markdown",
   "metadata": {},
   "source": [
    "**从图中可以看出, 类别数目越多, CH_score越小    \n",
    "毕竟不同的事件, 最常出现的词干不同** "
   ]
  },
  {
   "cell_type": "code",
   "execution_count": 8,
   "metadata": {
    "ExecuteTime": {
     "end_time": "2018-03-03T04:56:49.235250Z",
     "start_time": "2018-03-03T04:54:09.894793Z"
    }
   },
   "outputs": [
    {
     "name": "stdout",
     "output_type": "stream",
     "text": [
      "K-means begin with clusters: 3\n",
      "CH_score: 0.6550586331060769, time elaps: 13\n",
      "K-means begin with clusters: 6\n",
      "CH_score: 0.5201549398439561, time elaps: 12\n",
      "K-means begin with clusters: 9\n",
      "CH_score: 0.4186613843864797, time elaps: 12\n",
      "K-means begin with clusters: 12\n",
      "CH_score: 0.40073210078466215, time elaps: 12\n",
      "K-means begin with clusters: 15\n",
      "CH_score: 0.3605674418048711, time elaps: 12\n"
     ]
    }
   ],
   "source": [
    "# 设置超参数（聚类数目K）, 扩大搜索范围\n",
    "Ks = range(3,16,3)\n",
    "CH_scores = []\n",
    "\n",
    "for K in Ks:\n",
    "    ch = K_cluster_analysis(K=K, X_train=events_pca)\n",
    "    CH_scores.append(ch)"
   ]
  },
  {
   "cell_type": "code",
   "execution_count": 9,
   "metadata": {
    "ExecuteTime": {
     "end_time": "2018-03-03T04:56:50.525376Z",
     "start_time": "2018-03-03T04:56:50.370750Z"
    }
   },
   "outputs": [
    {
     "data": {
      "text/plain": [
       "[<matplotlib.lines.Line2D at 0x1fc0e7c62b0>]"
      ]
     },
     "execution_count": 9,
     "metadata": {},
     "output_type": "execute_result"
    },
    {
     "data": {
      "image/png": "[encoded data removed]",
      "text/plain": [
       "<Figure size 432x288 with 1 Axes>"
      ]
     },
     "metadata": {},
     "output_type": "display_data"
    }
   ],
   "source": [
    "plt.plot(Ks,CH_scores)"
   ]
  },
  {
   "cell_type": "markdown",
   "metadata": {},
   "source": [
    "**将分类类别扩大到150仍然是下降趋势**"
   ]
  },
  {
   "cell_type": "code",
   "execution_count": 10,
   "metadata": {
    "ExecuteTime": {
     "end_time": "2018-03-03T06:05:56.216645Z",
     "start_time": "2018-03-03T06:04:53.856941Z"
    }
   },
   "outputs": [
    {
     "name": "stdout",
     "output_type": "stream",
     "text": [
      "K-means begin with clusters: 300\n",
      "CH_score: 0.12990438707280672, time elaps: 20\n"
     ]
    },
    {
     "data": {
      "text/plain": [
       "0.12990438707280672"
      ]
     },
     "execution_count": 10,
     "metadata": {},
     "output_type": "execute_result"
    }
   ],
   "source": [
    "K_cluster_analysis(K=300, X_train=events_pca)"
   ]
  },
  {
   "cell_type": "markdown",
   "metadata": {},
   "source": [
    "# 总结分析"
   ]
  },
  {
   "cell_type": "markdown",
   "metadata": {},
   "source": [
    "**将分类类别扩大到300,CH_score= 0.11582691625710592    \n",
    "而分类类别为150时, CH_score= 0.12862576653872518    \n",
    "此时的CH_score相差并没有那么大了**"
   ]
  },
  {
   "cell_type": "markdown",
   "metadata": {},
   "source": [
    "**相对应的n_clusters应该在150到200之间**"
   ]
  },
  {
   "cell_type": "code",
   "execution_count": null,
   "metadata": {},
   "outputs": [],
   "source": []
  }
 ],
 "metadata": {
  "anaconda-cloud": {},
  "kernelspec": {
   "display_name": "Python 3",
   "language": "python",
   "name": "python3"
  },
  "language_info": {
   "codemirror_mode": {
    "name": "ipython",
    "version": 3
   },
   "file_extension": ".py",
   "mimetype": "text/x-python",
   "name": "python",
   "nbconvert_exporter": "python",
   "pygments_lexer": "ipython3",
   "version": "3.6.5"
  },
  "toc": {
   "nav_menu": {},
   "number_sections": true,
   "sideBar": true,
   "skip_h1_title": false,
   "title_cell": "Table of Contents",
   "title_sidebar": "Contents",
   "toc_cell": true,
   "toc_position": {},
   "toc_section_display": true,
   "toc_window_display": false
  }
 },
 "nbformat": 4,
 "nbformat_minor": 2
}
