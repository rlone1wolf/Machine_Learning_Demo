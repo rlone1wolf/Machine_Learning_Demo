{
 "cells": [
  {
   "cell_type": "markdown",
   "metadata": {},
   "source": [
    "# 直接调用XGBoost\n",
    "该示例中我们在xgboost安装包中自带的Mushroom数据集演示直接调用XGBoost\n",
    "1. 读取数据--> DMatrix\n",
    "2. 设置参数\n",
    "3. 模型训练：train/cv\n",
    "    3.1: train with 在校验集上early stop\n",
    "    3.2: cv\n",
    "4. 预测"
   ]
  },
  {
   "cell_type": "markdown",
   "metadata": {},
   "source": [
    "## 导入必要的工具包"
   ]
  },
  {
   "cell_type": "code",
   "execution_count": 1,
   "metadata": {},
   "outputs": [],
   "source": [
    "# 导入必要的工具包\n",
    "import xgboost as xgb\n",
    "\n",
    "# 计算分类正确率\n",
    "from sklearn.metrics import accuracy_score"
   ]
  },
  {
   "cell_type": "markdown",
   "metadata": {},
   "source": [
    "## 数据读取"
   ]
  },
  {
   "cell_type": "markdown",
   "metadata": {},
   "source": [
    "XGBoost可以加载libsvm格式的文本数据，libsvm的文件格式（稀疏特征）如下：\n",
    "1 101:1.2 102:0.03\n",
    "0 1:2.1 10001:300 10002:400\n",
    "...\n",
    "\n",
    "每一行表示一个样本，第一行的开头的“1”是样本的标签。“101”和“102”为特征索引，'1.2'和'0.03' 为特征的值。\n",
    "在两类分类中，用“1”表示正样本，用“0” 表示负样本。也支持[0,1]表示概率用来做标签，表示为正样本的概率。\n",
    "\n",
    "下面的示例数据需要我们通过一些蘑菇的若干属性判断这个品种是否有毒。\n",
    "UCI数据描述：http://archive.ics.uci.edu/ml/machine-learning-databases/mushroom/ ，\n",
    "每个样本描述了蘑菇的22个属性，比如形状、气味等等（将22维原始特征用加工后变成了126维特征，\n",
    "并存为libsvm格式)，然后给出了这个蘑菇是否可食用。其中6513个样本做训练，1611个样本做测试。\n",
    "\n",
    "XGBoost加载的数据存储在对象DMatrix中\n",
    "XGBoost自定义了一个数据矩阵类DMatrix，优化了存储和运算速度\n",
    "DMatrix文档：http://xgboost.readthedocs.io/en/latest/python/python_api.html"
   ]
  },
  {
   "cell_type": "code",
   "execution_count": 46,
   "metadata": {},
   "outputs": [
    {
     "name": "stdout",
     "output_type": "stream",
     "text": [
      "[17:46:52] 6513x127 matrix with 143286 entries loaded from ./data/agaricus.txt.train\n",
      "[17:46:52] 1611x127 matrix with 35442 entries loaded from ./data/agaricus.txt.test\n"
     ]
    }
   ],
   "source": [
    "# read in data，数据在xgboost安装的路径下的demo目录,现在我们将其copy到当前代码下的data目录\n",
    "dpath = './data/'\n",
    "dtrain = xgb.DMatrix(dpath + 'agaricus.txt.train')\n",
    "dtest = xgb.DMatrix(dpath + 'agaricus.txt.test')"
   ]
  },
  {
   "cell_type": "markdown",
   "metadata": {},
   "source": [
    "查看数据情况"
   ]
  },
  {
   "cell_type": "code",
   "execution_count": 47,
   "metadata": {},
   "outputs": [
    {
     "data": {
      "text/plain": [
       "127"
      ]
     },
     "execution_count": 47,
     "metadata": {},
     "output_type": "execute_result"
    }
   ],
   "source": [
    "dtrain.num_col()"
   ]
  },
  {
   "cell_type": "code",
   "execution_count": 48,
   "metadata": {},
   "outputs": [
    {
     "data": {
      "text/plain": [
       "6513"
      ]
     },
     "execution_count": 48,
     "metadata": {},
     "output_type": "execute_result"
    }
   ],
   "source": [
    "dtrain.num_row()"
   ]
  },
  {
   "cell_type": "code",
   "execution_count": 49,
   "metadata": {},
   "outputs": [
    {
     "data": {
      "text/plain": [
       "1611"
      ]
     },
     "execution_count": 49,
     "metadata": {},
     "output_type": "execute_result"
    }
   ],
   "source": [
    "dtest.num_row()"
   ]
  },
  {
   "cell_type": "markdown",
   "metadata": {},
   "source": [
    "## 训练参数设置"
   ]
  },
  {
   "cell_type": "markdown",
   "metadata": {},
   "source": [
    "max_depth： 树的最大深度。缺省值为6，取值范围为：[1,∞]\n",
    "eta：学习率。为了防止过拟合，更新过程中用到的收缩步长。\n",
    "eta通过缩减特征的权重使提升计算过程更加保守。缺省值为0.3，取值范围为：[0,1]\n",
    "silent：取0时表示打印出运行时信息，取1时表示以缄默方式运行，不打印运行时信息。缺省值为0\n",
    "objective： 定义学习任务及相应的学习目标，“binary:logistic” 表示二分类的逻辑回归问题，输出为概率。\n",
    "\n",
    "其他参数取默认值。"
   ]
  },
  {
   "cell_type": "code",
   "execution_count": 62,
   "metadata": {},
   "outputs": [],
   "source": [
    "# specify parameters via map\n",
    "param = {'max_depth':2, 'eta':1, 'silent':1, 'objective':'binary:logistic' }"
   ]
  },
  {
   "cell_type": "markdown",
   "metadata": {},
   "source": [
    "## 训练模型"
   ]
  },
  {
   "cell_type": "markdown",
   "metadata": {},
   "source": [
    "有了参数列表和数据就可以训练模型了 "
   ]
  },
  {
   "cell_type": "code",
   "execution_count": 63,
   "metadata": {},
   "outputs": [],
   "source": [
    "# 设置boosting迭代计算次数，即若学习器（决策树）的数目\n",
    "num_round = 2\n",
    "\n",
    "#import time\n",
    "#starttime = time.clock()\n",
    "\n",
    "bst = xgb.train(param, dtrain, num_round)\n",
    "\n",
    "#endtime = time.clock()\n",
    "#print (endtime - starttime)"
   ]
  },
  {
   "cell_type": "markdown",
   "metadata": {},
   "source": [
    "查看模型在训练集上的分类性能"
   ]
  },
  {
   "cell_type": "markdown",
   "metadata": {},
   "source": [
    "XGBoost预测的输出是概率。这里蘑菇分类是一个二类分类问题，输出值是样本为第一类的概率。\n",
    "我们需要将概率值转换为0或1。"
   ]
  },
  {
   "cell_type": "code",
   "execution_count": 64,
   "metadata": {},
   "outputs": [
    {
     "name": "stdout",
     "output_type": "stream",
     "text": [
      "Train Accuary: 97.77%\n"
     ]
    }
   ],
   "source": [
    "train_preds = bst.predict(dtrain)\n",
    "train_predictions = [round(value) for value in train_preds]\n",
    "y_train = dtrain.get_label()\n",
    "train_accuracy = accuracy_score(y_train, train_predictions)\n",
    "print (\"Train Accuary: %.2f%%\" % (train_accuracy * 100.0))"
   ]
  },
  {
   "cell_type": "markdown",
   "metadata": {},
   "source": [
    "## 测试"
   ]
  },
  {
   "cell_type": "markdown",
   "metadata": {},
   "source": [
    "模型训练好后，可以用训练好的模型对测试数据进行预测"
   ]
  },
  {
   "cell_type": "code",
   "execution_count": 65,
   "metadata": {},
   "outputs": [],
   "source": [
    "# make prediction\n",
    "preds = bst.predict(dtest)"
   ]
  },
  {
   "cell_type": "markdown",
   "metadata": {},
   "source": [
    "检查模型在测试集上的正确率\n",
    "XGBoost预测的输出是概率，输出值是样本为第一类的概率。我们需要将概率值转换为0或1。"
   ]
  },
  {
   "cell_type": "code",
   "execution_count": 66,
   "metadata": {},
   "outputs": [],
   "source": [
    "predictions = preds.round()"
   ]
  },
  {
   "cell_type": "code",
   "execution_count": 67,
   "metadata": {},
   "outputs": [
    {
     "name": "stdout",
     "output_type": "stream",
     "text": [
      "Test Accuracy: 97.83%\n"
     ]
    }
   ],
   "source": [
    "y_test = dtest.get_label()\n",
    "test_accuracy = accuracy_score(y_test, predictions)\n",
    "print(\"Test Accuracy: %.2f%%\" % (test_accuracy * 100.0))"
   ]
  },
  {
   "cell_type": "markdown",
   "metadata": {},
   "source": [
    "## 模型可视化"
   ]
  },
  {
   "cell_type": "markdown",
   "metadata": {},
   "source": [
    "调用XGBoost工具包中的plot_tree，在显示\n",
    "要可视化模型需要安装graphviz软件包\n",
    "ip install graphviz\n",
    "\n",
    "plot_tree（）的三个参数：\n",
    "1. 模型\n",
    "2. 树的索引，从0开始\n",
    "3. 显示方向，缺省为竖直，‘LR'是水平方向"
   ]
  },
  {
   "cell_type": "code",
   "execution_count": 68,
   "metadata": {},
   "outputs": [],
   "source": [
    "from matplotlib import pyplot as plt\n",
    "import graphviz\n",
    "#xgb.plot_tree(bst, num_trees=0, rankdir= 'LR' )\n",
    "#pyplot.show()\n",
    "\n",
    "#xgb.plot_tree(bst,num_trees=1, rankdir= 'LR' )\n",
    "#pyplot.show()\n",
    "#xgb.to_graphviz(bst,num_trees=0)\n",
    "#xgb.to_graphviz(bst,num_trees=1)\n",
    "#plt.show()"
   ]
  },
  {
   "cell_type": "markdown",
   "metadata": {
    "collapsed": true
   },
   "source": [
    "## 采用交叉验证得到最佳的n_estimators"
   ]
  },
  {
   "cell_type": "code",
   "execution_count": 69,
   "metadata": {},
   "outputs": [],
   "source": [
    "n_estimators = 1000\n",
    "early_stopping_rounds = 5\n",
    "cv_result = xgb.cv(param, dtrain, \n",
    "                   num_boost_round=n_estimators, \n",
    "                   nfold = 5,\n",
    "                   metrics='logloss', \n",
    "                   early_stopping_rounds=early_stopping_rounds, \n",
    "                   show_stdv=False)"
   ]
  },
  {
   "cell_type": "code",
   "execution_count": 70,
   "metadata": {},
   "outputs": [
    {
     "data": {
      "text/html": [
       "<div>\n",
       "<style scoped>\n",
       "    .dataframe tbody tr th:only-of-type {\n",
       "        vertical-align: middle;\n",
       "    }\n",
       "\n",
       "    .dataframe tbody tr th {\n",
       "        vertical-align: top;\n",
       "    }\n",
       "\n",
       "    .dataframe thead th {\n",
       "        text-align: right;\n",
       "    }\n",
       "</style>\n",
       "<table border=\"1\" class=\"dataframe\">\n",
       "  <thead>\n",
       "    <tr style=\"text-align: right;\">\n",
       "      <th></th>\n",
       "      <th>train-logloss-mean</th>\n",
       "      <th>train-logloss-std</th>\n",
       "      <th>test-logloss-mean</th>\n",
       "      <th>test-logloss-std</th>\n",
       "    </tr>\n",
       "  </thead>\n",
       "  <tbody>\n",
       "    <tr>\n",
       "      <th>0</th>\n",
       "      <td>0.232276</td>\n",
       "      <td>0.002764</td>\n",
       "      <td>0.237192</td>\n",
       "      <td>0.008561</td>\n",
       "    </tr>\n",
       "    <tr>\n",
       "      <th>1</th>\n",
       "      <td>0.128908</td>\n",
       "      <td>0.015723</td>\n",
       "      <td>0.129053</td>\n",
       "      <td>0.017790</td>\n",
       "    </tr>\n",
       "    <tr>\n",
       "      <th>2</th>\n",
       "      <td>0.079155</td>\n",
       "      <td>0.006541</td>\n",
       "      <td>0.080354</td>\n",
       "      <td>0.008758</td>\n",
       "    </tr>\n",
       "    <tr>\n",
       "      <th>3</th>\n",
       "      <td>0.055031</td>\n",
       "      <td>0.002475</td>\n",
       "      <td>0.056482</td>\n",
       "      <td>0.005101</td>\n",
       "    </tr>\n",
       "    <tr>\n",
       "      <th>4</th>\n",
       "      <td>0.040214</td>\n",
       "      <td>0.001537</td>\n",
       "      <td>0.042620</td>\n",
       "      <td>0.005158</td>\n",
       "    </tr>\n",
       "    <tr>\n",
       "      <th>5</th>\n",
       "      <td>0.027549</td>\n",
       "      <td>0.001898</td>\n",
       "      <td>0.028188</td>\n",
       "      <td>0.006611</td>\n",
       "    </tr>\n",
       "    <tr>\n",
       "      <th>6</th>\n",
       "      <td>0.018382</td>\n",
       "      <td>0.000520</td>\n",
       "      <td>0.019780</td>\n",
       "      <td>0.005154</td>\n",
       "    </tr>\n",
       "    <tr>\n",
       "      <th>7</th>\n",
       "      <td>0.013431</td>\n",
       "      <td>0.000898</td>\n",
       "      <td>0.015061</td>\n",
       "      <td>0.004831</td>\n",
       "    </tr>\n",
       "    <tr>\n",
       "      <th>8</th>\n",
       "      <td>0.010009</td>\n",
       "      <td>0.000617</td>\n",
       "      <td>0.011999</td>\n",
       "      <td>0.002829</td>\n",
       "    </tr>\n",
       "    <tr>\n",
       "      <th>9</th>\n",
       "      <td>0.008333</td>\n",
       "      <td>0.000646</td>\n",
       "      <td>0.009870</td>\n",
       "      <td>0.002342</td>\n",
       "    </tr>\n",
       "    <tr>\n",
       "      <th>10</th>\n",
       "      <td>0.006269</td>\n",
       "      <td>0.000546</td>\n",
       "      <td>0.006680</td>\n",
       "      <td>0.001233</td>\n",
       "    </tr>\n",
       "    <tr>\n",
       "      <th>11</th>\n",
       "      <td>0.004734</td>\n",
       "      <td>0.000565</td>\n",
       "      <td>0.005023</td>\n",
       "      <td>0.000912</td>\n",
       "    </tr>\n",
       "    <tr>\n",
       "      <th>12</th>\n",
       "      <td>0.003784</td>\n",
       "      <td>0.000315</td>\n",
       "      <td>0.004039</td>\n",
       "      <td>0.000752</td>\n",
       "    </tr>\n",
       "    <tr>\n",
       "      <th>13</th>\n",
       "      <td>0.003218</td>\n",
       "      <td>0.000356</td>\n",
       "      <td>0.003457</td>\n",
       "      <td>0.000725</td>\n",
       "    </tr>\n",
       "    <tr>\n",
       "      <th>14</th>\n",
       "      <td>0.002639</td>\n",
       "      <td>0.000181</td>\n",
       "      <td>0.002875</td>\n",
       "      <td>0.000555</td>\n",
       "    </tr>\n",
       "    <tr>\n",
       "      <th>15</th>\n",
       "      <td>0.002283</td>\n",
       "      <td>0.000148</td>\n",
       "      <td>0.002394</td>\n",
       "      <td>0.000502</td>\n",
       "    </tr>\n",
       "    <tr>\n",
       "      <th>16</th>\n",
       "      <td>0.001999</td>\n",
       "      <td>0.000141</td>\n",
       "      <td>0.002075</td>\n",
       "      <td>0.000372</td>\n",
       "    </tr>\n",
       "    <tr>\n",
       "      <th>17</th>\n",
       "      <td>0.001769</td>\n",
       "      <td>0.000135</td>\n",
       "      <td>0.001808</td>\n",
       "      <td>0.000256</td>\n",
       "    </tr>\n",
       "    <tr>\n",
       "      <th>18</th>\n",
       "      <td>0.001559</td>\n",
       "      <td>0.000108</td>\n",
       "      <td>0.001609</td>\n",
       "      <td>0.000198</td>\n",
       "    </tr>\n",
       "    <tr>\n",
       "      <th>19</th>\n",
       "      <td>0.001423</td>\n",
       "      <td>0.000097</td>\n",
       "      <td>0.001491</td>\n",
       "      <td>0.000173</td>\n",
       "    </tr>\n",
       "    <tr>\n",
       "      <th>20</th>\n",
       "      <td>0.001312</td>\n",
       "      <td>0.000115</td>\n",
       "      <td>0.001383</td>\n",
       "      <td>0.000165</td>\n",
       "    </tr>\n",
       "    <tr>\n",
       "      <th>21</th>\n",
       "      <td>0.001152</td>\n",
       "      <td>0.000068</td>\n",
       "      <td>0.001192</td>\n",
       "      <td>0.000101</td>\n",
       "    </tr>\n",
       "    <tr>\n",
       "      <th>22</th>\n",
       "      <td>0.001050</td>\n",
       "      <td>0.000063</td>\n",
       "      <td>0.001098</td>\n",
       "      <td>0.000104</td>\n",
       "    </tr>\n",
       "    <tr>\n",
       "      <th>23</th>\n",
       "      <td>0.000972</td>\n",
       "      <td>0.000050</td>\n",
       "      <td>0.001013</td>\n",
       "      <td>0.000067</td>\n",
       "    </tr>\n",
       "    <tr>\n",
       "      <th>24</th>\n",
       "      <td>0.000922</td>\n",
       "      <td>0.000041</td>\n",
       "      <td>0.000960</td>\n",
       "      <td>0.000070</td>\n",
       "    </tr>\n",
       "    <tr>\n",
       "      <th>25</th>\n",
       "      <td>0.000872</td>\n",
       "      <td>0.000030</td>\n",
       "      <td>0.000914</td>\n",
       "      <td>0.000064</td>\n",
       "    </tr>\n",
       "    <tr>\n",
       "      <th>26</th>\n",
       "      <td>0.000836</td>\n",
       "      <td>0.000036</td>\n",
       "      <td>0.000881</td>\n",
       "      <td>0.000064</td>\n",
       "    </tr>\n",
       "    <tr>\n",
       "      <th>27</th>\n",
       "      <td>0.000799</td>\n",
       "      <td>0.000027</td>\n",
       "      <td>0.000848</td>\n",
       "      <td>0.000058</td>\n",
       "    </tr>\n",
       "    <tr>\n",
       "      <th>28</th>\n",
       "      <td>0.000774</td>\n",
       "      <td>0.000024</td>\n",
       "      <td>0.000815</td>\n",
       "      <td>0.000067</td>\n",
       "    </tr>\n",
       "    <tr>\n",
       "      <th>29</th>\n",
       "      <td>0.000749</td>\n",
       "      <td>0.000016</td>\n",
       "      <td>0.000806</td>\n",
       "      <td>0.000074</td>\n",
       "    </tr>\n",
       "    <tr>\n",
       "      <th>...</th>\n",
       "      <td>...</td>\n",
       "      <td>...</td>\n",
       "      <td>...</td>\n",
       "      <td>...</td>\n",
       "    </tr>\n",
       "    <tr>\n",
       "      <th>69</th>\n",
       "      <td>0.000569</td>\n",
       "      <td>0.000008</td>\n",
       "      <td>0.000610</td>\n",
       "      <td>0.000086</td>\n",
       "    </tr>\n",
       "    <tr>\n",
       "      <th>70</th>\n",
       "      <td>0.000568</td>\n",
       "      <td>0.000007</td>\n",
       "      <td>0.000608</td>\n",
       "      <td>0.000085</td>\n",
       "    </tr>\n",
       "    <tr>\n",
       "      <th>71</th>\n",
       "      <td>0.000567</td>\n",
       "      <td>0.000008</td>\n",
       "      <td>0.000609</td>\n",
       "      <td>0.000085</td>\n",
       "    </tr>\n",
       "    <tr>\n",
       "      <th>72</th>\n",
       "      <td>0.000566</td>\n",
       "      <td>0.000008</td>\n",
       "      <td>0.000609</td>\n",
       "      <td>0.000086</td>\n",
       "    </tr>\n",
       "    <tr>\n",
       "      <th>73</th>\n",
       "      <td>0.000565</td>\n",
       "      <td>0.000008</td>\n",
       "      <td>0.000607</td>\n",
       "      <td>0.000086</td>\n",
       "    </tr>\n",
       "    <tr>\n",
       "      <th>74</th>\n",
       "      <td>0.000564</td>\n",
       "      <td>0.000007</td>\n",
       "      <td>0.000607</td>\n",
       "      <td>0.000086</td>\n",
       "    </tr>\n",
       "    <tr>\n",
       "      <th>75</th>\n",
       "      <td>0.000564</td>\n",
       "      <td>0.000007</td>\n",
       "      <td>0.000607</td>\n",
       "      <td>0.000087</td>\n",
       "    </tr>\n",
       "    <tr>\n",
       "      <th>76</th>\n",
       "      <td>0.000563</td>\n",
       "      <td>0.000007</td>\n",
       "      <td>0.000606</td>\n",
       "      <td>0.000085</td>\n",
       "    </tr>\n",
       "    <tr>\n",
       "      <th>77</th>\n",
       "      <td>0.000562</td>\n",
       "      <td>0.000008</td>\n",
       "      <td>0.000605</td>\n",
       "      <td>0.000087</td>\n",
       "    </tr>\n",
       "    <tr>\n",
       "      <th>78</th>\n",
       "      <td>0.000561</td>\n",
       "      <td>0.000008</td>\n",
       "      <td>0.000603</td>\n",
       "      <td>0.000086</td>\n",
       "    </tr>\n",
       "    <tr>\n",
       "      <th>79</th>\n",
       "      <td>0.000560</td>\n",
       "      <td>0.000007</td>\n",
       "      <td>0.000602</td>\n",
       "      <td>0.000087</td>\n",
       "    </tr>\n",
       "    <tr>\n",
       "      <th>80</th>\n",
       "      <td>0.000560</td>\n",
       "      <td>0.000007</td>\n",
       "      <td>0.000601</td>\n",
       "      <td>0.000085</td>\n",
       "    </tr>\n",
       "    <tr>\n",
       "      <th>81</th>\n",
       "      <td>0.000559</td>\n",
       "      <td>0.000007</td>\n",
       "      <td>0.000602</td>\n",
       "      <td>0.000085</td>\n",
       "    </tr>\n",
       "    <tr>\n",
       "      <th>82</th>\n",
       "      <td>0.000558</td>\n",
       "      <td>0.000007</td>\n",
       "      <td>0.000601</td>\n",
       "      <td>0.000086</td>\n",
       "    </tr>\n",
       "    <tr>\n",
       "      <th>83</th>\n",
       "      <td>0.000558</td>\n",
       "      <td>0.000007</td>\n",
       "      <td>0.000600</td>\n",
       "      <td>0.000085</td>\n",
       "    </tr>\n",
       "    <tr>\n",
       "      <th>84</th>\n",
       "      <td>0.000557</td>\n",
       "      <td>0.000007</td>\n",
       "      <td>0.000600</td>\n",
       "      <td>0.000086</td>\n",
       "    </tr>\n",
       "    <tr>\n",
       "      <th>85</th>\n",
       "      <td>0.000557</td>\n",
       "      <td>0.000007</td>\n",
       "      <td>0.000600</td>\n",
       "      <td>0.000087</td>\n",
       "    </tr>\n",
       "    <tr>\n",
       "      <th>86</th>\n",
       "      <td>0.000556</td>\n",
       "      <td>0.000007</td>\n",
       "      <td>0.000600</td>\n",
       "      <td>0.000086</td>\n",
       "    </tr>\n",
       "    <tr>\n",
       "      <th>87</th>\n",
       "      <td>0.000556</td>\n",
       "      <td>0.000007</td>\n",
       "      <td>0.000600</td>\n",
       "      <td>0.000087</td>\n",
       "    </tr>\n",
       "    <tr>\n",
       "      <th>88</th>\n",
       "      <td>0.000555</td>\n",
       "      <td>0.000007</td>\n",
       "      <td>0.000598</td>\n",
       "      <td>0.000086</td>\n",
       "    </tr>\n",
       "    <tr>\n",
       "      <th>89</th>\n",
       "      <td>0.000555</td>\n",
       "      <td>0.000007</td>\n",
       "      <td>0.000599</td>\n",
       "      <td>0.000087</td>\n",
       "    </tr>\n",
       "    <tr>\n",
       "      <th>90</th>\n",
       "      <td>0.000554</td>\n",
       "      <td>0.000007</td>\n",
       "      <td>0.000599</td>\n",
       "      <td>0.000088</td>\n",
       "    </tr>\n",
       "    <tr>\n",
       "      <th>91</th>\n",
       "      <td>0.000554</td>\n",
       "      <td>0.000007</td>\n",
       "      <td>0.000598</td>\n",
       "      <td>0.000086</td>\n",
       "    </tr>\n",
       "    <tr>\n",
       "      <th>92</th>\n",
       "      <td>0.000554</td>\n",
       "      <td>0.000006</td>\n",
       "      <td>0.000598</td>\n",
       "      <td>0.000086</td>\n",
       "    </tr>\n",
       "    <tr>\n",
       "      <th>93</th>\n",
       "      <td>0.000553</td>\n",
       "      <td>0.000007</td>\n",
       "      <td>0.000599</td>\n",
       "      <td>0.000087</td>\n",
       "    </tr>\n",
       "    <tr>\n",
       "      <th>94</th>\n",
       "      <td>0.000553</td>\n",
       "      <td>0.000007</td>\n",
       "      <td>0.000598</td>\n",
       "      <td>0.000087</td>\n",
       "    </tr>\n",
       "    <tr>\n",
       "      <th>95</th>\n",
       "      <td>0.000553</td>\n",
       "      <td>0.000006</td>\n",
       "      <td>0.000598</td>\n",
       "      <td>0.000086</td>\n",
       "    </tr>\n",
       "    <tr>\n",
       "      <th>96</th>\n",
       "      <td>0.000553</td>\n",
       "      <td>0.000006</td>\n",
       "      <td>0.000598</td>\n",
       "      <td>0.000086</td>\n",
       "    </tr>\n",
       "    <tr>\n",
       "      <th>97</th>\n",
       "      <td>0.000552</td>\n",
       "      <td>0.000007</td>\n",
       "      <td>0.000598</td>\n",
       "      <td>0.000087</td>\n",
       "    </tr>\n",
       "    <tr>\n",
       "      <th>98</th>\n",
       "      <td>0.000552</td>\n",
       "      <td>0.000006</td>\n",
       "      <td>0.000597</td>\n",
       "      <td>0.000086</td>\n",
       "    </tr>\n",
       "  </tbody>\n",
       "</table>\n",
       "<p>99 rows × 4 columns</p>\n",
       "</div>"
      ],
      "text/plain": [
       "    train-logloss-mean  train-logloss-std  test-logloss-mean  test-logloss-std\n",
       "0             0.232276           0.002764           0.237192          0.008561\n",
       "1             0.128908           0.015723           0.129053          0.017790\n",
       "2             0.079155           0.006541           0.080354          0.008758\n",
       "3             0.055031           0.002475           0.056482          0.005101\n",
       "4             0.040214           0.001537           0.042620          0.005158\n",
       "5             0.027549           0.001898           0.028188          0.006611\n",
       "6             0.018382           0.000520           0.019780          0.005154\n",
       "7             0.013431           0.000898           0.015061          0.004831\n",
       "8             0.010009           0.000617           0.011999          0.002829\n",
       "9             0.008333           0.000646           0.009870          0.002342\n",
       "10            0.006269           0.000546           0.006680          0.001233\n",
       "11            0.004734           0.000565           0.005023          0.000912\n",
       "12            0.003784           0.000315           0.004039          0.000752\n",
       "13            0.003218           0.000356           0.003457          0.000725\n",
       "14            0.002639           0.000181           0.002875          0.000555\n",
       "15            0.002283           0.000148           0.002394          0.000502\n",
       "16            0.001999           0.000141           0.002075          0.000372\n",
       "17            0.001769           0.000135           0.001808          0.000256\n",
       "18            0.001559           0.000108           0.001609          0.000198\n",
       "19            0.001423           0.000097           0.001491          0.000173\n",
       "20            0.001312           0.000115           0.001383          0.000165\n",
       "21            0.001152           0.000068           0.001192          0.000101\n",
       "22            0.001050           0.000063           0.001098          0.000104\n",
       "23            0.000972           0.000050           0.001013          0.000067\n",
       "24            0.000922           0.000041           0.000960          0.000070\n",
       "25            0.000872           0.000030           0.000914          0.000064\n",
       "26            0.000836           0.000036           0.000881          0.000064\n",
       "27            0.000799           0.000027           0.000848          0.000058\n",
       "28            0.000774           0.000024           0.000815          0.000067\n",
       "29            0.000749           0.000016           0.000806          0.000074\n",
       "..                 ...                ...                ...               ...\n",
       "69            0.000569           0.000008           0.000610          0.000086\n",
       "70            0.000568           0.000007           0.000608          0.000085\n",
       "71            0.000567           0.000008           0.000609          0.000085\n",
       "72            0.000566           0.000008           0.000609          0.000086\n",
       "73            0.000565           0.000008           0.000607          0.000086\n",
       "74            0.000564           0.000007           0.000607          0.000086\n",
       "75            0.000564           0.000007           0.000607          0.000087\n",
       "76            0.000563           0.000007           0.000606          0.000085\n",
       "77            0.000562           0.000008           0.000605          0.000087\n",
       "78            0.000561           0.000008           0.000603          0.000086\n",
       "79            0.000560           0.000007           0.000602          0.000087\n",
       "80            0.000560           0.000007           0.000601          0.000085\n",
       "81            0.000559           0.000007           0.000602          0.000085\n",
       "82            0.000558           0.000007           0.000601          0.000086\n",
       "83            0.000558           0.000007           0.000600          0.000085\n",
       "84            0.000557           0.000007           0.000600          0.000086\n",
       "85            0.000557           0.000007           0.000600          0.000087\n",
       "86            0.000556           0.000007           0.000600          0.000086\n",
       "87            0.000556           0.000007           0.000600          0.000087\n",
       "88            0.000555           0.000007           0.000598          0.000086\n",
       "89            0.000555           0.000007           0.000599          0.000087\n",
       "90            0.000554           0.000007           0.000599          0.000088\n",
       "91            0.000554           0.000007           0.000598          0.000086\n",
       "92            0.000554           0.000006           0.000598          0.000086\n",
       "93            0.000553           0.000007           0.000599          0.000087\n",
       "94            0.000553           0.000007           0.000598          0.000087\n",
       "95            0.000553           0.000006           0.000598          0.000086\n",
       "96            0.000553           0.000006           0.000598          0.000086\n",
       "97            0.000552           0.000007           0.000598          0.000087\n",
       "98            0.000552           0.000006           0.000597          0.000086\n",
       "\n",
       "[99 rows x 4 columns]"
      ]
     },
     "execution_count": 70,
     "metadata": {},
     "output_type": "execute_result"
    }
   ],
   "source": [
    "cv_result"
   ]
  },
  {
   "cell_type": "code",
   "execution_count": 71,
   "metadata": {},
   "outputs": [
    {
     "name": "stdout",
     "output_type": "stream",
     "text": [
      "Best n_estimators: 99\n"
     ]
    }
   ],
   "source": [
    "#最佳参数n_estimators\n",
    "n_estimators = cv_result.shape[0]\n",
    "print(\"Best n_estimators:\", n_estimators)\n",
    "    \n",
    "# 采用交叉验证得到的最佳参数n_estimators，训练模型\n",
    "bst = xgb.train(param, dtrain, n_estimators)"
   ]
  },
  {
   "cell_type": "code",
   "execution_count": 73,
   "metadata": {},
   "outputs": [
    {
     "data": {
      "image/png": "[encoded data removed]",
      "text/plain": [
       "<Figure size 432x288 with 1 Axes>"
      ]
     },
     "metadata": {},
     "output_type": "display_data"
    }
   ],
   "source": [
    "# plot\n",
    "test_means = cv_result['test-logloss-mean']\n",
    "test_stds = cv_result['test-logloss-std'] \n",
    "\n",
    "x_axis = range(0, cv_result.shape[0])\n",
    "        \n",
    "plt.errorbar(x_axis, test_means, yerr=test_stds ,label='Test')\n",
    "\n",
    "plt.title(\"XGBoost n_estimators vs Log Loss\")\n",
    "plt.xlabel( 'n_estimators' )\n",
    "plt.ylabel( 'Log Loss' )\n",
    "\n",
    "plt.show()"
   ]
  },
  {
   "cell_type": "code",
   "execution_count": 74,
   "metadata": {},
   "outputs": [
    {
     "name": "stdout",
     "output_type": "stream",
     "text": [
      "Test Accuracy: 100.00%\n"
     ]
    }
   ],
   "source": [
    "# make prediction\n",
    "preds = bst.predict(dtest)\n",
    "y_pred = [round(value) for value in preds]\n",
    "y_test = dtest.get_label()\n",
    "test_accuracy = accuracy_score(y_test, y_pred)\n",
    "print(\"Test Accuracy: %.2f%%\" % (test_accuracy * 100.0))"
   ]
  },
  {
   "cell_type": "markdown",
   "metadata": {},
   "source": [
    "### 使用XGBoost内嵌的函数，按特征重要性排序"
   ]
  },
  {
   "cell_type": "code",
   "execution_count": 76,
   "metadata": {},
   "outputs": [
    {
     "data": {
      "image/png": "[encoded data removed]",
      "text/plain": [
       "<Figure size 432x288 with 1 Axes>"
      ]
     },
     "metadata": {},
     "output_type": "display_data"
    }
   ],
   "source": [
    "# plot feature importance using built-in function\n",
    "from xgboost import plot_importance\n",
    "plot_importance(bst)\n",
    "plt.show()"
   ]
  },
  {
   "cell_type": "code",
   "execution_count": null,
   "metadata": {
    "collapsed": true
   },
   "outputs": [],
   "source": []
  }
 ],
 "metadata": {
  "anaconda-cloud": {},
  "kernelspec": {
   "display_name": "Python 3",
   "language": "python",
   "name": "python3"
  },
  "language_info": {
   "codemirror_mode": {
    "name": "ipython",
    "version": 3
   },
   "file_extension": ".py",
   "mimetype": "text/x-python",
   "name": "python",
   "nbconvert_exporter": "python",
   "pygments_lexer": "ipython3",
   "version": "3.6.5"
  }
 },
 "nbformat": 4,
 "nbformat_minor": 2
}
