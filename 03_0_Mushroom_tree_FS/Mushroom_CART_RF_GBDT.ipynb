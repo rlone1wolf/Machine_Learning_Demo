{
 "cells": [
  {
   "cell_type": "markdown",
   "metadata": {},
   "source": [
    "# CART on Mushroom Dataset\n",
    "Kaggle竞赛蘑菇数据集，22维特征\n",
    "https://www.kaggle.com/uciml/mushroom-classification"
   ]
  },
  {
   "cell_type": "markdown",
   "metadata": {},
   "source": [
    "## 导入工具包"
   ]
  },
  {
   "cell_type": "code",
   "execution_count": 1,
   "metadata": {
    "ExecuteTime": {
     "end_time": "2018-02-15T06:28:55.835000Z",
     "start_time": "2018-02-15T06:28:41.604000Z"
    }
   },
   "outputs": [],
   "source": [
    "import pandas as pd\n",
    "import numpy as np\n",
    "from matplotlib import pyplot as plt\n",
    "\n",
    "from sklearn.model_selection import GridSearchCV\n",
    "\n",
    "from sklearn.metrics import accuracy_score\n",
    "from sklearn.metrics import roc_auc_score"
   ]
  },
  {
   "cell_type": "markdown",
   "metadata": {},
   "source": [
    "## Reading the file"
   ]
  },
  {
   "cell_type": "markdown",
   "metadata": {},
   "source": [
    "调用head函数看看每个特征的基本情况"
   ]
  },
  {
   "cell_type": "code",
   "execution_count": 2,
   "metadata": {
    "ExecuteTime": {
     "end_time": "2018-02-15T06:29:18.589000Z",
     "start_time": "2018-02-15T06:29:18.158000Z"
    },
    "scrolled": true
   },
   "outputs": [
    {
     "data": {
      "text/html": [
       "<div>\n",
       "<style scoped>\n",
       "    .dataframe tbody tr th:only-of-type {\n",
       "        vertical-align: middle;\n",
       "    }\n",
       "\n",
       "    .dataframe tbody tr th {\n",
       "        vertical-align: top;\n",
       "    }\n",
       "\n",
       "    .dataframe thead th {\n",
       "        text-align: right;\n",
       "    }\n",
       "</style>\n",
       "<table border=\"1\" class=\"dataframe\">\n",
       "  <thead>\n",
       "    <tr style=\"text-align: right;\">\n",
       "      <th></th>\n",
       "      <th>class</th>\n",
       "      <th>cap-shape</th>\n",
       "      <th>cap-surface</th>\n",
       "      <th>cap-color</th>\n",
       "      <th>bruises</th>\n",
       "      <th>odor</th>\n",
       "      <th>gill-attachment</th>\n",
       "      <th>gill-spacing</th>\n",
       "      <th>gill-size</th>\n",
       "      <th>gill-color</th>\n",
       "      <th>...</th>\n",
       "      <th>stalk-surface-below-ring</th>\n",
       "      <th>stalk-color-above-ring</th>\n",
       "      <th>stalk-color-below-ring</th>\n",
       "      <th>veil-type</th>\n",
       "      <th>veil-color</th>\n",
       "      <th>ring-number</th>\n",
       "      <th>ring-type</th>\n",
       "      <th>spore-print-color</th>\n",
       "      <th>population</th>\n",
       "      <th>habitat</th>\n",
       "    </tr>\n",
       "  </thead>\n",
       "  <tbody>\n",
       "    <tr>\n",
       "      <th>0</th>\n",
       "      <td>p</td>\n",
       "      <td>x</td>\n",
       "      <td>s</td>\n",
       "      <td>n</td>\n",
       "      <td>t</td>\n",
       "      <td>p</td>\n",
       "      <td>f</td>\n",
       "      <td>c</td>\n",
       "      <td>n</td>\n",
       "      <td>k</td>\n",
       "      <td>...</td>\n",
       "      <td>s</td>\n",
       "      <td>w</td>\n",
       "      <td>w</td>\n",
       "      <td>p</td>\n",
       "      <td>w</td>\n",
       "      <td>o</td>\n",
       "      <td>p</td>\n",
       "      <td>k</td>\n",
       "      <td>s</td>\n",
       "      <td>u</td>\n",
       "    </tr>\n",
       "    <tr>\n",
       "      <th>1</th>\n",
       "      <td>e</td>\n",
       "      <td>x</td>\n",
       "      <td>s</td>\n",
       "      <td>y</td>\n",
       "      <td>t</td>\n",
       "      <td>a</td>\n",
       "      <td>f</td>\n",
       "      <td>c</td>\n",
       "      <td>b</td>\n",
       "      <td>k</td>\n",
       "      <td>...</td>\n",
       "      <td>s</td>\n",
       "      <td>w</td>\n",
       "      <td>w</td>\n",
       "      <td>p</td>\n",
       "      <td>w</td>\n",
       "      <td>o</td>\n",
       "      <td>p</td>\n",
       "      <td>n</td>\n",
       "      <td>n</td>\n",
       "      <td>g</td>\n",
       "    </tr>\n",
       "    <tr>\n",
       "      <th>2</th>\n",
       "      <td>e</td>\n",
       "      <td>b</td>\n",
       "      <td>s</td>\n",
       "      <td>w</td>\n",
       "      <td>t</td>\n",
       "      <td>l</td>\n",
       "      <td>f</td>\n",
       "      <td>c</td>\n",
       "      <td>b</td>\n",
       "      <td>n</td>\n",
       "      <td>...</td>\n",
       "      <td>s</td>\n",
       "      <td>w</td>\n",
       "      <td>w</td>\n",
       "      <td>p</td>\n",
       "      <td>w</td>\n",
       "      <td>o</td>\n",
       "      <td>p</td>\n",
       "      <td>n</td>\n",
       "      <td>n</td>\n",
       "      <td>m</td>\n",
       "    </tr>\n",
       "    <tr>\n",
       "      <th>3</th>\n",
       "      <td>p</td>\n",
       "      <td>x</td>\n",
       "      <td>y</td>\n",
       "      <td>w</td>\n",
       "      <td>t</td>\n",
       "      <td>p</td>\n",
       "      <td>f</td>\n",
       "      <td>c</td>\n",
       "      <td>n</td>\n",
       "      <td>n</td>\n",
       "      <td>...</td>\n",
       "      <td>s</td>\n",
       "      <td>w</td>\n",
       "      <td>w</td>\n",
       "      <td>p</td>\n",
       "      <td>w</td>\n",
       "      <td>o</td>\n",
       "      <td>p</td>\n",
       "      <td>k</td>\n",
       "      <td>s</td>\n",
       "      <td>u</td>\n",
       "    </tr>\n",
       "    <tr>\n",
       "      <th>4</th>\n",
       "      <td>e</td>\n",
       "      <td>x</td>\n",
       "      <td>s</td>\n",
       "      <td>g</td>\n",
       "      <td>f</td>\n",
       "      <td>n</td>\n",
       "      <td>f</td>\n",
       "      <td>w</td>\n",
       "      <td>b</td>\n",
       "      <td>k</td>\n",
       "      <td>...</td>\n",
       "      <td>s</td>\n",
       "      <td>w</td>\n",
       "      <td>w</td>\n",
       "      <td>p</td>\n",
       "      <td>w</td>\n",
       "      <td>o</td>\n",
       "      <td>e</td>\n",
       "      <td>n</td>\n",
       "      <td>a</td>\n",
       "      <td>g</td>\n",
       "    </tr>\n",
       "  </tbody>\n",
       "</table>\n",
       "<p>5 rows × 23 columns</p>\n",
       "</div>"
      ],
      "text/plain": [
       "  class cap-shape cap-surface cap-color bruises odor gill-attachment  \\\n",
       "0     p         x           s         n       t    p               f   \n",
       "1     e         x           s         y       t    a               f   \n",
       "2     e         b           s         w       t    l               f   \n",
       "3     p         x           y         w       t    p               f   \n",
       "4     e         x           s         g       f    n               f   \n",
       "\n",
       "  gill-spacing gill-size gill-color   ...   stalk-surface-below-ring  \\\n",
       "0            c         n          k   ...                          s   \n",
       "1            c         b          k   ...                          s   \n",
       "2            c         b          n   ...                          s   \n",
       "3            c         n          n   ...                          s   \n",
       "4            w         b          k   ...                          s   \n",
       "\n",
       "  stalk-color-above-ring stalk-color-below-ring veil-type veil-color  \\\n",
       "0                      w                      w         p          w   \n",
       "1                      w                      w         p          w   \n",
       "2                      w                      w         p          w   \n",
       "3                      w                      w         p          w   \n",
       "4                      w                      w         p          w   \n",
       "\n",
       "  ring-number ring-type spore-print-color population habitat  \n",
       "0           o         p                 k          s       u  \n",
       "1           o         p                 n          n       g  \n",
       "2           o         p                 n          n       m  \n",
       "3           o         p                 k          s       u  \n",
       "4           o         e                 n          a       g  \n",
       "\n",
       "[5 rows x 23 columns]"
      ]
     },
     "execution_count": 2,
     "metadata": {},
     "output_type": "execute_result"
    }
   ],
   "source": [
    "# path to where the data lies\n",
    "dpath = './data/'\n",
    "data = pd.read_csv(dpath+\"mushrooms.csv\")\n",
    "data.head()"
   ]
  },
  {
   "cell_type": "code",
   "execution_count": 3,
   "metadata": {},
   "outputs": [
    {
     "name": "stdout",
     "output_type": "stream",
     "text": [
      "<class 'pandas.core.frame.DataFrame'>\n",
      "RangeIndex: 8124 entries, 0 to 8123\n",
      "Data columns (total 23 columns):\n",
      "class                       8124 non-null object\n",
      "cap-shape                   8124 non-null object\n",
      "cap-surface                 8124 non-null object\n",
      "cap-color                   8124 non-null object\n",
      "bruises                     8124 non-null object\n",
      "odor                        8124 non-null object\n",
      "gill-attachment             8124 non-null object\n",
      "gill-spacing                8124 non-null object\n",
      "gill-size                   8124 non-null object\n",
      "gill-color                  8124 non-null object\n",
      "stalk-shape                 8124 non-null object\n",
      "stalk-root                  8124 non-null object\n",
      "stalk-surface-above-ring    8124 non-null object\n",
      "stalk-surface-below-ring    8124 non-null object\n",
      "stalk-color-above-ring      8124 non-null object\n",
      "stalk-color-below-ring      8124 non-null object\n",
      "veil-type                   8124 non-null object\n",
      "veil-color                  8124 non-null object\n",
      "ring-number                 8124 non-null object\n",
      "ring-type                   8124 non-null object\n",
      "spore-print-color           8124 non-null object\n",
      "population                  8124 non-null object\n",
      "habitat                     8124 non-null object\n",
      "dtypes: object(23)\n",
      "memory usage: 1.4+ MB\n"
     ]
    }
   ],
   "source": [
    "#数据基本信息\n",
    "data.info()"
   ]
  },
  {
   "cell_type": "markdown",
   "metadata": {},
   "source": [
    "很幸运，该数据没有空值／缺失数据"
   ]
  },
  {
   "cell_type": "markdown",
   "metadata": {},
   "source": [
    "### 看看是否为一个两类分类问题（poisonous，edibl）"
   ]
  },
  {
   "cell_type": "code",
   "execution_count": 5,
   "metadata": {
    "scrolled": true
   },
   "outputs": [
    {
     "data": {
      "text/plain": [
       "e    4208\n",
       "p    3916\n",
       "Name: class, dtype: int64"
      ]
     },
     "execution_count": 5,
     "metadata": {},
     "output_type": "execute_result"
    }
   ],
   "source": [
    "data['class'].value_counts()"
   ]
  },
  {
   "cell_type": "code",
   "execution_count": 6,
   "metadata": {},
   "outputs": [
    {
     "data": {
      "text/plain": [
       "(8124, 23)"
      ]
     },
     "execution_count": 6,
     "metadata": {},
     "output_type": "execute_result"
    }
   ],
   "source": [
    "#观察一下数据规模\n",
    "data.shape"
   ]
  },
  {
   "cell_type": "markdown",
   "metadata": {},
   "source": [
    "### 特征编码"
   ]
  },
  {
   "cell_type": "markdown",
   "metadata": {},
   "source": [
    "特征全是类别型变量，很多模型需要数值型的输入（Logisstic回归、xgboost...)"
   ]
  },
  {
   "cell_type": "code",
   "execution_count": 7,
   "metadata": {
    "scrolled": true
   },
   "outputs": [],
   "source": [
    "from sklearn.preprocessing import LabelEncoder\n",
    "labelencoder=LabelEncoder()\n",
    "for col in data.columns:\n",
    "    data[col] = labelencoder.fit_transform(data[col])\n",
    "\n",
    "#data.head()"
   ]
  },
  {
   "cell_type": "markdown",
   "metadata": {},
   "source": [
    "LableEncoder是不合适的，因为是有序的。而颜色等特征是没有序关系。决策树等模型不care，但logistic回归不行。也可以试试OneHotEncoder"
   ]
  },
  {
   "cell_type": "code",
   "execution_count": 8,
   "metadata": {},
   "outputs": [],
   "source": [
    "#X = data.iloc[:,1:23]  # all rows, all the features and no labels\n",
    "#y = data.iloc[:, 0]  # all rows, label only\n",
    "\n",
    "y = data['class']    #用列名访问更直观\n",
    "X = data.drop('class', axis = 1)"
   ]
  },
  {
   "cell_type": "markdown",
   "metadata": {},
   "source": [
    "### 数据集是一个文件，我们自己分出一部分来做测试吧（不是校验集）"
   ]
  },
  {
   "cell_type": "code",
   "execution_count": 9,
   "metadata": {},
   "outputs": [],
   "source": [
    "from sklearn.model_selection import train_test_split\n",
    "X_train, X_test, y_train, y_test = train_test_split(X,y,test_size=0.2,random_state=4)"
   ]
  },
  {
   "cell_type": "code",
   "execution_count": 10,
   "metadata": {
    "scrolled": true
   },
   "outputs": [],
   "source": [
    "columns = X_train.columns"
   ]
  },
  {
   "cell_type": "code",
   "execution_count": 11,
   "metadata": {},
   "outputs": [],
   "source": [
    "# 数据标准化\n",
    "from sklearn.preprocessing import StandardScaler\n",
    "\n",
    "# 分别初始化对特征和目标值的标准化器\n",
    "ss_X = StandardScaler()\n",
    "ss_y = StandardScaler()\n",
    "\n",
    "# 分别对训练和测试数据的特征以及目标值进行标准化处理\n",
    "X_train = ss_X.fit_transform(X_train)\n",
    "X_test = ss_X.transform(X_test)"
   ]
  },
  {
   "cell_type": "markdown",
   "metadata": {},
   "source": [
    "## default Logistic Regression"
   ]
  },
  {
   "cell_type": "code",
   "execution_count": 12,
   "metadata": {},
   "outputs": [
    {
     "data": {
      "text/plain": [
       "LogisticRegression(C=1.0, class_weight=None, dual=False, fit_intercept=True,\n",
       "          intercept_scaling=1, max_iter=100, multi_class='ovr', n_jobs=1,\n",
       "          penalty='l2', random_state=None, solver='liblinear', tol=0.0001,\n",
       "          verbose=0, warm_start=False)"
      ]
     },
     "execution_count": 12,
     "metadata": {},
     "output_type": "execute_result"
    }
   ],
   "source": [
    "from sklearn.linear_model import LogisticRegression\n",
    "\n",
    "model_LR= LogisticRegression()\n",
    "model_LR.fit(X_train,y_train)"
   ]
  },
  {
   "cell_type": "code",
   "execution_count": 13,
   "metadata": {},
   "outputs": [
    {
     "data": {
      "text/html": [
       "<div>\n",
       "<style scoped>\n",
       "    .dataframe tbody tr th:only-of-type {\n",
       "        vertical-align: middle;\n",
       "    }\n",
       "\n",
       "    .dataframe tbody tr th {\n",
       "        vertical-align: top;\n",
       "    }\n",
       "\n",
       "    .dataframe thead th {\n",
       "        text-align: right;\n",
       "    }\n",
       "</style>\n",
       "<table border=\"1\" class=\"dataframe\">\n",
       "  <thead>\n",
       "    <tr style=\"text-align: right;\">\n",
       "      <th></th>\n",
       "      <th>columns</th>\n",
       "      <th>coef</th>\n",
       "    </tr>\n",
       "  </thead>\n",
       "  <tbody>\n",
       "    <tr>\n",
       "      <th>16</th>\n",
       "      <td>veil-color</td>\n",
       "      <td>[5.96372544572508]</td>\n",
       "    </tr>\n",
       "    <tr>\n",
       "      <th>7</th>\n",
       "      <td>gill-size</td>\n",
       "      <td>[5.928309300591419]</td>\n",
       "    </tr>\n",
       "    <tr>\n",
       "      <th>6</th>\n",
       "      <td>gill-spacing</td>\n",
       "      <td>[4.882007084921111]</td>\n",
       "    </tr>\n",
       "    <tr>\n",
       "      <th>10</th>\n",
       "      <td>stalk-root</td>\n",
       "      <td>[4.853268915238152]</td>\n",
       "    </tr>\n",
       "    <tr>\n",
       "      <th>11</th>\n",
       "      <td>stalk-surface-above-ring</td>\n",
       "      <td>[4.807868821312657]</td>\n",
       "    </tr>\n",
       "    <tr>\n",
       "      <th>18</th>\n",
       "      <td>ring-type</td>\n",
       "      <td>[4.388570685097167]</td>\n",
       "    </tr>\n",
       "    <tr>\n",
       "      <th>4</th>\n",
       "      <td>odor</td>\n",
       "      <td>[1.743455812210618]</td>\n",
       "    </tr>\n",
       "    <tr>\n",
       "      <th>20</th>\n",
       "      <td>population</td>\n",
       "      <td>[0.9219951715417101]</td>\n",
       "    </tr>\n",
       "    <tr>\n",
       "      <th>5</th>\n",
       "      <td>gill-attachment</td>\n",
       "      <td>[0.8043956276952038]</td>\n",
       "    </tr>\n",
       "    <tr>\n",
       "      <th>8</th>\n",
       "      <td>gill-color</td>\n",
       "      <td>[0.5145450722972214]</td>\n",
       "    </tr>\n",
       "    <tr>\n",
       "      <th>1</th>\n",
       "      <td>cap-surface</td>\n",
       "      <td>[0.44904131260097485]</td>\n",
       "    </tr>\n",
       "    <tr>\n",
       "      <th>17</th>\n",
       "      <td>ring-number</td>\n",
       "      <td>[0.44730500921519856]</td>\n",
       "    </tr>\n",
       "    <tr>\n",
       "      <th>19</th>\n",
       "      <td>spore-print-color</td>\n",
       "      <td>[0.418116301136376]</td>\n",
       "    </tr>\n",
       "    <tr>\n",
       "      <th>9</th>\n",
       "      <td>stalk-shape</td>\n",
       "      <td>[0.3938919854184646]</td>\n",
       "    </tr>\n",
       "    <tr>\n",
       "      <th>13</th>\n",
       "      <td>stalk-color-above-ring</td>\n",
       "      <td>[0.3258679448265633]</td>\n",
       "    </tr>\n",
       "    <tr>\n",
       "      <th>3</th>\n",
       "      <td>bruises</td>\n",
       "      <td>[0.23021240162648432]</td>\n",
       "    </tr>\n",
       "    <tr>\n",
       "      <th>2</th>\n",
       "      <td>cap-color</td>\n",
       "      <td>[0.20286968166060101]</td>\n",
       "    </tr>\n",
       "    <tr>\n",
       "      <th>21</th>\n",
       "      <td>habitat</td>\n",
       "      <td>[0.1535236924711591]</td>\n",
       "    </tr>\n",
       "    <tr>\n",
       "      <th>14</th>\n",
       "      <td>stalk-color-below-ring</td>\n",
       "      <td>[0.14047997204892926]</td>\n",
       "    </tr>\n",
       "    <tr>\n",
       "      <th>0</th>\n",
       "      <td>cap-shape</td>\n",
       "      <td>[0.013292210070603229]</td>\n",
       "    </tr>\n",
       "    <tr>\n",
       "      <th>12</th>\n",
       "      <td>stalk-surface-below-ring</td>\n",
       "      <td>[0.010962443260945944]</td>\n",
       "    </tr>\n",
       "    <tr>\n",
       "      <th>15</th>\n",
       "      <td>veil-type</td>\n",
       "      <td>[0.0]</td>\n",
       "    </tr>\n",
       "  </tbody>\n",
       "</table>\n",
       "</div>"
      ],
      "text/plain": [
       "                     columns                    coef\n",
       "16                veil-color      [5.96372544572508]\n",
       "7                  gill-size     [5.928309300591419]\n",
       "6               gill-spacing     [4.882007084921111]\n",
       "10                stalk-root     [4.853268915238152]\n",
       "11  stalk-surface-above-ring     [4.807868821312657]\n",
       "18                 ring-type     [4.388570685097167]\n",
       "4                       odor     [1.743455812210618]\n",
       "20                population    [0.9219951715417101]\n",
       "5            gill-attachment    [0.8043956276952038]\n",
       "8                 gill-color    [0.5145450722972214]\n",
       "1                cap-surface   [0.44904131260097485]\n",
       "17               ring-number   [0.44730500921519856]\n",
       "19         spore-print-color     [0.418116301136376]\n",
       "9                stalk-shape    [0.3938919854184646]\n",
       "13    stalk-color-above-ring    [0.3258679448265633]\n",
       "3                    bruises   [0.23021240162648432]\n",
       "2                  cap-color   [0.20286968166060101]\n",
       "21                   habitat    [0.1535236924711591]\n",
       "14    stalk-color-below-ring   [0.14047997204892926]\n",
       "0                  cap-shape  [0.013292210070603229]\n",
       "12  stalk-surface-below-ring  [0.010962443260945944]\n",
       "15                 veil-type                   [0.0]"
      ]
     },
     "execution_count": 13,
     "metadata": {},
     "output_type": "execute_result"
    }
   ],
   "source": [
    "# 看看各特征的系数，系数的绝对值大小可视为该特征的重要性\n",
    "fs = pd.DataFrame({\"columns\":list(columns), \"coef\":list(abs(model_LR.coef_.T))})\n",
    "fs.sort_values(by=['coef'],ascending=False)"
   ]
  },
  {
   "cell_type": "code",
   "execution_count": 14,
   "metadata": {},
   "outputs": [
    {
     "name": "stdout",
     "output_type": "stream",
     "text": [
      "The accuary of default Logistic Regression is 1.0\n"
     ]
    }
   ],
   "source": [
    "y_prob = model_LR.predict_proba(X_test)[:,1] # This will give you positive class prediction probabilities  \n",
    "y_pred = np.where(y_prob > 0.5, 1, 0) # This will threshold the probabilities to give class predictions.\n",
    "   \n",
    "#accuracy \n",
    "print('The accuary of default Logistic Regression is', model_LR.score(X_test, y_pred) )"
   ]
  },
  {
   "cell_type": "code",
   "execution_count": 15,
   "metadata": {},
   "outputs": [
    {
     "name": "stdout",
     "output_type": "stream",
     "text": [
      "The AUC of default Logistic Regression is 0.9585305719921104\n"
     ]
    }
   ],
   "source": [
    "print('The AUC of default Logistic Regression is', roc_auc_score(y_test,y_pred))"
   ]
  },
  {
   "cell_type": "markdown",
   "metadata": {},
   "source": [
    "## Logistic Regression(Tuned model)"
   ]
  },
  {
   "cell_type": "markdown",
   "metadata": {},
   "source": [
    "logistic回归的需要调整超参数有：C（正则系数，一般在log域（取log后的值）均匀设置调优）和正则函数penalty（L2/L1）\n",
    "目标函数为：J(theata) = sum(logloss(f(xi), yi)) + C * penalty\n",
    "logistic回归: f(xi) = sigmoid(sum(wj * xj))\n",
    "logloss为负log似然损失（请见课件）\n",
    "L2 penalty：sum(wj^2)\n",
    "L1 penalty: sum(abs(wj))\n",
    "\n",
    "在sklearn框架下，不同学习器的参数调整步骤相同：\n",
    "1. 设置候选参数集合\n",
    "2. 调用GridSearchCV\n",
    "3. 调用fit"
   ]
  },
  {
   "cell_type": "code",
   "execution_count": 16,
   "metadata": {},
   "outputs": [],
   "source": [
    "from sklearn.linear_model import LogisticRegression\n",
    "\n",
    "LR_model= LogisticRegression()\n",
    "\n",
    "#设置参数搜索范围（Grid，网格）\n",
    "tuned_parameters = {'C': [0.001, 0.01, 0.1, 1, 10, 100, 1000] ,\n",
    "              'penalty':['l1','l2']\n",
    "                   }"
   ]
  },
  {
   "cell_type": "markdown",
   "metadata": {},
   "source": [
    "### CV"
   ]
  },
  {
   "cell_type": "code",
   "execution_count": 17,
   "metadata": {},
   "outputs": [
    {
     "data": {
      "text/plain": [
       "GridSearchCV(cv=10, error_score='raise',\n",
       "       estimator=LogisticRegression(C=1.0, class_weight=None, dual=False, fit_intercept=True,\n",
       "          intercept_scaling=1, max_iter=100, multi_class='ovr', n_jobs=1,\n",
       "          penalty='l2', random_state=None, solver='liblinear', tol=0.0001,\n",
       "          verbose=0, warm_start=False),\n",
       "       fit_params=None, iid=True, n_jobs=1,\n",
       "       param_grid={'C': [0.001, 0.01, 0.1, 1, 10, 100, 1000], 'penalty': ['l1', 'l2']},\n",
       "       pre_dispatch='2*n_jobs', refit=True, return_train_score='warn',\n",
       "       scoring=None, verbose=0)"
      ]
     },
     "execution_count": 17,
     "metadata": {},
     "output_type": "execute_result"
    }
   ],
   "source": [
    "# fit函数执行会有点慢，因为要循环执行 参数数目 * CV折数 次模型 训练\n",
    "LR= GridSearchCV(LR_model, tuned_parameters,cv=10)\n",
    "LR.fit(X_train,y_train)"
   ]
  },
  {
   "cell_type": "code",
   "execution_count": 18,
   "metadata": {},
   "outputs": [
    {
     "name": "stdout",
     "output_type": "stream",
     "text": [
      "{'C': 100, 'penalty': 'l2'}\n"
     ]
    }
   ],
   "source": [
    "print(LR.best_params_)"
   ]
  },
  {
   "cell_type": "code",
   "execution_count": 19,
   "metadata": {},
   "outputs": [
    {
     "data": {
      "text/plain": [
       "1.0"
      ]
     },
     "execution_count": 19,
     "metadata": {},
     "output_type": "execute_result"
    }
   ],
   "source": [
    "y_prob = LR.predict_proba(X_test)[:,1] # This will give you positive class prediction probabilities  \n",
    "y_pred = np.where(y_prob > 0.5, 1, 0) # This will threshold the probabilities to give class predictions.\n",
    "LR.score(X_test, y_pred)"
   ]
  },
  {
   "cell_type": "code",
   "execution_count": 20,
   "metadata": {
    "scrolled": true
   },
   "outputs": [
    {
     "name": "stdout",
     "output_type": "stream",
     "text": [
      "The AUC of GridSearchCV Logistic Regression is 0.9728303747534518\n"
     ]
    }
   ],
   "source": [
    "print('The AUC of GridSearchCV Logistic Regression is', roc_auc_score(y_test,y_pred))"
   ]
  },
  {
   "cell_type": "markdown",
   "metadata": {},
   "source": [
    "比缺省Logistic回归高了一点点"
   ]
  },
  {
   "cell_type": "markdown",
   "metadata": {},
   "source": [
    "## Default Decision Tree model"
   ]
  },
  {
   "cell_type": "code",
   "execution_count": 21,
   "metadata": {},
   "outputs": [],
   "source": [
    "from sklearn.tree import DecisionTreeClassifier\n",
    "\n",
    "model_tree = DecisionTreeClassifier()"
   ]
  },
  {
   "cell_type": "code",
   "execution_count": 22,
   "metadata": {},
   "outputs": [
    {
     "data": {
      "text/plain": [
       "DecisionTreeClassifier(class_weight=None, criterion='gini', max_depth=None,\n",
       "            max_features=None, max_leaf_nodes=None,\n",
       "            min_impurity_decrease=0.0, min_impurity_split=None,\n",
       "            min_samples_leaf=1, min_samples_split=2,\n",
       "            min_weight_fraction_leaf=0.0, presort=False, random_state=None,\n",
       "            splitter='best')"
      ]
     },
     "execution_count": 22,
     "metadata": {},
     "output_type": "execute_result"
    }
   ],
   "source": [
    "model_tree.fit(X_train, y_train)"
   ]
  },
  {
   "cell_type": "code",
   "execution_count": 23,
   "metadata": {},
   "outputs": [
    {
     "data": {
      "text/plain": [
       "1.0"
      ]
     },
     "execution_count": 23,
     "metadata": {},
     "output_type": "execute_result"
    }
   ],
   "source": [
    "y_prob = model_tree.predict_proba(X_test)[:,1] # This will give you positive class prediction probabilities  \n",
    "y_pred = np.where(y_prob > 0.5, 1, 0) # This will threshold the probabilities to give class predictions.\n",
    "model_tree.score(X_test, y_pred)"
   ]
  },
  {
   "cell_type": "code",
   "execution_count": 24,
   "metadata": {
    "scrolled": true
   },
   "outputs": [
    {
     "name": "stdout",
     "output_type": "stream",
     "text": [
      "The AUC of default Desicion Tree is 1.0\n"
     ]
    }
   ],
   "source": [
    "print('The AUC of default Desicion Tree is', roc_auc_score(y_test,y_pred))"
   ]
  },
  {
   "cell_type": "markdown",
   "metadata": {},
   "source": [
    "这个任务太适合决策树了"
   ]
  },
  {
   "cell_type": "code",
   "execution_count": 25,
   "metadata": {
    "scrolled": false
   },
   "outputs": [
    {
     "data": {
      "text/html": [
       "<div>\n",
       "<style scoped>\n",
       "    .dataframe tbody tr th:only-of-type {\n",
       "        vertical-align: middle;\n",
       "    }\n",
       "\n",
       "    .dataframe tbody tr th {\n",
       "        vertical-align: top;\n",
       "    }\n",
       "\n",
       "    .dataframe thead th {\n",
       "        text-align: right;\n",
       "    }\n",
       "</style>\n",
       "<table border=\"1\" class=\"dataframe\">\n",
       "  <thead>\n",
       "    <tr style=\"text-align: right;\">\n",
       "      <th></th>\n",
       "      <th>columns</th>\n",
       "      <th>importance</th>\n",
       "    </tr>\n",
       "  </thead>\n",
       "  <tbody>\n",
       "    <tr>\n",
       "      <th>8</th>\n",
       "      <td>gill-color</td>\n",
       "      <td>0.339965</td>\n",
       "    </tr>\n",
       "    <tr>\n",
       "      <th>19</th>\n",
       "      <td>spore-print-color</td>\n",
       "      <td>0.208067</td>\n",
       "    </tr>\n",
       "    <tr>\n",
       "      <th>20</th>\n",
       "      <td>population</td>\n",
       "      <td>0.177282</td>\n",
       "    </tr>\n",
       "    <tr>\n",
       "      <th>7</th>\n",
       "      <td>gill-size</td>\n",
       "      <td>0.125529</td>\n",
       "    </tr>\n",
       "    <tr>\n",
       "      <th>10</th>\n",
       "      <td>stalk-root</td>\n",
       "      <td>0.054943</td>\n",
       "    </tr>\n",
       "    <tr>\n",
       "      <th>3</th>\n",
       "      <td>bruises</td>\n",
       "      <td>0.028990</td>\n",
       "    </tr>\n",
       "    <tr>\n",
       "      <th>9</th>\n",
       "      <td>stalk-shape</td>\n",
       "      <td>0.025458</td>\n",
       "    </tr>\n",
       "    <tr>\n",
       "      <th>14</th>\n",
       "      <td>stalk-color-below-ring</td>\n",
       "      <td>0.018352</td>\n",
       "    </tr>\n",
       "    <tr>\n",
       "      <th>21</th>\n",
       "      <td>habitat</td>\n",
       "      <td>0.014852</td>\n",
       "    </tr>\n",
       "    <tr>\n",
       "      <th>2</th>\n",
       "      <td>cap-color</td>\n",
       "      <td>0.002967</td>\n",
       "    </tr>\n",
       "    <tr>\n",
       "      <th>12</th>\n",
       "      <td>stalk-surface-below-ring</td>\n",
       "      <td>0.002172</td>\n",
       "    </tr>\n",
       "    <tr>\n",
       "      <th>17</th>\n",
       "      <td>ring-number</td>\n",
       "      <td>0.001423</td>\n",
       "    </tr>\n",
       "    <tr>\n",
       "      <th>15</th>\n",
       "      <td>veil-type</td>\n",
       "      <td>0.000000</td>\n",
       "    </tr>\n",
       "    <tr>\n",
       "      <th>18</th>\n",
       "      <td>ring-type</td>\n",
       "      <td>0.000000</td>\n",
       "    </tr>\n",
       "    <tr>\n",
       "      <th>16</th>\n",
       "      <td>veil-color</td>\n",
       "      <td>0.000000</td>\n",
       "    </tr>\n",
       "    <tr>\n",
       "      <th>0</th>\n",
       "      <td>cap-shape</td>\n",
       "      <td>0.000000</td>\n",
       "    </tr>\n",
       "    <tr>\n",
       "      <th>13</th>\n",
       "      <td>stalk-color-above-ring</td>\n",
       "      <td>0.000000</td>\n",
       "    </tr>\n",
       "    <tr>\n",
       "      <th>1</th>\n",
       "      <td>cap-surface</td>\n",
       "      <td>0.000000</td>\n",
       "    </tr>\n",
       "    <tr>\n",
       "      <th>6</th>\n",
       "      <td>gill-spacing</td>\n",
       "      <td>0.000000</td>\n",
       "    </tr>\n",
       "    <tr>\n",
       "      <th>5</th>\n",
       "      <td>gill-attachment</td>\n",
       "      <td>0.000000</td>\n",
       "    </tr>\n",
       "    <tr>\n",
       "      <th>4</th>\n",
       "      <td>odor</td>\n",
       "      <td>0.000000</td>\n",
       "    </tr>\n",
       "    <tr>\n",
       "      <th>11</th>\n",
       "      <td>stalk-surface-above-ring</td>\n",
       "      <td>0.000000</td>\n",
       "    </tr>\n",
       "  </tbody>\n",
       "</table>\n",
       "</div>"
      ],
      "text/plain": [
       "                     columns  importance\n",
       "8                 gill-color    0.339965\n",
       "19         spore-print-color    0.208067\n",
       "20                population    0.177282\n",
       "7                  gill-size    0.125529\n",
       "10                stalk-root    0.054943\n",
       "3                    bruises    0.028990\n",
       "9                stalk-shape    0.025458\n",
       "14    stalk-color-below-ring    0.018352\n",
       "21                   habitat    0.014852\n",
       "2                  cap-color    0.002967\n",
       "12  stalk-surface-below-ring    0.002172\n",
       "17               ring-number    0.001423\n",
       "15                 veil-type    0.000000\n",
       "18                 ring-type    0.000000\n",
       "16                veil-color    0.000000\n",
       "0                  cap-shape    0.000000\n",
       "13    stalk-color-above-ring    0.000000\n",
       "1                cap-surface    0.000000\n",
       "6               gill-spacing    0.000000\n",
       "5            gill-attachment    0.000000\n",
       "4                       odor    0.000000\n",
       "11  stalk-surface-above-ring    0.000000"
      ]
     },
     "execution_count": 25,
     "metadata": {},
     "output_type": "execute_result"
    }
   ],
   "source": [
    "df = pd.DataFrame({\"columns\":list(columns), \"importance\":list(model_tree.feature_importances_.T)})\n",
    "df.sort_values(by=['importance'],ascending=False)"
   ]
  },
  {
   "cell_type": "markdown",
   "metadata": {},
   "source": [
    "好像和Logistic回归选出的重要特征不一样。"
   ]
  },
  {
   "cell_type": "code",
   "execution_count": 26,
   "metadata": {
    "scrolled": false
   },
   "outputs": [
    {
     "data": {
      "image/png": "[encoded data removed]",
      "text/plain": [
       "<Figure size 432x288 with 1 Axes>"
      ]
     },
     "metadata": {},
     "output_type": "display_data"
    }
   ],
   "source": [
    "plt.bar(range(len(model_tree.feature_importances_)), model_tree.feature_importances_)\n",
    "plt.show()"
   ]
  },
  {
   "cell_type": "markdown",
   "metadata": {},
   "source": [
    "### 可根据特征重要性做特征选择"
   ]
  },
  {
   "cell_type": "code",
   "execution_count": 27,
   "metadata": {},
   "outputs": [
    {
     "name": "stdout",
     "output_type": "stream",
     "text": [
      "Thresh=0.000, n=22, Accuracy: 100.00%\n",
      "Thresh=0.000, n=22, Accuracy: 100.00%\n",
      "Thresh=0.000, n=22, Accuracy: 100.00%\n",
      "Thresh=0.000, n=22, Accuracy: 100.00%\n",
      "Thresh=0.000, n=22, Accuracy: 100.00%\n",
      "Thresh=0.000, n=22, Accuracy: 100.00%\n",
      "Thresh=0.000, n=22, Accuracy: 100.00%\n",
      "Thresh=0.000, n=22, Accuracy: 100.00%\n",
      "Thresh=0.000, n=22, Accuracy: 100.00%\n",
      "Thresh=0.000, n=22, Accuracy: 100.00%\n",
      "Thresh=0.001, n=12, Accuracy: 100.00%\n",
      "Thresh=0.002, n=11, Accuracy: 100.00%\n",
      "Thresh=0.003, n=10, Accuracy: 100.00%\n",
      "Thresh=0.015, n=9, Accuracy: 100.00%\n",
      "Thresh=0.018, n=8, Accuracy: 100.00%\n",
      "Thresh=0.025, n=7, Accuracy: 100.00%\n",
      "Thresh=0.029, n=6, Accuracy: 100.00%\n",
      "Thresh=0.055, n=5, Accuracy: 99.32%\n",
      "Thresh=0.126, n=4, Accuracy: 98.28%\n",
      "Thresh=0.177, n=3, Accuracy: 94.22%\n",
      "Thresh=0.208, n=2, Accuracy: 93.05%\n",
      "Thresh=0.340, n=1, Accuracy: 80.98%\n"
     ]
    }
   ],
   "source": [
    "from numpy import sort\n",
    "from sklearn.feature_selection import SelectFromModel\n",
    "\n",
    "# Fit model using each importance as a threshold\n",
    "thresholds = sort(model_tree.feature_importances_)\n",
    "for thresh in thresholds:\n",
    "    # select features using threshold\n",
    "    selection = SelectFromModel(model_tree, threshold=thresh, prefit=True)\n",
    "    select_X_train = selection.transform(X_train)\n",
    "\n",
    "    # train model\n",
    "    selection_model = DecisionTreeClassifier()\n",
    "    selection_model.fit(select_X_train, y_train)\n",
    "\n",
    "    # eval model\n",
    "    select_X_test = selection.transform(X_test)\n",
    "    y_pred = selection_model.predict(select_X_test)\n",
    "    predictions = [round(value) for value in y_pred]\n",
    "    accuracy = accuracy_score(y_test, predictions)\n",
    "    print(\"Thresh=%.3f, n=%d, Accuracy: %.2f%%\" % (thresh, select_X_train.shape[1],\n",
    "      accuracy*100.0))"
   ]
  },
  {
   "cell_type": "code",
   "execution_count": 28,
   "metadata": {},
   "outputs": [
    {
     "data": {
      "text/plain": [
       "DecisionTreeClassifier(class_weight=None, criterion='gini', max_depth=None,\n",
       "            max_features=None, max_leaf_nodes=None,\n",
       "            min_impurity_decrease=0.0, min_impurity_split=None,\n",
       "            min_samples_leaf=1, min_samples_split=2,\n",
       "            min_weight_fraction_leaf=0.0, presort=False, random_state=None,\n",
       "            splitter='best')"
      ]
     },
     "execution_count": 28,
     "metadata": {},
     "output_type": "execute_result"
    }
   ],
   "source": [
    "# Fit model using the best threshhold\n",
    "thresh = 0.020\n",
    "selection = SelectFromModel(model_tree, threshold=thresh, prefit=True)\n",
    "select_X_train = selection.transform(X_train)\n",
    "\n",
    "# train model\n",
    "selection_model = DecisionTreeClassifier()\n",
    "selection_model.fit(select_X_train, y_train)"
   ]
  },
  {
   "cell_type": "code",
   "execution_count": 30,
   "metadata": {},
   "outputs": [],
   "source": [
    "#import graphviz\n",
    "from sklearn import tree\n",
    "tree.export_graphviz(model_tree, out_file=dpath+'best_tree.dot') \n",
    "#$ dot -Tpng best_tree.dot -o best_tree.png \n",
    "#sys.systerm('cd {0}'.format(dpath))\n",
    "#sys.systerm('dot -Tpng best_tree.dot -o best_tree.png')"
   ]
  },
  {
   "cell_type": "code",
   "execution_count": 82,
   "metadata": {},
   "outputs": [
    {
     "data": {
      "image/png": "[encoded data removed]",
      "text/plain": [
       "<matplotlib.figure.Figure at 0x1a1bfe0e10>"
      ]
     },
     "metadata": {},
     "output_type": "display_data"
    }
   ],
   "source": [
    "#import matplotlib.image as mpimg # mpimg 用于读取图片\n",
    "#tree_omg = mpimg.imread('best_tree.png') \n",
    "#plt.imshow(tree_omg) # 显示图片\n",
    "#plt.axis('off') # 不显示坐标轴\n",
    "#plt.show()\n",
    "#pip install Pillow\n",
    "from PIL import Image\n",
    "img=Image.open(dpath+'best_tree.png')\n",
    "plt.imshow(img)\n",
    "plt.show()"
   ]
  },
  {
   "cell_type": "markdown",
   "metadata": {},
   "source": [
    "## Let us tune the hyperparameters of the Decision tree model"
   ]
  },
  {
   "cell_type": "markdown",
   "metadata": {},
   "source": [
    "决策树的超参数有：max_depth（树的深度）或max_leaf_nodes（叶子结点的数目）、max_features（最大特征数目）、min_samples_leaf（叶子结点的最小样本数）、min_samples_split（中间结点的最小样本树）、min_weight_fraction_leaf（叶子节点的样本权重占总权重的比例）\n",
    "min_impurity_split（最小不纯净度）也可以调整\n",
    "\n",
    "这个数据集的任务不难，深度设为2-10之间\n",
    "两类分类问题，训练样本每类样本在3000左右，所以min_samples_leaf"
   ]
  },
  {
   "cell_type": "code",
   "execution_count": 33,
   "metadata": {},
   "outputs": [],
   "source": [
    "from sklearn.tree import DecisionTreeClassifier\n",
    "\n",
    "model_DD = DecisionTreeClassifier()\n",
    "\n",
    "max_depth = range(1,10,1)\n",
    "min_samples_leaf = range(1,10,2)\n",
    "tuned_parameters = dict(max_depth=max_depth, min_samples_leaf=min_samples_leaf)"
   ]
  },
  {
   "cell_type": "code",
   "execution_count": 40,
   "metadata": {},
   "outputs": [
    {
     "data": {
      "text/plain": [
       "GridSearchCV(cv=10, error_score='raise',\n",
       "       estimator=DecisionTreeClassifier(class_weight=None, criterion='gini', max_depth=None,\n",
       "            max_features=None, max_leaf_nodes=None,\n",
       "            min_impurity_decrease=0.0, min_impurity_split=None,\n",
       "            min_samples_leaf=1, min_samples_split=2,\n",
       "            min_weight_fraction_leaf=0.0, presort=False, random_state=None,\n",
       "            splitter='best'),\n",
       "       fit_params=None, iid=True, n_jobs=1,\n",
       "       param_grid={'max_depth': range(1, 10), 'min_samples_leaf': range(1, 10, 2)},\n",
       "       pre_dispatch='2*n_jobs', refit=True, return_train_score=True,\n",
       "       scoring=None, verbose=0)"
      ]
     },
     "execution_count": 40,
     "metadata": {},
     "output_type": "execute_result"
    }
   ],
   "source": [
    "from sklearn.model_selection import GridSearchCV\n",
    "DD = GridSearchCV(model_DD, tuned_parameters,cv=10, return_train_score=True)\n",
    "DD.fit(X_train, y_train)"
   ]
  },
  {
   "cell_type": "code",
   "execution_count": 41,
   "metadata": {
    "scrolled": true
   },
   "outputs": [
    {
     "name": "stdout",
     "output_type": "stream",
     "text": [
      "Best: 1.000000 using {'max_depth': 7, 'min_samples_leaf': 1}\n"
     ]
    }
   ],
   "source": [
    "print(\"Best: %f using %s\" % (DD.best_score_, DD.best_params_))"
   ]
  },
  {
   "cell_type": "code",
   "execution_count": 42,
   "metadata": {},
   "outputs": [
    {
     "data": {
      "text/plain": [
       "1.0"
      ]
     },
     "execution_count": 42,
     "metadata": {},
     "output_type": "execute_result"
    }
   ],
   "source": [
    "y_prob = DD.predict_proba(X_test)[:,1] # This will give you positive class prediction probabilities  \n",
    "y_pred = np.where(y_prob > 0.5, 1, 0) # This will threshold the probabilities to give class predictions.\n",
    "DD.score(X_test, y_pred)"
   ]
  },
  {
   "cell_type": "code",
   "execution_count": 43,
   "metadata": {
    "scrolled": true
   },
   "outputs": [
    {
     "name": "stdout",
     "output_type": "stream",
     "text": [
      "The AUC of GridSearchCV Desicion Tree is 1.0\n"
     ]
    }
   ],
   "source": [
    "print('The AUC of GridSearchCV Desicion Tree is', roc_auc_score(y_test,y_pred))"
   ]
  },
  {
   "cell_type": "code",
   "execution_count": 44,
   "metadata": {},
   "outputs": [
    {
     "data": {
      "text/plain": [
       "{'mean_fit_time': array([0.00703673, 0.00548954, 0.00533998, 0.00543962, 0.0053395 ,\n",
       "        0.00698657, 0.00703659, 0.00713649, 0.00718627, 0.00708692,\n",
       "        0.0088829 , 0.00863371, 0.00878322, 0.0089829 , 0.00893297,\n",
       "        0.01003077, 0.00998118, 0.01003079, 0.01003039, 0.01002996,\n",
       "        0.01072876, 0.01087837, 0.0108783 , 0.01117806, 0.01092875,\n",
       "        0.01217647, 0.01152771, 0.01132815, 0.01137824, 0.01132834,\n",
       "        0.01172757, 0.01152856, 0.01152813, 0.01142843, 0.01137822,\n",
       "        0.01132858, 0.01132762, 0.01142733, 0.01137753, 0.01142805,\n",
       "        0.01162722, 0.01132863, 0.01142819, 0.01137826, 0.01142821]),\n",
       " 'std_fit_time': array([3.65714241e-03, 2.23271987e-04, 2.28841755e-04, 2.68579523e-04,\n",
       "        2.28581859e-04, 4.23822137e-07, 1.49758876e-04, 2.28826303e-04,\n",
       "        2.44522848e-04, 1.99474897e-04, 1.99450165e-04, 2.28597524e-04,\n",
       "        2.44406518e-04, 2.23270922e-04, 2.68765515e-04, 2.68734429e-04,\n",
       "        3.76218172e-07, 3.49515015e-04, 1.50005317e-04, 2.68751849e-04,\n",
       "        2.49505335e-04, 1.99580698e-04, 1.99604383e-04, 3.98970035e-04,\n",
       "        1.49687389e-04, 1.99848387e-03, 4.70730277e-04, 3.89245564e-04,\n",
       "        2.99517771e-04, 3.89929023e-04, 1.00413782e-03, 5.66788643e-04,\n",
       "        3.49573013e-04, 4.70654412e-04, 4.35016086e-04, 3.89745940e-04,\n",
       "        3.89653987e-04, 4.70992678e-04, 2.99557338e-04, 3.49002635e-04,\n",
       "        3.19798270e-04, 3.19589679e-04, 4.14354110e-04, 3.73679995e-04,\n",
       "        2.68579184e-04]),\n",
       " 'mean_score_time': array([0.00059891, 0.0004992 , 0.0004992 , 0.00054896, 0.00049939,\n",
       "        0.00059891, 0.00049894, 0.00054886, 0.00049887, 0.00049896,\n",
       "        0.000599  , 0.00049896, 0.00064886, 0.00054891, 0.00049908,\n",
       "        0.00059898, 0.0005487 , 0.00064898, 0.00059924, 0.00059996,\n",
       "        0.00064962, 0.00049994, 0.00064974, 0.00064929, 0.00054948,\n",
       "        0.00059905, 0.00049918, 0.00049899, 0.00054901, 0.00054901,\n",
       "        0.00059893, 0.00064886, 0.0005533 , 0.00059865, 0.00064914,\n",
       "        0.00074856, 0.00064969, 0.00064971, 0.00069962, 0.00059903,\n",
       "        0.0006078 , 0.00059888, 0.00059907, 0.00064883, 0.00054898]),\n",
       " 'std_score_time': array([1.99735270e-04, 5.20167928e-07, 8.10623169e-07, 1.49528988e-04,\n",
       "        3.05324756e-07, 1.99556522e-04, 1.86210863e-07, 1.49719292e-04,\n",
       "        6.84390073e-07, 8.71451706e-07, 1.99568718e-04, 3.81469727e-07,\n",
       "        2.28893887e-04, 1.49862342e-04, 8.19341673e-07, 1.99997722e-04,\n",
       "        1.49854345e-04, 2.28555790e-04, 1.99330857e-04, 1.99449367e-04,\n",
       "        2.28654805e-04, 3.76218172e-07, 2.28940708e-04, 2.28508955e-04,\n",
       "        1.49591920e-04, 1.99842823e-04, 3.54434699e-07, 3.76218172e-07,\n",
       "        1.49751848e-04, 1.49433418e-04, 1.99545083e-04, 2.28945809e-04,\n",
       "        1.48612788e-04, 1.99867233e-04, 2.28344790e-04, 2.49744094e-04,\n",
       "        2.28660099e-04, 2.28748244e-04, 2.44473955e-04, 1.99795317e-04,\n",
       "        1.97300530e-04, 1.99389771e-04, 1.99473529e-04, 2.28493610e-04,\n",
       "        1.49520547e-04]),\n",
       " 'param_max_depth': masked_array(data=[1, 1, 1, 1, 1, 2, 2, 2, 2, 2, 3, 3, 3, 3, 3, 4, 4, 4,\n",
       "                    4, 4, 5, 5, 5, 5, 5, 6, 6, 6, 6, 6, 7, 7, 7, 7, 7, 8,\n",
       "                    8, 8, 8, 8, 9, 9, 9, 9, 9],\n",
       "              mask=[False, False, False, False, False, False, False, False,\n",
       "                    False, False, False, False, False, False, False, False,\n",
       "                    False, False, False, False, False, False, False, False,\n",
       "                    False, False, False, False, False, False, False, False,\n",
       "                    False, False, False, False, False, False, False, False,\n",
       "                    False, False, False, False, False],\n",
       "        fill_value='?',\n",
       "             dtype=object),\n",
       " 'param_min_samples_leaf': masked_array(data=[1, 3, 5, 7, 9, 1, 3, 5, 7, 9, 1, 3, 5, 7, 9, 1, 3, 5,\n",
       "                    7, 9, 1, 3, 5, 7, 9, 1, 3, 5, 7, 9, 1, 3, 5, 7, 9, 1,\n",
       "                    3, 5, 7, 9, 1, 3, 5, 7, 9],\n",
       "              mask=[False, False, False, False, False, False, False, False,\n",
       "                    False, False, False, False, False, False, False, False,\n",
       "                    False, False, False, False, False, False, False, False,\n",
       "                    False, False, False, False, False, False, False, False,\n",
       "                    False, False, False, False, False, False, False, False,\n",
       "                    False, False, False, False, False],\n",
       "        fill_value='?',\n",
       "             dtype=object),\n",
       " 'params': [{'max_depth': 1, 'min_samples_leaf': 1},\n",
       "  {'max_depth': 1, 'min_samples_leaf': 3},\n",
       "  {'max_depth': 1, 'min_samples_leaf': 5},\n",
       "  {'max_depth': 1, 'min_samples_leaf': 7},\n",
       "  {'max_depth': 1, 'min_samples_leaf': 9},\n",
       "  {'max_depth': 2, 'min_samples_leaf': 1},\n",
       "  {'max_depth': 2, 'min_samples_leaf': 3},\n",
       "  {'max_depth': 2, 'min_samples_leaf': 5},\n",
       "  {'max_depth': 2, 'min_samples_leaf': 7},\n",
       "  {'max_depth': 2, 'min_samples_leaf': 9},\n",
       "  {'max_depth': 3, 'min_samples_leaf': 1},\n",
       "  {'max_depth': 3, 'min_samples_leaf': 3},\n",
       "  {'max_depth': 3, 'min_samples_leaf': 5},\n",
       "  {'max_depth': 3, 'min_samples_leaf': 7},\n",
       "  {'max_depth': 3, 'min_samples_leaf': 9},\n",
       "  {'max_depth': 4, 'min_samples_leaf': 1},\n",
       "  {'max_depth': 4, 'min_samples_leaf': 3},\n",
       "  {'max_depth': 4, 'min_samples_leaf': 5},\n",
       "  {'max_depth': 4, 'min_samples_leaf': 7},\n",
       "  {'max_depth': 4, 'min_samples_leaf': 9},\n",
       "  {'max_depth': 5, 'min_samples_leaf': 1},\n",
       "  {'max_depth': 5, 'min_samples_leaf': 3},\n",
       "  {'max_depth': 5, 'min_samples_leaf': 5},\n",
       "  {'max_depth': 5, 'min_samples_leaf': 7},\n",
       "  {'max_depth': 5, 'min_samples_leaf': 9},\n",
       "  {'max_depth': 6, 'min_samples_leaf': 1},\n",
       "  {'max_depth': 6, 'min_samples_leaf': 3},\n",
       "  {'max_depth': 6, 'min_samples_leaf': 5},\n",
       "  {'max_depth': 6, 'min_samples_leaf': 7},\n",
       "  {'max_depth': 6, 'min_samples_leaf': 9},\n",
       "  {'max_depth': 7, 'min_samples_leaf': 1},\n",
       "  {'max_depth': 7, 'min_samples_leaf': 3},\n",
       "  {'max_depth': 7, 'min_samples_leaf': 5},\n",
       "  {'max_depth': 7, 'min_samples_leaf': 7},\n",
       "  {'max_depth': 7, 'min_samples_leaf': 9},\n",
       "  {'max_depth': 8, 'min_samples_leaf': 1},\n",
       "  {'max_depth': 8, 'min_samples_leaf': 3},\n",
       "  {'max_depth': 8, 'min_samples_leaf': 5},\n",
       "  {'max_depth': 8, 'min_samples_leaf': 7},\n",
       "  {'max_depth': 8, 'min_samples_leaf': 9},\n",
       "  {'max_depth': 9, 'min_samples_leaf': 1},\n",
       "  {'max_depth': 9, 'min_samples_leaf': 3},\n",
       "  {'max_depth': 9, 'min_samples_leaf': 5},\n",
       "  {'max_depth': 9, 'min_samples_leaf': 7},\n",
       "  {'max_depth': 9, 'min_samples_leaf': 9}],\n",
       " 'split0_test_score': array([0.76344086, 0.76344086, 0.76344086, 0.76344086, 0.76344086,\n",
       "        0.906298  , 0.906298  , 0.906298  , 0.906298  , 0.906298  ,\n",
       "        0.94777266, 0.94777266, 0.94777266, 0.94777266, 0.94777266,\n",
       "        0.97081413, 0.97081413, 0.97081413, 0.97081413, 0.97081413,\n",
       "        0.97081413, 0.97081413, 0.97081413, 0.97081413, 0.97081413,\n",
       "        0.99231951, 0.99231951, 0.99231951, 0.99231951, 0.99231951,\n",
       "        1.        , 1.        , 1.        , 0.9984639 , 0.9984639 ,\n",
       "        1.        , 1.        , 1.        , 0.9984639 , 0.9984639 ,\n",
       "        1.        , 1.        , 1.        , 0.9984639 , 0.9984639 ]),\n",
       " 'split1_test_score': array([0.78341014, 0.78341014, 0.78341014, 0.78341014, 0.78341014,\n",
       "        0.90322581, 0.90322581, 0.90322581, 0.90322581, 0.90322581,\n",
       "        0.95391705, 0.95391705, 0.95391705, 0.95391705, 0.95391705,\n",
       "        0.98003072, 0.98003072, 0.98003072, 0.98003072, 0.98003072,\n",
       "        0.98156682, 0.98156682, 0.98156682, 0.98156682, 0.98156682,\n",
       "        1.        , 1.        , 1.        , 1.        , 1.        ,\n",
       "        1.        , 1.        , 1.        , 1.        , 1.        ,\n",
       "        1.        , 1.        , 1.        , 1.        , 1.        ,\n",
       "        1.        , 1.        , 1.        , 0.9984639 , 1.        ]),\n",
       " 'split2_test_score': array([0.8187404 , 0.8187404 , 0.8187404 , 0.8187404 , 0.8187404 ,\n",
       "        0.92165899, 0.92165899, 0.92165899, 0.92165899, 0.92165899,\n",
       "        0.95852535, 0.95852535, 0.95852535, 0.95852535, 0.95852535,\n",
       "        0.97081413, 0.97081413, 0.97081413, 0.97081413, 0.97081413,\n",
       "        0.97081413, 0.97081413, 0.97081413, 0.97081413, 0.97081413,\n",
       "        0.9984639 , 0.9984639 , 0.9984639 , 0.9984639 , 0.9984639 ,\n",
       "        1.        , 1.        , 1.        , 0.9984639 , 0.9984639 ,\n",
       "        1.        , 1.        , 1.        , 0.9984639 , 0.9984639 ,\n",
       "        1.        , 1.        , 1.        , 0.9984639 , 0.9984639 ]),\n",
       " 'split3_test_score': array([0.79076923, 0.79076923, 0.79076923, 0.79076923, 0.79076923,\n",
       "        0.92153846, 0.92153846, 0.92153846, 0.92153846, 0.92153846,\n",
       "        0.95076923, 0.95076923, 0.95076923, 0.95076923, 0.95076923,\n",
       "        0.98307692, 0.98307692, 0.98307692, 0.98307692, 0.98307692,\n",
       "        0.98307692, 0.98307692, 0.98307692, 0.98307692, 0.98307692,\n",
       "        0.99846154, 0.99846154, 0.99846154, 0.99846154, 0.99846154,\n",
       "        1.        , 1.        , 1.        , 0.99846154, 0.99846154,\n",
       "        1.        , 1.        , 1.        , 0.99846154, 0.99846154,\n",
       "        1.        , 1.        , 1.        , 0.99846154, 0.99846154]),\n",
       " 'split4_test_score': array([0.79846154, 0.79846154, 0.79846154, 0.79846154, 0.79846154,\n",
       "        0.90769231, 0.90769231, 0.90769231, 0.90769231, 0.90769231,\n",
       "        0.97384615, 0.97384615, 0.97384615, 0.97384615, 0.97384615,\n",
       "        0.98615385, 0.98615385, 0.98615385, 0.98615385, 0.98615385,\n",
       "        0.98769231, 0.98769231, 0.98769231, 0.98769231, 0.98769231,\n",
       "        0.99538462, 0.99538462, 0.99538462, 0.99538462, 0.99538462,\n",
       "        1.        , 1.        , 1.        , 1.        , 1.        ,\n",
       "        1.        , 1.        , 1.        , 1.        , 1.        ,\n",
       "        1.        , 1.        , 1.        , 1.        , 1.        ]),\n",
       " 'split5_test_score': array([0.77692308, 0.77692308, 0.77692308, 0.77692308, 0.77692308,\n",
       "        0.91076923, 0.91076923, 0.91076923, 0.91076923, 0.91076923,\n",
       "        0.95384615, 0.95384615, 0.95384615, 0.95384615, 0.95384615,\n",
       "        0.96615385, 0.96615385, 0.96615385, 0.96615385, 0.96615385,\n",
       "        0.96923077, 0.96923077, 0.96923077, 0.96923077, 0.96615385,\n",
       "        0.99846154, 0.99846154, 0.99846154, 0.99846154, 0.99538462,\n",
       "        1.        , 1.        , 1.        , 0.99846154, 0.99538462,\n",
       "        1.        , 1.        , 1.        , 0.99846154, 0.99538462,\n",
       "        1.        , 1.        , 1.        , 0.99846154, 0.99538462]),\n",
       " 'split6_test_score': array([0.78736518, 0.78736518, 0.78736518, 0.78736518, 0.78736518,\n",
       "        0.91525424, 0.91525424, 0.91525424, 0.91525424, 0.91525424,\n",
       "        0.96610169, 0.96610169, 0.96610169, 0.96610169, 0.96610169,\n",
       "        0.98151002, 0.98151002, 0.98151002, 0.98151002, 0.98151002,\n",
       "        0.98305085, 0.98305085, 0.98305085, 0.98305085, 0.98305085,\n",
       "        1.        , 1.        , 1.        , 1.        , 1.        ,\n",
       "        1.        , 1.        , 1.        , 1.        , 1.        ,\n",
       "        1.        , 1.        , 1.        , 1.        , 1.        ,\n",
       "        1.        , 1.        , 1.        , 0.99845917, 1.        ]),\n",
       " 'split7_test_score': array([0.77503852, 0.77503852, 0.77503852, 0.77503852, 0.77503852,\n",
       "        0.89522342, 0.89522342, 0.89522342, 0.89522342, 0.89522342,\n",
       "        0.93990755, 0.93990755, 0.93990755, 0.93990755, 0.93990755,\n",
       "        0.97534669, 0.97534669, 0.97534669, 0.97534669, 0.97534669,\n",
       "        0.97842835, 0.97842835, 0.97842835, 0.97842835, 0.97842835,\n",
       "        0.98767334, 0.98767334, 0.98767334, 0.98767334, 0.98767334,\n",
       "        1.        , 1.        , 1.        , 0.99845917, 0.99845917,\n",
       "        1.        , 1.        , 1.        , 0.99845917, 0.99845917,\n",
       "        1.        , 1.        , 1.        , 0.99845917, 0.99845917]),\n",
       " 'split8_test_score': array([0.81047766, 0.81047766, 0.81047766, 0.81047766, 0.81047766,\n",
       "        0.91679507, 0.91679507, 0.91679507, 0.91679507, 0.91679507,\n",
       "        0.96456086, 0.96456086, 0.96456086, 0.96456086, 0.96456086,\n",
       "        0.97842835, 0.97842835, 0.97842835, 0.97842835, 0.97842835,\n",
       "        0.98151002, 0.98151002, 0.98151002, 0.98151002, 0.97688752,\n",
       "        0.99845917, 0.99845917, 0.99845917, 0.99845917, 0.99383667,\n",
       "        1.        , 1.        , 1.        , 0.99845917, 0.99383667,\n",
       "        1.        , 1.        , 1.        , 0.99845917, 0.99383667,\n",
       "        1.        , 1.        , 1.        , 0.99845917, 0.99383667]),\n",
       " 'split9_test_score': array([0.79044684, 0.79044684, 0.79044684, 0.79044684, 0.79044684,\n",
       "        0.91063174, 0.91063174, 0.91063174, 0.91063174, 0.91063174,\n",
       "        0.96302003, 0.96302003, 0.96302003, 0.96302003, 0.96302003,\n",
       "        0.98151002, 0.98151002, 0.98151002, 0.98151002, 0.98151002,\n",
       "        0.98305085, 0.98305085, 0.98305085, 0.98305085, 0.98305085,\n",
       "        0.99383667, 0.99383667, 0.99383667, 0.99383667, 0.99383667,\n",
       "        1.        , 1.        , 1.        , 1.        , 1.        ,\n",
       "        1.        , 1.        , 1.        , 1.        , 1.        ,\n",
       "        1.        , 1.        , 1.        , 0.99845917, 1.        ]),\n",
       " 'mean_test_score': array([0.78950608, 0.78950608, 0.78950608, 0.78950608, 0.78950608,\n",
       "        0.91090937, 0.91090937, 0.91090937, 0.91090937, 0.91090937,\n",
       "        0.95722419, 0.95722419, 0.95722419, 0.95722419, 0.95722419,\n",
       "        0.97738114, 0.97738114, 0.97738114, 0.97738114, 0.97738114,\n",
       "        0.97891983, 0.97891983, 0.97891983, 0.97891983, 0.97815048,\n",
       "        0.99630712, 0.99630712, 0.99630712, 0.99630712, 0.99553778,\n",
       "        1.        , 1.        , 1.        , 0.99907678, 0.99830743,\n",
       "        1.        , 1.        , 1.        , 0.99907678, 0.99830743,\n",
       "        1.        , 1.        , 1.        , 0.99861517, 0.99830743]),\n",
       " 'std_test_score': array([0.01570893, 0.01570893, 0.01570893, 0.01570893, 0.01570893,\n",
       "        0.00786628, 0.00786628, 0.00786628, 0.00786628, 0.00786628,\n",
       "        0.00947102, 0.00947102, 0.00947102, 0.00947102, 0.00947102,\n",
       "        0.00606792, 0.00606792, 0.00606792, 0.00606792, 0.00606792,\n",
       "        0.00606477, 0.00606477, 0.00606477, 0.00606477, 0.00654541,\n",
       "        0.00378366, 0.00378366, 0.00378366, 0.00378366, 0.00367315,\n",
       "        0.        , 0.        , 0.        , 0.00075366, 0.00200141,\n",
       "        0.        , 0.        , 0.        , 0.00075366, 0.00200141,\n",
       "        0.        , 0.        , 0.        , 0.00046165, 0.00200141]),\n",
       " 'rank_test_score': array([41, 41, 41, 41, 41, 36, 36, 36, 36, 36, 31, 31, 31, 31, 31, 26, 26,\n",
       "        26, 26, 26, 21, 21, 21, 21, 25, 16, 16, 16, 16, 20,  1,  1,  1, 10,\n",
       "        13,  1,  1,  1, 10, 13,  1,  1,  1, 12, 13]),\n",
       " 'split0_train_score': array([0.79240766, 0.79240766, 0.79240766, 0.79240766, 0.79240766,\n",
       "        0.91142271, 0.91142271, 0.91142271, 0.91142271, 0.91142271,\n",
       "        0.95827633, 0.95827633, 0.95827633, 0.95827633, 0.95827633,\n",
       "        0.97811218, 0.97811218, 0.97811218, 0.97811218, 0.97811218,\n",
       "        0.97982216, 0.97982216, 0.97982216, 0.97982216, 0.97982216,\n",
       "        0.99538304, 0.99538304, 0.99538304, 0.99538304, 0.99538304,\n",
       "        1.        , 1.        , 1.        , 0.99914501, 0.99914501,\n",
       "        1.        , 1.        , 1.        , 0.99914501, 0.99914501,\n",
       "        1.        , 1.        , 1.        , 0.99914501, 0.99914501]),\n",
       " 'split1_train_score': array([0.79018468, 0.79018468, 0.79018468, 0.79018468, 0.79018468,\n",
       "        0.91176471, 0.91176471, 0.91176471, 0.91176471, 0.91176471,\n",
       "        0.95759234, 0.95759234, 0.95759234, 0.95759234, 0.95759234,\n",
       "        0.97708618, 0.97708618, 0.97708618, 0.97708618, 0.97708618,\n",
       "        0.97862517, 0.97862517, 0.97862517, 0.97862517, 0.97862517,\n",
       "        0.99897401, 0.99897401, 0.99897401, 0.99897401, 0.99897401,\n",
       "        1.        , 1.        , 1.        , 0.99897401, 0.99897401,\n",
       "        1.        , 1.        , 1.        , 0.99897401, 0.99897401,\n",
       "        1.        , 1.        , 1.        , 0.99914501, 0.99897401]),\n",
       " 'split2_train_score': array([0.78625171, 0.78625171, 0.78625171, 0.78625171, 0.78625171,\n",
       "        0.90971272, 0.90971272, 0.90971272, 0.90971272, 0.90971272,\n",
       "        0.95707934, 0.95707934, 0.95707934, 0.95707934, 0.95707934,\n",
       "        0.97811218, 0.97811218, 0.97811218, 0.97811218, 0.97811218,\n",
       "        0.97982216, 0.97982216, 0.97982216, 0.97982216, 0.97982216,\n",
       "        0.99914501, 0.99914501, 0.99914501, 0.99914501, 0.99914501,\n",
       "        1.        , 1.        , 1.        , 0.99914501, 0.99914501,\n",
       "        1.        , 1.        , 1.        , 0.99914501, 0.99914501,\n",
       "        1.        , 1.        , 1.        , 0.99914501, 0.99914501]),\n",
       " 'split3_train_score': array([0.7893657 , 0.7893657 , 0.7893657 , 0.7893657 , 0.7893657 ,\n",
       "        0.90972816, 0.90972816, 0.90972816, 0.90972816, 0.90972816,\n",
       "        0.95794153, 0.95794153, 0.95794153, 0.95794153, 0.95794153,\n",
       "        0.97674816, 0.97674816, 0.97674816, 0.97674816, 0.97674816,\n",
       "        0.97845786, 0.97845786, 0.97845786, 0.97845786, 0.97845786,\n",
       "        0.99469995, 0.99469995, 0.99469995, 0.99469995, 0.99469995,\n",
       "        1.        , 1.        , 1.        , 0.99914515, 0.99914515,\n",
       "        1.        , 1.        , 1.        , 0.99914515, 0.99914515,\n",
       "        1.        , 1.        , 1.        , 0.99914515, 0.99914515]),\n",
       " 'split4_train_score': array([0.78851086, 0.78851086, 0.78851086, 0.78851086, 0.78851086,\n",
       "        0.91126688, 0.91126688, 0.91126688, 0.91126688, 0.91126688,\n",
       "        0.95537699, 0.95537699, 0.95537699, 0.95537699, 0.95537699,\n",
       "        0.97640622, 0.97640622, 0.97640622, 0.97640622, 0.97640622,\n",
       "        0.97794495, 0.97794495, 0.97794495, 0.97794495, 0.97794495,\n",
       "        0.99504189, 0.99504189, 0.99504189, 0.99504189, 0.99504189,\n",
       "        1.        , 1.        , 1.        , 0.99897418, 0.99897418,\n",
       "        1.        , 1.        , 1.        , 0.99897418, 0.99897418,\n",
       "        1.        , 1.        , 1.        , 0.99897418, 0.99897418]),\n",
       " 'split5_train_score': array([0.79090443, 0.79090443, 0.79090443, 0.79090443, 0.79090443,\n",
       "        0.91092494, 0.91092494, 0.91092494, 0.91092494, 0.91092494,\n",
       "        0.95759959, 0.95759959, 0.95759959, 0.95759959, 0.95759959,\n",
       "        0.97862883, 0.97862883, 0.97862883, 0.97862883, 0.97862883,\n",
       "        0.97999658, 0.97999658, 0.97999658, 0.97999658, 0.9793127 ,\n",
       "        0.99914515, 0.99914515, 0.99914515, 0.99914515, 0.99846128,\n",
       "        1.        , 1.        , 1.        , 0.99914515, 0.99846128,\n",
       "        1.        , 1.        , 1.        , 0.99914515, 0.99846128,\n",
       "        1.        , 1.        , 1.        , 0.99914515, 0.99846128]),\n",
       " 'split6_train_score': array([0.78974359, 0.78974359, 0.78974359, 0.78974359, 0.78974359,\n",
       "        0.91042735, 0.91042735, 0.91042735, 0.91042735, 0.91042735,\n",
       "        0.95623932, 0.95623932, 0.95623932, 0.95623932, 0.95623932,\n",
       "        0.97692308, 0.97692308, 0.97692308, 0.97692308, 0.97692308,\n",
       "        0.97846154, 0.97846154, 0.97846154, 0.97846154, 0.97846154,\n",
       "        0.99897436, 0.99897436, 0.99897436, 0.99897436, 0.99897436,\n",
       "        1.        , 1.        , 1.        , 0.99897436, 0.99897436,\n",
       "        1.        , 1.        , 1.        , 0.99897436, 0.99897436,\n",
       "        1.        , 1.        , 1.        , 0.9991453 , 0.99897436]),\n",
       " 'split7_train_score': array([0.79111111, 0.79111111, 0.79111111, 0.79111111, 0.79111111,\n",
       "        0.91264957, 0.91264957, 0.91264957, 0.91264957, 0.91264957,\n",
       "        0.9591453 , 0.9591453 , 0.9591453 , 0.9591453 , 0.9591453 ,\n",
       "        0.97760684, 0.97760684, 0.97760684, 0.97760684, 0.97760684,\n",
       "        0.97897436, 0.97897436, 0.97897436, 0.97897436, 0.97794872,\n",
       "        0.99589744, 0.99589744, 0.99589744, 0.99589744, 0.99487179,\n",
       "        1.        , 1.        , 1.        , 0.9991453 , 0.99811966,\n",
       "        1.        , 1.        , 1.        , 0.9991453 , 0.99811966,\n",
       "        1.        , 1.        , 1.        , 0.9991453 , 0.99811966]),\n",
       " 'split8_train_score': array([0.78717949, 0.78717949, 0.78717949, 0.78717949, 0.78717949,\n",
       "        0.91025641, 0.91025641, 0.91025641, 0.91025641, 0.91025641,\n",
       "        0.95641026, 0.95641026, 0.95641026, 0.95641026, 0.95641026,\n",
       "        0.97726496, 0.97726496, 0.97726496, 0.97726496, 0.97726496,\n",
       "        0.97863248, 0.97863248, 0.97863248, 0.97863248, 0.97777778,\n",
       "        0.9991453 , 0.9991453 , 0.9991453 , 0.9991453 , 0.9982906 ,\n",
       "        1.        , 1.        , 1.        , 0.9991453 , 0.9982906 ,\n",
       "        1.        , 1.        , 1.        , 0.9991453 , 0.9982906 ,\n",
       "        1.        , 1.        , 1.        , 0.9991453 , 0.9982906 ]),\n",
       " 'split9_train_score': array([0.78940171, 0.78940171, 0.78940171, 0.78940171, 0.78940171,\n",
       "        0.91094017, 0.91094017, 0.91094017, 0.91094017, 0.91094017,\n",
       "        0.9565812 , 0.9565812 , 0.9565812 , 0.9565812 , 0.9565812 ,\n",
       "        0.97692308, 0.97692308, 0.97692308, 0.97692308, 0.97692308,\n",
       "        0.97846154, 0.97846154, 0.97846154, 0.97846154, 0.97846154,\n",
       "        0.99521368, 0.99521368, 0.99521368, 0.99521368, 0.99521368,\n",
       "        1.        , 1.        , 1.        , 0.99897436, 0.99897436,\n",
       "        1.        , 1.        , 1.        , 0.99897436, 0.99897436,\n",
       "        1.        , 1.        , 1.        , 0.9991453 , 0.99897436]),\n",
       " 'mean_train_score': array([0.78950609, 0.78950609, 0.78950609, 0.78950609, 0.78950609,\n",
       "        0.91090936, 0.91090936, 0.91090936, 0.91090936, 0.91090936,\n",
       "        0.95722422, 0.95722422, 0.95722422, 0.95722422, 0.95722422,\n",
       "        0.97738117, 0.97738117, 0.97738117, 0.97738117, 0.97738117,\n",
       "        0.97891988, 0.97891988, 0.97891988, 0.97891988, 0.97866346,\n",
       "        0.99716198, 0.99716198, 0.99716198, 0.99716198, 0.99690556,\n",
       "        1.        , 1.        , 1.        , 0.99907678, 0.99882036,\n",
       "        1.        , 1.        , 1.        , 0.99907678, 0.99882036,\n",
       "        1.        , 1.        , 1.        , 0.99912807, 0.99882036]),\n",
       " 'std_train_score': array([1.74621324e-03, 1.74621324e-03, 1.74621324e-03, 1.74621324e-03,\n",
       "        1.74621324e-03, 8.73976744e-04, 8.73976744e-04, 8.73976744e-04,\n",
       "        8.73976744e-04, 8.73976744e-04, 1.05203339e-03, 1.05203339e-03,\n",
       "        1.05203339e-03, 1.05203339e-03, 1.05203339e-03, 6.74369935e-04,\n",
       "        6.74369935e-04, 6.74369935e-04, 6.74369935e-04, 6.74369935e-04,\n",
       "        6.74095052e-04, 6.74095052e-04, 6.74095052e-04, 6.74095052e-04,\n",
       "        7.10177938e-04, 1.93605478e-03, 1.93605478e-03, 1.93605478e-03,\n",
       "        1.93605478e-03, 1.88591777e-03, 0.00000000e+00, 0.00000000e+00,\n",
       "        0.00000000e+00, 8.37361810e-05, 3.62153947e-04, 0.00000000e+00,\n",
       "        0.00000000e+00, 0.00000000e+00, 8.37361810e-05, 3.62153947e-04,\n",
       "        0.00000000e+00, 0.00000000e+00, 0.00000000e+00, 5.12958283e-05,\n",
       "        3.62153947e-04])}"
      ]
     },
     "execution_count": 44,
     "metadata": {},
     "output_type": "execute_result"
    }
   ],
   "source": [
    "DD.cv_results_"
   ]
  },
  {
   "cell_type": "code",
   "execution_count": 45,
   "metadata": {
    "scrolled": true
   },
   "outputs": [
    {
     "data": {
      "image/png": "[encoded data removed]",
      "text/plain": [
       "<Figure size 432x288 with 1 Axes>"
      ]
     },
     "metadata": {},
     "output_type": "display_data"
    }
   ],
   "source": [
    "#DD.grid_scores_\n",
    "\n",
    "test_means = DD.cv_results_[ 'mean_test_score' ]\n",
    "#test_stds = DD.cv_results_[ 'std_test_score' ]\n",
    "#pd.DataFrame(DD.cv_results_).to_csv('DD_min_samples_leaf_maxdepth.csv')\n",
    "\n",
    "# plot results\n",
    "test_scores = np.array(test_means).reshape(len(max_depth), len(min_samples_leaf))\n",
    "\n",
    "for i, value in enumerate(max_depth):\n",
    "    plt.plot(min_samples_leaf, test_scores[i], label= 'test_max_depth:'   + str(value))\n",
    "\n",
    "    \n",
    "plt.legend()\n",
    "plt.xlabel( 'min_samples_leaf' )                                                                                                      \n",
    "plt.ylabel( 'accuray' )\n",
    "plt.show()"
   ]
  },
  {
   "cell_type": "markdown",
   "metadata": {},
   "source": [
    "## Default Random Forest"
   ]
  },
  {
   "cell_type": "code",
   "execution_count": 90,
   "metadata": {
    "collapsed": true
   },
   "outputs": [],
   "source": [
    "from sklearn.ensemble import RandomForestClassifier\n",
    "\n",
    "model_RR=RandomForestClassifier()"
   ]
  },
  {
   "cell_type": "code",
   "execution_count": 91,
   "metadata": {
    "scrolled": true
   },
   "outputs": [
    {
     "data": {
      "text/plain": [
       "RandomForestClassifier(bootstrap=True, class_weight=None, criterion='gini',\n",
       "            max_depth=None, max_features='auto', max_leaf_nodes=None,\n",
       "            min_impurity_decrease=0.0, min_impurity_split=None,\n",
       "            min_samples_leaf=1, min_samples_split=2,\n",
       "            min_weight_fraction_leaf=0.0, n_estimators=10, n_jobs=1,\n",
       "            oob_score=False, random_state=None, verbose=0,\n",
       "            warm_start=False)"
      ]
     },
     "execution_count": 91,
     "metadata": {},
     "output_type": "execute_result"
    }
   ],
   "source": [
    "model_RR.fit(X_train,y_train)"
   ]
  },
  {
   "cell_type": "code",
   "execution_count": 92,
   "metadata": {},
   "outputs": [
    {
     "data": {
      "text/plain": [
       "1.0"
      ]
     },
     "execution_count": 92,
     "metadata": {},
     "output_type": "execute_result"
    }
   ],
   "source": [
    "y_prob = model_RR.predict_proba(X_test)[:,1] # This will give you positive class prediction probabilities  \n",
    "y_pred = np.where(y_prob > 0.5, 1, 0) # This will threshold the probabilities to give class predictions.\n",
    "model_RR.score(X_test, y_pred)"
   ]
  },
  {
   "cell_type": "code",
   "execution_count": 93,
   "metadata": {},
   "outputs": [
    {
     "name": "stdout",
     "output_type": "stream",
     "text": [
      "The AUC of default Random Forest is 1.0\n"
     ]
    }
   ],
   "source": [
    "print 'The AUC of default Random Forest is', roc_auc_score(y_test,y_pred)"
   ]
  },
  {
   "cell_type": "markdown",
   "metadata": {},
   "source": [
    "## Let us tuned the parameters of Random Forest just for the purpose of knowledge\n",
    "1) n_estimators 2) min_sample_leaf"
   ]
  },
  {
   "cell_type": "markdown",
   "metadata": {
    "collapsed": true
   },
   "source": [
    "随机森林可调整的超参数（除了和决策树相同的参数）：n_estimators（弱学习器的数目）"
   ]
  },
  {
   "cell_type": "code",
   "execution_count": 94,
   "metadata": {
    "collapsed": true
   },
   "outputs": [],
   "source": [
    "from sklearn.ensemble import RandomForestClassifier\n",
    "\n",
    "model_RR=RandomForestClassifier()\n",
    "\n",
    "tuned_parameters = {'min_samples_leaf': range(1,10,2), 'n_estimators' : range(1,10,2) }"
   ]
  },
  {
   "cell_type": "code",
   "execution_count": 95,
   "metadata": {
    "collapsed": true
   },
   "outputs": [],
   "source": [
    "from sklearn.model_selection import GridSearchCV\n",
    "RR = GridSearchCV(model_RR, tuned_parameters,cv=10)"
   ]
  },
  {
   "cell_type": "code",
   "execution_count": 96,
   "metadata": {},
   "outputs": [
    {
     "data": {
      "text/plain": [
       "GridSearchCV(cv=10, error_score='raise',\n",
       "       estimator=RandomForestClassifier(bootstrap=True, class_weight=None, criterion='gini',\n",
       "            max_depth=None, max_features='auto', max_leaf_nodes=None,\n",
       "            min_impurity_decrease=0.0, min_impurity_split=None,\n",
       "            min_samples_leaf=1, min_samples_split=2,\n",
       "            min_weight_fraction_leaf=0.0, n_estimators=10, n_jobs=1,\n",
       "            oob_score=False, random_state=None, verbose=0,\n",
       "            warm_start=False),\n",
       "       fit_params=None, iid=True, n_jobs=1,\n",
       "       param_grid={'n_estimators': [1, 3, 5, 7, 9], 'min_samples_leaf': [1, 3, 5, 7, 9]},\n",
       "       pre_dispatch='2*n_jobs', refit=True, return_train_score='warn',\n",
       "       scoring=None, verbose=0)"
      ]
     },
     "execution_count": 96,
     "metadata": {},
     "output_type": "execute_result"
    }
   ],
   "source": [
    "RR.fit(X_train,y_train)"
   ]
  },
  {
   "cell_type": "code",
   "execution_count": 97,
   "metadata": {},
   "outputs": [
    {
     "name": "stdout",
     "output_type": "stream",
     "text": [
      "[mean: 0.99923, std: 0.00158, params: {'n_estimators': 1, 'min_samples_leaf': 1}, mean: 1.00000, std: 0.00000, params: {'n_estimators': 3, 'min_samples_leaf': 1}, mean: 1.00000, std: 0.00000, params: {'n_estimators': 5, 'min_samples_leaf': 1}, mean: 1.00000, std: 0.00000, params: {'n_estimators': 7, 'min_samples_leaf': 1}, mean: 1.00000, std: 0.00000, params: {'n_estimators': 9, 'min_samples_leaf': 1}, mean: 0.99862, std: 0.00200, params: {'n_estimators': 1, 'min_samples_leaf': 3}, mean: 1.00000, std: 0.00000, params: {'n_estimators': 3, 'min_samples_leaf': 3}, mean: 1.00000, std: 0.00000, params: {'n_estimators': 5, 'min_samples_leaf': 3}, mean: 1.00000, std: 0.00000, params: {'n_estimators': 7, 'min_samples_leaf': 3}, mean: 1.00000, std: 0.00000, params: {'n_estimators': 9, 'min_samples_leaf': 3}, mean: 0.99800, std: 0.00229, params: {'n_estimators': 1, 'min_samples_leaf': 5}, mean: 0.99938, std: 0.00102, params: {'n_estimators': 3, 'min_samples_leaf': 5}, mean: 0.99923, std: 0.00157, params: {'n_estimators': 5, 'min_samples_leaf': 5}, mean: 1.00000, std: 0.00000, params: {'n_estimators': 7, 'min_samples_leaf': 5}, mean: 0.99985, std: 0.00046, params: {'n_estimators': 9, 'min_samples_leaf': 5}, mean: 0.99323, std: 0.00437, params: {'n_estimators': 1, 'min_samples_leaf': 7}, mean: 0.99938, std: 0.00075, params: {'n_estimators': 3, 'min_samples_leaf': 7}, mean: 0.99892, std: 0.00154, params: {'n_estimators': 5, 'min_samples_leaf': 7}, mean: 0.99985, std: 0.00046, params: {'n_estimators': 7, 'min_samples_leaf': 7}, mean: 0.99938, std: 0.00075, params: {'n_estimators': 9, 'min_samples_leaf': 7}, mean: 0.99508, std: 0.00381, params: {'n_estimators': 1, 'min_samples_leaf': 9}, mean: 0.99892, std: 0.00120, params: {'n_estimators': 3, 'min_samples_leaf': 9}, mean: 0.99923, std: 0.00077, params: {'n_estimators': 5, 'min_samples_leaf': 9}, mean: 0.99923, std: 0.00158, params: {'n_estimators': 7, 'min_samples_leaf': 9}, mean: 0.99969, std: 0.00062, params: {'n_estimators': 9, 'min_samples_leaf': 9}]\n"
     ]
    },
    {
     "name": "stderr",
     "output_type": "stream",
     "text": [
      "/Users/qing/anaconda2/lib/python2.7/site-packages/sklearn/model_selection/_search.py:761: DeprecationWarning: The grid_scores_ attribute was deprecated in version 0.18 in favor of the more elaborate cv_results_ attribute. The grid_scores_ attribute will not be available from 0.20\n",
      "  DeprecationWarning)\n"
     ]
    }
   ],
   "source": [
    "print(RR.grid_scores_)"
   ]
  },
  {
   "cell_type": "code",
   "execution_count": 98,
   "metadata": {},
   "outputs": [
    {
     "name": "stdout",
     "output_type": "stream",
     "text": [
      "1.0\n"
     ]
    }
   ],
   "source": [
    "print(RR.best_score_)"
   ]
  },
  {
   "cell_type": "code",
   "execution_count": 99,
   "metadata": {},
   "outputs": [
    {
     "name": "stdout",
     "output_type": "stream",
     "text": [
      "{'n_estimators': 3, 'min_samples_leaf': 1}\n"
     ]
    }
   ],
   "source": [
    "print(RR.best_params_)"
   ]
  },
  {
   "cell_type": "code",
   "execution_count": 100,
   "metadata": {},
   "outputs": [
    {
     "data": {
      "text/plain": [
       "1.0"
      ]
     },
     "execution_count": 100,
     "metadata": {},
     "output_type": "execute_result"
    }
   ],
   "source": [
    "y_prob = RR.predict_proba(X_test)[:,1] # This will give you positive class prediction probabilities  \n",
    "y_pred = np.where(y_prob > 0.5, 1, 0) # This will threshold the probabilities to give class predictions.\n",
    "RR.score(X_test, y_pred)"
   ]
  },
  {
   "cell_type": "code",
   "execution_count": 101,
   "metadata": {},
   "outputs": [
    {
     "data": {
      "text/plain": [
       "1.0"
      ]
     },
     "execution_count": 101,
     "metadata": {},
     "output_type": "execute_result"
    }
   ],
   "source": [
    "auc_roc=roc_auc_score(y_test,y_pred)\n",
    "auc_roc"
   ]
  },
  {
   "cell_type": "markdown",
   "metadata": {},
   "source": [
    "## xgboost"
   ]
  },
  {
   "cell_type": "code",
   "execution_count": 103,
   "metadata": {},
   "outputs": [
    {
     "data": {
      "text/plain": [
       "1.0"
      ]
     },
     "execution_count": 103,
     "metadata": {},
     "output_type": "execute_result"
    }
   ],
   "source": [
    "## Default XGBoost\n",
    "from xgboost import XGBClassifier\n",
    "model_XGB=XGBClassifier()\n",
    "\n",
    "model_XGB.fit(X_train,y_train)\n",
    "\n",
    "y_prob = model_XGB.predict_proba(X_test)[:,1] # This will give you positive class prediction probabilities  \n",
    "y_pred = np.where(y_prob > 0.5, 1, 0) # This will threshold the probabilities to give class predictions.\n",
    "model_XGB.score(X_test, y_pred)\n",
    "\n",
    "auc_roc=roc_auc_score(y_test,y_pred)\n",
    "auc_roc"
   ]
  },
  {
   "cell_type": "code",
   "execution_count": 106,
   "metadata": {},
   "outputs": [
    {
     "data": {
      "image/png": "[encoded data removed]",
      "text/plain": [
       "<matplotlib.figure.Figure at 0x1a1bf6ab90>"
      ]
     },
     "metadata": {},
     "output_type": "display_data"
    }
   ],
   "source": [
    "### 特征重要性\n",
    "#可以使用XGBoost内嵌的函数，按特征重要性排序\n",
    "from xgboost import plot_importance\n",
    "plot_importance(model_XGB)\n",
    "plt.show()"
   ]
  },
  {
   "cell_type": "code",
   "execution_count": 107,
   "metadata": {},
   "outputs": [
    {
     "name": "stdout",
     "output_type": "stream",
     "text": [
      "Thresh=0.000, n=22, Accuracy: 100.00%\n",
      "Thresh=0.000, n=22, Accuracy: 100.00%\n",
      "Thresh=0.000, n=22, Accuracy: 100.00%\n",
      "Thresh=0.000, n=22, Accuracy: 100.00%\n",
      "Thresh=0.004, n=18, Accuracy: 100.00%\n",
      "Thresh=0.004, n=18, Accuracy: 100.00%\n",
      "Thresh=0.004, n=18, Accuracy: 100.00%\n",
      "Thresh=0.013, n=15, Accuracy: 100.00%\n",
      "Thresh=0.013, n=15, Accuracy: 100.00%\n",
      "Thresh=0.013, n=15, Accuracy: 100.00%\n",
      "Thresh=0.019, n=12, Accuracy: 100.00%\n",
      "Thresh=0.030, n=11, Accuracy: 100.00%\n",
      "Thresh=0.032, n=10, Accuracy: 100.00%\n",
      "Thresh=0.036, n=9, Accuracy: 100.00%\n",
      "Thresh=0.043, n=8, Accuracy: 100.00%\n",
      "Thresh=0.043, n=8, Accuracy: 100.00%\n",
      "Thresh=0.043, n=8, Accuracy: 100.00%\n",
      "Thresh=0.047, n=5, Accuracy: 100.00%\n",
      "Thresh=0.051, n=4, Accuracy: 99.51%\n",
      "Thresh=0.083, n=3, Accuracy: 99.45%\n",
      "Thresh=0.152, n=2, Accuracy: 99.45%\n",
      "Thresh=0.370, n=1, Accuracy: 98.58%\n"
     ]
    }
   ],
   "source": [
    "#可以根据特征重要性进行特征选择\n",
    "from numpy import sort\n",
    "from sklearn.feature_selection import SelectFromModel\n",
    "\n",
    "# Fit model using each importance as a threshold\n",
    "thresholds = sort(model_XGB.feature_importances_)\n",
    "for thresh in thresholds:\n",
    "  # select features using threshold\n",
    "  selection = SelectFromModel(model_XGB, threshold=thresh, prefit=True)\n",
    "  select_X_train = selection.transform(X_train)\n",
    "  # train model\n",
    "  selection_model = XGBClassifier()\n",
    "  selection_model.fit(select_X_train, y_train)\n",
    "# eval model\n",
    "  select_X_test = selection.transform(X_test)\n",
    "  y_pred = selection_model.predict(select_X_test)\n",
    "  predictions = [round(value) for value in y_pred]\n",
    "  accuracy = accuracy_score(y_test, predictions)\n",
    "  print(\"Thresh=%.3f, n=%d, Accuracy: %.2f%%\" % (thresh, select_X_train.shape[1],\n",
    "      accuracy*100.0))"
   ]
  },
  {
   "cell_type": "code",
   "execution_count": null,
   "metadata": {
    "collapsed": true
   },
   "outputs": [],
   "source": []
  }
 ],
 "metadata": {
  "kernelspec": {
   "display_name": "Python 3",
   "language": "python",
   "name": "python3"
  },
  "language_info": {
   "codemirror_mode": {
    "name": "ipython",
    "version": 3
   },
   "file_extension": ".py",
   "mimetype": "text/x-python",
   "name": "python",
   "nbconvert_exporter": "python",
   "pygments_lexer": "ipython3",
   "version": "3.6.5"
  },
  "toc": {
   "nav_menu": {},
   "number_sections": true,
   "sideBar": true,
   "skip_h1_title": false,
   "title_cell": "Table of Contents",
   "title_sidebar": "Contents",
   "toc_cell": false,
   "toc_position": {},
   "toc_section_display": true,
   "toc_window_display": false
  }
 },
 "nbformat": 4,
 "nbformat_minor": 2
}
