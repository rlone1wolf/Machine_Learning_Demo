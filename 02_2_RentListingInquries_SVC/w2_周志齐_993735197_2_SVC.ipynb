{
 "cells": [
  {
   "cell_type": "markdown",
   "metadata": {},
   "source": [
    "# RentListingInquries"
   ]
  },
  {
   "cell_type": "markdown",
   "metadata": {},
   "source": [
    "## 基本信息\n",
    "bathrooms: 浴室的数量number of bathrooms\n",
    "bedrooms: 卧室数量number of bedrooms\n",
    "building_id: ID号\n",
    "created: \n",
    "description: 描述\n",
    "display_address: \n",
    "features: 关于这间公寓的功能列表a list of features about this apartment\n",
    "latitude: 纬度\n",
    "listing_id\n",
    "longitude: 经度\n",
    "manager_id\n",
    "photos: 照片链接列表a list of photo links. You are welcome to download the pictures yourselves from renthop's site, but they are the same as imgs.zip. \n",
    "price: 以美元计算in USD\n",
    "street_address: 街道地址\n",
    "interest_level: 这是目标变量。它有3个类别：'高'，'中等'，'低'this is the target variable. It has 3 categories: 'high', 'medium', 'low'"
   ]
  },
  {
   "cell_type": "code",
   "execution_count": 1,
   "metadata": {
    "ExecuteTime": {
     "end_time": "2018-02-02T11:54:03.773000Z",
     "start_time": "2018-02-02T11:54:02.234000Z"
    }
   },
   "outputs": [],
   "source": [
    "# 首先 import 必要的模块\n",
    "import pandas as pd \n",
    "import numpy as np\n",
    "\n",
    "from sklearn.model_selection import GridSearchCV\n",
    "\n",
    "#竞赛的评价指标为logloss\n",
    "#from sklearn.metrics import log_loss  \n",
    "#SVM并不能直接输出各类的概率，所以在这个例子中我们用正确率作为模型预测性能的度量\n",
    "from sklearn.metrics import accuracy_score\n",
    "\n",
    "from matplotlib import pyplot as plt\n",
    "import seaborn as sns\n",
    "#from zhou.utils_zhou import *\n",
    "\n",
    "%matplotlib inline"
   ]
  },
  {
   "cell_type": "markdown",
   "metadata": {},
   "source": [
    "## 读取数据 & 数据探索"
   ]
  },
  {
   "cell_type": "code",
   "execution_count": 2,
   "metadata": {
    "ExecuteTime": {
     "end_time": "2018-02-02T11:54:21.039000Z",
     "start_time": "2018-02-02T11:54:19.961000Z"
    },
    "scrolled": true
   },
   "outputs": [
    {
     "data": {
      "text/html": [
       "<div>\n",
       "<style scoped>\n",
       "    .dataframe tbody tr th:only-of-type {\n",
       "        vertical-align: middle;\n",
       "    }\n",
       "\n",
       "    .dataframe tbody tr th {\n",
       "        vertical-align: top;\n",
       "    }\n",
       "\n",
       "    .dataframe thead th {\n",
       "        text-align: right;\n",
       "    }\n",
       "</style>\n",
       "<table border=\"1\" class=\"dataframe\">\n",
       "  <thead>\n",
       "    <tr style=\"text-align: right;\">\n",
       "      <th></th>\n",
       "      <th>bathrooms</th>\n",
       "      <th>bedrooms</th>\n",
       "      <th>price</th>\n",
       "      <th>price_bathrooms</th>\n",
       "      <th>price_bedrooms</th>\n",
       "      <th>room_diff</th>\n",
       "      <th>room_num</th>\n",
       "      <th>Year</th>\n",
       "      <th>Month</th>\n",
       "      <th>Day</th>\n",
       "      <th>...</th>\n",
       "      <th>walk</th>\n",
       "      <th>walls</th>\n",
       "      <th>war</th>\n",
       "      <th>washer</th>\n",
       "      <th>water</th>\n",
       "      <th>wheelchair</th>\n",
       "      <th>wifi</th>\n",
       "      <th>windows</th>\n",
       "      <th>work</th>\n",
       "      <th>interest_level</th>\n",
       "    </tr>\n",
       "  </thead>\n",
       "  <tbody>\n",
       "    <tr>\n",
       "      <th>0</th>\n",
       "      <td>1.5</td>\n",
       "      <td>3</td>\n",
       "      <td>3000</td>\n",
       "      <td>1200.0</td>\n",
       "      <td>750.000000</td>\n",
       "      <td>-1.5</td>\n",
       "      <td>4.5</td>\n",
       "      <td>2016</td>\n",
       "      <td>6</td>\n",
       "      <td>24</td>\n",
       "      <td>...</td>\n",
       "      <td>0</td>\n",
       "      <td>0</td>\n",
       "      <td>0</td>\n",
       "      <td>0</td>\n",
       "      <td>0</td>\n",
       "      <td>0</td>\n",
       "      <td>0</td>\n",
       "      <td>0</td>\n",
       "      <td>0</td>\n",
       "      <td>1</td>\n",
       "    </tr>\n",
       "    <tr>\n",
       "      <th>1</th>\n",
       "      <td>1.0</td>\n",
       "      <td>2</td>\n",
       "      <td>5465</td>\n",
       "      <td>2732.5</td>\n",
       "      <td>1821.666667</td>\n",
       "      <td>-1.0</td>\n",
       "      <td>3.0</td>\n",
       "      <td>2016</td>\n",
       "      <td>6</td>\n",
       "      <td>12</td>\n",
       "      <td>...</td>\n",
       "      <td>0</td>\n",
       "      <td>0</td>\n",
       "      <td>0</td>\n",
       "      <td>0</td>\n",
       "      <td>0</td>\n",
       "      <td>0</td>\n",
       "      <td>0</td>\n",
       "      <td>0</td>\n",
       "      <td>0</td>\n",
       "      <td>2</td>\n",
       "    </tr>\n",
       "    <tr>\n",
       "      <th>2</th>\n",
       "      <td>1.0</td>\n",
       "      <td>1</td>\n",
       "      <td>2850</td>\n",
       "      <td>1425.0</td>\n",
       "      <td>1425.000000</td>\n",
       "      <td>0.0</td>\n",
       "      <td>2.0</td>\n",
       "      <td>2016</td>\n",
       "      <td>4</td>\n",
       "      <td>17</td>\n",
       "      <td>...</td>\n",
       "      <td>0</td>\n",
       "      <td>0</td>\n",
       "      <td>0</td>\n",
       "      <td>0</td>\n",
       "      <td>0</td>\n",
       "      <td>0</td>\n",
       "      <td>0</td>\n",
       "      <td>0</td>\n",
       "      <td>0</td>\n",
       "      <td>0</td>\n",
       "    </tr>\n",
       "    <tr>\n",
       "      <th>3</th>\n",
       "      <td>1.0</td>\n",
       "      <td>1</td>\n",
       "      <td>3275</td>\n",
       "      <td>1637.5</td>\n",
       "      <td>1637.500000</td>\n",
       "      <td>0.0</td>\n",
       "      <td>2.0</td>\n",
       "      <td>2016</td>\n",
       "      <td>4</td>\n",
       "      <td>18</td>\n",
       "      <td>...</td>\n",
       "      <td>0</td>\n",
       "      <td>0</td>\n",
       "      <td>0</td>\n",
       "      <td>0</td>\n",
       "      <td>0</td>\n",
       "      <td>0</td>\n",
       "      <td>0</td>\n",
       "      <td>0</td>\n",
       "      <td>0</td>\n",
       "      <td>2</td>\n",
       "    </tr>\n",
       "    <tr>\n",
       "      <th>4</th>\n",
       "      <td>1.0</td>\n",
       "      <td>4</td>\n",
       "      <td>3350</td>\n",
       "      <td>1675.0</td>\n",
       "      <td>670.000000</td>\n",
       "      <td>-3.0</td>\n",
       "      <td>5.0</td>\n",
       "      <td>2016</td>\n",
       "      <td>4</td>\n",
       "      <td>28</td>\n",
       "      <td>...</td>\n",
       "      <td>0</td>\n",
       "      <td>0</td>\n",
       "      <td>1</td>\n",
       "      <td>0</td>\n",
       "      <td>0</td>\n",
       "      <td>0</td>\n",
       "      <td>0</td>\n",
       "      <td>0</td>\n",
       "      <td>0</td>\n",
       "      <td>2</td>\n",
       "    </tr>\n",
       "  </tbody>\n",
       "</table>\n",
       "<p>5 rows × 227 columns</p>\n",
       "</div>"
      ],
      "text/plain": [
       "   bathrooms  bedrooms  price  price_bathrooms  price_bedrooms  room_diff  \\\n",
       "0        1.5         3   3000           1200.0      750.000000       -1.5   \n",
       "1        1.0         2   5465           2732.5     1821.666667       -1.0   \n",
       "2        1.0         1   2850           1425.0     1425.000000        0.0   \n",
       "3        1.0         1   3275           1637.5     1637.500000        0.0   \n",
       "4        1.0         4   3350           1675.0      670.000000       -3.0   \n",
       "\n",
       "   room_num  Year  Month  Day       ...        walk  walls  war  washer  \\\n",
       "0       4.5  2016      6   24       ...           0      0    0       0   \n",
       "1       3.0  2016      6   12       ...           0      0    0       0   \n",
       "2       2.0  2016      4   17       ...           0      0    0       0   \n",
       "3       2.0  2016      4   18       ...           0      0    0       0   \n",
       "4       5.0  2016      4   28       ...           0      0    1       0   \n",
       "\n",
       "   water  wheelchair  wifi  windows  work  interest_level  \n",
       "0      0           0     0        0     0               1  \n",
       "1      0           0     0        0     0               2  \n",
       "2      0           0     0        0     0               0  \n",
       "3      0           0     0        0     0               2  \n",
       "4      0           0     0        0     0               2  \n",
       "\n",
       "[5 rows x 227 columns]"
      ]
     },
     "execution_count": 2,
     "metadata": {},
     "output_type": "execute_result"
    }
   ],
   "source": [
    "# 读取数据\n",
    "# path to where the data lies\n",
    "dpath = './data/'\n",
    "train = pd.read_csv(dpath +\"train_FE.csv\")\n",
    "train.head()"
   ]
  },
  {
   "cell_type": "code",
   "execution_count": 3,
   "metadata": {},
   "outputs": [
    {
     "data": {
      "text/plain": [
       "2    34284\n",
       "1    11229\n",
       "0     3839\n",
       "Name: interest_level, dtype: int64"
      ]
     },
     "execution_count": 3,
     "metadata": {},
     "output_type": "execute_result"
    }
   ],
   "source": [
    "train['interest_level'].value_counts()"
   ]
  },
  {
   "cell_type": "code",
   "execution_count": 4,
   "metadata": {},
   "outputs": [
    {
     "data": {
      "text/plain": [
       "((549, 227), (562, 227), (572, 227))"
      ]
     },
     "execution_count": 4,
     "metadata": {},
     "output_type": "execute_result"
    }
   ],
   "source": [
    "part_0 = train[train['interest_level']==0][::7].copy()\n",
    "part_1 = train[train['interest_level']==1][::20].copy()\n",
    "part_2 = train[train['interest_level']==2][::60].copy()\n",
    "part_0.shape, part_1.shape, part_2.shape"
   ]
  },
  {
   "cell_type": "code",
   "execution_count": 5,
   "metadata": {},
   "outputs": [
    {
     "name": "stdout",
     "output_type": "stream",
     "text": [
      "<class 'pandas.core.frame.DataFrame'>\n",
      "Int64Index: 1683 entries, 2 to 49321\n",
      "Columns: 227 entries, bathrooms to interest_level\n",
      "dtypes: float64(8), int64(219)\n",
      "memory usage: 2.9 MB\n"
     ]
    }
   ],
   "source": [
    "train = pd.concat((part_0, part_1, part_2))\n",
    "train.info()"
   ]
  },
  {
   "cell_type": "code",
   "execution_count": 6,
   "metadata": {},
   "outputs": [
    {
     "data": {
      "text/html": [
       "<div>\n",
       "<style scoped>\n",
       "    .dataframe tbody tr th:only-of-type {\n",
       "        vertical-align: middle;\n",
       "    }\n",
       "\n",
       "    .dataframe tbody tr th {\n",
       "        vertical-align: top;\n",
       "    }\n",
       "\n",
       "    .dataframe thead th {\n",
       "        text-align: right;\n",
       "    }\n",
       "</style>\n",
       "<table border=\"1\" class=\"dataframe\">\n",
       "  <thead>\n",
       "    <tr style=\"text-align: right;\">\n",
       "      <th></th>\n",
       "      <th>bathrooms</th>\n",
       "      <th>bedrooms</th>\n",
       "      <th>price</th>\n",
       "      <th>price_bathrooms</th>\n",
       "      <th>price_bedrooms</th>\n",
       "      <th>room_diff</th>\n",
       "      <th>room_num</th>\n",
       "      <th>Year</th>\n",
       "      <th>Month</th>\n",
       "      <th>Day</th>\n",
       "      <th>...</th>\n",
       "      <th>virtual</th>\n",
       "      <th>walk</th>\n",
       "      <th>walls</th>\n",
       "      <th>war</th>\n",
       "      <th>washer</th>\n",
       "      <th>water</th>\n",
       "      <th>wheelchair</th>\n",
       "      <th>wifi</th>\n",
       "      <th>windows</th>\n",
       "      <th>work</th>\n",
       "    </tr>\n",
       "  </thead>\n",
       "  <tbody>\n",
       "    <tr>\n",
       "      <th>0</th>\n",
       "      <td>1.0</td>\n",
       "      <td>1</td>\n",
       "      <td>2950</td>\n",
       "      <td>1475.000000</td>\n",
       "      <td>1475.000000</td>\n",
       "      <td>0.0</td>\n",
       "      <td>2.0</td>\n",
       "      <td>2016</td>\n",
       "      <td>6</td>\n",
       "      <td>11</td>\n",
       "      <td>...</td>\n",
       "      <td>0</td>\n",
       "      <td>0</td>\n",
       "      <td>0</td>\n",
       "      <td>0</td>\n",
       "      <td>0</td>\n",
       "      <td>0</td>\n",
       "      <td>0</td>\n",
       "      <td>0</td>\n",
       "      <td>0</td>\n",
       "      <td>0</td>\n",
       "    </tr>\n",
       "    <tr>\n",
       "      <th>1</th>\n",
       "      <td>1.0</td>\n",
       "      <td>2</td>\n",
       "      <td>2850</td>\n",
       "      <td>1425.000000</td>\n",
       "      <td>950.000000</td>\n",
       "      <td>-1.0</td>\n",
       "      <td>3.0</td>\n",
       "      <td>2016</td>\n",
       "      <td>6</td>\n",
       "      <td>24</td>\n",
       "      <td>...</td>\n",
       "      <td>0</td>\n",
       "      <td>0</td>\n",
       "      <td>0</td>\n",
       "      <td>1</td>\n",
       "      <td>0</td>\n",
       "      <td>0</td>\n",
       "      <td>0</td>\n",
       "      <td>0</td>\n",
       "      <td>0</td>\n",
       "      <td>0</td>\n",
       "    </tr>\n",
       "    <tr>\n",
       "      <th>2</th>\n",
       "      <td>1.0</td>\n",
       "      <td>1</td>\n",
       "      <td>3758</td>\n",
       "      <td>1879.000000</td>\n",
       "      <td>1879.000000</td>\n",
       "      <td>0.0</td>\n",
       "      <td>2.0</td>\n",
       "      <td>2016</td>\n",
       "      <td>6</td>\n",
       "      <td>3</td>\n",
       "      <td>...</td>\n",
       "      <td>0</td>\n",
       "      <td>0</td>\n",
       "      <td>0</td>\n",
       "      <td>0</td>\n",
       "      <td>0</td>\n",
       "      <td>0</td>\n",
       "      <td>0</td>\n",
       "      <td>0</td>\n",
       "      <td>0</td>\n",
       "      <td>0</td>\n",
       "    </tr>\n",
       "    <tr>\n",
       "      <th>3</th>\n",
       "      <td>1.0</td>\n",
       "      <td>2</td>\n",
       "      <td>3300</td>\n",
       "      <td>1650.000000</td>\n",
       "      <td>1100.000000</td>\n",
       "      <td>-1.0</td>\n",
       "      <td>3.0</td>\n",
       "      <td>2016</td>\n",
       "      <td>6</td>\n",
       "      <td>11</td>\n",
       "      <td>...</td>\n",
       "      <td>0</td>\n",
       "      <td>0</td>\n",
       "      <td>0</td>\n",
       "      <td>0</td>\n",
       "      <td>0</td>\n",
       "      <td>0</td>\n",
       "      <td>1</td>\n",
       "      <td>0</td>\n",
       "      <td>0</td>\n",
       "      <td>0</td>\n",
       "    </tr>\n",
       "    <tr>\n",
       "      <th>4</th>\n",
       "      <td>2.0</td>\n",
       "      <td>2</td>\n",
       "      <td>4900</td>\n",
       "      <td>1633.333333</td>\n",
       "      <td>1633.333333</td>\n",
       "      <td>0.0</td>\n",
       "      <td>4.0</td>\n",
       "      <td>2016</td>\n",
       "      <td>4</td>\n",
       "      <td>12</td>\n",
       "      <td>...</td>\n",
       "      <td>0</td>\n",
       "      <td>0</td>\n",
       "      <td>0</td>\n",
       "      <td>1</td>\n",
       "      <td>0</td>\n",
       "      <td>0</td>\n",
       "      <td>0</td>\n",
       "      <td>0</td>\n",
       "      <td>0</td>\n",
       "      <td>0</td>\n",
       "    </tr>\n",
       "  </tbody>\n",
       "</table>\n",
       "<p>5 rows × 226 columns</p>\n",
       "</div>"
      ],
      "text/plain": [
       "   bathrooms  bedrooms  price  price_bathrooms  price_bedrooms  room_diff  \\\n",
       "0        1.0         1   2950      1475.000000     1475.000000        0.0   \n",
       "1        1.0         2   2850      1425.000000      950.000000       -1.0   \n",
       "2        1.0         1   3758      1879.000000     1879.000000        0.0   \n",
       "3        1.0         2   3300      1650.000000     1100.000000       -1.0   \n",
       "4        2.0         2   4900      1633.333333     1633.333333        0.0   \n",
       "\n",
       "   room_num  Year  Month  Day  ...   virtual  walk  walls  war  washer  water  \\\n",
       "0       2.0  2016      6   11  ...         0     0      0    0       0      0   \n",
       "1       3.0  2016      6   24  ...         0     0      0    1       0      0   \n",
       "2       2.0  2016      6    3  ...         0     0      0    0       0      0   \n",
       "3       3.0  2016      6   11  ...         0     0      0    0       0      0   \n",
       "4       4.0  2016      4   12  ...         0     0      0    1       0      0   \n",
       "\n",
       "   wheelchair  wifi  windows  work  \n",
       "0           0     0        0     0  \n",
       "1           0     0        0     0  \n",
       "2           0     0        0     0  \n",
       "3           1     0        0     0  \n",
       "4           0     0        0     0  \n",
       "\n",
       "[5 rows x 226 columns]"
      ]
     },
     "execution_count": 6,
     "metadata": {},
     "output_type": "execute_result"
    }
   ],
   "source": [
    "# 测试数据\n",
    "test = pd.read_csv(dpath+'test_FE.csv')\n",
    "test.head()"
   ]
  },
  {
   "cell_type": "markdown",
   "metadata": {},
   "source": [
    "各类样本不均衡。交叉验证对分类任务缺省的是采用StratifiedKFold，在每折采样时根据各类样本按比例采样"
   ]
  },
  {
   "cell_type": "markdown",
   "metadata": {},
   "source": [
    "# 数据量太大,分割数据"
   ]
  },
  {
   "cell_type": "code",
   "execution_count": 7,
   "metadata": {
    "ExecuteTime": {
     "end_time": "2018-02-02T11:54:32.498000Z",
     "start_time": "2018-02-02T11:54:32.241000Z"
    }
   },
   "outputs": [],
   "source": [
    "# 区分测试集与训练集\n",
    "target = train.pop('interest_level')\n",
    "\n",
    "from sklearn.model_selection import train_test_split\n",
    "X_train_part, X_val, y_train_part, y_val = train_test_split(train, target\n",
    "    , test_size=0.2\n",
    "    , random_state=42\n",
    "    , stratify=target)\n"
   ]
  },
  {
   "cell_type": "code",
   "execution_count": 8,
   "metadata": {},
   "outputs": [
    {
     "data": {
      "text/plain": [
       "((1346, 226), (337, 226))"
      ]
     },
     "execution_count": 8,
     "metadata": {},
     "output_type": "execute_result"
    }
   ],
   "source": [
    "X_train_part.shape, X_val.shape"
   ]
  },
  {
   "cell_type": "markdown",
   "metadata": {},
   "source": [
    "## 模型训练"
   ]
  },
  {
   "cell_type": "markdown",
   "metadata": {},
   "source": [
    "### default SVC"
   ]
  },
  {
   "cell_type": "code",
   "execution_count": 9,
   "metadata": {
    "ExecuteTime": {
     "end_time": "2018-02-02T11:57:31.631000Z",
     "start_time": "2018-02-02T11:54:37.029000Z"
    }
   },
   "outputs": [],
   "source": [
    "#LinearSVC不能得到每类的概率，在Otto数据集要求输出每类的概率，这里只是示意SVM的使用方法\n",
    "#https://xacecask2.gitbooks.io/scikit-learn-user-guide-chinese-version/content/sec1.4.html\n",
    "#1.4.1.2. 得分与概率\n",
    "from sklearn.svm import LinearSVC\n",
    "\n",
    "SVC1 = LinearSVC().fit(X_train_part, y_train_part)"
   ]
  },
  {
   "cell_type": "code",
   "execution_count": 10,
   "metadata": {
    "ExecuteTime": {
     "end_time": "2018-02-02T12:00:33.077000Z",
     "start_time": "2018-02-02T12:00:32.879000Z"
    }
   },
   "outputs": [
    {
     "name": "stdout",
     "output_type": "stream",
     "text": [
      "Classification report for classifier LinearSVC(C=1.0, class_weight=None, dual=True, fit_intercept=True,\n",
      "     intercept_scaling=1, loss='squared_hinge', max_iter=1000,\n",
      "     multi_class='ovr', penalty='l2', random_state=None, tol=0.0001,\n",
      "     verbose=0):\n",
      "             precision    recall  f1-score   support\n",
      "\n",
      "          0       0.00      0.00      0.00       110\n",
      "          1       0.34      0.48      0.40       112\n",
      "          2       0.45      0.70      0.54       115\n",
      "\n",
      "avg / total       0.27      0.40      0.32       337\n",
      "\n",
      "\n",
      "Confusion matrix:\n",
      "[[ 0 68 42]\n",
      " [ 1 54 57]\n",
      " [ 0 35 80]]\n"
     ]
    }
   ],
   "source": [
    "#在校验集上测试，估计模型性能\n",
    "from sklearn import metrics\n",
    "y_predict = SVC1.predict(X_val)\n",
    "\n",
    "print(\"Classification report for classifier %s:\\n%s\\n\"\n",
    "      % (SVC1, metrics.classification_report(y_val, y_predict)))\n",
    "print(\"Confusion matrix:\\n%s\" % metrics.confusion_matrix(y_val, y_predict))"
   ]
  },
  {
   "cell_type": "code",
   "execution_count": 11,
   "metadata": {
    "scrolled": true
   },
   "outputs": [
    {
     "data": {
      "text/plain": [
       "{0, 1, 2}"
      ]
     },
     "execution_count": 11,
     "metadata": {},
     "output_type": "execute_result"
    }
   ],
   "source": [
    "set(y_predict)"
   ]
  },
  {
   "cell_type": "markdown",
   "metadata": {},
   "source": [
    "### 线性SVM正则参数调优"
   ]
  },
  {
   "cell_type": "markdown",
   "metadata": {},
   "source": [
    "线性SVM LinearSVC的需要调整正则超参数包括C（正则系数，一般在log域（取log后的值）均匀设置候选参数）和正则函数penalty（L2/L1） \n",
    "\n",
    "采用交叉验证，网格搜索步骤与Logistic回归正则参数处理类似，在此略。\n",
    "\n",
    "这里我们用校验集（X_val、y_val）来估计模型性能"
   ]
  },
  {
   "cell_type": "code",
   "execution_count": 12,
   "metadata": {},
   "outputs": [],
   "source": [
    "def fit_grid_point_Linear(C, X_train, y_train, X_val, y_val):\n",
    "    \n",
    "    # 在训练集是那个利用SVC训练\n",
    "    SVC2 =  LinearSVC( C = C)\n",
    "    SVC2 = SVC2.fit(X_train, y_train)\n",
    "    \n",
    "    # 在校验集上返回accuracy\n",
    "    accuracy = SVC2.score(X_val, y_val)\n",
    "    \n",
    "    print(\"accuracy: {0}\".format(accuracy))\n",
    "    return accuracy"
   ]
  },
  {
   "cell_type": "code",
   "execution_count": 13,
   "metadata": {
    "scrolled": false
   },
   "outputs": [
    {
     "name": "stdout",
     "output_type": "stream",
     "text": [
      "accuracy: 0.3649851632047478\n",
      "accuracy: 0.43026706231454004\n",
      "accuracy: 0.41543026706231456\n",
      "accuracy: 0.4094955489614243\n",
      "accuracy: 0.42136498516320475\n",
      "accuracy: 0.3323442136498516\n",
      "accuracy: 0.3293768545994065\n"
     ]
    }
   ],
   "source": [
    "#需要调优的参数\n",
    "C_s = np.logspace(-3, 3, 7)# logspace(a,b,N)把10的a次方到10的b次方区间分成N份  \n",
    "#penalty_s = ['l1','l2']\n",
    "\n",
    "accuracy_s = []\n",
    "for i, oneC in enumerate(C_s):\n",
    "#    for j, penalty in enumerate(penalty_s):\n",
    "    tmp = fit_grid_point_Linear(oneC, X_train_part, y_train_part, X_val, y_val)\n",
    "    accuracy_s.append(tmp)\n"
   ]
  },
  {
   "cell_type": "code",
   "execution_count": 14,
   "metadata": {},
   "outputs": [
    {
     "data": {
      "image/png": "[encoded data removed]",
      "text/plain": [
       "<Figure size 432x288 with 1 Axes>"
      ]
     },
     "metadata": {},
     "output_type": "display_data"
    }
   ],
   "source": [
    "x_axis = np.log10(C_s)\n",
    "#for j, penalty in enumerate(penalty_s):\n",
    "plt.plot(x_axis, np.array(accuracy_s), 'b-', label='l2')\n",
    "    \n",
    "plt.xlabel( 'log(C)' )                                                                                                      \n",
    "plt.ylabel( 'accuracy' )\n",
    "plt.legend()\n",
    "#plt.savefig('SVM_Otto.png' )\n",
    "\n",
    "plt.show()\n"
   ]
  },
  {
   "cell_type": "markdown",
   "metadata": {},
   "source": [
    "### RBF核SVM正则参数调优\n",
    "\n",
    "RBF核是SVM最常用的核函数。\n",
    "RBF核SVM 的需要调整正则超参数包括C（正则系数，一般在log域（取log后的值）均匀设置候选参数）和核函数的宽度gamma\n",
    "C越小，决策边界越平滑； \n",
    "gamma越小，决策边界越平滑。\n",
    "\n",
    "采用交叉验证，网格搜索步骤与Logistic回归正则参数处理类似，在此略。\n",
    "\n",
    "这里我们用校验集（X_val、y_val）来估计模型性能"
   ]
  },
  {
   "cell_type": "code",
   "execution_count": 15,
   "metadata": {},
   "outputs": [],
   "source": [
    "from sklearn.model_selection import GridSearchCV\n",
    "from sklearn.svm import SVC"
   ]
  },
  {
   "cell_type": "code",
   "execution_count": 16,
   "metadata": {},
   "outputs": [
    {
     "name": "stdout",
     "output_type": "stream",
     "text": [
      "C_s = [1.e-02 1.e-01 1.e+00 1.e+01 1.e+02]\n",
      "gamma_s = [1.e-02 1.e-01 1.e+00 1.e+01 1.e+02]\n"
     ]
    },
    {
     "data": {
      "text/plain": [
       "GridSearchCV(cv=5, error_score='raise',\n",
       "       estimator=SVC(C=1.0, cache_size=200, class_weight=None, coef0=0.0,\n",
       "  decision_function_shape='ovr', degree=3, gamma='auto', kernel='rbf',\n",
       "  max_iter=-1, probability=True, random_state=None, shrinking=True,\n",
       "  tol=0.001, verbose=False),\n",
       "       fit_params=None, iid=True, n_jobs=-1,\n",
       "       param_grid={'gamma': array([1.e-02, 1.e-01, 1.e+00, 1.e+01, 1.e+02]), 'C': array([1.e-02, 1.e-01, 1.e+00, 1.e+01, 1.e+02])},\n",
       "       pre_dispatch='2*n_jobs', refit=True, return_train_score=True,\n",
       "       scoring='neg_log_loss', verbose=0)"
      ]
     },
     "execution_count": 16,
     "metadata": {},
     "output_type": "execute_result"
    }
   ],
   "source": [
    "#需要调优的参数\n",
    "# 请尝试将L1正则和L2正则分开，并配合合适的优化求解算法（slover）\n",
    "#tuned_parameters = {'penalty':['l1','l2'],\n",
    "#                   'C': [0.001, 0.01, 0.1, 1, 10, 100, 1000]\n",
    "#                   }\n",
    "\n",
    "#需要调优的参数\n",
    "C_s = np.logspace(-2, 2, 5)# logspace(a,b,N)把10的a次方到10的b次方区间分成N份 \n",
    "gamma_s = np.logspace(-2, 2, 5)  \n",
    "print('C_s =', C_s)\n",
    "print('gamma_s =', gamma_s)\n",
    "tuned_parameters = dict(gamma=gamma_s, C = C_s)\n",
    "\n",
    "lrSVC_penalty= SVC(kernel='rbf',probability=True)\n",
    "\n",
    "grid= GridSearchCV(lrSVC_penalty, param_grid=tuned_parameters, cv=5, \n",
    "                   scoring='neg_log_loss', \n",
    "                   return_train_score=True, \n",
    "                   n_jobs=-1)\n",
    "grid.fit(X_train_part, y_train_part,)"
   ]
  },
  {
   "cell_type": "code",
   "execution_count": 17,
   "metadata": {},
   "outputs": [
    {
     "data": {
      "text/plain": [
       "{'mean_fit_time': array([2.44022994, 2.38022652, 2.37702918, 2.38043752, 2.36194119,\n",
       "        2.38996634, 2.38592343, 2.36921535, 2.3633955 , 2.3666142 ,\n",
       "        2.39455891, 2.38406806, 2.36778927, 2.36277089, 2.36385908,\n",
       "        2.40522242, 2.39435492, 2.40615172, 2.38964305, 2.39870467,\n",
       "        2.40092692, 2.39878092, 2.39153686, 2.38762703, 2.33452978]),\n",
       " 'std_fit_time': array([0.03211139, 0.03165316, 0.01961775, 0.03077436, 0.02510653,\n",
       "        0.02671905, 0.01667146, 0.01666964, 0.01331102, 0.0143402 ,\n",
       "        0.0140501 , 0.01386493, 0.01257321, 0.00965303, 0.00816511,\n",
       "        0.01691828, 0.01370748, 0.01150241, 0.0150435 , 0.01571463,\n",
       "        0.01213916, 0.01081066, 0.007489  , 0.01219262, 0.09324278]),\n",
       " 'mean_score_time': array([0.09031763, 0.08822751, 0.088164  , 0.08784246, 0.08687534,\n",
       "        0.08697276, 0.08672895, 0.08649378, 0.08601532, 0.08633327,\n",
       "        0.08751841, 0.08649349, 0.08622208, 0.086448  , 0.08652153,\n",
       "        0.08607907, 0.0858335 , 0.08579021, 0.08575387, 0.08576145,\n",
       "        0.08603153, 0.0860208 , 0.08574858, 0.0857018 , 0.08175011]),\n",
       " 'std_score_time': array([0.00062057, 0.00035595, 0.00081783, 0.00087248, 0.00088096,\n",
       "        0.00051911, 0.00049228, 0.00057136, 0.00060915, 0.00059023,\n",
       "        0.00118444, 0.00061082, 0.00064982, 0.00052721, 0.00042668,\n",
       "        0.00044884, 0.00050605, 0.00038947, 0.00055798, 0.00037364,\n",
       "        0.00058782, 0.00073189, 0.0005811 , 0.00100251, 0.00572979]),\n",
       " 'param_C': masked_array(data=[0.01, 0.01, 0.01, 0.01, 0.01, 0.1, 0.1, 0.1, 0.1, 0.1,\n",
       "                    1.0, 1.0, 1.0, 1.0, 1.0, 10.0, 10.0, 10.0, 10.0, 10.0,\n",
       "                    100.0, 100.0, 100.0, 100.0, 100.0],\n",
       "              mask=[False, False, False, False, False, False, False, False,\n",
       "                    False, False, False, False, False, False, False, False,\n",
       "                    False, False, False, False, False, False, False, False,\n",
       "                    False],\n",
       "        fill_value='?',\n",
       "             dtype=object),\n",
       " 'param_gamma': masked_array(data=[0.01, 0.1, 1.0, 10.0, 100.0, 0.01, 0.1, 1.0, 10.0,\n",
       "                    100.0, 0.01, 0.1, 1.0, 10.0, 100.0, 0.01, 0.1, 1.0,\n",
       "                    10.0, 100.0, 0.01, 0.1, 1.0, 10.0, 100.0],\n",
       "              mask=[False, False, False, False, False, False, False, False,\n",
       "                    False, False, False, False, False, False, False, False,\n",
       "                    False, False, False, False, False, False, False, False,\n",
       "                    False],\n",
       "        fill_value='?',\n",
       "             dtype=object),\n",
       " 'params': [{'C': 0.01, 'gamma': 0.01},\n",
       "  {'C': 0.01, 'gamma': 0.1},\n",
       "  {'C': 0.01, 'gamma': 1.0},\n",
       "  {'C': 0.01, 'gamma': 10.0},\n",
       "  {'C': 0.01, 'gamma': 100.0},\n",
       "  {'C': 0.1, 'gamma': 0.01},\n",
       "  {'C': 0.1, 'gamma': 0.1},\n",
       "  {'C': 0.1, 'gamma': 1.0},\n",
       "  {'C': 0.1, 'gamma': 10.0},\n",
       "  {'C': 0.1, 'gamma': 100.0},\n",
       "  {'C': 1.0, 'gamma': 0.01},\n",
       "  {'C': 1.0, 'gamma': 0.1},\n",
       "  {'C': 1.0, 'gamma': 1.0},\n",
       "  {'C': 1.0, 'gamma': 10.0},\n",
       "  {'C': 1.0, 'gamma': 100.0},\n",
       "  {'C': 10.0, 'gamma': 0.01},\n",
       "  {'C': 10.0, 'gamma': 0.1},\n",
       "  {'C': 10.0, 'gamma': 1.0},\n",
       "  {'C': 10.0, 'gamma': 10.0},\n",
       "  {'C': 10.0, 'gamma': 100.0},\n",
       "  {'C': 100.0, 'gamma': 0.01},\n",
       "  {'C': 100.0, 'gamma': 0.1},\n",
       "  {'C': 100.0, 'gamma': 1.0},\n",
       "  {'C': 100.0, 'gamma': 10.0},\n",
       "  {'C': 100.0, 'gamma': 100.0}],\n",
       " 'split0_test_score': array([-1.09209189, -1.09915447, -1.09942282, -1.09896337, -1.09938388,\n",
       "        -1.09705913, -1.10027415, -1.09861229, -1.09969923, -1.09892835,\n",
       "        -1.08582851, -1.09781057, -1.09845431, -1.0984535 , -1.09845556,\n",
       "        -1.08896644, -1.09567544, -1.09845389, -1.09845029, -1.09845503,\n",
       "        -1.08883697, -1.0954614 , -1.09845183, -1.09845207, -1.09845247]),\n",
       " 'split1_test_score': array([-1.09238397, -1.09915236, -1.09942282, -1.09928272, -1.09938388,\n",
       "        -1.09751043, -1.1002358 , -1.10061707, -1.09969923, -1.09892835,\n",
       "        -1.08106938, -1.09490682, -1.09844202, -1.0984535 , -1.09845556,\n",
       "        -1.08067108, -1.09665713, -1.09842974, -1.09845029, -1.09845621,\n",
       "        -1.08061785, -1.09521195, -1.09842767, -1.09845067, -1.09845247]),\n",
       " 'split2_test_score': array([-1.09892892, -1.09921206, -1.0993696 , -1.10030637, -1.09879839,\n",
       "        -1.09907327, -1.09706017, -1.09924452, -1.10253277, -1.09873179,\n",
       "        -1.09247839, -1.09281348, -1.11232927, -1.1104608 , -1.1014331 ,\n",
       "        -1.08767318, -1.10049698, -1.12498706, -1.1224091 , -1.10469624,\n",
       "        -1.08947116, -1.09423575, -1.12493565, -1.12242816, -1.10472805]),\n",
       " 'split3_test_score': array([-1.09893008, -1.09993961, -1.09936527, -1.10030276, -1.09880851,\n",
       "        -1.09946848, -1.09762002, -1.09920709, -1.09861229, -1.09877908,\n",
       "        -1.08888858, -1.09481145, -1.09850902, -1.09852478, -1.09851819,\n",
       "        -1.09255874, -1.10329305, -1.09849111, -1.0985209 , -1.09852023,\n",
       "        -1.09038497, -1.1098732 , -1.09848814, -1.09852633, -1.09852212]),\n",
       " 'split4_test_score': array([-1.09945515, -1.09948551, -1.09920293, -1.09963072, -1.09967197,\n",
       "        -1.10096161, -1.09918726, -1.09944394, -1.10246035, -1.09877639,\n",
       "        -1.08067771, -1.10085912, -1.11222117, -1.11044579, -1.10133419,\n",
       "        -1.07575819, -1.09559152, -1.12493158, -1.12241346, -1.1046695 ,\n",
       "        -1.08152008, -1.09724118, -1.12488758, -1.12243689, -1.10469497]),\n",
       " 'mean_test_score': array([-1.09634958, -1.09938838, -1.0993569 , -1.09969638, -1.09920924,\n",
       "        -1.09881071, -1.0988773 , -1.09942525, -1.10059805, -1.09882898,\n",
       "        -1.08578883, -1.09623703, -1.10397681, -1.10325519, -1.0996363 ,\n",
       "        -1.08513203, -1.09834163, -1.10903111, -1.10802388, -1.10095296,\n",
       "        -1.08616752, -1.098401  , -1.10901065, -1.10803387, -1.10096351]),\n",
       " 'std_test_score': array([3.37218950e-03, 3.01607477e-04, 8.06850144e-05, 5.39269407e-04,\n",
       "        3.47412819e-04, 1.40569359e-03, 1.32534838e-03, 6.58493249e-04,\n",
       "        1.59711761e-03, 8.30535517e-05, 4.53136784e-03, 2.80247607e-03,\n",
       "        6.76116062e-03, 5.86457394e-03, 1.42421150e-03, 6.06218349e-03,\n",
       "        3.05435855e-03, 1.29772360e-02, 1.17218541e-02, 3.03898435e-03,\n",
       "        4.20046381e-03, 5.81474682e-03, 1.29550253e-02, 1.17310209e-02,\n",
       "        3.05375276e-03]),\n",
       " 'rank_test_score': array([ 5, 13, 12, 16, 11,  8, 10, 14, 17,  9,  2,  4, 21, 20, 15,  1,  6,\n",
       "        25, 22, 18,  3,  7, 24, 23, 19], dtype=int32),\n",
       " 'split0_train_score': array([-0.96914884, -1.09994279, -1.10001486, -0.83338868, -0.80269369,\n",
       "        -1.0709202 , -1.10875716, -0.89335544, -1.11003325, -1.10896436,\n",
       "        -0.64975101, -1.0955676 , -2.23246429, -1.78201486, -4.72082959,\n",
       "        -0.5235182 , -1.11981014, -2.24025487, -1.58771743, -2.17049045,\n",
       "        -0.55817507, -1.38227825, -4.31331165, -4.35724145, -4.11520354]),\n",
       " 'split1_train_score': array([-0.97391499, -1.09994335, -1.10001486, -1.10008386, -0.80269369,\n",
       "        -1.07866791, -1.10875376, -1.11363948, -1.11003325, -1.10896436,\n",
       "        -0.65765056, -1.44776759, -2.23171551, -1.78201486, -4.72082959,\n",
       "        -0.65697067, -0.64648231, -2.23958665, -1.58771743, -4.13860075,\n",
       "        -0.67706054, -1.12321509, -4.30746336, -1.51937489, -4.11520354]),\n",
       " 'split2_train_score': array([-1.0997607 , -1.1004334 , -1.10044024, -1.10133739, -1.09875321,\n",
       "        -1.10901133, -0.91540979, -1.10901582, -1.8385756 , -1.10727445,\n",
       "        -0.45668455, -1.58873448, -4.76265136, -4.73861647, -4.77023786,\n",
       "        -0.50148711, -2.29871908, -8.3186894 , -8.29309702, -8.29858115,\n",
       "        -0.53262249, -1.57541831, -8.30965294, -8.2898153 , -8.30797774]),\n",
       " 'split3_train_score': array([-1.09975685, -1.10117051, -1.1004413 , -1.10133823, -0.80616376,\n",
       "        -1.10819083, -0.82239726, -1.10903526, -0.96770697, -1.10820224,\n",
       "        -0.40903864, -1.08721779, -2.173238  , -1.62998323, -2.71079821,\n",
       "        -0.52612501, -0.12407809, -1.65772574, -4.15551886, -5.03283389,\n",
       "        -0.48201076, -0.1150267 , -4.11928912, -1.52987424, -4.1248351 ]),\n",
       " 'split4_train_score': array([-1.100807  , -1.10056694, -1.10024659, -1.10094912, -1.10065799,\n",
       "        -1.112671  , -1.11007275, -1.11028051, -1.84041466, -1.10707784,\n",
       "        -0.62525484, -2.05023826, -4.74554786, -4.74045497, -4.73999332,\n",
       "        -0.4436765 , -1.57810396, -8.31878867, -8.29971145, -8.31989699,\n",
       "        -0.64091921, -1.18259556, -8.2774449 , -8.29358035, -8.33144423]),\n",
       " 'mean_train_score': array([-1.04867768, -1.1004114 , -1.10023157, -1.04741945, -0.92219247,\n",
       "        -1.09589225, -1.01307815, -1.0670653 , -1.37335274, -1.10809665,\n",
       "        -0.55967592, -1.45390514, -3.2291234 , -2.93461688, -4.33253771,\n",
       "        -0.5303555 , -1.15343871, -4.55500907, -4.78475243, -5.59208065,\n",
       "        -0.57815762, -1.07570678, -5.86543239, -4.79797725, -5.79893283]),\n",
       " 'std_train_score': array([6.30084425e-02, 4.55979486e-04, 1.90620280e-04, 1.07016369e-01,\n",
       "        1.44945655e-01, 1.74652388e-02, 1.21338008e-01, 8.68713396e-02,\n",
       "        3.84135902e-01, 8.03865467e-04, 1.05177907e-01, 3.56845966e-01,\n",
       "        1.24533505e+00, 1.47475541e+00, 8.11071102e-01, 6.99180663e-02,\n",
       "        7.49630129e-01, 3.08041702e+00, 3.01666767e+00, 2.40411178e+00,\n",
       "        7.13270971e-02, 5.06020978e-01, 1.98380347e+00, 3.03434187e+00,\n",
       "        2.05822312e+00])}"
      ]
     },
     "execution_count": 17,
     "metadata": {},
     "output_type": "execute_result"
    }
   ],
   "source": [
    "grid.cv_results_"
   ]
  },
  {
   "cell_type": "code",
   "execution_count": 18,
   "metadata": {},
   "outputs": [
    {
     "name": "stdout",
     "output_type": "stream",
     "text": [
      "1.0851320275299388\n",
      "{'C': 10.0, 'gamma': 0.01}\n"
     ]
    }
   ],
   "source": [
    "print(-grid.best_score_)\n",
    "print(grid.best_params_)"
   ]
  },
  {
   "cell_type": "markdown",
   "metadata": {},
   "source": [
    "从上述部分运行结果来看，gamma参数设置不合适（gamma越大，对应RBF核的sigma越小，决策边界更复杂，可能发生了过拟合）\n",
    "所以调小gamma值"
   ]
  },
  {
   "cell_type": "code",
   "execution_count": null,
   "metadata": {},
   "outputs": [],
   "source": []
  }
 ],
 "metadata": {
  "kernelspec": {
   "display_name": "Python 3",
   "language": "python",
   "name": "python3"
  },
  "language_info": {
   "codemirror_mode": {
    "name": "ipython",
    "version": 3
   },
   "file_extension": ".py",
   "mimetype": "text/x-python",
   "name": "python",
   "nbconvert_exporter": "python",
   "pygments_lexer": "ipython3",
   "version": "3.6.5"
  },
  "toc": {
   "nav_menu": {},
   "number_sections": true,
   "sideBar": true,
   "skip_h1_title": false,
   "toc_cell": false,
   "toc_position": {},
   "toc_section_display": "block",
   "toc_window_display": false
  }
 },
 "nbformat": 4,
 "nbformat_minor": 2
}
