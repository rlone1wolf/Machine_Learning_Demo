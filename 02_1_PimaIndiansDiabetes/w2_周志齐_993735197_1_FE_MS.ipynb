{
 "cells": [
  {
   "cell_type": "markdown",
   "metadata": {},
   "source": [
    "# 皮马印第安人糖尿病数据库"
   ]
  },
  {
   "cell_type": "markdown",
   "metadata": {
    "toc": true
   },
   "source": [
    "<h1>Table of Contents<span class=\"tocSkip\"></span></h1>\n",
    "<div class=\"toc\"><ul class=\"toc-item\"><li><span><a href=\"#皮马印第安人糖尿病数据库\" data-toc-modified-id=\"皮马印第安人糖尿病数据库-1\"><span class=\"toc-item-num\">1&nbsp;&nbsp;</span>皮马印第安人糖尿病数据库</a></span></li><li><span><a href=\"#基本信息\" data-toc-modified-id=\"基本信息-2\"><span class=\"toc-item-num\">2&nbsp;&nbsp;</span>基本信息</a></span></li><li><span><a href=\"#导入工具包\" data-toc-modified-id=\"导入工具包-3\"><span class=\"toc-item-num\">3&nbsp;&nbsp;</span>导入工具包</a></span></li><li><span><a href=\"#导入与分割数据\" data-toc-modified-id=\"导入与分割数据-4\"><span class=\"toc-item-num\">4&nbsp;&nbsp;</span>导入与分割数据</a></span></li><li><span><a href=\"#数据探索\" data-toc-modified-id=\"数据探索-5\"><span class=\"toc-item-num\">5&nbsp;&nbsp;</span>数据探索</a></span><ul class=\"toc-item\"><li><span><a href=\"#属性信息\" data-toc-modified-id=\"属性信息-5.1\"><span class=\"toc-item-num\">5.1&nbsp;&nbsp;</span>属性信息</a></span></li><li><span><a href=\"#单变量分布\" data-toc-modified-id=\"单变量分布-5.2\"><span class=\"toc-item-num\">5.2&nbsp;&nbsp;</span>单变量分布</a></span></li><li><span><a href=\"#双变量分布\" data-toc-modified-id=\"双变量分布-5.3\"><span class=\"toc-item-num\">5.3&nbsp;&nbsp;</span>双变量分布</a></span></li><li><span><a href=\"#target&amp;X&amp;X\" data-toc-modified-id=\"target&amp;X&amp;X-5.4\"><span class=\"toc-item-num\">5.4&nbsp;&nbsp;</span>target&amp;X&amp;X</a></span></li><li><span><a href=\"#空白值增补\" data-toc-modified-id=\"空白值增补-5.5\"><span class=\"toc-item-num\">5.5&nbsp;&nbsp;</span>空白值增补</a></span></li><li><span><a href=\"#创建新特征\" data-toc-modified-id=\"创建新特征-5.6\"><span class=\"toc-item-num\">5.6&nbsp;&nbsp;</span>创建新特征</a></span></li></ul></li><li><span><a href=\"#模型选择\" data-toc-modified-id=\"模型选择-6\"><span class=\"toc-item-num\">6&nbsp;&nbsp;</span>模型选择</a></span><ul class=\"toc-item\"><li><span><a href=\"#标准化\" data-toc-modified-id=\"标准化-6.1\"><span class=\"toc-item-num\">6.1&nbsp;&nbsp;</span>标准化</a></span></li><li><span><a href=\"#Logistic回归默认\" data-toc-modified-id=\"Logistic回归默认-6.2\"><span class=\"toc-item-num\">6.2&nbsp;&nbsp;</span>Logistic回归默认</a></span></li><li><span><a href=\"#Logistic回归调优\" data-toc-modified-id=\"Logistic回归调优-6.3\"><span class=\"toc-item-num\">6.3&nbsp;&nbsp;</span>Logistic回归调优</a></span></li><li><span><a href=\"#SVC_linear\" data-toc-modified-id=\"SVC_linear-6.4\"><span class=\"toc-item-num\">6.4&nbsp;&nbsp;</span>SVC_linear</a></span></li><li><span><a href=\"#SVC_rbf\" data-toc-modified-id=\"SVC_rbf-6.5\"><span class=\"toc-item-num\">6.5&nbsp;&nbsp;</span>SVC_rbf</a></span></li></ul></li><li><span><a href=\"#结论\" data-toc-modified-id=\"结论-7\"><span class=\"toc-item-num\">7&nbsp;&nbsp;</span>结论</a></span></li></ul></div>"
   ]
  },
  {
   "cell_type": "markdown",
   "metadata": {},
   "source": [
    "# 基本信息\n",
    "1.标题：皮马印第安人糖尿病数据库\n",
    "\n",
    "2.来源：\n",
    "   （a）原始拥有者：美国国立糖尿病和消化研究所\n",
    "                        肾脏疾病\n",
    "   （b）数据库捐助者：Vincent Sigillito（vgs@aplcen.apl.jhu.edu）\n",
    "                          研究中心，RMI组长\n",
    "                          应用物理实验室\n",
    "                          约翰霍普金斯大学\n",
    "                          约翰霍普金斯大道\n",
    "                          劳雷尔，MD 20707\n",
    "                          （301）953-6231\n",
    "   （c）收到日期：1990年5月9日\n",
    "\n",
    "3.过去的用法：\n",
    "    Smith，〜J.〜W。，Everhart，〜J.〜E.，Dickson，〜W.〜C.，Knowler，〜W.〜C.，\n",
    "       约翰尼斯〜R. 542。（1988）。使用ADAP学习算法进行预测\n",
    "       糖尿病的发作。在\\ \\它的研讨会论文集\n",
    "       计算机应用与医疗“（第261-265页）。IEEE\n",
    "       计算机学会新闻。\n",
    "\n",
    "       诊断，二值变量调查是否是\n",
    "       根据世界卫生组织的统计，患者有糖尿病的迹象\n",
    "       标准（即，如果装载后2小时的血浆葡萄糖是至少的话 \n",
    "       在任何调查检查或在常规医疗中发现的200 mg / dl\n",
    "       关心）。人口居住在美国亚利桑那州凤凰城附近。\n",
    "\n",
    "       结果：他们的ADAP算法之间进行了一个实值预测\n",
    "       0和1.这被转换成一个二元决策， \n",
    "       0.448。使用576个训练实例，敏感性和特异性\n",
    "       的算法在剩下的192个实例中是76％。\n",
    "\n",
    "4.相关信息：\n",
    "      从这些实例中选择了几个约束条件\n",
    "      更大的数据库。特别是，这里的所有病人都是女性\n",
    "      皮马印第安人遗产至少21岁。ADAP是一种适应性学习\n",
    "      生成和执行类似感知器的数字模拟的程序\n",
    "      设备。这是一个独特的算法; 请参阅纸张了解详情。\n",
    "\n",
    "5.实例数量：768\n",
    "\n",
    "6.属性数量：8加上类 \n",
    "\n",
    "7.对于每个属性:(所有数字值）\n",
    "\n",
    "    1.怀孕次数\n",
    "    2.在口服葡萄糖耐量试验中血浆葡萄糖浓度为2小时\n",
    "    3.舒张压（mm Hg）\n",
    "    4.三头肌皮褶厚度（mm）\n",
    "    5.2小时血清胰岛素（mu U / ml）\n",
    "    6.体重指数（以千克/身高（m）为单位）^ 2）\n",
    "    7.糖尿病谱系功能\n",
    "    8.年龄（岁）\n",
    "    9.类变量（0或1）\n",
    "\n",
    "    缺少属性值：是的\n",
    "\n",
    "9.班级分布：（班级值1被解释为“测试正面”\n",
    "   糖尿病”）\n",
    "\n",
    "   类值实例的数量\n",
    "   0 500\n",
    "   1 268\n",
    "\n",
    "10.简要的统计分析：\n",
    "\n",
    "    属性号：平均值：标准偏差：\n",
    "    1. 3.8 3.4\n",
    "    2. 120.9 32.0\n",
    "    3. 69.1 19.4\n",
    "    4. 20.5 16.0\n",
    "    5. 79.8 115.2\n",
    "    6. 32.0 7.9\n",
    "    7. 0.5 0.3\n",
    "    33.2 11.8\n"
   ]
  },
  {
   "cell_type": "markdown",
   "metadata": {},
   "source": [
    "# 导入工具包 "
   ]
  },
  {
   "cell_type": "code",
   "execution_count": 1,
   "metadata": {
    "ExecuteTime": {
     "end_time": "2018-02-23T04:02:22.860224Z",
     "start_time": "2018-02-23T04:02:01.313502Z"
    }
   },
   "outputs": [],
   "source": [
    "# 数据处理\n",
    "import numpy as np\n",
    "import pandas as pd\n",
    "\n",
    "# 可视化\n",
    "import matplotlib.pyplot as plt\n",
    "import seaborn as sns\n",
    "\n",
    "from zhou.utils_zhou import *\n",
    "\n",
    "sns.set_context(\"notebook\")\n",
    "%matplotlib inline"
   ]
  },
  {
   "cell_type": "markdown",
   "metadata": {},
   "source": [
    "# 导入与分割数据"
   ]
  },
  {
   "cell_type": "code",
   "execution_count": 8,
   "metadata": {
    "ExecuteTime": {
     "end_time": "2018-02-23T04:02:25.983524Z",
     "start_time": "2018-02-23T04:02:25.907474Z"
    },
    "scrolled": true
   },
   "outputs": [
    {
     "data": {
      "text/html": [
       "<div>\n",
       "<style scoped>\n",
       "    .dataframe tbody tr th:only-of-type {\n",
       "        vertical-align: middle;\n",
       "    }\n",
       "\n",
       "    .dataframe tbody tr th {\n",
       "        vertical-align: top;\n",
       "    }\n",
       "\n",
       "    .dataframe thead th {\n",
       "        text-align: right;\n",
       "    }\n",
       "</style>\n",
       "<table border=\"1\" class=\"dataframe\">\n",
       "  <thead>\n",
       "    <tr style=\"text-align: right;\">\n",
       "      <th></th>\n",
       "      <th>Pregnancies</th>\n",
       "      <th>Glucose</th>\n",
       "      <th>BloodPressure</th>\n",
       "      <th>SkinThickness</th>\n",
       "      <th>Insulin</th>\n",
       "      <th>BMI</th>\n",
       "      <th>DiabetesPedigreeFunction</th>\n",
       "      <th>Age</th>\n",
       "      <th>Outcome</th>\n",
       "    </tr>\n",
       "  </thead>\n",
       "  <tbody>\n",
       "    <tr>\n",
       "      <th>0</th>\n",
       "      <td>6</td>\n",
       "      <td>148</td>\n",
       "      <td>72</td>\n",
       "      <td>35</td>\n",
       "      <td>0</td>\n",
       "      <td>33.6</td>\n",
       "      <td>0.627</td>\n",
       "      <td>50</td>\n",
       "      <td>1</td>\n",
       "    </tr>\n",
       "    <tr>\n",
       "      <th>1</th>\n",
       "      <td>1</td>\n",
       "      <td>85</td>\n",
       "      <td>66</td>\n",
       "      <td>29</td>\n",
       "      <td>0</td>\n",
       "      <td>26.6</td>\n",
       "      <td>0.351</td>\n",
       "      <td>31</td>\n",
       "      <td>0</td>\n",
       "    </tr>\n",
       "    <tr>\n",
       "      <th>2</th>\n",
       "      <td>8</td>\n",
       "      <td>183</td>\n",
       "      <td>64</td>\n",
       "      <td>0</td>\n",
       "      <td>0</td>\n",
       "      <td>23.3</td>\n",
       "      <td>0.672</td>\n",
       "      <td>32</td>\n",
       "      <td>1</td>\n",
       "    </tr>\n",
       "    <tr>\n",
       "      <th>3</th>\n",
       "      <td>1</td>\n",
       "      <td>89</td>\n",
       "      <td>66</td>\n",
       "      <td>23</td>\n",
       "      <td>94</td>\n",
       "      <td>28.1</td>\n",
       "      <td>0.167</td>\n",
       "      <td>21</td>\n",
       "      <td>0</td>\n",
       "    </tr>\n",
       "    <tr>\n",
       "      <th>4</th>\n",
       "      <td>0</td>\n",
       "      <td>137</td>\n",
       "      <td>40</td>\n",
       "      <td>35</td>\n",
       "      <td>168</td>\n",
       "      <td>43.1</td>\n",
       "      <td>2.288</td>\n",
       "      <td>33</td>\n",
       "      <td>1</td>\n",
       "    </tr>\n",
       "  </tbody>\n",
       "</table>\n",
       "</div>"
      ],
      "text/plain": [
       "   Pregnancies  Glucose  BloodPressure  SkinThickness  Insulin   BMI  \\\n",
       "0            6      148             72             35        0  33.6   \n",
       "1            1       85             66             29        0  26.6   \n",
       "2            8      183             64              0        0  23.3   \n",
       "3            1       89             66             23       94  28.1   \n",
       "4            0      137             40             35      168  43.1   \n",
       "\n",
       "   DiabetesPedigreeFunction  Age  Outcome  \n",
       "0                     0.627   50        1  \n",
       "1                     0.351   31        0  \n",
       "2                     0.672   32        1  \n",
       "3                     0.167   21        0  \n",
       "4                     2.288   33        1  "
      ]
     },
     "execution_count": 8,
     "metadata": {},
     "output_type": "execute_result"
    }
   ],
   "source": [
    "# E:\\AI\\00\\data\\PimaIndiansDiabetes\\diabetes.csv\n",
    "data = pd.read_csv(\"./data/diabetes.csv\")\n",
    "data.head()"
   ]
  },
  {
   "cell_type": "code",
   "execution_count": 9,
   "metadata": {},
   "outputs": [
    {
     "data": {
      "text/plain": [
       "(768, 9)"
      ]
     },
     "execution_count": 9,
     "metadata": {},
     "output_type": "execute_result"
    }
   ],
   "source": [
    "data.shape"
   ]
  },
  {
   "cell_type": "raw",
   "metadata": {
    "ExecuteTime": {
     "end_time": "2018-02-08T13:48:08.292424Z",
     "start_time": "2018-02-08T13:48:08.247395Z"
    }
   },
   "source": [
    "test = data.sample(frac=0.2)\n",
    "test.shape"
   ]
  },
  {
   "cell_type": "raw",
   "metadata": {
    "ExecuteTime": {
     "end_time": "2018-02-08T13:48:08.346460Z",
     "start_time": "2018-02-08T13:48:08.295426Z"
    }
   },
   "source": [
    "train = data.drop(test.index)\n",
    "train.shape"
   ]
  },
  {
   "cell_type": "code",
   "execution_count": 10,
   "metadata": {},
   "outputs": [
    {
     "name": "stdout",
     "output_type": "stream",
     "text": [
      "共有：[768]条样本，特征数为：[9]，其中有[9]个特征是number\n",
      "使用内存大小为: [54.08] KB\n"
     ]
    },
    {
     "data": {
      "text/html": [
       "<div>\n",
       "<style scoped>\n",
       "    .dataframe tbody tr th:only-of-type {\n",
       "        vertical-align: middle;\n",
       "    }\n",
       "\n",
       "    .dataframe tbody tr th {\n",
       "        vertical-align: top;\n",
       "    }\n",
       "\n",
       "    .dataframe thead th {\n",
       "        text-align: right;\n",
       "    }\n",
       "</style>\n",
       "<table border=\"1\" class=\"dataframe\">\n",
       "  <thead>\n",
       "    <tr style=\"text-align: right;\">\n",
       "      <th></th>\n",
       "      <th>count</th>\n",
       "      <th>mean</th>\n",
       "      <th>std</th>\n",
       "      <th>min</th>\n",
       "      <th>25%</th>\n",
       "      <th>50%</th>\n",
       "      <th>75%</th>\n",
       "      <th>max</th>\n",
       "      <th>dif_vals</th>\n",
       "      <th>dtype</th>\n",
       "      <th>num_null</th>\n",
       "    </tr>\n",
       "  </thead>\n",
       "  <tbody>\n",
       "    <tr>\n",
       "      <th>Pregnancies</th>\n",
       "      <td>768</td>\n",
       "      <td>3.845052</td>\n",
       "      <td>3.369578</td>\n",
       "      <td>0.000</td>\n",
       "      <td>1.00000</td>\n",
       "      <td>3.0000</td>\n",
       "      <td>6.00000</td>\n",
       "      <td>17.00</td>\n",
       "      <td>17</td>\n",
       "      <td>int64</td>\n",
       "      <td>0</td>\n",
       "    </tr>\n",
       "    <tr>\n",
       "      <th>Glucose</th>\n",
       "      <td>768</td>\n",
       "      <td>120.894531</td>\n",
       "      <td>31.972618</td>\n",
       "      <td>0.000</td>\n",
       "      <td>99.00000</td>\n",
       "      <td>117.0000</td>\n",
       "      <td>140.25000</td>\n",
       "      <td>199.00</td>\n",
       "      <td>136</td>\n",
       "      <td>int64</td>\n",
       "      <td>0</td>\n",
       "    </tr>\n",
       "    <tr>\n",
       "      <th>BloodPressure</th>\n",
       "      <td>768</td>\n",
       "      <td>69.105469</td>\n",
       "      <td>19.355807</td>\n",
       "      <td>0.000</td>\n",
       "      <td>62.00000</td>\n",
       "      <td>72.0000</td>\n",
       "      <td>80.00000</td>\n",
       "      <td>122.00</td>\n",
       "      <td>47</td>\n",
       "      <td>int64</td>\n",
       "      <td>0</td>\n",
       "    </tr>\n",
       "    <tr>\n",
       "      <th>SkinThickness</th>\n",
       "      <td>768</td>\n",
       "      <td>20.536458</td>\n",
       "      <td>15.952218</td>\n",
       "      <td>0.000</td>\n",
       "      <td>0.00000</td>\n",
       "      <td>23.0000</td>\n",
       "      <td>32.00000</td>\n",
       "      <td>99.00</td>\n",
       "      <td>51</td>\n",
       "      <td>int64</td>\n",
       "      <td>0</td>\n",
       "    </tr>\n",
       "    <tr>\n",
       "      <th>Insulin</th>\n",
       "      <td>768</td>\n",
       "      <td>79.799479</td>\n",
       "      <td>115.244002</td>\n",
       "      <td>0.000</td>\n",
       "      <td>0.00000</td>\n",
       "      <td>30.5000</td>\n",
       "      <td>127.25000</td>\n",
       "      <td>846.00</td>\n",
       "      <td>186</td>\n",
       "      <td>int64</td>\n",
       "      <td>0</td>\n",
       "    </tr>\n",
       "    <tr>\n",
       "      <th>BMI</th>\n",
       "      <td>768</td>\n",
       "      <td>31.992578</td>\n",
       "      <td>7.884160</td>\n",
       "      <td>0.000</td>\n",
       "      <td>27.30000</td>\n",
       "      <td>32.0000</td>\n",
       "      <td>36.60000</td>\n",
       "      <td>67.10</td>\n",
       "      <td>248</td>\n",
       "      <td>float64</td>\n",
       "      <td>0</td>\n",
       "    </tr>\n",
       "    <tr>\n",
       "      <th>DiabetesPedigreeFunction</th>\n",
       "      <td>768</td>\n",
       "      <td>0.471876</td>\n",
       "      <td>0.331329</td>\n",
       "      <td>0.078</td>\n",
       "      <td>0.24375</td>\n",
       "      <td>0.3725</td>\n",
       "      <td>0.62625</td>\n",
       "      <td>2.42</td>\n",
       "      <td>517</td>\n",
       "      <td>float64</td>\n",
       "      <td>0</td>\n",
       "    </tr>\n",
       "    <tr>\n",
       "      <th>Age</th>\n",
       "      <td>768</td>\n",
       "      <td>33.240885</td>\n",
       "      <td>11.760232</td>\n",
       "      <td>21.000</td>\n",
       "      <td>24.00000</td>\n",
       "      <td>29.0000</td>\n",
       "      <td>41.00000</td>\n",
       "      <td>81.00</td>\n",
       "      <td>52</td>\n",
       "      <td>int64</td>\n",
       "      <td>0</td>\n",
       "    </tr>\n",
       "    <tr>\n",
       "      <th>Outcome</th>\n",
       "      <td>768</td>\n",
       "      <td>0.348958</td>\n",
       "      <td>0.476951</td>\n",
       "      <td>0.000</td>\n",
       "      <td>0.00000</td>\n",
       "      <td>0.0000</td>\n",
       "      <td>1.00000</td>\n",
       "      <td>1.00</td>\n",
       "      <td>2</td>\n",
       "      <td>int64</td>\n",
       "      <td>0</td>\n",
       "    </tr>\n",
       "  </tbody>\n",
       "</table>\n",
       "</div>"
      ],
      "text/plain": [
       "                          count        mean         std     min       25%  \\\n",
       "Pregnancies                 768    3.845052    3.369578   0.000   1.00000   \n",
       "Glucose                     768  120.894531   31.972618   0.000  99.00000   \n",
       "BloodPressure               768   69.105469   19.355807   0.000  62.00000   \n",
       "SkinThickness               768   20.536458   15.952218   0.000   0.00000   \n",
       "Insulin                     768   79.799479  115.244002   0.000   0.00000   \n",
       "BMI                         768   31.992578    7.884160   0.000  27.30000   \n",
       "DiabetesPedigreeFunction    768    0.471876    0.331329   0.078   0.24375   \n",
       "Age                         768   33.240885   11.760232  21.000  24.00000   \n",
       "Outcome                     768    0.348958    0.476951   0.000   0.00000   \n",
       "\n",
       "                               50%        75%     max  dif_vals    dtype  \\\n",
       "Pregnancies                 3.0000    6.00000   17.00        17    int64   \n",
       "Glucose                   117.0000  140.25000  199.00       136    int64   \n",
       "BloodPressure              72.0000   80.00000  122.00        47    int64   \n",
       "SkinThickness              23.0000   32.00000   99.00        51    int64   \n",
       "Insulin                    30.5000  127.25000  846.00       186    int64   \n",
       "BMI                        32.0000   36.60000   67.10       248  float64   \n",
       "DiabetesPedigreeFunction    0.3725    0.62625    2.42       517  float64   \n",
       "Age                        29.0000   41.00000   81.00        52    int64   \n",
       "Outcome                     0.0000    1.00000    1.00         2    int64   \n",
       "\n",
       "                          num_null  \n",
       "Pregnancies                      0  \n",
       "Glucose                          0  \n",
       "BloodPressure                    0  \n",
       "SkinThickness                    0  \n",
       "Insulin                          0  \n",
       "BMI                              0  \n",
       "DiabetesPedigreeFunction         0  \n",
       "Age                              0  \n",
       "Outcome                          0  "
      ]
     },
     "execution_count": 10,
     "metadata": {},
     "output_type": "execute_result"
    }
   ],
   "source": [
    "show_number_describe(data)"
   ]
  },
  {
   "cell_type": "markdown",
   "metadata": {},
   "source": [
    "1.Pregnancies: 妊娠次数\n",
    "\n",
    "    既往多妊娠的妇女,尤其是曾经分娩过巨大胎儿的妇女\n",
    "    0: 0\n",
    "    1: 1-3\n",
    "    2: 3-9\n",
    "    3: 9--\n",
    "    \n",
    "2.Glucose: 在口服葡萄糖耐量试验中血浆葡萄糖浓度为2小时\n",
    "\n",
    "    正常值: 空腹血糖: 60~110 mg/dl; 餐后2h血糖 <140 mg/dl\n",
    "    糖尿病: 空腹血糖: >=126 mg/dl; 餐后2h血糖 >=200 mg/dl\n",
    "    0: 0-90\n",
    "    1: 90-140\n",
    "    2: 140-200\n",
    "    3: >200\n",
    "    不可能出现0\n",
    "\n",
    "3.BloodPressure: 舒张压（mm Hg）\n",
    "\n",
    "    低压, (收缩压为高压)\n",
    "    高大,肥胖者血压较高,  男女不同, 与妊娠者分开\n",
    "    正常值: 60-89, 高血压:>=90, 低血压:<60\n",
    "    0: <60\n",
    "    1: 60-89\n",
    "    2: >90\n",
    "    不可能出现0\n",
    "\n",
    "4.SkinThickness: 皮褶厚度（mm）\n",
    "\n",
    "    可以推断全身脂肪含量\n",
    "    正常: <40,(中国)\n",
    "    男女不同\n",
    "\n",
    "5.Insulin: 2小时血清胰岛素（mu U / ml）\n",
    "\n",
    "    糖尿病是由于胰腺不能产生足够的胰岛素\n",
    "    或者身体的细胞对所产生的胰岛素没有适当的反应\n",
    "    空腹者一般应介于5pmol/L到20pmol/L,餐后1小时,为空腹5～6倍；餐后2小时为空腹4～5倍；餐后3小时为空腹2.5～3倍.\n",
    "    餐后2小时胰岛素正常值是不高于11.1mmol/l 大概不高于77.3mu U / ml\n",
    "\n",
    "6.BMI: 体重指数（以千克/身高（m）为单位）^ 2）\n",
    "\n",
    "    正常: <24 kg/m2\n",
    "    超重: 24-28 kg/m2\n",
    "    肥胖: >28 kg/m2\n",
    "\n",
    "7.DiabetesPedigreeFunction: 糖尿病谱系功能\n",
    "\n",
    "    糖尿病家庭病史\n",
    "    看不懂, 以0.5分类吧\n",
    "    0: <0.5\n",
    "    1: 0.5-1.0\n",
    "    2: 1.0-1.5\n",
    "    3: >1.5\n",
    "\n",
    "8.Age: 年龄（岁）\n",
    "\n",
    "    1: 20-30\n",
    "    2: 30-40\n",
    "    3: 40-60\n",
    "    4: 60-\n",
    "\n",
    "9.Outcome: 类变量（0或1）\n",
    "\n",
    "    1型: 大多数是在儿童中, 20岁以下\n",
    "    2型: 最常见的糖尿病类型, 大多在40岁以上, 生活方式因素和遗传因素, 肥胖,缺乏体力活动,饮食不当,应力,和城市化, \n",
    "    妊娠糖尿病: 发生在所有怀孕的约2-10％，并可能在分娩后改善或消失 \n",
    "    其他特定类型: 常染色体显性遗传形式, 前驱糖尿病, 成人隐匿性自身免疫性糖尿病成人隐匿性自身免疫性糖尿病\n",
    "\n",
    "缺少属性值：是的\n"
   ]
  },
  {
   "cell_type": "markdown",
   "metadata": {},
   "source": [
    "# outliner"
   ]
  },
  {
   "cell_type": "code",
   "execution_count": 11,
   "metadata": {
    "ExecuteTime": {
     "end_time": "2018-02-08T13:48:08.910836Z",
     "start_time": "2018-02-08T13:48:08.409504Z"
    }
   },
   "outputs": [
    {
     "data": {
      "text/plain": [
       "<seaborn.axisgrid.FacetGrid at 0x2187d3d05c0>"
      ]
     },
     "execution_count": 11,
     "metadata": {},
     "output_type": "execute_result"
    },
    {
     "data": {
      "image/png": "[encoded data removed]",
      "text/plain": [
       "<Figure size 360x360 with 1 Axes>"
      ]
     },
     "metadata": {},
     "output_type": "display_data"
    }
   ],
   "source": [
    "sns.lmplot(x=\"Pregnancies\", y=\"Age\", data=data)"
   ]
  },
  {
   "cell_type": "code",
   "execution_count": 12,
   "metadata": {
    "ExecuteTime": {
     "end_time": "2018-02-08T13:48:08.949861Z",
     "start_time": "2018-02-08T13:48:08.913837Z"
    }
   },
   "outputs": [
    {
     "data": {
      "text/plain": [
       "<matplotlib.axes._subplots.AxesSubplot at 0x2187c17f518>"
      ]
     },
     "execution_count": 12,
     "metadata": {},
     "output_type": "execute_result"
    },
    {
     "data": {
      "image/png": "[encoded data removed]",
      "text/plain": [
       "<Figure size 1152x432 with 1 Axes>"
      ]
     },
     "metadata": {},
     "output_type": "display_data"
    }
   ],
   "source": [
    "plt.figure(figsize=(16,6))\n",
    "sns.countplot(data.Age-data.Pregnancies,)"
   ]
  },
  {
   "cell_type": "markdown",
   "metadata": {},
   "source": [
    "用来检测时的年龄 减去 怀孕次数(假设一年怀孕一次) 得出最早第一次怀孕的岁数\n",
    "感觉14岁就怀孕有点太早了, 认为是outliner"
   ]
  },
  {
   "cell_type": "code",
   "execution_count": 13,
   "metadata": {
    "ExecuteTime": {
     "end_time": "2018-02-08T13:48:08.964869Z",
     "start_time": "2018-02-08T13:48:08.952862Z"
    }
   },
   "outputs": [],
   "source": [
    "# 删除一个outliner\n",
    "data = data.loc[(data.Age-data.Pregnancies)>15]"
   ]
  },
  {
   "cell_type": "markdown",
   "metadata": {},
   "source": [
    "## 空白值增补"
   ]
  },
  {
   "cell_type": "code",
   "execution_count": 14,
   "metadata": {
    "ExecuteTime": {
     "end_time": "2018-02-08T13:48:20.793043Z",
     "start_time": "2018-02-08T13:48:20.772563Z"
    }
   },
   "outputs": [],
   "source": [
    "# 医学上各个测量值不应出现0\n",
    "# 推测0值代表病人未检测该项目\n",
    "# 以免0值对数据可视化的影响\n",
    "\n",
    "def replace_0(data):\n",
    "    # 统一将0替换为np.nan\n",
    "    data = data.replace(0, np.nan)\n",
    "    # 把\"Outcome\"和\"Pregnancies\"中的np.nan再换回0\n",
    "    data.loc[:,\"Outcome\"].fillna(0, inplace=True)\n",
    "    data.loc[:,\"Pregnancies\"].fillna(0, inplace=True)\n",
    "    return data\n",
    "\n",
    "data = replace_0(data)"
   ]
  },
  {
   "cell_type": "code",
   "execution_count": 15,
   "metadata": {
    "ExecuteTime": {
     "end_time": "2018-02-08T13:48:49.140845Z",
     "start_time": "2018-02-08T13:48:49.067797Z"
    }
   },
   "outputs": [
    {
     "name": "stdout",
     "output_type": "stream",
     "text": [
      "共有：[767]条样本，特征数为：[9]，其中有[9]个特征是number\n",
      "使用内存大小为: [59.92] KB\n"
     ]
    },
    {
     "data": {
      "text/html": [
       "<div>\n",
       "<style scoped>\n",
       "    .dataframe tbody tr th:only-of-type {\n",
       "        vertical-align: middle;\n",
       "    }\n",
       "\n",
       "    .dataframe tbody tr th {\n",
       "        vertical-align: top;\n",
       "    }\n",
       "\n",
       "    .dataframe thead th {\n",
       "        text-align: right;\n",
       "    }\n",
       "</style>\n",
       "<table border=\"1\" class=\"dataframe\">\n",
       "  <thead>\n",
       "    <tr style=\"text-align: right;\">\n",
       "      <th></th>\n",
       "      <th>count</th>\n",
       "      <th>mean</th>\n",
       "      <th>std</th>\n",
       "      <th>min</th>\n",
       "      <th>25%</th>\n",
       "      <th>50%</th>\n",
       "      <th>75%</th>\n",
       "      <th>max</th>\n",
       "      <th>dif_vals</th>\n",
       "      <th>dtype</th>\n",
       "      <th>num_null</th>\n",
       "    </tr>\n",
       "  </thead>\n",
       "  <tbody>\n",
       "    <tr>\n",
       "      <th>Pregnancies</th>\n",
       "      <td>767</td>\n",
       "      <td>3.839635</td>\n",
       "      <td>3.368429</td>\n",
       "      <td>0.000</td>\n",
       "      <td>1.0000</td>\n",
       "      <td>3.000</td>\n",
       "      <td>6.0000</td>\n",
       "      <td>17.00</td>\n",
       "      <td>17</td>\n",
       "      <td>float64</td>\n",
       "      <td>0</td>\n",
       "    </tr>\n",
       "    <tr>\n",
       "      <th>Glucose</th>\n",
       "      <td>767</td>\n",
       "      <td>121.658409</td>\n",
       "      <td>30.458089</td>\n",
       "      <td>44.000</td>\n",
       "      <td>99.5000</td>\n",
       "      <td>117.000</td>\n",
       "      <td>140.5000</td>\n",
       "      <td>199.00</td>\n",
       "      <td>135</td>\n",
       "      <td>float64</td>\n",
       "      <td>0</td>\n",
       "    </tr>\n",
       "    <tr>\n",
       "      <th>BloodPressure</th>\n",
       "      <td>767</td>\n",
       "      <td>72.368970</td>\n",
       "      <td>12.094524</td>\n",
       "      <td>24.000</td>\n",
       "      <td>64.0000</td>\n",
       "      <td>72.000</td>\n",
       "      <td>80.0000</td>\n",
       "      <td>122.00</td>\n",
       "      <td>46</td>\n",
       "      <td>float64</td>\n",
       "      <td>0</td>\n",
       "    </tr>\n",
       "    <tr>\n",
       "      <th>SkinThickness</th>\n",
       "      <td>767</td>\n",
       "      <td>29.108214</td>\n",
       "      <td>8.796957</td>\n",
       "      <td>7.000</td>\n",
       "      <td>25.0000</td>\n",
       "      <td>29.000</td>\n",
       "      <td>32.0000</td>\n",
       "      <td>99.00</td>\n",
       "      <td>50</td>\n",
       "      <td>float64</td>\n",
       "      <td>0</td>\n",
       "    </tr>\n",
       "    <tr>\n",
       "      <th>Insulin</th>\n",
       "      <td>767</td>\n",
       "      <td>140.692308</td>\n",
       "      <td>86.437570</td>\n",
       "      <td>14.000</td>\n",
       "      <td>121.0000</td>\n",
       "      <td>125.000</td>\n",
       "      <td>127.5000</td>\n",
       "      <td>846.00</td>\n",
       "      <td>185</td>\n",
       "      <td>float64</td>\n",
       "      <td>0</td>\n",
       "    </tr>\n",
       "    <tr>\n",
       "      <th>BMI</th>\n",
       "      <td>767</td>\n",
       "      <td>32.460495</td>\n",
       "      <td>6.878101</td>\n",
       "      <td>18.200</td>\n",
       "      <td>27.5000</td>\n",
       "      <td>32.300</td>\n",
       "      <td>36.6000</td>\n",
       "      <td>67.10</td>\n",
       "      <td>247</td>\n",
       "      <td>float64</td>\n",
       "      <td>0</td>\n",
       "    </tr>\n",
       "    <tr>\n",
       "      <th>DiabetesPedigreeFunction</th>\n",
       "      <td>767</td>\n",
       "      <td>0.472154</td>\n",
       "      <td>0.331455</td>\n",
       "      <td>0.078</td>\n",
       "      <td>0.2435</td>\n",
       "      <td>0.374</td>\n",
       "      <td>0.6265</td>\n",
       "      <td>2.42</td>\n",
       "      <td>517</td>\n",
       "      <td>float64</td>\n",
       "      <td>0</td>\n",
       "    </tr>\n",
       "    <tr>\n",
       "      <th>Age</th>\n",
       "      <td>767</td>\n",
       "      <td>33.255541</td>\n",
       "      <td>11.760885</td>\n",
       "      <td>21.000</td>\n",
       "      <td>24.0000</td>\n",
       "      <td>29.000</td>\n",
       "      <td>41.0000</td>\n",
       "      <td>81.00</td>\n",
       "      <td>52</td>\n",
       "      <td>int64</td>\n",
       "      <td>0</td>\n",
       "    </tr>\n",
       "    <tr>\n",
       "      <th>Outcome</th>\n",
       "      <td>767</td>\n",
       "      <td>0.348110</td>\n",
       "      <td>0.476682</td>\n",
       "      <td>0.000</td>\n",
       "      <td>0.0000</td>\n",
       "      <td>0.000</td>\n",
       "      <td>1.0000</td>\n",
       "      <td>1.00</td>\n",
       "      <td>2</td>\n",
       "      <td>float64</td>\n",
       "      <td>0</td>\n",
       "    </tr>\n",
       "  </tbody>\n",
       "</table>\n",
       "</div>"
      ],
      "text/plain": [
       "                          count        mean        std     min       25%  \\\n",
       "Pregnancies                 767    3.839635   3.368429   0.000    1.0000   \n",
       "Glucose                     767  121.658409  30.458089  44.000   99.5000   \n",
       "BloodPressure               767   72.368970  12.094524  24.000   64.0000   \n",
       "SkinThickness               767   29.108214   8.796957   7.000   25.0000   \n",
       "Insulin                     767  140.692308  86.437570  14.000  121.0000   \n",
       "BMI                         767   32.460495   6.878101  18.200   27.5000   \n",
       "DiabetesPedigreeFunction    767    0.472154   0.331455   0.078    0.2435   \n",
       "Age                         767   33.255541  11.760885  21.000   24.0000   \n",
       "Outcome                     767    0.348110   0.476682   0.000    0.0000   \n",
       "\n",
       "                              50%       75%     max  dif_vals    dtype  \\\n",
       "Pregnancies                 3.000    6.0000   17.00        17  float64   \n",
       "Glucose                   117.000  140.5000  199.00       135  float64   \n",
       "BloodPressure              72.000   80.0000  122.00        46  float64   \n",
       "SkinThickness              29.000   32.0000   99.00        50  float64   \n",
       "Insulin                   125.000  127.5000  846.00       185  float64   \n",
       "BMI                        32.300   36.6000   67.10       247  float64   \n",
       "DiabetesPedigreeFunction    0.374    0.6265    2.42       517  float64   \n",
       "Age                        29.000   41.0000   81.00        52    int64   \n",
       "Outcome                     0.000    1.0000    1.00         2  float64   \n",
       "\n",
       "                          num_null  \n",
       "Pregnancies                      0  \n",
       "Glucose                          0  \n",
       "BloodPressure                    0  \n",
       "SkinThickness                    0  \n",
       "Insulin                          0  \n",
       "BMI                              0  \n",
       "DiabetesPedigreeFunction         0  \n",
       "Age                              0  \n",
       "Outcome                          0  "
      ]
     },
     "execution_count": 15,
     "metadata": {},
     "output_type": "execute_result"
    }
   ],
   "source": [
    "# 医学上各个测量值不应出现0\n",
    "# 推测0值代表病人未检测该项目\n",
    "# 空白值均以median填补\n",
    "\n",
    "def replace_nan(data):\n",
    "    for col in data:\n",
    "        data.loc[:,col] = data.loc[:,col].replace(np.nan, data.loc[:,col].median())\n",
    "    return data\n",
    "\n",
    "data = replace_nan(data)\n",
    "\n",
    "show_number_describe(data)"
   ]
  },
  {
   "cell_type": "markdown",
   "metadata": {
    "ExecuteTime": {
     "end_time": "2018-02-03T07:13:05.063248Z",
     "start_time": "2018-02-03T07:13:05.057246Z"
    }
   },
   "source": [
    "## 创建新特征"
   ]
  },
  {
   "cell_type": "markdown",
   "metadata": {},
   "source": [
    "1.Pregnancies: 妊娠次数\n",
    "\n",
    "    既往多妊娠的妇女,尤其是曾经分娩过巨大胎儿的妇女\n",
    "    0: 0\n",
    "    1: 1-3\n",
    "    2: 3-9\n",
    "    3: 9--\n",
    "    \n",
    "2.Glucose: 在口服葡萄糖耐量试验中血浆葡萄糖浓度为2小时\n",
    "\n",
    "    正常值: 空腹血糖: 60~110 mg/dl; 餐后2h血糖 <140 mg/dl\n",
    "    糖尿病: 空腹血糖: >=126 mg/dl; 餐后2h血糖 >=200 mg/dl\n",
    "    0: 0-90\n",
    "    1: 90-140\n",
    "    2: 140-200\n",
    "    3: >200\n",
    "    不可能出现0\n",
    "\n",
    "3.BloodPressure: 舒张压（mm Hg）\n",
    "\n",
    "    低压, (收缩压为高压)\n",
    "    高大,肥胖者血压较高,  男女不同, 与妊娠者分开\n",
    "    正常值: 60-89, 高血压:>=90, 低血压:<60\n",
    "    0: <60\n",
    "    1: 60-89\n",
    "    2: >90\n",
    "    不可能出现0\n",
    "\n",
    "4.SkinThickness: 皮褶厚度（mm）\n",
    "\n",
    "    可以推断全身脂肪含量\n",
    "    正常: <40,(中国)\n",
    "    男女不同\n",
    "\n",
    "5.Insulin: 2小时血清胰岛素（mu U / ml）\n",
    "\n",
    "    糖尿病是由于胰腺不能产生足够的胰岛素\n",
    "    或者身体的细胞对所产生的胰岛素没有适当的反应\n",
    "    空腹者一般应介于5pmol/L到20pmol/L,餐后1小时,为空腹5～6倍；餐后2小时为空腹4～5倍；餐后3小时为空腹2.5～3倍.\n",
    "    餐后2小时胰岛素正常值是不高于11.1mmol/l 大概不高于77.3mu U / ml\n",
    "\n",
    "6.BMI: 体重指数（以千克/身高（m）为单位）^ 2）\n",
    "\n",
    "    正常: <24 kg/m2\n",
    "    超重: 24-28 kg/m2\n",
    "    肥胖: >28 kg/m2\n",
    "\n",
    "7.DiabetesPedigreeFunction: 糖尿病谱系功能\n",
    "\n",
    "    糖尿病家庭病史\n",
    "    看不懂, 以0.5分类吧\n",
    "    0: <0.5\n",
    "    1: 0.5-1.0\n",
    "    2: 1.0-1.5\n",
    "    3: >1.5\n",
    "\n",
    "8.Age: 年龄（岁）\n",
    "\n",
    "    1: 20-30\n",
    "    2: 30-40\n",
    "    3: 40-60\n",
    "    4: 60-\n",
    "\n",
    "9.Outcome: 类变量（0或1）\n",
    "\n",
    "    1型: 大多数是在儿童中, 20岁以下\n",
    "    2型: 最常见的糖尿病类型, 大多在40岁以上, 生活方式因素和遗传因素, 肥胖,缺乏体力活动,饮食不当,应力,和城市化, \n",
    "    妊娠糖尿病: 发生在所有怀孕的约2-10％，并可能在分娩后改善或消失 \n",
    "    其他特定类型: 常染色体显性遗传形式, 前驱糖尿病, 成人隐匿性自身免疫性糖尿病成人隐匿性自身免疫性糖尿病\n",
    "\n",
    "缺少属性值：是的\n"
   ]
  },
  {
   "cell_type": "code",
   "execution_count": 18,
   "metadata": {
    "ExecuteTime": {
     "end_time": "2018-02-08T13:48:51.047873Z",
     "start_time": "2018-02-08T13:48:49.142845Z"
    }
   },
   "outputs": [],
   "source": [
    "def creat_cat_feature(data):\n",
    "    data_cat = pd.DataFrame()\n",
    "\n",
    "    data_cat[\"Pregnancies_cat\"] = data[\"Pregnancies\"].copy()\n",
    "    data_cat.loc[(data_cat[\"Pregnancies_cat\"]==0), [\"Pregnancies_cat\"]] = 0\n",
    "    data_cat.loc[((data_cat[\"Pregnancies_cat\"]>=1)&(data_cat[\"Pregnancies_cat\"]<4)), [\"Pregnancies_cat\"]] =1\n",
    "    data_cat.loc[(data_cat[\"Pregnancies_cat\"]>=4)&(data_cat[\"Pregnancies_cat\"]<9), [\"Pregnancies_cat\"]] =2\n",
    "    data_cat.loc[(data_cat[\"Pregnancies_cat\"]>=9), [\"Pregnancies_cat\"]] = 3\n",
    "\n",
    "\n",
    "    data_cat[\"Glucose_cat\"] = data[\"Glucose\"].copy()\n",
    "    data_cat.loc[data_cat[\"Glucose_cat\"]<90, [\"Glucose_cat\"]] = 0\n",
    "    data_cat.loc[(data_cat[\"Glucose_cat\"]>=90)&(data_cat[\"Glucose_cat\"]<140), [\"Glucose_cat\"]] =1\n",
    "    data_cat.loc[(data_cat[\"Glucose_cat\"]>=140)&(data_cat[\"Glucose_cat\"]<200), [\"Glucose_cat\"]] =2\n",
    "    data_cat.loc[(data_cat[\"Glucose_cat\"]>=200), [\"Glucose_cat\"]] =3\n",
    "\n",
    "\n",
    "    data_cat[\"BloodPressure_cat\"] = data[\"BloodPressure\"].copy()\n",
    "    data_cat.loc[data_cat[\"BloodPressure_cat\"]<60, [\"BloodPressure_cat\"]] = 0\n",
    "    data_cat.loc[(data_cat[\"BloodPressure_cat\"]>=60)&(data_cat[\"BloodPressure_cat\"]<90), [\"BloodPressure_cat\"]] =1\n",
    "    data_cat.loc[(data_cat[\"BloodPressure_cat\"]>=90), [\"BloodPressure_cat\"]] =2\n",
    "\n",
    "    data_cat[\"SkinThickness_cat\"] = data[\"SkinThickness\"].copy()\n",
    "    data_cat.loc[data_cat[\"SkinThickness_cat\"]<40, [\"SkinThickness_cat\"]] = 0\n",
    "    data_cat.loc[(data_cat[\"SkinThickness_cat\"]>=40), [\"SkinThickness_cat\"]] =1\n",
    "\n",
    "    data_cat[\"BMI_cat\"] = data[\"BMI\"].copy()\n",
    "    data_cat.loc[data_cat[\"BMI_cat\"]<24, [\"BMI_cat\"]] = 0\n",
    "    data_cat.loc[(data_cat[\"BMI_cat\"]>=24)&(data_cat[\"BMI_cat\"]<28), [\"BMI_cat\"]] =1\n",
    "    data_cat.loc[(data_cat[\"BMI_cat\"]>=28), [\"BMI_cat\"]] =2\n",
    "\n",
    "    data_cat[\"DiabetesPedigreeFunction_cat\"] = data[\"DiabetesPedigreeFunction\"].copy()\n",
    "    data_cat.loc[data_cat[\"DiabetesPedigreeFunction_cat\"]<0.5, [\"DiabetesPedigreeFunction_cat\"]] = 0\n",
    "    data_cat.loc[(data_cat[\"DiabetesPedigreeFunction_cat\"]>=0.5)&(data_cat[\"DiabetesPedigreeFunction_cat\"]<1), [\"DiabetesPedigreeFunction_cat\"]] =1\n",
    "    data_cat.loc[(data_cat[\"DiabetesPedigreeFunction_cat\"]>=1)&(data_cat[\"DiabetesPedigreeFunction_cat\"]<1.5), [\"DiabetesPedigreeFunction_cat\"]] =1\n",
    "    data_cat.loc[(data_cat[\"DiabetesPedigreeFunction_cat\"]>=1.5), [\"DiabetesPedigreeFunction_cat\"]] =2\n",
    "\n",
    "    data_cat[\"Age_cat\"] = data[\"Age\"].copy()\n",
    "    data_cat.loc[(data_cat[\"Age_cat\"]>=20)&(data_cat[\"Age_cat\"]<30), [\"Age_cat\"]] =1\n",
    "    data_cat.loc[(data_cat[\"Age_cat\"]>=30)&(data_cat[\"Age_cat\"]<40), [\"Age_cat\"]] =2\n",
    "    data_cat.loc[(data_cat[\"Age_cat\"]>=40)&(data_cat[\"Age_cat\"]<60), [\"Age_cat\"]] =3\n",
    "    data_cat.loc[(data_cat[\"Age_cat\"]>=60), [\"Age_cat\"]] =4\n",
    "    \n",
    "    return data_cat\n",
    "\n",
    "new_feature_data = creat_cat_feature(data)"
   ]
  },
  {
   "cell_type": "code",
   "execution_count": 20,
   "metadata": {
    "ExecuteTime": {
     "end_time": "2018-02-08T13:48:51.062641Z",
     "start_time": "2018-02-08T13:48:51.049874Z"
    }
   },
   "outputs": [],
   "source": [
    "from sklearn.preprocessing import OneHotEncoder\n",
    "\n",
    "encode = OneHotEncoder()\n",
    "encode.fit(new_feature_data)\n",
    "\n",
    "new_feature_data = encode.transform(new_feature_data).toarray()"
   ]
  },
  {
   "cell_type": "code",
   "execution_count": 23,
   "metadata": {},
   "outputs": [
    {
     "data": {
      "text/plain": [
       "(767, 22)"
      ]
     },
     "execution_count": 23,
     "metadata": {},
     "output_type": "execute_result"
    }
   ],
   "source": [
    "new_feature_data.shape"
   ]
  },
  {
   "cell_type": "code",
   "execution_count": 21,
   "metadata": {
    "ExecuteTime": {
     "end_time": "2018-02-08T13:48:51.109670Z",
     "start_time": "2018-02-08T13:48:51.064640Z"
    }
   },
   "outputs": [],
   "source": [
    "def creat_new_feature(data):\n",
    "    # 加强易导致肥胖的因素\n",
    "    data[\"Insulin*Glucose\"] = data[\"Insulin\"] * data[\"Glucose\"]\n",
    "    data[\"SkinThickness*BMI\"] = data[\"SkinThickness\"] * data[\"BMI\"]\n",
    "    # 加强妊娠型糖尿病的因素\n",
    "    data[\"Pregnancies**3\"] = data[\"Pregnancies\"] **3\n",
    "    return data\n",
    "\n",
    "data = creat_new_feature(data)"
   ]
  },
  {
   "cell_type": "code",
   "execution_count": 24,
   "metadata": {},
   "outputs": [
    {
     "data": {
      "text/html": [
       "<div>\n",
       "<style scoped>\n",
       "    .dataframe tbody tr th:only-of-type {\n",
       "        vertical-align: middle;\n",
       "    }\n",
       "\n",
       "    .dataframe tbody tr th {\n",
       "        vertical-align: top;\n",
       "    }\n",
       "\n",
       "    .dataframe thead th {\n",
       "        text-align: right;\n",
       "    }\n",
       "</style>\n",
       "<table border=\"1\" class=\"dataframe\">\n",
       "  <thead>\n",
       "    <tr style=\"text-align: right;\">\n",
       "      <th></th>\n",
       "      <th>Pregnancies</th>\n",
       "      <th>Glucose</th>\n",
       "      <th>BloodPressure</th>\n",
       "      <th>SkinThickness</th>\n",
       "      <th>Insulin</th>\n",
       "      <th>BMI</th>\n",
       "      <th>DiabetesPedigreeFunction</th>\n",
       "      <th>Age</th>\n",
       "      <th>Outcome</th>\n",
       "      <th>Insulin*Glucose</th>\n",
       "      <th>SkinThickness*BMI</th>\n",
       "      <th>Pregnancies**3</th>\n",
       "    </tr>\n",
       "  </thead>\n",
       "  <tbody>\n",
       "    <tr>\n",
       "      <th>0</th>\n",
       "      <td>6.0</td>\n",
       "      <td>148.0</td>\n",
       "      <td>72.0</td>\n",
       "      <td>35.0</td>\n",
       "      <td>125.0</td>\n",
       "      <td>33.6</td>\n",
       "      <td>0.627</td>\n",
       "      <td>50</td>\n",
       "      <td>1.0</td>\n",
       "      <td>18500.0</td>\n",
       "      <td>1176.0</td>\n",
       "      <td>216.0</td>\n",
       "    </tr>\n",
       "    <tr>\n",
       "      <th>1</th>\n",
       "      <td>1.0</td>\n",
       "      <td>85.0</td>\n",
       "      <td>66.0</td>\n",
       "      <td>29.0</td>\n",
       "      <td>125.0</td>\n",
       "      <td>26.6</td>\n",
       "      <td>0.351</td>\n",
       "      <td>31</td>\n",
       "      <td>0.0</td>\n",
       "      <td>10625.0</td>\n",
       "      <td>771.4</td>\n",
       "      <td>1.0</td>\n",
       "    </tr>\n",
       "    <tr>\n",
       "      <th>2</th>\n",
       "      <td>8.0</td>\n",
       "      <td>183.0</td>\n",
       "      <td>64.0</td>\n",
       "      <td>29.0</td>\n",
       "      <td>125.0</td>\n",
       "      <td>23.3</td>\n",
       "      <td>0.672</td>\n",
       "      <td>32</td>\n",
       "      <td>1.0</td>\n",
       "      <td>22875.0</td>\n",
       "      <td>675.7</td>\n",
       "      <td>512.0</td>\n",
       "    </tr>\n",
       "    <tr>\n",
       "      <th>3</th>\n",
       "      <td>1.0</td>\n",
       "      <td>89.0</td>\n",
       "      <td>66.0</td>\n",
       "      <td>23.0</td>\n",
       "      <td>94.0</td>\n",
       "      <td>28.1</td>\n",
       "      <td>0.167</td>\n",
       "      <td>21</td>\n",
       "      <td>0.0</td>\n",
       "      <td>8366.0</td>\n",
       "      <td>646.3</td>\n",
       "      <td>1.0</td>\n",
       "    </tr>\n",
       "    <tr>\n",
       "      <th>4</th>\n",
       "      <td>0.0</td>\n",
       "      <td>137.0</td>\n",
       "      <td>40.0</td>\n",
       "      <td>35.0</td>\n",
       "      <td>168.0</td>\n",
       "      <td>43.1</td>\n",
       "      <td>2.288</td>\n",
       "      <td>33</td>\n",
       "      <td>1.0</td>\n",
       "      <td>23016.0</td>\n",
       "      <td>1508.5</td>\n",
       "      <td>0.0</td>\n",
       "    </tr>\n",
       "  </tbody>\n",
       "</table>\n",
       "</div>"
      ],
      "text/plain": [
       "   Pregnancies  Glucose  BloodPressure  SkinThickness  Insulin   BMI  \\\n",
       "0          6.0    148.0           72.0           35.0    125.0  33.6   \n",
       "1          1.0     85.0           66.0           29.0    125.0  26.6   \n",
       "2          8.0    183.0           64.0           29.0    125.0  23.3   \n",
       "3          1.0     89.0           66.0           23.0     94.0  28.1   \n",
       "4          0.0    137.0           40.0           35.0    168.0  43.1   \n",
       "\n",
       "   DiabetesPedigreeFunction  Age  Outcome  Insulin*Glucose  SkinThickness*BMI  \\\n",
       "0                     0.627   50      1.0          18500.0             1176.0   \n",
       "1                     0.351   31      0.0          10625.0              771.4   \n",
       "2                     0.672   32      1.0          22875.0              675.7   \n",
       "3                     0.167   21      0.0           8366.0              646.3   \n",
       "4                     2.288   33      1.0          23016.0             1508.5   \n",
       "\n",
       "   Pregnancies**3  \n",
       "0           216.0  \n",
       "1             1.0  \n",
       "2           512.0  \n",
       "3             1.0  \n",
       "4             0.0  "
      ]
     },
     "execution_count": 24,
     "metadata": {},
     "output_type": "execute_result"
    }
   ],
   "source": [
    "data.head()"
   ]
  },
  {
   "cell_type": "raw",
   "metadata": {
    "ExecuteTime": {
     "end_time": "2018-02-08T13:48:54.324800Z",
     "start_time": "2018-02-08T13:48:51.112672Z"
    }
   },
   "source": [
    "data2=train[[\"Insulin*Glucose\", \"SkinThickness*BMI\"\n",
    "            , \"Pregnancies**3\", \"Outcome\"]]\n",
    "sns.pairplot(data2, hue=\"Outcome\", size=4)"
   ]
  },
  {
   "cell_type": "markdown",
   "metadata": {},
   "source": [
    "# 模型选择"
   ]
  },
  {
   "cell_type": "markdown",
   "metadata": {
    "ExecuteTime": {
     "end_time": "2018-02-03T08:15:12.103162Z",
     "start_time": "2018-02-03T08:14:12.298Z"
    },
    "collapsed": true
   },
   "source": [
    "## 标准化"
   ]
  },
  {
   "cell_type": "code",
   "execution_count": 25,
   "metadata": {
    "ExecuteTime": {
     "end_time": "2018-02-08T13:48:54.338808Z",
     "start_time": "2018-02-08T13:48:54.326802Z"
    }
   },
   "outputs": [],
   "source": [
    "from sklearn.preprocessing import StandardScaler\n",
    "SS = StandardScaler()\n",
    "y_data = data[\"Outcome\"]\n",
    "\n",
    "data = SS.fit_transform(data.drop(\"Outcome\",axis=1))"
   ]
  },
  {
   "cell_type": "code",
   "execution_count": 28,
   "metadata": {},
   "outputs": [
    {
     "data": {
      "text/plain": [
       "(767, 11)"
      ]
     },
     "execution_count": 28,
     "metadata": {},
     "output_type": "execute_result"
    }
   ],
   "source": [
    "data.shape"
   ]
  },
  {
   "cell_type": "code",
   "execution_count": 29,
   "metadata": {
    "ExecuteTime": {
     "end_time": "2018-02-08T13:48:54.359823Z",
     "start_time": "2018-02-08T13:48:54.340810Z"
    }
   },
   "outputs": [
    {
     "data": {
      "text/plain": [
       "array([ 0.64177542,  0.86541146, -0.0305271 ,  0.67018981, -0.18166345,\n",
       "        0.16577951,  0.46747518,  1.42467039,  0.01806341,  0.44254644,\n",
       "       -0.01214149,  0.        ,  0.        ,  1.        ,  0.        ,\n",
       "        0.        ,  0.        ,  1.        ,  0.        ,  1.        ,\n",
       "        0.        ,  1.        ,  0.        ,  0.        ,  0.        ,\n",
       "        1.        ,  0.        ,  1.        ,  0.        ,  0.        ,\n",
       "        0.        ,  1.        ,  0.        ])"
      ]
     },
     "execution_count": 29,
     "metadata": {},
     "output_type": "execute_result"
    }
   ],
   "source": [
    "X_data = np.concatenate((data, new_feature_data), axis=1)\n",
    "#X_data = data\n",
    "X_data[0]\n",
    "#data.values[0]"
   ]
  },
  {
   "cell_type": "markdown",
   "metadata": {},
   "source": [
    "# 分割数据"
   ]
  },
  {
   "cell_type": "code",
   "execution_count": 30,
   "metadata": {},
   "outputs": [],
   "source": [
    "from sklearn.model_selection import train_test_split"
   ]
  },
  {
   "cell_type": "code",
   "execution_count": 31,
   "metadata": {},
   "outputs": [],
   "source": [
    "X_train, X_test, y_train, y_test = train_test_split(data, y_data, test_size=0.2, random_state=42)"
   ]
  },
  {
   "cell_type": "code",
   "execution_count": 35,
   "metadata": {},
   "outputs": [
    {
     "data": {
      "text/plain": [
       "((613, 11), (154, 11))"
      ]
     },
     "execution_count": 35,
     "metadata": {},
     "output_type": "execute_result"
    }
   ],
   "source": [
    "X_train.shape, X_test.shape"
   ]
  },
  {
   "cell_type": "markdown",
   "metadata": {},
   "source": [
    "## Logistic回归默认"
   ]
  },
  {
   "cell_type": "code",
   "execution_count": 36,
   "metadata": {
    "ExecuteTime": {
     "end_time": "2018-02-08T13:48:54.372832Z",
     "start_time": "2018-02-08T13:48:54.361825Z"
    }
   },
   "outputs": [],
   "source": [
    "from sklearn.linear_model import LogisticRegression\n",
    "lr= LogisticRegression()"
   ]
  },
  {
   "cell_type": "code",
   "execution_count": 38,
   "metadata": {
    "ExecuteTime": {
     "end_time": "2018-02-08T13:48:54.418862Z",
     "start_time": "2018-02-08T13:48:54.374834Z"
    }
   },
   "outputs": [
    {
     "name": "stdout",
     "output_type": "stream",
     "text": [
      "logloss of each fold is:  [0.52873762 0.50610857 0.41185782 0.53059317 0.45415582]\n",
      "cv logloss is: 0.48629060034866045\n"
     ]
    }
   ],
   "source": [
    "from sklearn.model_selection import cross_val_score\n",
    "loss = cross_val_score(lr, X_train, y_train, cv=5, scoring='neg_log_loss')\n",
    "print('logloss of each fold is: ',-loss)\n",
    "print('cv logloss is:', -loss.mean())"
   ]
  },
  {
   "cell_type": "markdown",
   "metadata": {},
   "source": [
    "## Logistic回归调优"
   ]
  },
  {
   "cell_type": "markdown",
   "metadata": {},
   "source": [
    "GridSearchCV, 直接暴力搜索"
   ]
  },
  {
   "cell_type": "code",
   "execution_count": 40,
   "metadata": {
    "ExecuteTime": {
     "end_time": "2018-02-08T13:48:55.233402Z",
     "start_time": "2018-02-08T13:48:54.420863Z"
    }
   },
   "outputs": [
    {
     "data": {
      "text/plain": [
       "GridSearchCV(cv=5, error_score='raise',\n",
       "       estimator=LogisticRegression(C=1.0, class_weight=None, dual=False, fit_intercept=True,\n",
       "          intercept_scaling=1, max_iter=100, multi_class='ovr', n_jobs=1,\n",
       "          penalty='l2', random_state=None, solver='liblinear', tol=0.0001,\n",
       "          verbose=0, warm_start=False),\n",
       "       fit_params=None, iid=True, n_jobs=1,\n",
       "       param_grid={'penalty': ['l1', 'l2'], 'C': [0.001, 0.01, 0.1, 1, 10, 100, 1000]},\n",
       "       pre_dispatch='2*n_jobs', refit=True, return_train_score=True,\n",
       "       scoring='neg_log_loss', verbose=0)"
      ]
     },
     "execution_count": 40,
     "metadata": {},
     "output_type": "execute_result"
    }
   ],
   "source": [
    "from sklearn.model_selection import GridSearchCV\n",
    "from sklearn.linear_model import LogisticRegression\n",
    "\n",
    "#需要调优的参数\n",
    "# 请尝试将L1正则和L2正则分开，并配合合适的优化求解算法（slover）\n",
    "#tuned_parameters = {'penalty':['l1','l2'],\n",
    "#                   'C': [0.001, 0.01, 0.1, 1, 10, 100, 1000]\n",
    "#                   }\n",
    "penaltys = ['l1','l2']\n",
    "Cs = [0.001, 0.01, 0.1, 1, 10, 100, 1000]\n",
    "tuned_parameters = dict(penalty = penaltys, C = Cs)\n",
    "\n",
    "lr_penalty= LogisticRegression()\n",
    "grid= GridSearchCV(lr_penalty, tuned_parameters,cv=5, scoring='neg_log_loss', return_train_score=True)\n",
    "grid.fit(X_train,y_train)"
   ]
  },
  {
   "cell_type": "code",
   "execution_count": 41,
   "metadata": {
    "ExecuteTime": {
     "end_time": "2018-02-08T13:48:55.259418Z",
     "start_time": "2018-02-08T13:48:55.235405Z"
    },
    "scrolled": true
   },
   "outputs": [
    {
     "data": {
      "text/plain": [
       "{'mean_fit_time': array([0.0013988 , 0.00119915, 0.00139947, 0.00179796, 0.00219874,\n",
       "        0.00179873, 0.        , 0.        , 0.00536499, 0.00483003,\n",
       "        0.01011434, 0.0012342 , 0.00969262, 0.00363259]),\n",
       " 'std_fit_time': array([4.89492748e-04, 3.99637293e-04, 4.89239651e-04, 3.99376538e-04,\n",
       "        3.99807424e-04, 3.99756528e-04, 0.00000000e+00, 0.00000000e+00,\n",
       "        3.77877273e-03, 3.94372257e-03, 2.27304827e-05, 1.00776535e-03,\n",
       "        8.13232184e-04, 3.69244237e-03]),\n",
       " 'mean_score_time': array([0.0010004 , 0.00139899, 0.00119886, 0.00099959, 0.0011991 ,\n",
       "        0.00099888, 0.        , 0.        , 0.00514741, 0.00081272,\n",
       "        0.        , 0.        , 0.00202184, 0.00081692]),\n",
       " 'std_score_time': array([1.17770090e-06, 4.89434272e-04, 3.99422912e-04, 1.78798039e-06,\n",
       "        4.00257139e-04, 9.12243198e-07, 0.00000000e+00, 0.00000000e+00,\n",
       "        6.01539049e-03, 9.95395385e-04, 0.00000000e+00, 0.00000000e+00,\n",
       "        3.11523040e-03, 1.00062678e-03]),\n",
       " 'param_C': masked_array(data=[0.001, 0.001, 0.01, 0.01, 0.1, 0.1, 1, 1, 10, 10, 100,\n",
       "                    100, 1000, 1000],\n",
       "              mask=[False, False, False, False, False, False, False, False,\n",
       "                    False, False, False, False, False, False],\n",
       "        fill_value='?',\n",
       "             dtype=object),\n",
       " 'param_penalty': masked_array(data=['l1', 'l2', 'l1', 'l2', 'l1', 'l2', 'l1', 'l2', 'l1',\n",
       "                    'l2', 'l1', 'l2', 'l1', 'l2'],\n",
       "              mask=[False, False, False, False, False, False, False, False,\n",
       "                    False, False, False, False, False, False],\n",
       "        fill_value='?',\n",
       "             dtype=object),\n",
       " 'params': [{'C': 0.001, 'penalty': 'l1'},\n",
       "  {'C': 0.001, 'penalty': 'l2'},\n",
       "  {'C': 0.01, 'penalty': 'l1'},\n",
       "  {'C': 0.01, 'penalty': 'l2'},\n",
       "  {'C': 0.1, 'penalty': 'l1'},\n",
       "  {'C': 0.1, 'penalty': 'l2'},\n",
       "  {'C': 1, 'penalty': 'l1'},\n",
       "  {'C': 1, 'penalty': 'l2'},\n",
       "  {'C': 10, 'penalty': 'l1'},\n",
       "  {'C': 10, 'penalty': 'l2'},\n",
       "  {'C': 100, 'penalty': 'l1'},\n",
       "  {'C': 100, 'penalty': 'l2'},\n",
       "  {'C': 1000, 'penalty': 'l1'},\n",
       "  {'C': 1000, 'penalty': 'l2'}],\n",
       " 'split0_test_score': array([-0.69314718, -0.63981162, -0.667923  , -0.5632243 , -0.52676413,\n",
       "        -0.53063197, -0.52948244, -0.52873762, -0.53148464, -0.53140365,\n",
       "        -0.53229075, -0.53228422, -0.53238354, -0.53238898]),\n",
       " 'split1_test_score': array([-0.69314718, -0.63092382, -0.66804302, -0.53979537, -0.49908898,\n",
       "        -0.50814661, -0.50699094, -0.50610857, -0.50871279, -0.50801765,\n",
       "        -0.50975096, -0.50967751, -0.50985004, -0.50991605]),\n",
       " 'split2_test_score': array([-0.69314718, -0.614206  , -0.67643277, -0.47872467, -0.43283175,\n",
       "        -0.41936363, -0.41257668, -0.41185782, -0.41009628, -0.41011365,\n",
       "        -0.40985021, -0.40984113, -0.40982988, -0.40981395]),\n",
       " 'split3_test_score': array([-0.69314718, -0.62936513, -0.66857543, -0.54108185, -0.51551628,\n",
       "        -0.52660582, -0.53204278, -0.53059317, -0.52847952, -0.52808436,\n",
       "        -0.5275907 , -0.5275368 , -0.52754417, -0.52747684]),\n",
       " 'split4_test_score': array([-0.69314718, -0.61887071, -0.67047188, -0.49777117, -0.45577222,\n",
       "        -0.45313155, -0.45128288, -0.45415582, -0.46054417, -0.46022072,\n",
       "        -0.46202076, -0.46199138, -0.46217854, -0.46220173]),\n",
       " 'mean_test_score': array([-0.69314718, -0.62664367, -0.67029172, -0.52413478, -0.48599581,\n",
       "        -0.48756843, -0.48645822, -0.48627075, -0.48784179, -0.48754652,\n",
       "        -0.48827945, -0.48824501, -0.48833601, -0.48833837]),\n",
       " 'std_test_score': array([0.        , 0.0091108 , 0.0032094 , 0.03106532, 0.03592018,\n",
       "        0.04392947, 0.04702215, 0.04634798, 0.04646907, 0.04635491,\n",
       "        0.04647799, 0.04646725, 0.04648617, 0.04648486]),\n",
       " 'rank_test_score': array([14, 12, 13, 11,  1,  5,  3,  2,  6,  4,  8,  7,  9, 10]),\n",
       " 'split0_train_score': array([-0.69314718, -0.61804146, -0.66394204, -0.50381382, -0.46315837,\n",
       "        -0.45887628, -0.45481157, -0.45228752, -0.45086851, -0.45085129,\n",
       "        -0.45079788, -0.45079756, -0.45079695, -0.4507969 ]),\n",
       " 'split1_train_score': array([-0.69314718, -0.62229579, -0.66317551, -0.50917284, -0.46925882,\n",
       "        -0.46249574, -0.45815747, -0.45662476, -0.45501899, -0.45503372,\n",
       "        -0.45493523, -0.45493545, -0.45493415, -0.45493401]),\n",
       " 'split2_train_score': array([-0.69314718, -0.63088452, -0.68010059, -0.52858441, -0.49011897,\n",
       "        -0.4839518 , -0.47984107, -0.47791049, -0.47688523, -0.47685833,\n",
       "        -0.47682129, -0.47682076, -0.47682047, -0.4768204 ]),\n",
       " 'split3_train_score': array([-0.69314718, -0.62266755, -0.66754403, -0.50707846, -0.46501403,\n",
       "        -0.45670159, -0.45203866, -0.45120103, -0.4503959 , -0.45035934,\n",
       "        -0.45032816, -0.45032756, -0.4503274 , -0.45032717]),\n",
       " 'split4_train_score': array([-0.69314718, -0.62816909, -0.67201647, -0.52149495, -0.48248872,\n",
       "        -0.47427766, -0.4696385 , -0.46661117, -0.46450986, -0.46453356,\n",
       "        -0.46444482, -0.46444507, -0.46444399, -0.46444395]),\n",
       " 'mean_train_score': array([-0.69314718, -0.62441168, -0.66935573, -0.5140289 , -0.47400778,\n",
       "        -0.46726061, -0.46289745, -0.46092699, -0.4595357 , -0.45952725,\n",
       "        -0.45946548, -0.45946528, -0.45946459, -0.45946449]),\n",
       " 'std_train_score': array([0.        , 0.00456321, 0.00621799, 0.00942171, 0.01051329,\n",
       "        0.01031822, 0.01037584, 0.01008457, 0.01004794, 0.01004932,\n",
       "        0.01005146, 0.01005144, 0.01005149, 0.01005153])}"
      ]
     },
     "execution_count": 41,
     "metadata": {},
     "output_type": "execute_result"
    }
   ],
   "source": [
    "grid.cv_results_"
   ]
  },
  {
   "cell_type": "code",
   "execution_count": 42,
   "metadata": {
    "ExecuteTime": {
     "end_time": "2018-02-08T13:48:55.268424Z",
     "start_time": "2018-02-08T13:48:55.261420Z"
    }
   },
   "outputs": [
    {
     "name": "stdout",
     "output_type": "stream",
     "text": [
      "0.4859958133924379\n",
      "{'C': 0.1, 'penalty': 'l1'}\n"
     ]
    }
   ],
   "source": [
    "print(-grid.best_score_)\n",
    "print(grid.best_params_)"
   ]
  },
  {
   "cell_type": "markdown",
   "metadata": {},
   "source": [
    "最好的是L2正则, 对应的C=0.1, λ=1/C=10, 说明模型还是有一定的复杂度的.\n",
    "加正则后的best_score_=0.454345290494, 对比默认的0.45642415636稍微好一点"
   ]
  },
  {
   "cell_type": "code",
   "execution_count": 43,
   "metadata": {
    "ExecuteTime": {
     "end_time": "2018-02-08T13:48:55.531588Z",
     "start_time": "2018-02-08T13:48:55.270425Z"
    }
   },
   "outputs": [
    {
     "data": {
      "image/png": "[encoded data removed]",
      "text/plain": [
       "<Figure size 432x288 with 1 Axes>"
      ]
     },
     "metadata": {},
     "output_type": "display_data"
    }
   ],
   "source": [
    "# plot CV误差曲线\n",
    "test_means = grid.cv_results_[ 'mean_test_score' ]\n",
    "test_stds = grid.cv_results_[ 'std_test_score' ]\n",
    "train_means = grid.cv_results_[ 'mean_train_score' ]\n",
    "train_stds = grid.cv_results_[ 'std_train_score' ]\n",
    "\n",
    "\n",
    "# plot results\n",
    "n_Cs = len(Cs)\n",
    "number_penaltys = len(penaltys)\n",
    "test_scores = np.array(test_means).reshape(n_Cs,number_penaltys)\n",
    "train_scores = np.array(train_means).reshape(n_Cs,number_penaltys)\n",
    "test_stds = np.array(test_stds).reshape(n_Cs,number_penaltys)\n",
    "train_stds = np.array(train_stds).reshape(n_Cs,number_penaltys)\n",
    "\n",
    "x_axis = np.log10(Cs)\n",
    "for i, value in enumerate(penaltys):\n",
    "    #pyplot.plot(log(Cs), test_scores[i], label= 'penalty:'   + str(value))\n",
    "    plt.errorbar(x_axis, test_scores[:,i], yerr=test_stds[:,i] ,label = penaltys[i] +' Test')\n",
    "    plt.errorbar(x_axis, train_scores[:,i], yerr=train_stds[:,i] ,label = penaltys[i] +' Train')\n",
    "    \n",
    "plt.legend()\n",
    "plt.xlabel( 'log(C)' )                                                                                                      \n",
    "plt.ylabel( 'neg-logloss' )\n",
    "#plt.savefig('LogisticGridSearchCV_C.png' )\n",
    "\n",
    "plt.show()# plot CV误差曲线\n"
   ]
  },
  {
   "cell_type": "markdown",
   "metadata": {},
   "source": [
    "## SVC_linear"
   ]
  },
  {
   "cell_type": "code",
   "execution_count": 45,
   "metadata": {
    "ExecuteTime": {
     "end_time": "2018-02-08T14:33:22.797536Z",
     "start_time": "2018-02-08T14:29:15.405981Z"
    }
   },
   "outputs": [
    {
     "data": {
      "text/plain": [
       "GridSearchCV(cv=5, error_score='raise',\n",
       "       estimator=SVC(C=1.0, cache_size=200, class_weight=None, coef0=0.0,\n",
       "  decision_function_shape='ovr', degree=3, gamma='auto', kernel='linear',\n",
       "  max_iter=-1, probability=True, random_state=None, shrinking=True,\n",
       "  tol=0.001, verbose=False),\n",
       "       fit_params=None, iid=True, n_jobs=-1,\n",
       "       param_grid={'C': [0.001, 0.01, 0.1, 1, 10, 100, 1000]},\n",
       "       pre_dispatch='2*n_jobs', refit=True, return_train_score=True,\n",
       "       scoring='neg_log_loss', verbose=0)"
      ]
     },
     "execution_count": 45,
     "metadata": {},
     "output_type": "execute_result"
    }
   ],
   "source": [
    "from sklearn.model_selection import GridSearchCV\n",
    "from sklearn.svm import SVC\n",
    "\n",
    "#需要调优的参数\n",
    "# 请尝试将L1正则和L2正则分开，并配合合适的优化求解算法（slover）\n",
    "#tuned_parameters = {'penalty':['l1','l2'],\n",
    "#                   'C': [0.001, 0.01, 0.1, 1, 10, 100, 1000]\n",
    "#                   }\n",
    "\n",
    "\n",
    "Cs = [0.001, 0.01, 0.1, 1, 10, 100, 1000]\n",
    "\n",
    "tuned_parameters = dict(C = Cs)\n",
    "\n",
    "lrSVC_penalty= SVC(kernel='linear',probability=True)\n",
    "\n",
    "grid= GridSearchCV(lrSVC_penalty, param_grid=tuned_parameters, cv=5, scoring='neg_log_loss', \n",
    "                   return_train_score=True, n_jobs=-1)\n",
    "grid.fit(X_train,y_train)"
   ]
  },
  {
   "cell_type": "code",
   "execution_count": 46,
   "metadata": {
    "ExecuteTime": {
     "end_time": "2018-02-08T14:34:46.942440Z",
     "start_time": "2018-02-08T14:34:46.925429Z"
    },
    "scrolled": true
   },
   "outputs": [
    {
     "data": {
      "text/plain": [
       "{'mean_fit_time': array([2.33251572e-02, 3.51619244e-02, 3.77669334e-02, 8.31617832e-02,\n",
       "        4.16519594e-01, 3.65575852e+00, 3.26862243e+01]),\n",
       " 'std_fit_time': array([5.00810769e-03, 3.19485155e-03, 0.00000000e+00, 5.25425560e-03,\n",
       "        8.51011254e-02, 7.26367993e-01, 3.96201395e+00]),\n",
       " 'mean_score_time': array([0.00039983, 0.00937443, 0.        , 0.00080652, 0.00561376,\n",
       "        0.00220318, 0.00041351]),\n",
       " 'std_score_time': array([0.00079966, 0.00765419, 0.        , 0.00098778, 0.00464127,\n",
       "        0.0031303 , 0.00082703]),\n",
       " 'param_C': masked_array(data=[0.001, 0.01, 0.1, 1, 10, 100, 1000],\n",
       "              mask=[False, False, False, False, False, False, False],\n",
       "        fill_value='?',\n",
       "             dtype=object),\n",
       " 'params': [{'C': 0.001},\n",
       "  {'C': 0.01},\n",
       "  {'C': 0.1},\n",
       "  {'C': 1},\n",
       "  {'C': 10},\n",
       "  {'C': 100},\n",
       "  {'C': 1000}],\n",
       " 'split0_test_score': array([-0.60201047, -0.54894409, -0.54012344, -0.53744823, -0.53691148,\n",
       "        -0.53806126, -0.53904696]),\n",
       " 'split1_test_score': array([-0.63080218, -0.51495983, -0.50194833, -0.50394509, -0.50253738,\n",
       "        -0.50544422, -0.50474116]),\n",
       " 'split2_test_score': array([-0.42022599, -0.41983331, -0.42658748, -0.42371542, -0.43103244,\n",
       "        -0.428728  , -0.42782206]),\n",
       " 'split3_test_score': array([-0.5391018 , -0.52341102, -0.53209429, -0.52917731, -0.5273614 ,\n",
       "        -0.528231  , -0.52810357]),\n",
       " 'split4_test_score': array([-0.44063547, -0.44673316, -0.45154853, -0.45543636, -0.46082605,\n",
       "        -0.46371077, -0.46321995]),\n",
       " 'mean_test_score': array([-0.52667488, -0.49079489, -0.49045597, -0.48993677, -0.49172605,\n",
       "        -0.49282482, -0.49257671]),\n",
       " 'std_test_score': array([0.08421449, 0.04903208, 0.04456803, 0.04376732, 0.04018752,\n",
       "        0.04105004, 0.04155819]),\n",
       " 'rank_test_score': array([7, 3, 2, 1, 4, 6, 5]),\n",
       " 'split0_train_score': array([-0.49645602, -0.46341618, -0.45777632, -0.45501918, -0.45509574,\n",
       "        -0.4548412 , -0.45454588]),\n",
       " 'split1_train_score': array([-0.49252117, -0.46747644, -0.46193062, -0.46050191, -0.45955384,\n",
       "        -0.45864122, -0.4596169 ]),\n",
       " 'split2_train_score': array([-0.51155414, -0.49076935, -0.48713559, -0.48456117, -0.48653894,\n",
       "        -0.48565261, -0.48524092]),\n",
       " 'split3_train_score': array([-0.47757094, -0.46417122, -0.45708273, -0.45935437, -0.46143538,\n",
       "        -0.46121857, -0.4631798 ]),\n",
       " 'split4_train_score': array([-0.50235647, -0.48555505, -0.473326  , -0.47092591, -0.46978474,\n",
       "        -0.47200736, -0.47148855]),\n",
       " 'mean_train_score': array([-0.49609175, -0.47427765, -0.46745025, -0.46607251, -0.46648173,\n",
       "        -0.46647219, -0.46681441]),\n",
       " 'std_train_score': array([0.01126263, 0.0115371 , 0.01143306, 0.01061816, 0.01110228,\n",
       "        0.01116003, 0.01074165])}"
      ]
     },
     "execution_count": 46,
     "metadata": {},
     "output_type": "execute_result"
    }
   ],
   "source": [
    "grid.cv_results_"
   ]
  },
  {
   "cell_type": "code",
   "execution_count": 47,
   "metadata": {
    "ExecuteTime": {
     "end_time": "2018-02-08T14:35:18.382323Z",
     "start_time": "2018-02-08T14:35:18.376319Z"
    }
   },
   "outputs": [
    {
     "name": "stdout",
     "output_type": "stream",
     "text": [
      "0.48993677479964953\n",
      "{'C': 1}\n"
     ]
    }
   ],
   "source": [
    "print(-grid.best_score_)\n",
    "print(grid.best_params_)"
   ]
  },
  {
   "cell_type": "markdown",
   "metadata": {},
   "source": [
    "## SVC_rbf"
   ]
  },
  {
   "cell_type": "code",
   "execution_count": 48,
   "metadata": {
    "ExecuteTime": {
     "end_time": "2018-02-08T14:40:32.699420Z",
     "start_time": "2018-02-08T14:40:14.047473Z"
    }
   },
   "outputs": [
    {
     "data": {
      "text/plain": [
       "GridSearchCV(cv=5, error_score='raise',\n",
       "       estimator=SVC(C=1.0, cache_size=200, class_weight=None, coef0=0.0,\n",
       "  decision_function_shape='ovr', degree=3, gamma='auto', kernel='rbf',\n",
       "  max_iter=-1, probability=True, random_state=None, shrinking=True,\n",
       "  tol=0.001, verbose=False),\n",
       "       fit_params=None, iid=True, n_jobs=1,\n",
       "       param_grid={'gamma': array([1.e-02, 1.e-01, 1.e+00, 1.e+01, 1.e+02]), 'C': array([1.e-01, 1.e+00, 1.e+01, 1.e+02, 1.e+03])},\n",
       "       pre_dispatch='2*n_jobs', refit=True, return_train_score=True,\n",
       "       scoring='neg_log_loss', verbose=0)"
      ]
     },
     "execution_count": 48,
     "metadata": {},
     "output_type": "execute_result"
    }
   ],
   "source": [
    "from sklearn.model_selection import GridSearchCV\n",
    "from sklearn.svm import SVC\n",
    "\n",
    "#需要调优的参数\n",
    "# 请尝试将L1正则和L2正则分开，并配合合适的优化求解算法（slover）\n",
    "#tuned_parameters = {'penalty':['l1','l2'],\n",
    "#                   'C': [0.001, 0.01, 0.1, 1, 10, 100, 1000]\n",
    "#                   }\n",
    "\n",
    "\n",
    "C_s = np.logspace(-1, 3, 5)# logspace(a,b,N)把10的a次方到10的b次方区间分成N份 \n",
    "gamma_s = np.logspace(-2, 2, 5) \n",
    "\n",
    "tuned_parameters = dict(gamma=gamma_s, C = C_s)\n",
    "\n",
    "lrSVC_penalty= SVC(kernel='rbf',probability=True)\n",
    "\n",
    "grid= GridSearchCV(lrSVC_penalty, param_grid=tuned_parameters, cv=5, scoring='neg_log_loss', return_train_score=True)\n",
    "grid.fit(X_train,y_train)"
   ]
  },
  {
   "cell_type": "code",
   "execution_count": 49,
   "metadata": {
    "ExecuteTime": {
     "end_time": "2018-02-08T14:40:32.732442Z",
     "start_time": "2018-02-08T14:40:32.701421Z"
    },
    "scrolled": true
   },
   "outputs": [
    {
     "data": {
      "text/plain": [
       "{'mean_fit_time': array([0.04416676, 0.04655089, 0.06517997, 0.09039707, 0.11389079,\n",
       "        0.04021363, 0.04638729, 0.07307467, 0.10027809, 0.11898189,\n",
       "        0.04355388, 0.05781889, 0.07755198, 0.12272248, 0.13452988,\n",
       "        0.07686687, 0.13091884, 0.07855144, 0.12572217, 0.13411684,\n",
       "        0.33159385, 0.2492137 , 0.082026  , 0.12947755, 0.13499794]),\n",
       " 'std_fit_time': array([0.00314219, 0.00423336, 0.00309574, 0.00287035, 0.00228756,\n",
       "        0.002728  , 0.00390935, 0.00340235, 0.00138647, 0.00390343,\n",
       "        0.00273708, 0.00172908, 0.00048951, 0.00231472, 0.00486779,\n",
       "        0.00576186, 0.00816809, 0.00101923, 0.00146867, 0.00213339,\n",
       "        0.02592476, 0.02656701, 0.0014307 , 0.00452087, 0.00148827]),\n",
       " 'mean_score_time': array([0.00161257, 0.00202394, 0.00400147, 0.00243955, 0.00689254,\n",
       "        0.00221028, 0.00247192, 0.00223126, 0.00423703, 0.00607405,\n",
       "        0.00161228, 0.00299788, 0.00359774, 0.00379806, 0.00599613,\n",
       "        0.00261159, 0.00239844, 0.00339789, 0.00399671, 0.00599661,\n",
       "        0.002599  , 0.0021986 , 0.00320692, 0.0039979 , 0.0060009 ]),\n",
       " 'std_score_time': array([1.35984827e-03, 3.11910293e-03, 2.53461973e-03, 3.92858596e-03,\n",
       "        3.02282567e-03, 3.14380692e-03, 3.00755744e-03, 1.17694509e-03,\n",
       "        4.16374551e-03, 4.23752001e-03, 1.35972012e-03, 5.00111031e-07,\n",
       "        4.89687339e-04, 3.99852520e-04, 4.67203091e-07, 4.73669579e-04,\n",
       "        4.89337053e-04, 4.89434783e-04, 9.12243198e-07, 9.36836372e-07,\n",
       "        4.89979520e-04, 3.99279776e-04, 3.96218149e-04, 6.32636529e-04,\n",
       "        1.05623467e-05]),\n",
       " 'param_C': masked_array(data=[0.1, 0.1, 0.1, 0.1, 0.1, 1.0, 1.0, 1.0, 1.0, 1.0, 10.0,\n",
       "                    10.0, 10.0, 10.0, 10.0, 100.0, 100.0, 100.0, 100.0,\n",
       "                    100.0, 1000.0, 1000.0, 1000.0, 1000.0, 1000.0],\n",
       "              mask=[False, False, False, False, False, False, False, False,\n",
       "                    False, False, False, False, False, False, False, False,\n",
       "                    False, False, False, False, False, False, False, False,\n",
       "                    False],\n",
       "        fill_value='?',\n",
       "             dtype=object),\n",
       " 'param_gamma': masked_array(data=[0.01, 0.1, 1.0, 10.0, 100.0, 0.01, 0.1, 1.0, 10.0,\n",
       "                    100.0, 0.01, 0.1, 1.0, 10.0, 100.0, 0.01, 0.1, 1.0,\n",
       "                    10.0, 100.0, 0.01, 0.1, 1.0, 10.0, 100.0],\n",
       "              mask=[False, False, False, False, False, False, False, False,\n",
       "                    False, False, False, False, False, False, False, False,\n",
       "                    False, False, False, False, False, False, False, False,\n",
       "                    False],\n",
       "        fill_value='?',\n",
       "             dtype=object),\n",
       " 'params': [{'C': 0.1, 'gamma': 0.01},\n",
       "  {'C': 0.1, 'gamma': 0.1},\n",
       "  {'C': 0.1, 'gamma': 1.0},\n",
       "  {'C': 0.1, 'gamma': 10.0},\n",
       "  {'C': 0.1, 'gamma': 100.0},\n",
       "  {'C': 1.0, 'gamma': 0.01},\n",
       "  {'C': 1.0, 'gamma': 0.1},\n",
       "  {'C': 1.0, 'gamma': 1.0},\n",
       "  {'C': 1.0, 'gamma': 10.0},\n",
       "  {'C': 1.0, 'gamma': 100.0},\n",
       "  {'C': 10.0, 'gamma': 0.01},\n",
       "  {'C': 10.0, 'gamma': 0.1},\n",
       "  {'C': 10.0, 'gamma': 1.0},\n",
       "  {'C': 10.0, 'gamma': 10.0},\n",
       "  {'C': 10.0, 'gamma': 100.0},\n",
       "  {'C': 100.0, 'gamma': 0.01},\n",
       "  {'C': 100.0, 'gamma': 0.1},\n",
       "  {'C': 100.0, 'gamma': 1.0},\n",
       "  {'C': 100.0, 'gamma': 10.0},\n",
       "  {'C': 100.0, 'gamma': 100.0},\n",
       "  {'C': 1000.0, 'gamma': 0.01},\n",
       "  {'C': 1000.0, 'gamma': 0.1},\n",
       "  {'C': 1000.0, 'gamma': 1.0},\n",
       "  {'C': 1000.0, 'gamma': 10.0},\n",
       "  {'C': 1000.0, 'gamma': 100.0}],\n",
       " 'split0_test_score': array([-0.59875611, -0.54768803, -0.60407806, -0.6503667 , -0.6472228 ,\n",
       "        -0.54134402, -0.52890014, -0.59269919, -0.64940824, -0.64722262,\n",
       "        -0.54558271, -0.53632388, -0.58801723, -0.65128689, -0.64720679,\n",
       "        -0.53790898, -0.59825902, -0.5893013 , -0.6518814 , -0.64720813,\n",
       "        -0.57341131, -0.61381187, -0.59055095, -0.65047453, -0.64721677]),\n",
       " 'split1_test_score': array([-0.53642747, -0.50545048, -0.5775464 , -0.6472215 , -0.64722243,\n",
       "        -0.49157105, -0.49412783, -0.58344884, -0.6473122 , -0.64722086,\n",
       "        -0.48419623, -0.53211955, -0.58692133, -0.647249  , -0.64720828,\n",
       "        -0.49812844, -0.58422471, -0.58521879, -0.64770663, -0.6472095 ,\n",
       "        -0.57657407, -0.57401245, -0.5887494 , -0.6475232 , -0.64722373]),\n",
       " 'split2_test_score': array([-0.41905991, -0.4332257 , -0.57359479, -0.64852817, -0.64722237,\n",
       "        -0.42728024, -0.45022781, -0.55759964, -0.64730019, -0.64722173,\n",
       "        -0.4361503 , -0.51581638, -0.58793071, -0.64651146, -0.64722255,\n",
       "        -0.4869577 , -0.56918689, -0.58798487, -0.64759504, -0.64721332,\n",
       "        -0.53723168, -0.5755837 , -0.58679498, -0.64750942, -0.64722099]),\n",
       " 'split3_test_score': array([-0.55325524, -0.57627293, -0.58540981, -0.65219073, -0.64895561,\n",
       "        -0.53818314, -0.5886403 , -0.58816815, -0.65306016, -0.64895559,\n",
       "        -0.53958488, -0.5777081 , -0.56812748, -0.65385669, -0.64896075,\n",
       "        -0.60697283, -0.57238198, -0.56800899, -0.65469257, -0.6489573 ,\n",
       "        -0.66175334, -0.57194292, -0.56792402, -0.65530998, -0.64896248]),\n",
       " 'split4_test_score': array([-0.44579965, -0.46307395, -0.52726754, -0.6485905 , -0.6489556 ,\n",
       "        -0.44292546, -0.45651262, -0.51847323, -0.64861119, -0.64895685,\n",
       "        -0.44763719, -0.50724605, -0.54595407, -0.64860682, -0.64896168,\n",
       "        -0.44560667, -0.55473426, -0.54891666, -0.648605  , -0.64895604,\n",
       "        -0.52398667, -0.54667728, -0.54706922, -0.64859244, -0.64895868]),\n",
       " 'mean_test_score': array([-0.510696  , -0.50509481, -0.57363557, -0.64937622, -0.64791237,\n",
       "        -0.4882533 , -0.50362009, -0.56812596, -0.64913286, -0.64791214,\n",
       "        -0.49062054, -0.53381462, -0.57545003, -0.64949653, -0.64790859,\n",
       "        -0.51507846, -0.57579717, -0.57594297, -0.65009106, -0.64790544,\n",
       "        -0.57453177, -0.57646142, -0.57627879, -0.64987516, -0.64791312]),\n",
       " 'std_test_score': array([0.06761963, 0.0525374 , 0.02538717, 0.001724  , 0.00084833,\n",
       "        0.04710426, 0.0509763 , 0.02758836, 0.00211615, 0.00084902,\n",
       "        0.04532789, 0.0243057 , 0.0165279 , 0.00271768, 0.00085598,\n",
       "        0.05442516, 0.01465849, 0.01549397, 0.00277266, 0.00085483,\n",
       "        0.0479874 , 0.02149171, 0.01667224, 0.00291737, 0.00085176]),\n",
       " 'rank_test_score': array([ 5,  4,  9, 22, 19,  1,  3,  8, 21, 18,  2,  7, 11, 23, 17,  6, 12,\n",
       "        13, 25, 16, 10, 15, 14, 24, 20]),\n",
       " 'split0_train_score': array([-0.47990875, -0.45964289, -0.16855396, -4.92700058, -5.01916231,\n",
       "        -0.45357127, -0.3936024 , -0.12754068, -3.5049041 , -4.99541194,\n",
       "        -0.43183162, -0.35205613, -0.14320091, -6.33066204, -7.7682616 ,\n",
       "        -0.4237308 , -0.36956907, -0.14803206, -7.14319795, -7.67672725,\n",
       "        -0.44302594, -0.40566655, -0.11319721, -5.11872368, -7.70831472]),\n",
       " 'split1_train_score': array([-0.49207332, -0.4633975 , -0.16584855, -2.47648474, -4.98324113,\n",
       "        -0.45744745, -0.40176236, -0.11310348, -3.84716809, -4.98141043,\n",
       "        -0.43542878, -0.37501918, -0.11828631, -2.89176737, -7.78874305,\n",
       "        -0.4448974 , -0.37716515, -0.11903141, -6.54387492, -7.73426876,\n",
       "        -0.43912638, -0.38699604, -0.09134707, -5.3486624 , -7.80161485]),\n",
       " 'split2_train_score': array([-0.50682819, -0.46474608, -0.15296644, -2.6231795 , -5.00484381,\n",
       "        -0.47684548, -0.39490393, -0.13511675, -0.741219  , -4.97191167,\n",
       "        -0.44836444, -0.35531204, -0.12427905, -0.10911187, -7.73677112,\n",
       "        -0.43462959, -0.44548884, -0.12285949, -1.14720019, -7.68427648,\n",
       "        -0.4365588 , -0.46718415, -0.16642159, -1.02167261, -7.74019527]),\n",
       " 'split3_train_score': array([-0.47250472, -0.44515259, -0.14228817, -3.82605287, -5.00794674,\n",
       "        -0.4433906 , -0.3800316 , -0.10606192, -4.6363828 , -5.02258175,\n",
       "        -0.41927058, -0.34008282, -0.11490659, -5.29633046, -7.65558317,\n",
       "        -0.40307397, -0.38406131, -0.12759976, -6.04780461, -7.52829829,\n",
       "        -0.40173215, -0.41908499, -0.13537328, -6.58138325, -7.73960897]),\n",
       " 'split4_train_score': array([-0.49796379, -0.46973309, -0.18276014, -4.66910655, -5.01191699,\n",
       "        -0.46962488, -0.41348562, -0.15564319, -4.07316709, -5.08857769,\n",
       "        -0.45274141, -0.37325451, -0.16882399, -4.19817405, -7.70367195,\n",
       "        -0.42953416, -0.41855085, -0.18846186, -4.08047555, -7.76322512,\n",
       "        -0.49159823, -0.46976087, -0.17815884, -6.10494   , -7.80243878]),\n",
       " 'mean_train_score': array([-0.48985576, -0.46053443, -0.16248345, -3.70436485, -5.0054222 ,\n",
       "        -0.46017594, -0.39675718, -0.1274932 , -3.36056822, -5.0119787 ,\n",
       "        -0.43752737, -0.35914494, -0.13389937, -3.76520916, -7.73060618,\n",
       "        -0.42717318, -0.39896705, -0.14119692, -4.99251064, -7.67735918,\n",
       "        -0.4424083 , -0.42973852, -0.1368996 , -4.83507639, -7.75843452]),\n",
       " 'std_train_score': array([0.01231846, 0.00834202, 0.0138401 , 1.01163471, 0.0120804 ,\n",
       "        0.0118319 , 0.01093641, 0.01741784, 1.36044865, 0.04193823,\n",
       "        0.01199221, 0.01326181, 0.02001645, 2.15607456, 0.04730695,\n",
       "        0.01391361, 0.02866896, 0.02566378, 2.18009416, 0.08109138,\n",
       "        0.02870389, 0.03323805, 0.03228944, 1.97729189, 0.03741652])}"
      ]
     },
     "execution_count": 49,
     "metadata": {},
     "output_type": "execute_result"
    }
   ],
   "source": [
    "grid.cv_results_"
   ]
  },
  {
   "cell_type": "code",
   "execution_count": 50,
   "metadata": {
    "ExecuteTime": {
     "end_time": "2018-02-08T14:40:32.740448Z",
     "start_time": "2018-02-08T14:40:32.734444Z"
    }
   },
   "outputs": [
    {
     "name": "stdout",
     "output_type": "stream",
     "text": [
      "0.488253295940034\n",
      "{'C': 1.0, 'gamma': 0.01}\n"
     ]
    }
   ],
   "source": [
    "print(-grid.best_score_)\n",
    "print(grid.best_params_)"
   ]
  },
  {
   "cell_type": "markdown",
   "metadata": {
    "collapsed": true
   },
   "source": [
    "# 结论"
   ]
  },
  {
   "cell_type": "markdown",
   "metadata": {
    "ExecuteTime": {
     "end_time": "2018-02-23T03:57:38.974458Z",
     "start_time": "2018-02-23T03:57:38.965450Z"
    }
   },
   "source": [
    "    rbf核的log_loss=0.468160621347, 网格搜索结果为{'C': 1.0, 'gamma': 0.01}\n",
    "    linear核的log_loss=0.455566872027, 网格搜索结果为{'C': 0.1}\n",
    "    调参后的logistic回归的log_loss=0.454345290494, 网格搜索结果为{'C': 0.1, 'penalty': 'l2'}\n",
    "    默认的logistic回归的log_loss=0.45642415636"
   ]
  },
  {
   "cell_type": "markdown",
   "metadata": {},
   "source": [
    "最小的log_loss=0.454345290494, 是调参后的logistic回归的, 对应的网格搜索结果为{'C': 0.1, 'penalty': 'l2'}"
   ]
  },
  {
   "cell_type": "code",
   "execution_count": null,
   "metadata": {
    "collapsed": true
   },
   "outputs": [],
   "source": []
  }
 ],
 "metadata": {
  "kernelspec": {
   "display_name": "Python 3",
   "language": "python",
   "name": "python3"
  },
  "language_info": {
   "codemirror_mode": {
    "name": "ipython",
    "version": 3
   },
   "file_extension": ".py",
   "mimetype": "text/x-python",
   "name": "python",
   "nbconvert_exporter": "python",
   "pygments_lexer": "ipython3",
   "version": "3.6.5"
  },
  "toc": {
   "nav_menu": {},
   "number_sections": true,
   "sideBar": true,
   "skip_h1_title": false,
   "title_cell": "Table of Contents",
   "title_sidebar": "Contents",
   "toc_cell": true,
   "toc_position": {
    "height": "773px",
    "left": "0px",
    "right": "658.92px",
    "top": "107px",
    "width": "212px"
   },
   "toc_section_display": "block",
   "toc_window_display": true
  }
 },
 "nbformat": 4,
 "nbformat_minor": 2
}
